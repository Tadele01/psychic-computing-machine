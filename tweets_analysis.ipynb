{
 "cells": [
  {
   "cell_type": "code",
   "execution_count": 1,
   "metadata": {},
   "outputs": [],
   "source": [
    "import tweepy"
   ]
  },
  {
   "cell_type": "code",
   "execution_count": 2,
   "metadata": {},
   "outputs": [],
   "source": [
    "import config"
   ]
  },
  {
   "cell_type": "code",
   "execution_count": 3,
   "metadata": {},
   "outputs": [
    {
     "name": "stdout",
     "output_type": "stream",
     "text": [
      "The latest The TiannaXander Daily! https://t.co/dxNUujIILJ Thanks to @DaveDAguanno #covid19 #covidiot\n",
      "I've unfollowed so many people on social media over the last ten months. Aquaintances I knew who were throwing part… https://t.co/q8Xa6F0Wio\n",
      "RT @ABPNews: कोरोना से पहले ही 'धार्मिक कट्टरता' और 'आक्रामक राष्ट्रवाद' की महामारी का शिकार हुआ देश: अंसारी\n",
      "\n",
      "#Covid #Covid19 #HamidAnsari…\n",
      "RT @lauferlaw: Hey @DonaldJTrumpJr hope you make a full recovery.  NYAG wants to have a conversation with you.  #COVID19\n",
      "RT @MuzamilAhmed110: More than 70 cases of #COVID19 are reported in #SAUTandojam and still administration is not taking serious decisions.…\n",
      "In #Sweden, public health officials still don’t recommend masks. They are obsessed with a delusional idea that mask… https://t.co/VHFTKcXQfy\n",
      "RT @marilovesgr33n: Cioè Massimo Boldi\n",
      "(di professione negazionista) gira uno spot della Regione Lombardia in tema #COVID19 \n",
      "\n",
      "*Non è una ba…\n",
      "RT @ChouhanShivraj: मेरे भाइयों-बहनों, बेटे-बेटियों, हमारे देश के कई राज्यों में #COVID19 फिर से तेजी से फैल रहा है। अपने प्रदेश के कुछ जि…\n",
      "RT @OldSaukRiver: @xxrhc_ @NikkitaOliver @RebeccaforWA I think this is the mayor's twitter handle @Woodards4Tacoma Also - @CityofTacoma \n",
      "\n",
      "A…\n",
      "RT @SallyDeal4: @joncoopertweets Most definitely. If DJT were to be in office for an additional 4 years, the number of #COVID19 deaths migh…\n",
      "RT @bmj_company: @WHO Guideline Development Group advises against use of remdesivir for #covid19 in @bmj_latest today today https://t.co/FX…\n",
      "◎都道府県別コロナ感染状況（福岡県）\n",
      "\n",
      "　福岡県では、11/21 14:35時点での感染者数は5457人、死亡者数は106人となっています。\n",
      "　１週間前と比較して感染者数は2.05％（110人）増加しています。\n",
      "\n",
      "詳しい情報はこち… https://t.co/0gKe2ZLHp3\n",
      "RT @thouse_opinions: Some Westerners are prejudiced in believing that Chinese products are inferior or substandard, especially in sensitive…\n",
      "Tsja voor de Kerst 🎄 ?!! \n",
      "\n",
      "#vaccin \n",
      "#COVID19 \n",
      "#corona https://t.co/6i7xCd6jyW\n",
      "RT @NST_Online: #NSTnation #Perak #Covid19 patient scribbles farewell note to family before dying alone \n",
      "\n",
      "https://t.co/JbCLmBuLmx\n",
      "RT @DrZweliMkhize: #COVID19 Statistics in SA as at 20 November.\n",
      "\n",
      "Use the COVID Alert SA app to protect yourself, your loved ones and your c…\n",
      "\"Wacht auf und habt keine Angst mehr!\" Sehenswertes Interview mit Prof. Dr. med. Sucharit Bhakdi über weitere Entwi… https://t.co/xBTIQfkLap\n",
      "RT @CCIcotesdarmor: [SOUTIEN COMMERCE] Agissons ensemble pour développer le e-commerce de proximité 🛍️ Besoin d'être conseillé et accompagn…\n",
      "RT @LiamPayne: To celebrate #WorldChildrensDay I wanted to share another story from Yemen and how #covid19 has effected young people around…\n",
      "\"The #COVID19 pandemic has demonstrated how many public and private systems depend on women performing multiple and… https://t.co/AwtjDZnAOw\n",
      "RT @HTSmartcast: #PMModi has reviewed #India’s procurement and delivery strategy of vaccines, #Nagrota terrorists were in touch with Jaish-…\n",
      "Please pray for this woman, Liz, and her 3-year-old currently battling with ##COVID19! We will thank you for it.… https://t.co/okKgdfvOvj\n",
      "हरिद्वार में अगले साल आयोजित होने जा रहे महाकुंभ में अब दो महीने से भी कम का समय शेष रह गया है, कोरोना महामारी के च… https://t.co/Hk1ptxu4vO\n",
      "RT @jaraparilla: The UK judge is due to decide on #ASSANGE's extradition on January 4th (7 weeks away). Meanwhile Julian remains in solitar…\n",
      "RT @IrishPatty54: @DanCrenshawTX @RichardGrenell Many of us all over the country tuned into Gov Cuomo’s press conferences to find out the t…\n",
      "आपकी #सावधानी_में_ही_सुरक्षा है। विवाह पूर्व तैयारियों के दौरान कोरोना संक्रमण से बचने के लिए #COVID19 अनुकूल व्यव… https://t.co/TuLom4SUoK\n",
      "#COVID19 is spreading fast in #Syria's last rebel held province. On @AJEnglish's @AJInsideStory, we discuss the sur… https://t.co/NqY1mLioq6\n",
      "RT @JaroGiesbrecht: ⏳@BillGates estimates the US will lose \"several hundred thousand lives\" while awaiting a #COVID19 vaccine\n",
      "\n",
      "\"It's tragic…\n",
      "#Trump #TrumpIsACriminal\n",
      "\n",
      "#TrumpVirusDeathToll260K +\n",
      "In Real Numbers.\n",
      "\n",
      "#COVID19 #coronavirus #CoronaVirusUpdates\n",
      "\n",
      "\"… https://t.co/bmIVtwP68r\n",
      "RT @govkristinoem: Thanksgiving is around the corner, and across the country families are planning how to celebrate with their loved-ones i…\n",
      "RT @UniteThePoor: Tune in to our #MoralMonday Remembrance Caravans, 11/23 at 2:30pm ET, LIVE from State Capitols across the country as we m…\n",
      "@TizRicc Il 2021 sarà l'anno del caos con i tamponi\n",
      "Sarà peggio del 2020\n",
      "#Campania #COVID19\n",
      "RT @LotusOak2: #Coronavirus 'disappearing' so fast #Oxford vaccine has 'only 50% chance of working' \n",
      "\n",
      "https://t.co/SusZdoXSd3\n",
      "\n",
      "#COVID19\n",
      "RT @HLGatell: El semáforo #COVID19 es un instrumento objetivo de estimación del riesgo que no está sujeto a negociaciones. Corresponde a la…\n",
      "RT @NewsDigestWeb: 【宮崎県で新たに13人感染確認】\n",
      "\n",
      "宮崎県+13（合計412人）\n",
      "※宮崎市発表\n",
      "\n",
      "きょうの国内感染者数は130人に\n",
      "（14:05時点）\n",
      "\n",
      "詳細は下記URLより：\n",
      "https://t.co/oEslL3ucOx\n",
      "\n",
      "#新型コロナウイルス #CO…\n",
      "RT @AnsHafeez: Going to tested for COVID today, I am suffering with High fever, cough and sore throat since 2 days. Please be careful and f…\n",
      "#COVID19 Statistics in SA as at 20 November.\n",
      "\n",
      "Use the COVID Alert SA app to protect yourself, your loved ones and y… https://t.co/Di94ILBFFI\n",
      ".\n",
      "YEP. 30MIL unemployed, 60Mil about to be homeless, food banks overflowing, 250K dead from #Covid19, potus denial… https://t.co/lwYYFsL9ib\n",
      "RT @yogendrapal72: Corona virus India updates \n",
      "\n",
      "#coronavirus #coronarvirues #CoronaOutbreak #Wuhan #China  #COVID19 #India #COVID #coronavi…\n",
      "RT @morethanmySLE: To all the patients and caregivers who are high-risk #COVID19 &amp; have been quarantined for 250+ days, I just want you to…\n",
      "RT @Craig_A_Spencer: What does 250,000 #COVID19 deaths look like?\n",
      "\n",
      "If each death was one seat on a jumbo-jet that crashed, this would be th…\n",
      "This was a fascinating #COVID19 read https://t.co/5H5OaF4ox7\n",
      "RT @DeniseDresserG: Es dramático que 100,000 mexicanos hayan fallecido de #COVID19. Es dramático que tengamos  índices tan altos de letalid…\n",
      "RT @CiroGomezL: La #CDMX comenzó a aplicar pruebas masivas y gratuitas para detectar #COVID19, así como el rastreo de contagiados ¿Por qué…\n",
      "Anil Vij did it. BJP did it. VHP did it. RSS too!\n",
      "\n",
      "When are representatives from \"bhayankar\" nationalist parties li… https://t.co/iusWL865Nv\n",
      "RT @Charakan: Efforts of our team lead by Davis Tom and me in exposing #Covid19 #death #undercounting in #Kerala is covered by BBC in this…\n",
      "RT @saranmics: SO many people I know that have lost an immediate family member to #COVID19 Nothing is more important then protecting your l…\n",
      "RT @eshanken: Monthly check in lunch with @JCCVancouver CEO #COVID19 style. I am so privileged to have such a special partnership with the…\n",
      "RT @BryanDawsonUSA: Beautiful Madison, Wisconsin, population 259,680, was the state’s capital and second-largest city, after Milwaukee, and…\n",
      "RT @DrEricDing: BREAKING: **Another 4 WH aides** (not including Andrew Giuliani today) tested positive for #COVID19, CBS WH reporter @weiji…\n",
      "Africa my Africa 😂 😂 😂 😂\n",
      "No #COVID19 yet they took #COVID19 relief 😂 https://t.co/gKdqPRnUyC\n",
      "#CorteDiario\n",
      "Este es el panorama de #COVID19 #Coronavirus este viernes 20 de noviembre del 2020 en Jalisco ⏬… https://t.co/BLl2ARoUTX\n",
      "आपकी #सावधानी_में_ही_सुरक्षा है। कोरोना संक्रमण से बचने के लिए #COVID19 अनुकूल व्यवहार परिवर्तन करें। विवाह की र… https://t.co/hxI5wP6IDh\n",
      "RT @ost_seh: Heute mal ein Blick auf Frankfurt a.M.: #Maskenpflicht wurde immer weiter verschärft, nur das #coronavirus hat es nicht intere…\n",
      "RT @RichardGCorbett: While we’re all distracted with the #COVID19 shambles and the #PritiPatel &amp; #cummings scandals (and they are shocking)…\n",
      "RT @DrEricDing: ⚠️1 in every 11 cases are in kids, and rising 22% in the past 2 weeks alone. Yet Trump says kids are “essentially immune”.…\n",
      "RT @RoryBurnside: With a new outbreak starting in SA, what colour status is Vic’s next easing step set down for next Monday? Please vote an…\n",
      "RT @iPankajShukla: મને કોરોના (#COVID19) ના સામાન્ય લક્ષણો જણાતા  ટેસ્ટ કરાવેલ જેનો રીપોર્ટ પોઝીટીવ આવેલ . હાલ હું હોસ્પિટલમાં એડમિટ થયેલ…\n",
      "RT @HLGatell: Participé en el Foro de Experiencias y retos del abordaje de #COVID19 en México y en países de América Latina y el Caribe, es…\n",
      "RT @NST_Online: #NSTnation #Perak #Covid19 patient scribbles farewell note to family before dying alone \n",
      "\n",
      "https://t.co/JbCLmBuLmx\n",
      "Nine months into the #pandemic and we are laying in bed listening to Elliott Smith on a Friday night. I promise we are ok. #covid19\n",
      "RT @morethanmySLE: To all the patients and caregivers who are high-risk #COVID19 &amp; have been quarantined for 250+ days, I just want you to…\n",
      "RT @xevtfm: 🦠El repunte de contagios de #COVID19  que se vive en #México va a durar hasta marzo de 2021, señala el subsecretario de salud @…\n",
      "RT @nowaywm: NRW Gericht kippt Quarantäne für Reiserückkehrer aus Risikogebieten.\n",
      "#Quarantaene #COVID19 https://t.co/FMLfl9RgUI\n",
      "RT @UNICEF: There are now 150 million more children living in multidimensional poverty - without access to education, health, housing, nutr…\n",
      "RT @AmirsDoingItAll: So, #coldplay reminded me, to remind you, to ask yourself:\n",
      "\n",
      "'Am I part of the cure, or am I part of the disease?'\n",
      "\n",
      "#CO…\n",
      "RT @GabrielScally: If you don’t control #COVID19 it devastates health services. The UK has failed it’s people on a calamitous scale by fail…\n",
      "#IMSSinforma, este #20deNoviembre en el marco del 110 Aniversario de la #RevoluciónMexicana, fueron reconocidos 147… https://t.co/v8hz9HtE4H\n",
      "Doesn't his state have the most deaths? Didn't he purposely send #COVID19 carriers to nursing homes? https://t.co/5x1J1e6Zx6\n",
      "RT @kk131066: https://t.co/gMSMoo8Wjx\n",
      "\n",
      "It might be more than negligent homicide\n",
      "\n",
      "#COVID19 started almost a year ago\n",
      "\n",
      "#Trump knew &amp; downplay…\n",
      "RT @HLGatell: Al 20 de noviembre de 2020 hay 1,025,969 casos confirmados #COVID19. Se han registrado 1,251,784 negativos, 100,823 defuncion…\n",
      "RT @DrZweliMkhize: #COVID19 Statistics in SA as at 20 November.\n",
      "\n",
      "Use the COVID Alert SA app to protect yourself, your loved ones and your c…\n",
      "RT @CiroGomezL: La #CDMX comenzó a aplicar pruebas masivas y gratuitas para detectar #COVID19, así como el rastreo de contagiados ¿Por qué…\n",
      "RT @bhatvicky73: #Covid_19 वैक्सीन के लिए कोई VIP कैटेगरी नहीं, #CoronaWarriors और बुजुर्गों को पहले लगे टीका :@ArvindKejriwal \n",
      "\n",
      "#COVID19…\n",
      "RT @HLGatell: Participé en el Foro de Experiencias y retos del abordaje de #COVID19 en México y en países de América Latina y el Caribe, es…\n",
      "RT @MuySuFrida: Un millón de contagios de #COVID19, Más de 100 mil muertes por la negligencia de López Gatell y López Obrador.\n",
      "\n",
      "Al improvis…\n",
      "RT @elcomerciocom: Matrimonio termina en contagio masivo de #covid19. 80 invitados, incluidos los novios, contraen coronavirus » https://t.…\n",
      "RT @SBMcCallister: @bjorn_igar @cryborg Jared Kushner is the greater threat. Foreign policy advisor put in charge of everything and using h…\n",
      "1) It's not \"corona\", it's #COVID19.\n",
      "2) You have #COVID19. https://t.co/E4lrxbjfGM\n",
      "#COVID19 pandemic has thrown up unique challenges, but these can also become opportunities that can be deployed at… https://t.co/BLMa48TLtC\n",
      "RT @HLGatell: La epidemia de #COVID19 sigue activa y es importante que tengamos en cuenta el riesgo de contagio para reforzar las medidas p…\n",
      "RT @DrEricDing: BREAKING—wow—WHO just recommended **against** the use of @GileadSciences’s drug remdesivir in hospitalized #COVID19 patient…\n",
      "RT @DeniseDresserG: Es dramático que 100,000 mexicanos hayan fallecido de #COVID19. Es dramático que tengamos  índices tan altos de letalid…\n",
      "RT @saranmics: SO many people I know that have lost an immediate family member to #COVID19 Nothing is more important then protecting your l…\n",
      "RT @RiyaPat95556115: BREAKING: Donald Trump Jr., who recently said #COVID19 cases were \"almost nothing\" is now himself officially... nothin…\n",
      "RT @govkristinoem: Thanksgiving is around the corner, and across the country families are planning how to celebrate with their loved-ones i…\n",
      "RT @UNAM_MX: ¡#YaViene la #FiestaCyH 🎉 virtual! Tendrá como tema principal el mundo después de la #COVID19. Pero eso no será todo. Consulta…\n",
      "RT @ArticulateDinos: Did anyone notice provinces lead by Conservatives (like @jkenney @BrianPallister @fordnation) just figured out folks s…\n",
      "RT @akm5376: 1/9 @CDCgov states that the principal mode of infection for #COVID19 is via exposure to respiratory droplets (big or small - a…\n",
      "RT @kk131066: https://t.co/gMSMoo8Wjx\n",
      "\n",
      "It might be more than negligent homicide\n",
      "\n",
      "#COVID19 started almost a year ago\n",
      "\n",
      "#Trump knew &amp; downplay…\n",
      "RT @MdAtlPermanente: As #COVID19 cases spike across the country, the @CDCgov is urging Americans to avoid traveling for Thanksgiving. Perma…\n",
      "RT @UxbEconomist07: So, What Is \"The Great Reset\"? | Zero Hedge #COVID19 #GreatReset  https://t.co/9fFXP3qlzg\n",
      "RT @govkristinoem: Thanksgiving is around the corner, and across the country families are planning how to celebrate with their loved-ones i…\n",
      "#COVID19 #Coronaviruspakistan\n",
      "Punjab Impose a Year Long Ban on Public Gatherings Amid COVID-19 https://t.co/7JBFQuT3Sp\n",
      "RT @REUTERSFARGE: Wealthy countries block #COVID19 drugs rights waiver at WTO. One delegate says rich countries including host #Switzerland…\n",
      "RT @ElastigirlVotes: Dear TV doctors saying schools should stay open. Please spend a day in our classrooms so you can see how #COVID19 is s…\n",
      "#Coronavirus outbreak at Lions Gate Hospital, as undisclosed number of patients tested positive. Adjacent unit plac… https://t.co/ndTYhydz5n\n",
      "RT @HLGatell: La epidemia de #COVID19 sigue activa y es importante que tengamos en cuenta el riesgo de contagio para reforzar las medidas p…\n",
      "RT @HLGatell: La epidemia de #COVID19 sigue activa y es importante que tengamos en cuenta el riesgo de contagio para reforzar las medidas p…\n",
      "@ChouhanShivraj मामा जी आपसे अब प्रदेश संभल नही रहा है आप 4 महीने मुझे दे दे प्रदेश की कमान #COVID19 भी पूरा मैनेज… https://t.co/rR5jx4CraA\n"
     ]
    }
   ],
   "source": [
    "auth = tweepy.OAuthHandler(config.consumer_key, config.consumer_secret)\n",
    "auth.set_access_token(config.access_token, config.access_token_secret)\n",
    "api = tweepy.API(auth)\n",
    "tweets = api.search(\"#covid19\", count=100)\n",
    "for tweet in tweets:\n",
    "    print(tweet.text)"
   ]
  },
  {
   "cell_type": "code",
   "execution_count": 4,
   "metadata": {},
   "outputs": [
    {
     "name": "stdout",
     "output_type": "stream",
     "text": [
      "https://twitter.com/8KNS_EYE29\n",
      "https://twitter.com/SthefanyaJimne1\n",
      "https://twitter.com/RachelThome4\n",
      "https://twitter.com/chiminie_chu\n",
      "https://twitter.com/Aliyah85446073\n",
      "https://twitter.com/AlgueraCarolyne\n",
      "https://twitter.com/SelenaKnowles13\n",
      "https://twitter.com/raykah4\n",
      "https://twitter.com/BigKalii\n",
      "https://twitter.com/JChonmon\n"
     ]
    }
   ],
   "source": [
    "ids = api.followers_ids(screen_name=\"TheWeeknd\", count=10)\n",
    "for user in api.lookup_users(user_ids=ids):\n",
    "    print(\"https://twitter.com/{}\".format(user.screen_name))\n"
   ]
  },
  {
   "cell_type": "code",
   "execution_count": 5,
   "metadata": {},
   "outputs": [],
   "source": [
    "#Reminder to get current user mention(for us we can use brand's name in this)\n",
    "tweets_mentions = api.mentions_timeline(count=10)\n",
    "for tweet in tweets_mentions:\n",
    "    print(tweet.text)"
   ]
  },
  {
   "cell_type": "code",
   "execution_count": 6,
   "metadata": {},
   "outputs": [],
   "source": [
    "#Oh God no one mentions me hahahhaah"
   ]
  },
  {
   "cell_type": "code",
   "execution_count": null,
   "metadata": {},
   "outputs": [],
   "source": []
  },
  {
   "cell_type": "code",
   "execution_count": 7,
   "metadata": {},
   "outputs": [],
   "source": [
    "#lets analyze \n"
   ]
  },
  {
   "cell_type": "code",
   "execution_count": 8,
   "metadata": {},
   "outputs": [
    {
     "data": {
      "text/plain": [
       "tweepy.models.ResultSet"
      ]
     },
     "execution_count": 8,
     "metadata": {},
     "output_type": "execute_result"
    }
   ],
   "source": [
    "my_timeline = api.home_timeline(count=10)\n",
    "type(my_timeline)"
   ]
  },
  {
   "cell_type": "code",
   "execution_count": 9,
   "metadata": {},
   "outputs": [
    {
     "name": "stdout",
     "output_type": "stream",
     "text": [
      "Help on ResultSet in module tweepy.models object:\n",
      "\n",
      "class ResultSet(builtins.list)\n",
      " |  ResultSet(max_id=None, since_id=None)\n",
      " |  \n",
      " |  A list like object that holds results from a Twitter API query.\n",
      " |  \n",
      " |  Method resolution order:\n",
      " |      ResultSet\n",
      " |      builtins.list\n",
      " |      builtins.object\n",
      " |  \n",
      " |  Methods defined here:\n",
      " |  \n",
      " |  __init__(self, max_id=None, since_id=None)\n",
      " |      Initialize self.  See help(type(self)) for accurate signature.\n",
      " |  \n",
      " |  ids(self)\n",
      " |  \n",
      " |  ----------------------------------------------------------------------\n",
      " |  Data descriptors defined here:\n",
      " |  \n",
      " |  __dict__\n",
      " |      dictionary for instance variables (if defined)\n",
      " |  \n",
      " |  __weakref__\n",
      " |      list of weak references to the object (if defined)\n",
      " |  \n",
      " |  max_id\n",
      " |  \n",
      " |  since_id\n",
      " |  \n",
      " |  ----------------------------------------------------------------------\n",
      " |  Methods inherited from builtins.list:\n",
      " |  \n",
      " |  __add__(self, value, /)\n",
      " |      Return self+value.\n",
      " |  \n",
      " |  __contains__(self, key, /)\n",
      " |      Return key in self.\n",
      " |  \n",
      " |  __delitem__(self, key, /)\n",
      " |      Delete self[key].\n",
      " |  \n",
      " |  __eq__(self, value, /)\n",
      " |      Return self==value.\n",
      " |  \n",
      " |  __ge__(self, value, /)\n",
      " |      Return self>=value.\n",
      " |  \n",
      " |  __getattribute__(self, name, /)\n",
      " |      Return getattr(self, name).\n",
      " |  \n",
      " |  __getitem__(...)\n",
      " |      x.__getitem__(y) <==> x[y]\n",
      " |  \n",
      " |  __gt__(self, value, /)\n",
      " |      Return self>value.\n",
      " |  \n",
      " |  __iadd__(self, value, /)\n",
      " |      Implement self+=value.\n",
      " |  \n",
      " |  __imul__(self, value, /)\n",
      " |      Implement self*=value.\n",
      " |  \n",
      " |  __iter__(self, /)\n",
      " |      Implement iter(self).\n",
      " |  \n",
      " |  __le__(self, value, /)\n",
      " |      Return self<=value.\n",
      " |  \n",
      " |  __len__(self, /)\n",
      " |      Return len(self).\n",
      " |  \n",
      " |  __lt__(self, value, /)\n",
      " |      Return self<value.\n",
      " |  \n",
      " |  __mul__(self, value, /)\n",
      " |      Return self*value.\n",
      " |  \n",
      " |  __ne__(self, value, /)\n",
      " |      Return self!=value.\n",
      " |  \n",
      " |  __repr__(self, /)\n",
      " |      Return repr(self).\n",
      " |  \n",
      " |  __reversed__(self, /)\n",
      " |      Return a reverse iterator over the list.\n",
      " |  \n",
      " |  __rmul__(self, value, /)\n",
      " |      Return value*self.\n",
      " |  \n",
      " |  __setitem__(self, key, value, /)\n",
      " |      Set self[key] to value.\n",
      " |  \n",
      " |  __sizeof__(self, /)\n",
      " |      Return the size of the list in memory, in bytes.\n",
      " |  \n",
      " |  append(self, object, /)\n",
      " |      Append object to the end of the list.\n",
      " |  \n",
      " |  clear(self, /)\n",
      " |      Remove all items from list.\n",
      " |  \n",
      " |  copy(self, /)\n",
      " |      Return a shallow copy of the list.\n",
      " |  \n",
      " |  count(self, value, /)\n",
      " |      Return number of occurrences of value.\n",
      " |  \n",
      " |  extend(self, iterable, /)\n",
      " |      Extend list by appending elements from the iterable.\n",
      " |  \n",
      " |  index(self, value, start=0, stop=9223372036854775807, /)\n",
      " |      Return first index of value.\n",
      " |      \n",
      " |      Raises ValueError if the value is not present.\n",
      " |  \n",
      " |  insert(self, index, object, /)\n",
      " |      Insert object before index.\n",
      " |  \n",
      " |  pop(self, index=-1, /)\n",
      " |      Remove and return item at index (default last).\n",
      " |      \n",
      " |      Raises IndexError if list is empty or index is out of range.\n",
      " |  \n",
      " |  remove(self, value, /)\n",
      " |      Remove first occurrence of value.\n",
      " |      \n",
      " |      Raises ValueError if the value is not present.\n",
      " |  \n",
      " |  reverse(self, /)\n",
      " |      Reverse *IN PLACE*.\n",
      " |  \n",
      " |  sort(self, /, *, key=None, reverse=False)\n",
      " |      Stable sort *IN PLACE*.\n",
      " |  \n",
      " |  ----------------------------------------------------------------------\n",
      " |  Static methods inherited from builtins.list:\n",
      " |  \n",
      " |  __new__(*args, **kwargs) from builtins.type\n",
      " |      Create and return a new object.  See help(type) for accurate signature.\n",
      " |  \n",
      " |  ----------------------------------------------------------------------\n",
      " |  Data and other attributes inherited from builtins.list:\n",
      " |  \n",
      " |  __hash__ = None\n",
      "\n"
     ]
    }
   ],
   "source": [
    "help(my_timeline)"
   ]
  },
  {
   "cell_type": "code",
   "execution_count": 10,
   "metadata": {},
   "outputs": [
    {
     "data": {
      "text/plain": [
       "['__add__',\n",
       " '__class__',\n",
       " '__contains__',\n",
       " '__delattr__',\n",
       " '__delitem__',\n",
       " '__dict__',\n",
       " '__dir__',\n",
       " '__doc__',\n",
       " '__eq__',\n",
       " '__format__',\n",
       " '__ge__',\n",
       " '__getattribute__',\n",
       " '__getitem__',\n",
       " '__gt__',\n",
       " '__hash__',\n",
       " '__iadd__',\n",
       " '__imul__',\n",
       " '__init__',\n",
       " '__init_subclass__',\n",
       " '__iter__',\n",
       " '__le__',\n",
       " '__len__',\n",
       " '__lt__',\n",
       " '__module__',\n",
       " '__mul__',\n",
       " '__ne__',\n",
       " '__new__',\n",
       " '__reduce__',\n",
       " '__reduce_ex__',\n",
       " '__repr__',\n",
       " '__reversed__',\n",
       " '__rmul__',\n",
       " '__setattr__',\n",
       " '__setitem__',\n",
       " '__sizeof__',\n",
       " '__str__',\n",
       " '__subclasshook__',\n",
       " '__weakref__',\n",
       " '_max_id',\n",
       " '_since_id',\n",
       " 'append',\n",
       " 'clear',\n",
       " 'copy',\n",
       " 'count',\n",
       " 'extend',\n",
       " 'ids',\n",
       " 'index',\n",
       " 'insert',\n",
       " 'max_id',\n",
       " 'pop',\n",
       " 'remove',\n",
       " 'reverse',\n",
       " 'since_id',\n",
       " 'sort']"
      ]
     },
     "execution_count": 10,
     "metadata": {},
     "output_type": "execute_result"
    }
   ],
   "source": [
    "dir(my_timeline)"
   ]
  },
  {
   "cell_type": "code",
   "execution_count": 11,
   "metadata": {},
   "outputs": [
    {
     "data": {
      "text/plain": [
       "{'_max_id': None, '_since_id': None}"
      ]
     },
     "execution_count": 11,
     "metadata": {},
     "output_type": "execute_result"
    }
   ],
   "source": [
    "my_timeline.__dict__"
   ]
  },
  {
   "cell_type": "code",
   "execution_count": 12,
   "metadata": {},
   "outputs": [
    {
     "data": {
      "text/plain": [
       "tweepy.models.ResultSet"
      ]
     },
     "execution_count": 12,
     "metadata": {},
     "output_type": "execute_result"
    }
   ],
   "source": [
    "type(my_timeline)"
   ]
  },
  {
   "cell_type": "code",
   "execution_count": 13,
   "metadata": {},
   "outputs": [],
   "source": [
    "one = my_timeline[0]"
   ]
  },
  {
   "cell_type": "code",
   "execution_count": 14,
   "metadata": {},
   "outputs": [],
   "source": [
    "attributes = one._json.items()\n",
    "attr_type = [type(x) for x in attributes]"
   ]
  },
  {
   "cell_type": "code",
   "execution_count": 15,
   "metadata": {},
   "outputs": [],
   "source": [
    "#now lets use each attribute one by one"
   ]
  },
  {
   "cell_type": "code",
   "execution_count": 16,
   "metadata": {},
   "outputs": [
    {
     "data": {
      "text/plain": [
       "datetime.datetime(2020, 11, 21, 4, 29, 26)"
      ]
     },
     "execution_count": 16,
     "metadata": {},
     "output_type": "execute_result"
    }
   ],
   "source": [
    "one.created_at # return a date time object"
   ]
  },
  {
   "cell_type": "code",
   "execution_count": 17,
   "metadata": {},
   "outputs": [
    {
     "data": {
      "text/plain": [
       "1330005373764440065"
      ]
     },
     "execution_count": 17,
     "metadata": {},
     "output_type": "execute_result"
    }
   ],
   "source": [
    "one.id # return id of the tweet we don't need it that much"
   ]
  },
  {
   "cell_type": "code",
   "execution_count": 18,
   "metadata": {},
   "outputs": [
    {
     "data": {
      "text/plain": [
       "'1330005373764440065'"
      ]
     },
     "execution_count": 18,
     "metadata": {},
     "output_type": "execute_result"
    }
   ],
   "source": [
    "one.id_str # string version of id "
   ]
  },
  {
   "cell_type": "code",
   "execution_count": 19,
   "metadata": {},
   "outputs": [
    {
     "data": {
      "text/plain": [
       "'ተፈሪ አለሙ በተለያየ ዘመን የተፃፉ የሁለት ፀሐፍት ምክር ለበስ ሀሳብ ያቀርብልናል፡፡\\n\\nልክ 9፡00 ሰዓት ሲል 7ተኛው እና የመጨረሻው ክፍል የፕሮፌሰር መስፍን ወልደማርያም ጨዋታ ይ… https://t.co/yn3tdVtmXI'"
      ]
     },
     "execution_count": 19,
     "metadata": {},
     "output_type": "execute_result"
    }
   ],
   "source": [
    "one.text # return the actual tweet which is very useful"
   ]
  },
  {
   "cell_type": "code",
   "execution_count": 20,
   "metadata": {},
   "outputs": [
    {
     "data": {
      "text/plain": [
       "True"
      ]
     },
     "execution_count": 20,
     "metadata": {},
     "output_type": "execute_result"
    }
   ],
   "source": [
    "one.truncated # return whether the tweet is truncated version or not"
   ]
  },
  {
   "cell_type": "code",
   "execution_count": 21,
   "metadata": {},
   "outputs": [
    {
     "data": {
      "text/plain": [
       "dict_keys(['hashtags', 'symbols', 'user_mentions', 'urls'])"
      ]
     },
     "execution_count": 21,
     "metadata": {},
     "output_type": "execute_result"
    }
   ],
   "source": [
    "one.entities.keys()"
   ]
  },
  {
   "cell_type": "code",
   "execution_count": 22,
   "metadata": {},
   "outputs": [
    {
     "data": {
      "text/plain": [
       "[]"
      ]
     },
     "execution_count": 22,
     "metadata": {},
     "output_type": "execute_result"
    }
   ],
   "source": [
    "one.entities['hashtags']"
   ]
  },
  {
   "cell_type": "code",
   "execution_count": null,
   "metadata": {},
   "outputs": [],
   "source": []
  },
  {
   "cell_type": "code",
   "execution_count": 24,
   "metadata": {},
   "outputs": [],
   "source": [
    "#here is better way to get hashtags \n",
    "for elt in one.entities['hashtags']:\n",
    "    print(elt['text'])"
   ]
  },
  {
   "cell_type": "code",
   "execution_count": 25,
   "metadata": {},
   "outputs": [
    {
     "data": {
      "text/plain": [
       "[]"
      ]
     },
     "execution_count": 25,
     "metadata": {},
     "output_type": "execute_result"
    }
   ],
   "source": [
    "one.entities['symbols'] # IDK what the hell this returns "
   ]
  },
  {
   "cell_type": "code",
   "execution_count": 26,
   "metadata": {},
   "outputs": [
    {
     "data": {
      "text/plain": [
       "[]"
      ]
     },
     "execution_count": 26,
     "metadata": {},
     "output_type": "execute_result"
    }
   ],
   "source": [
    "one.entities['user_mentions'] # list of mentioned users "
   ]
  },
  {
   "cell_type": "code",
   "execution_count": 27,
   "metadata": {},
   "outputs": [],
   "source": [
    "for elt in one.entities['user_mentions']:\n",
    "    print(elt['screen_name'])\n",
    "    print(elt['name'])\n",
    "    print(elt['id'])\n",
    "    print(elt['id_str'])\n",
    "\n",
    "#we need the id of mentioned user to know about the user more using id search"
   ]
  },
  {
   "cell_type": "code",
   "execution_count": null,
   "metadata": {},
   "outputs": [],
   "source": []
  },
  {
   "cell_type": "code",
   "execution_count": 28,
   "metadata": {},
   "outputs": [
    {
     "data": {
      "text/plain": [
       "[{'url': 'https://t.co/yn3tdVtmXI',\n",
       "  'expanded_url': 'https://twitter.com/i/web/status/1330005373764440065',\n",
       "  'display_url': 'twitter.com/i/web/status/1…',\n",
       "  'indices': [117, 140]}]"
      ]
     },
     "execution_count": 28,
     "metadata": {},
     "output_type": "execute_result"
    }
   ],
   "source": [
    "one.entities['urls'] #returns list of urls in tweets"
   ]
  },
  {
   "cell_type": "code",
   "execution_count": 29,
   "metadata": {},
   "outputs": [
    {
     "data": {
      "text/plain": [
       "'Twitter for Android'"
      ]
     },
     "execution_count": 29,
     "metadata": {},
     "output_type": "execute_result"
    }
   ],
   "source": [
    "one.source #this might be very useful since it returns user's platform"
   ]
  },
  {
   "cell_type": "code",
   "execution_count": 30,
   "metadata": {},
   "outputs": [
    {
     "data": {
      "text/plain": [
       "1330005371042353152"
      ]
     },
     "execution_count": 30,
     "metadata": {},
     "output_type": "execute_result"
    }
   ],
   "source": [
    "one.in_reply_to_status_id"
   ]
  },
  {
   "cell_type": "code",
   "execution_count": 31,
   "metadata": {},
   "outputs": [
    {
     "data": {
      "text/plain": [
       "'1330005371042353152'"
      ]
     },
     "execution_count": 31,
     "metadata": {},
     "output_type": "execute_result"
    }
   ],
   "source": [
    "one.in_reply_to_status_id_str"
   ]
  },
  {
   "cell_type": "code",
   "execution_count": 32,
   "metadata": {},
   "outputs": [
    {
     "data": {
      "text/plain": [
       "108890126"
      ]
     },
     "execution_count": 32,
     "metadata": {},
     "output_type": "execute_result"
    }
   ],
   "source": [
    "one.in_reply_to_user_id"
   ]
  },
  {
   "cell_type": "code",
   "execution_count": 33,
   "metadata": {},
   "outputs": [
    {
     "data": {
      "text/plain": [
       "'108890126'"
      ]
     },
     "execution_count": 33,
     "metadata": {},
     "output_type": "execute_result"
    }
   ],
   "source": [
    "one.in_reply_to_user_id_str"
   ]
  },
  {
   "cell_type": "code",
   "execution_count": 34,
   "metadata": {},
   "outputs": [
    {
     "data": {
      "text/plain": [
       "'shegerfm'"
      ]
     },
     "execution_count": 34,
     "metadata": {},
     "output_type": "execute_result"
    }
   ],
   "source": [
    "one.in_reply_to_screen_name"
   ]
  },
  {
   "cell_type": "code",
   "execution_count": 35,
   "metadata": {},
   "outputs": [
    {
     "data": {
      "text/plain": [
       "User(_api=<tweepy.api.API object at 0x7f47dc444d90>, _json={'id': 108890126, 'id_str': '108890126', 'name': 'ሸገር 102.1(SHEGERFM 102.1)', 'screen_name': 'shegerfm', 'location': 'Ethiopia, Addis Abeba', 'description': 'ሸገር ኤፍ ኤም 102.1 ሬዲዮ መስከረም 23፣2000 ስራ የጀመረ የመጀመሪያው የኢትዮጵያ የግል ሬዲዮ ጣቢያ ነው፡፡\\nSheger 102.1 FM is the first private radio station in Ethiopia on Air Since Oct 4,2007', 'url': 'https://t.co/TTFcfXWEc7', 'entities': {'url': {'urls': [{'url': 'https://t.co/TTFcfXWEc7', 'expanded_url': 'https://bit.ly/33KMCqz', 'display_url': 'bit.ly/33KMCqz', 'indices': [0, 23]}]}, 'description': {'urls': []}}, 'protected': False, 'followers_count': 137745, 'friends_count': 17, 'listed_count': 72, 'created_at': 'Wed Jan 27 09:43:52 +0000 2010', 'favourites_count': 21, 'utc_offset': None, 'time_zone': None, 'geo_enabled': True, 'verified': False, 'statuses_count': 13139, 'lang': None, 'contributors_enabled': False, 'is_translator': False, 'is_translation_enabled': False, 'profile_background_color': '000000', 'profile_background_image_url': 'http://abs.twimg.com/images/themes/theme3/bg.gif', 'profile_background_image_url_https': 'https://abs.twimg.com/images/themes/theme3/bg.gif', 'profile_background_tile': False, 'profile_image_url': 'http://pbs.twimg.com/profile_images/723412208214908928/C14weHrf_normal.jpg', 'profile_image_url_https': 'https://pbs.twimg.com/profile_images/723412208214908928/C14weHrf_normal.jpg', 'profile_banner_url': 'https://pbs.twimg.com/profile_banners/108890126/1590773679', 'profile_link_color': 'F58320', 'profile_sidebar_border_color': '000000', 'profile_sidebar_fill_color': '000000', 'profile_text_color': '000000', 'profile_use_background_image': False, 'has_extended_profile': False, 'default_profile': False, 'default_profile_image': False, 'following': True, 'follow_request_sent': False, 'notifications': False, 'translator_type': 'none'}, id=108890126, id_str='108890126', name='ሸገር 102.1(SHEGERFM 102.1)', screen_name='shegerfm', location='Ethiopia, Addis Abeba', description='ሸገር ኤፍ ኤም 102.1 ሬዲዮ መስከረም 23፣2000 ስራ የጀመረ የመጀመሪያው የኢትዮጵያ የግል ሬዲዮ ጣቢያ ነው፡፡\\nSheger 102.1 FM is the first private radio station in Ethiopia on Air Since Oct 4,2007', url='https://t.co/TTFcfXWEc7', entities={'url': {'urls': [{'url': 'https://t.co/TTFcfXWEc7', 'expanded_url': 'https://bit.ly/33KMCqz', 'display_url': 'bit.ly/33KMCqz', 'indices': [0, 23]}]}, 'description': {'urls': []}}, protected=False, followers_count=137745, friends_count=17, listed_count=72, created_at=datetime.datetime(2010, 1, 27, 9, 43, 52), favourites_count=21, utc_offset=None, time_zone=None, geo_enabled=True, verified=False, statuses_count=13139, lang=None, contributors_enabled=False, is_translator=False, is_translation_enabled=False, profile_background_color='000000', profile_background_image_url='http://abs.twimg.com/images/themes/theme3/bg.gif', profile_background_image_url_https='https://abs.twimg.com/images/themes/theme3/bg.gif', profile_background_tile=False, profile_image_url='http://pbs.twimg.com/profile_images/723412208214908928/C14weHrf_normal.jpg', profile_image_url_https='https://pbs.twimg.com/profile_images/723412208214908928/C14weHrf_normal.jpg', profile_banner_url='https://pbs.twimg.com/profile_banners/108890126/1590773679', profile_link_color='F58320', profile_sidebar_border_color='000000', profile_sidebar_fill_color='000000', profile_text_color='000000', profile_use_background_image=False, has_extended_profile=False, default_profile=False, default_profile_image=False, following=True, follow_request_sent=False, notifications=False, translator_type='none')"
      ]
     },
     "execution_count": 35,
     "metadata": {},
     "output_type": "execute_result"
    }
   ],
   "source": [
    "one.user "
   ]
  },
  {
   "cell_type": "code",
   "execution_count": 36,
   "metadata": {
    "scrolled": false
   },
   "outputs": [
    {
     "data": {
      "text/plain": [
       "dict_keys(['created_at', 'id', 'id_str', 'text', 'truncated', 'entities', 'source', 'in_reply_to_status_id', 'in_reply_to_status_id_str', 'in_reply_to_user_id', 'in_reply_to_user_id_str', 'in_reply_to_screen_name', 'user', 'geo', 'coordinates', 'place', 'contributors', 'is_quote_status', 'retweet_count', 'favorite_count', 'favorited', 'retweeted', 'lang'])"
      ]
     },
     "execution_count": 36,
     "metadata": {},
     "output_type": "execute_result"
    }
   ],
   "source": [
    "one._json.keys()\n"
   ]
  },
  {
   "cell_type": "code",
   "execution_count": 37,
   "metadata": {},
   "outputs": [],
   "source": [
    "one.geo #return geographic location if available else return None"
   ]
  },
  {
   "cell_type": "code",
   "execution_count": 38,
   "metadata": {},
   "outputs": [],
   "source": [
    "one.coordinates   #return latitude longtiude coordinate if available else return None"
   ]
  },
  {
   "cell_type": "code",
   "execution_count": 39,
   "metadata": {},
   "outputs": [],
   "source": [
    "one.place # return place if available else return None"
   ]
  },
  {
   "cell_type": "code",
   "execution_count": 40,
   "metadata": {},
   "outputs": [],
   "source": [
    "one.contributors"
   ]
  },
  {
   "cell_type": "code",
   "execution_count": 41,
   "metadata": {},
   "outputs": [
    {
     "data": {
      "text/plain": [
       "False"
      ]
     },
     "execution_count": 41,
     "metadata": {},
     "output_type": "execute_result"
    }
   ],
   "source": [
    "one.is_quote_status"
   ]
  },
  {
   "cell_type": "code",
   "execution_count": 42,
   "metadata": {},
   "outputs": [
    {
     "data": {
      "text/plain": [
       "0"
      ]
     },
     "execution_count": 42,
     "metadata": {},
     "output_type": "execute_result"
    }
   ],
   "source": [
    "one.retweet_count"
   ]
  },
  {
   "cell_type": "code",
   "execution_count": 43,
   "metadata": {},
   "outputs": [
    {
     "data": {
      "text/plain": [
       "3"
      ]
     },
     "execution_count": 43,
     "metadata": {},
     "output_type": "execute_result"
    }
   ],
   "source": [
    "one.favorite_count"
   ]
  },
  {
   "cell_type": "code",
   "execution_count": 44,
   "metadata": {},
   "outputs": [
    {
     "data": {
      "text/plain": [
       "False"
      ]
     },
     "execution_count": 44,
     "metadata": {},
     "output_type": "execute_result"
    }
   ],
   "source": [
    "one.favorited"
   ]
  },
  {
   "cell_type": "code",
   "execution_count": 45,
   "metadata": {},
   "outputs": [
    {
     "data": {
      "text/plain": [
       "False"
      ]
     },
     "execution_count": 45,
     "metadata": {},
     "output_type": "execute_result"
    }
   ],
   "source": [
    "one.retweeted"
   ]
  },
  {
   "cell_type": "code",
   "execution_count": 46,
   "metadata": {},
   "outputs": [
    {
     "data": {
      "text/plain": [
       "'am'"
      ]
     },
     "execution_count": 46,
     "metadata": {},
     "output_type": "execute_result"
    }
   ],
   "source": [
    "one.lang"
   ]
  },
  {
   "cell_type": "markdown",
   "metadata": {},
   "source": [
    "\n",
    "# lets do some more fun"
   ]
  },
  {
   "cell_type": "code",
   "execution_count": 47,
   "metadata": {},
   "outputs": [
    {
     "data": {
      "text/plain": [
       "<tweepy.api.API at 0x7f47dc444d90>"
      ]
     },
     "execution_count": 47,
     "metadata": {},
     "output_type": "execute_result"
    }
   ],
   "source": [
    "api"
   ]
  },
  {
   "cell_type": "code",
   "execution_count": 48,
   "metadata": {},
   "outputs": [
    {
     "data": {
      "text/plain": [
       "['__class__',\n",
       " '__delattr__',\n",
       " '__dict__',\n",
       " '__dir__',\n",
       " '__doc__',\n",
       " '__eq__',\n",
       " '__format__',\n",
       " '__ge__',\n",
       " '__getattribute__',\n",
       " '__gt__',\n",
       " '__hash__',\n",
       " '__init__',\n",
       " '__init_subclass__',\n",
       " '__le__',\n",
       " '__lt__',\n",
       " '__module__',\n",
       " '__ne__',\n",
       " '__new__',\n",
       " '__reduce__',\n",
       " '__reduce_ex__',\n",
       " '__repr__',\n",
       " '__setattr__',\n",
       " '__sizeof__',\n",
       " '__str__',\n",
       " '__subclasshook__',\n",
       " '__weakref__',\n",
       " '_add_list_members',\n",
       " '_lookup_friendships',\n",
       " '_pack_image',\n",
       " '_remove_list_members',\n",
       " '_send_direct_message',\n",
       " 'add_list_member',\n",
       " 'add_list_members',\n",
       " 'api_root',\n",
       " 'auth',\n",
       " 'blocks',\n",
       " 'blocks_ids',\n",
       " 'cache',\n",
       " 'cached_result',\n",
       " 'compression',\n",
       " 'configuration',\n",
       " 'create_block',\n",
       " 'create_favorite',\n",
       " 'create_friendship',\n",
       " 'create_list',\n",
       " 'create_media_metadata',\n",
       " 'create_mute',\n",
       " 'create_saved_search',\n",
       " 'destroy_block',\n",
       " 'destroy_direct_message',\n",
       " 'destroy_favorite',\n",
       " 'destroy_friendship',\n",
       " 'destroy_list',\n",
       " 'destroy_mute',\n",
       " 'destroy_saved_search',\n",
       " 'destroy_status',\n",
       " 'favorites',\n",
       " 'followers',\n",
       " 'followers_ids',\n",
       " 'friends',\n",
       " 'friends_ids',\n",
       " 'friendships_incoming',\n",
       " 'friendships_outgoing',\n",
       " 'geo_id',\n",
       " 'geo_search',\n",
       " 'geo_similar_places',\n",
       " 'get_direct_message',\n",
       " 'get_list',\n",
       " 'get_oembed',\n",
       " 'get_saved_search',\n",
       " 'get_settings',\n",
       " 'get_status',\n",
       " 'get_user',\n",
       " 'home_timeline',\n",
       " 'host',\n",
       " 'last_response',\n",
       " 'list_direct_messages',\n",
       " 'list_members',\n",
       " 'list_subscribers',\n",
       " 'list_timeline',\n",
       " 'lists_all',\n",
       " 'lists_memberships',\n",
       " 'lists_subscriptions',\n",
       " 'lookup_friendships',\n",
       " 'lookup_users',\n",
       " 'me',\n",
       " 'media_upload',\n",
       " 'mentions_timeline',\n",
       " 'mutes',\n",
       " 'mutes_ids',\n",
       " 'parser',\n",
       " 'proxy',\n",
       " 'rate_limit_status',\n",
       " 'related_results',\n",
       " 'remove_list_member',\n",
       " 'remove_list_members',\n",
       " 'report_spam',\n",
       " 'retry_count',\n",
       " 'retry_delay',\n",
       " 'retry_errors',\n",
       " 'retweet',\n",
       " 'retweeters',\n",
       " 'retweets',\n",
       " 'retweets_of_me',\n",
       " 'reverse_geocode',\n",
       " 'saved_searches',\n",
       " 'search',\n",
       " 'search_host',\n",
       " 'search_root',\n",
       " 'search_users',\n",
       " 'send_direct_message',\n",
       " 'set_settings',\n",
       " 'show_friendship',\n",
       " 'show_list_member',\n",
       " 'show_list_subscriber',\n",
       " 'statuses_lookup',\n",
       " 'subscribe_list',\n",
       " 'supported_languages',\n",
       " 'timeout',\n",
       " 'trends_available',\n",
       " 'trends_closest',\n",
       " 'trends_place',\n",
       " 'unretweet',\n",
       " 'unsubscribe_list',\n",
       " 'update_list',\n",
       " 'update_profile',\n",
       " 'update_profile_background_image',\n",
       " 'update_profile_banner',\n",
       " 'update_profile_image',\n",
       " 'update_status',\n",
       " 'update_with_media',\n",
       " 'upload_host',\n",
       " 'upload_root',\n",
       " 'user_timeline',\n",
       " 'verify_credentials',\n",
       " 'wait_on_rate_limit',\n",
       " 'wait_on_rate_limit_notify']"
      ]
     },
     "execution_count": 48,
     "metadata": {},
     "output_type": "execute_result"
    }
   ],
   "source": [
    "dir(api)"
   ]
  },
  {
   "cell_type": "code",
   "execution_count": 49,
   "metadata": {},
   "outputs": [],
   "source": [
    "name_of = one.user.screen_name\n",
    "user = api.get_user(name_of)"
   ]
  },
  {
   "cell_type": "code",
   "execution_count": 50,
   "metadata": {},
   "outputs": [
    {
     "data": {
      "text/plain": [
       "dict_keys(['id', 'id_str', 'name', 'screen_name', 'location', 'profile_location', 'description', 'url', 'entities', 'protected', 'followers_count', 'friends_count', 'listed_count', 'created_at', 'favourites_count', 'utc_offset', 'time_zone', 'geo_enabled', 'verified', 'statuses_count', 'lang', 'status', 'contributors_enabled', 'is_translator', 'is_translation_enabled', 'profile_background_color', 'profile_background_image_url', 'profile_background_image_url_https', 'profile_background_tile', 'profile_image_url', 'profile_image_url_https', 'profile_banner_url', 'profile_link_color', 'profile_sidebar_border_color', 'profile_sidebar_fill_color', 'profile_text_color', 'profile_use_background_image', 'has_extended_profile', 'default_profile', 'default_profile_image', 'following', 'follow_request_sent', 'notifications', 'translator_type'])"
      ]
     },
     "execution_count": 50,
     "metadata": {},
     "output_type": "execute_result"
    }
   ],
   "source": [
    "user._json.keys()"
   ]
  },
  {
   "cell_type": "code",
   "execution_count": 51,
   "metadata": {},
   "outputs": [
    {
     "data": {
      "text/plain": [
       "'shegerfm'"
      ]
     },
     "execution_count": 51,
     "metadata": {},
     "output_type": "execute_result"
    }
   ],
   "source": [
    "user.screen_name"
   ]
  },
  {
   "cell_type": "code",
   "execution_count": 52,
   "metadata": {},
   "outputs": [
    {
     "data": {
      "text/plain": [
       "'ሸገር 102.1(SHEGERFM 102.1)'"
      ]
     },
     "execution_count": 52,
     "metadata": {},
     "output_type": "execute_result"
    }
   ],
   "source": [
    "user.name"
   ]
  },
  {
   "cell_type": "code",
   "execution_count": 53,
   "metadata": {},
   "outputs": [
    {
     "data": {
      "text/plain": [
       "137747"
      ]
     },
     "execution_count": 53,
     "metadata": {},
     "output_type": "execute_result"
    }
   ],
   "source": [
    "user.followers_count"
   ]
  },
  {
   "cell_type": "code",
   "execution_count": 54,
   "metadata": {},
   "outputs": [
    {
     "name": "stdout",
     "output_type": "stream",
     "text": [
      "SOEFactCheck\n",
      "DanielBekele\n",
      "FMoHealth\n",
      "lia_tadesse\n",
      "AbiyAhmedAli\n",
      "JBorgstam\n",
      "EUinEthiopia\n",
      "MoP_Ethiopia\n",
      "ethiotelecom\n",
      "UNDPEthiopia\n",
      "PMEthiopia\n",
      "mfaethiopia\n",
      "amirabiy\n",
      "TayeAtske\n",
      "fitsumaregaa\n",
      "KebetEskeKetema\n",
      "meazabirru\n"
     ]
    }
   ],
   "source": [
    "for frnd in user.friends():\n",
    "    print(frnd.screen_name)"
   ]
  },
  {
   "cell_type": "code",
   "execution_count": 55,
   "metadata": {},
   "outputs": [
    {
     "data": {
      "text/plain": [
       "<bound method User.followers of User(_api=<tweepy.api.API object at 0x7f47dc444d90>, _json={'id': 108890126, 'id_str': '108890126', 'name': 'ሸገር 102.1(SHEGERFM 102.1)', 'screen_name': 'shegerfm', 'location': 'Ethiopia, Addis Abeba', 'profile_location': None, 'description': 'ሸገር ኤፍ ኤም 102.1 ሬዲዮ መስከረም 23፣2000 ስራ የጀመረ የመጀመሪያው የኢትዮጵያ የግል ሬዲዮ ጣቢያ ነው፡፡\\nSheger 102.1 FM is the first private radio station in Ethiopia on Air Since Oct 4,2007', 'url': 'https://t.co/TTFcfXWEc7', 'entities': {'url': {'urls': [{'url': 'https://t.co/TTFcfXWEc7', 'expanded_url': 'https://bit.ly/33KMCqz', 'display_url': 'bit.ly/33KMCqz', 'indices': [0, 23]}]}, 'description': {'urls': []}}, 'protected': False, 'followers_count': 137747, 'friends_count': 17, 'listed_count': 72, 'created_at': 'Wed Jan 27 09:43:52 +0000 2010', 'favourites_count': 21, 'utc_offset': None, 'time_zone': None, 'geo_enabled': True, 'verified': False, 'statuses_count': 13139, 'lang': None, 'status': {'created_at': 'Sat Nov 21 04:29:26 +0000 2020', 'id': 1330005373764440065, 'id_str': '1330005373764440065', 'text': 'ተፈሪ አለሙ በተለያየ ዘመን የተፃፉ የሁለት ፀሐፍት ምክር ለበስ ሀሳብ ያቀርብልናል፡፡\\n\\nልክ 9፡00 ሰዓት ሲል 7ተኛው እና የመጨረሻው ክፍል የፕሮፌሰር መስፍን ወልደማርያም ጨዋታ ይ… https://t.co/yn3tdVtmXI', 'truncated': True, 'entities': {'hashtags': [], 'symbols': [], 'user_mentions': [], 'urls': [{'url': 'https://t.co/yn3tdVtmXI', 'expanded_url': 'https://twitter.com/i/web/status/1330005373764440065', 'display_url': 'twitter.com/i/web/status/1…', 'indices': [117, 140]}]}, 'source': '<a href=\"http://twitter.com/download/android\" rel=\"nofollow\">Twitter for Android</a>', 'in_reply_to_status_id': 1330005371042353152, 'in_reply_to_status_id_str': '1330005371042353152', 'in_reply_to_user_id': 108890126, 'in_reply_to_user_id_str': '108890126', 'in_reply_to_screen_name': 'shegerfm', 'geo': None, 'coordinates': None, 'place': None, 'contributors': None, 'is_quote_status': False, 'retweet_count': 0, 'favorite_count': 3, 'favorited': False, 'retweeted': False, 'lang': 'am'}, 'contributors_enabled': False, 'is_translator': False, 'is_translation_enabled': False, 'profile_background_color': '000000', 'profile_background_image_url': 'http://abs.twimg.com/images/themes/theme3/bg.gif', 'profile_background_image_url_https': 'https://abs.twimg.com/images/themes/theme3/bg.gif', 'profile_background_tile': False, 'profile_image_url': 'http://pbs.twimg.com/profile_images/723412208214908928/C14weHrf_normal.jpg', 'profile_image_url_https': 'https://pbs.twimg.com/profile_images/723412208214908928/C14weHrf_normal.jpg', 'profile_banner_url': 'https://pbs.twimg.com/profile_banners/108890126/1590773679', 'profile_link_color': 'F58320', 'profile_sidebar_border_color': '000000', 'profile_sidebar_fill_color': '000000', 'profile_text_color': '000000', 'profile_use_background_image': False, 'has_extended_profile': False, 'default_profile': False, 'default_profile_image': False, 'following': True, 'follow_request_sent': False, 'notifications': False, 'translator_type': 'none'}, id=108890126, id_str='108890126', name='ሸገር 102.1(SHEGERFM 102.1)', screen_name='shegerfm', location='Ethiopia, Addis Abeba', profile_location=None, description='ሸገር ኤፍ ኤም 102.1 ሬዲዮ መስከረም 23፣2000 ስራ የጀመረ የመጀመሪያው የኢትዮጵያ የግል ሬዲዮ ጣቢያ ነው፡፡\\nSheger 102.1 FM is the first private radio station in Ethiopia on Air Since Oct 4,2007', url='https://t.co/TTFcfXWEc7', entities={'url': {'urls': [{'url': 'https://t.co/TTFcfXWEc7', 'expanded_url': 'https://bit.ly/33KMCqz', 'display_url': 'bit.ly/33KMCqz', 'indices': [0, 23]}]}, 'description': {'urls': []}}, protected=False, followers_count=137747, friends_count=17, listed_count=72, created_at=datetime.datetime(2010, 1, 27, 9, 43, 52), favourites_count=21, utc_offset=None, time_zone=None, geo_enabled=True, verified=False, statuses_count=13139, lang=None, status=Status(_api=<tweepy.api.API object at 0x7f47dc444d90>, _json={'created_at': 'Sat Nov 21 04:29:26 +0000 2020', 'id': 1330005373764440065, 'id_str': '1330005373764440065', 'text': 'ተፈሪ አለሙ በተለያየ ዘመን የተፃፉ የሁለት ፀሐፍት ምክር ለበስ ሀሳብ ያቀርብልናል፡፡\\n\\nልክ 9፡00 ሰዓት ሲል 7ተኛው እና የመጨረሻው ክፍል የፕሮፌሰር መስፍን ወልደማርያም ጨዋታ ይ… https://t.co/yn3tdVtmXI', 'truncated': True, 'entities': {'hashtags': [], 'symbols': [], 'user_mentions': [], 'urls': [{'url': 'https://t.co/yn3tdVtmXI', 'expanded_url': 'https://twitter.com/i/web/status/1330005373764440065', 'display_url': 'twitter.com/i/web/status/1…', 'indices': [117, 140]}]}, 'source': '<a href=\"http://twitter.com/download/android\" rel=\"nofollow\">Twitter for Android</a>', 'in_reply_to_status_id': 1330005371042353152, 'in_reply_to_status_id_str': '1330005371042353152', 'in_reply_to_user_id': 108890126, 'in_reply_to_user_id_str': '108890126', 'in_reply_to_screen_name': 'shegerfm', 'geo': None, 'coordinates': None, 'place': None, 'contributors': None, 'is_quote_status': False, 'retweet_count': 0, 'favorite_count': 3, 'favorited': False, 'retweeted': False, 'lang': 'am'}, created_at=datetime.datetime(2020, 11, 21, 4, 29, 26), id=1330005373764440065, id_str='1330005373764440065', text='ተፈሪ አለሙ በተለያየ ዘመን የተፃፉ የሁለት ፀሐፍት ምክር ለበስ ሀሳብ ያቀርብልናል፡፡\\n\\nልክ 9፡00 ሰዓት ሲል 7ተኛው እና የመጨረሻው ክፍል የፕሮፌሰር መስፍን ወልደማርያም ጨዋታ ይ… https://t.co/yn3tdVtmXI', truncated=True, entities={'hashtags': [], 'symbols': [], 'user_mentions': [], 'urls': [{'url': 'https://t.co/yn3tdVtmXI', 'expanded_url': 'https://twitter.com/i/web/status/1330005373764440065', 'display_url': 'twitter.com/i/web/status/1…', 'indices': [117, 140]}]}, source='Twitter for Android', source_url='http://twitter.com/download/android', in_reply_to_status_id=1330005371042353152, in_reply_to_status_id_str='1330005371042353152', in_reply_to_user_id=108890126, in_reply_to_user_id_str='108890126', in_reply_to_screen_name='shegerfm', geo=None, coordinates=None, place=None, contributors=None, is_quote_status=False, retweet_count=0, favorite_count=3, favorited=False, retweeted=False, lang='am'), contributors_enabled=False, is_translator=False, is_translation_enabled=False, profile_background_color='000000', profile_background_image_url='http://abs.twimg.com/images/themes/theme3/bg.gif', profile_background_image_url_https='https://abs.twimg.com/images/themes/theme3/bg.gif', profile_background_tile=False, profile_image_url='http://pbs.twimg.com/profile_images/723412208214908928/C14weHrf_normal.jpg', profile_image_url_https='https://pbs.twimg.com/profile_images/723412208214908928/C14weHrf_normal.jpg', profile_banner_url='https://pbs.twimg.com/profile_banners/108890126/1590773679', profile_link_color='F58320', profile_sidebar_border_color='000000', profile_sidebar_fill_color='000000', profile_text_color='000000', profile_use_background_image=False, has_extended_profile=False, default_profile=False, default_profile_image=False, following=True, follow_request_sent=False, notifications=False, translator_type='none')>"
      ]
     },
     "execution_count": 55,
     "metadata": {},
     "output_type": "execute_result"
    }
   ],
   "source": [
    "user.followers"
   ]
  },
  {
   "cell_type": "markdown",
   "metadata": {},
   "source": [
    "# Word cloud\n",
    "    A graphical display of words in a corpus \n",
    "    size of word based on number of occurrences. the more the occurrences the bigger the size and vise versa\n",
    "    visual view of the most popular terms"
   ]
  },
  {
   "cell_type": "code",
   "execution_count": 56,
   "metadata": {},
   "outputs": [],
   "source": [
    "#lets get Donald J Trump's tweets"
   ]
  },
  {
   "cell_type": "code",
   "execution_count": 57,
   "metadata": {},
   "outputs": [],
   "source": [
    "trump = api.get_user('realDonaldTrump')\n",
    "trump_name = trump.screen_name"
   ]
  },
  {
   "cell_type": "code",
   "execution_count": 58,
   "metadata": {},
   "outputs": [],
   "source": [
    "trump_tweets = api.user_timeline(screen_name=trump_name, count=200,  include_rts = False, tweet_mode = 'extended')"
   ]
  },
  {
   "cell_type": "code",
   "execution_count": 59,
   "metadata": {},
   "outputs": [
    {
     "data": {
      "text/plain": [
       "126"
      ]
     },
     "execution_count": 59,
     "metadata": {},
     "output_type": "execute_result"
    }
   ],
   "source": [
    "len(trump_tweets)\n"
   ]
  },
  {
   "cell_type": "code",
   "execution_count": 60,
   "metadata": {},
   "outputs": [],
   "source": [
    "tweet = trump_tweets[0]"
   ]
  },
  {
   "cell_type": "code",
   "execution_count": 61,
   "metadata": {},
   "outputs": [
    {
     "data": {
      "text/plain": [
       "Status(_api=<tweepy.api.API object at 0x7f47dc444d90>, _json={'created_at': 'Sat Nov 21 01:43:19 +0000 2020', 'id': 1329963571250335744, 'id_str': '1329963571250335744', 'full_text': 'https://t.co/YHscjY6G8t', 'truncated': False, 'display_text_range': [0, 23], 'entities': {'hashtags': [], 'symbols': [], 'user_mentions': [], 'urls': [], 'media': [{'id': 1329963100624351232, 'id_str': '1329963100624351232', 'indices': [0, 23], 'media_url': 'http://pbs.twimg.com/amplify_video_thumb/1329963100624351232/img/Kh7ozDepmrc1Y1tg.jpg', 'media_url_https': 'https://pbs.twimg.com/amplify_video_thumb/1329963100624351232/img/Kh7ozDepmrc1Y1tg.jpg', 'url': 'https://t.co/YHscjY6G8t', 'display_url': 'pic.twitter.com/YHscjY6G8t', 'expanded_url': 'https://twitter.com/TeamTrump/status/1329963445068951552/video/1', 'type': 'photo', 'sizes': {'thumb': {'w': 150, 'h': 150, 'resize': 'crop'}, 'medium': {'w': 1200, 'h': 675, 'resize': 'fit'}, 'small': {'w': 680, 'h': 383, 'resize': 'fit'}, 'large': {'w': 1280, 'h': 720, 'resize': 'fit'}}, 'source_status_id': 1329963445068951552, 'source_status_id_str': '1329963445068951552', 'source_user_id': 729676086632656900, 'source_user_id_str': '729676086632656900'}]}, 'extended_entities': {'media': [{'id': 1329963100624351232, 'id_str': '1329963100624351232', 'indices': [0, 23], 'media_url': 'http://pbs.twimg.com/amplify_video_thumb/1329963100624351232/img/Kh7ozDepmrc1Y1tg.jpg', 'media_url_https': 'https://pbs.twimg.com/amplify_video_thumb/1329963100624351232/img/Kh7ozDepmrc1Y1tg.jpg', 'url': 'https://t.co/YHscjY6G8t', 'display_url': 'pic.twitter.com/YHscjY6G8t', 'expanded_url': 'https://twitter.com/TeamTrump/status/1329963445068951552/video/1', 'type': 'video', 'sizes': {'thumb': {'w': 150, 'h': 150, 'resize': 'crop'}, 'medium': {'w': 1200, 'h': 675, 'resize': 'fit'}, 'small': {'w': 680, 'h': 383, 'resize': 'fit'}, 'large': {'w': 1280, 'h': 720, 'resize': 'fit'}}, 'source_status_id': 1329963445068951552, 'source_status_id_str': '1329963445068951552', 'source_user_id': 729676086632656900, 'source_user_id_str': '729676086632656900', 'video_info': {'aspect_ratio': [16, 9], 'duration_millis': 244111, 'variants': [{'bitrate': 832000, 'content_type': 'video/mp4', 'url': 'https://video.twimg.com/amplify_video/1329963100624351232/vid/640x360/4St-bJPcpq8GKVJx.mp4?tag=13'}, {'bitrate': 2176000, 'content_type': 'video/mp4', 'url': 'https://video.twimg.com/amplify_video/1329963100624351232/vid/1280x720/el5EHuJa_pcIYjs-.mp4?tag=13'}, {'bitrate': 288000, 'content_type': 'video/mp4', 'url': 'https://video.twimg.com/amplify_video/1329963100624351232/vid/480x270/w1-LGKIaik_eqoDa.mp4?tag=13'}, {'content_type': 'application/x-mpegURL', 'url': 'https://video.twimg.com/amplify_video/1329963100624351232/pl/g-oeSeYnG--PU6ZJ.m3u8?tag=13'}]}, 'additional_media_info': {'title': '', 'description': '', 'embeddable': True, 'monetizable': False, 'source_user': {'id': 729676086632656900, 'id_str': '729676086632656900', 'name': 'Team Trump', 'screen_name': 'TeamTrump', 'location': 'USA', 'description': 'The official Twitter account for the Trump Campaign. Together, we will MAKE AMERICA GREAT AGAIN! 🇺🇸', 'url': 'https://t.co/mZB2hymxC9', 'entities': {'url': {'urls': [{'url': 'https://t.co/mZB2hymxC9', 'expanded_url': 'http://www.DonaldJTrump.com', 'display_url': 'DonaldJTrump.com', 'indices': [0, 23]}]}, 'description': {'urls': []}}, 'protected': False, 'followers_count': 2407796, 'friends_count': 132, 'listed_count': 4882, 'created_at': 'Mon May 09 14:15:10 +0000 2016', 'favourites_count': 3524, 'utc_offset': None, 'time_zone': None, 'geo_enabled': True, 'verified': True, 'statuses_count': 30219, 'lang': None, 'contributors_enabled': False, 'is_translator': False, 'is_translation_enabled': False, 'profile_background_color': '000000', 'profile_background_image_url': 'http://abs.twimg.com/images/themes/theme1/bg.png', 'profile_background_image_url_https': 'https://abs.twimg.com/images/themes/theme1/bg.png', 'profile_background_tile': False, 'profile_image_url': 'http://pbs.twimg.com/profile_images/745768799849308160/KrZhjkpH_normal.jpg', 'profile_image_url_https': 'https://pbs.twimg.com/profile_images/745768799849308160/KrZhjkpH_normal.jpg', 'profile_banner_url': 'https://pbs.twimg.com/profile_banners/729676086632656900/1605736114', 'profile_link_color': 'CB0606', 'profile_sidebar_border_color': '000000', 'profile_sidebar_fill_color': '000000', 'profile_text_color': '000000', 'profile_use_background_image': False, 'has_extended_profile': False, 'default_profile': False, 'default_profile_image': False, 'following': False, 'follow_request_sent': False, 'notifications': False, 'translator_type': 'none'}}}]}, 'source': '<a href=\"http://twitter.com/download/iphone\" rel=\"nofollow\">Twitter for iPhone</a>', 'in_reply_to_status_id': None, 'in_reply_to_status_id_str': None, 'in_reply_to_user_id': None, 'in_reply_to_user_id_str': None, 'in_reply_to_screen_name': None, 'user': {'id': 25073877, 'id_str': '25073877', 'name': 'Donald J. Trump', 'screen_name': 'realDonaldTrump', 'location': 'Washington, DC', 'description': '45th President of the United States of America🇺🇸', 'url': 'https://t.co/8f9VFxztEJ', 'entities': {'url': {'urls': [{'url': 'https://t.co/8f9VFxztEJ', 'expanded_url': 'http://Vote.DonaldJTrump.com', 'display_url': 'Vote.DonaldJTrump.com', 'indices': [0, 23]}]}, 'description': {'urls': []}}, 'protected': False, 'followers_count': 88935454, 'friends_count': 51, 'listed_count': 125194, 'created_at': 'Wed Mar 18 13:46:38 +0000 2009', 'favourites_count': 6, 'utc_offset': None, 'time_zone': None, 'geo_enabled': True, 'verified': True, 'statuses_count': 58575, 'lang': None, 'contributors_enabled': False, 'is_translator': False, 'is_translation_enabled': True, 'profile_background_color': '6D5C18', 'profile_background_image_url': 'http://abs.twimg.com/images/themes/theme1/bg.png', 'profile_background_image_url_https': 'https://abs.twimg.com/images/themes/theme1/bg.png', 'profile_background_tile': True, 'profile_image_url': 'http://pbs.twimg.com/profile_images/874276197357596672/kUuht00m_normal.jpg', 'profile_image_url_https': 'https://pbs.twimg.com/profile_images/874276197357596672/kUuht00m_normal.jpg', 'profile_banner_url': 'https://pbs.twimg.com/profile_banners/25073877/1604214583', 'profile_link_color': '1B95E0', 'profile_sidebar_border_color': 'BDDCAD', 'profile_sidebar_fill_color': 'C5CEC0', 'profile_text_color': '333333', 'profile_use_background_image': True, 'has_extended_profile': False, 'default_profile': False, 'default_profile_image': False, 'following': False, 'follow_request_sent': False, 'notifications': False, 'translator_type': 'regular'}, 'geo': None, 'coordinates': None, 'place': None, 'contributors': None, 'is_quote_status': False, 'retweet_count': 23418, 'favorite_count': 80438, 'favorited': False, 'retweeted': False, 'possibly_sensitive': False, 'lang': 'und'}, created_at=datetime.datetime(2020, 11, 21, 1, 43, 19), id=1329963571250335744, id_str='1329963571250335744', full_text='https://t.co/YHscjY6G8t', truncated=False, display_text_range=[0, 23], entities={'hashtags': [], 'symbols': [], 'user_mentions': [], 'urls': [], 'media': [{'id': 1329963100624351232, 'id_str': '1329963100624351232', 'indices': [0, 23], 'media_url': 'http://pbs.twimg.com/amplify_video_thumb/1329963100624351232/img/Kh7ozDepmrc1Y1tg.jpg', 'media_url_https': 'https://pbs.twimg.com/amplify_video_thumb/1329963100624351232/img/Kh7ozDepmrc1Y1tg.jpg', 'url': 'https://t.co/YHscjY6G8t', 'display_url': 'pic.twitter.com/YHscjY6G8t', 'expanded_url': 'https://twitter.com/TeamTrump/status/1329963445068951552/video/1', 'type': 'photo', 'sizes': {'thumb': {'w': 150, 'h': 150, 'resize': 'crop'}, 'medium': {'w': 1200, 'h': 675, 'resize': 'fit'}, 'small': {'w': 680, 'h': 383, 'resize': 'fit'}, 'large': {'w': 1280, 'h': 720, 'resize': 'fit'}}, 'source_status_id': 1329963445068951552, 'source_status_id_str': '1329963445068951552', 'source_user_id': 729676086632656900, 'source_user_id_str': '729676086632656900'}]}, extended_entities={'media': [{'id': 1329963100624351232, 'id_str': '1329963100624351232', 'indices': [0, 23], 'media_url': 'http://pbs.twimg.com/amplify_video_thumb/1329963100624351232/img/Kh7ozDepmrc1Y1tg.jpg', 'media_url_https': 'https://pbs.twimg.com/amplify_video_thumb/1329963100624351232/img/Kh7ozDepmrc1Y1tg.jpg', 'url': 'https://t.co/YHscjY6G8t', 'display_url': 'pic.twitter.com/YHscjY6G8t', 'expanded_url': 'https://twitter.com/TeamTrump/status/1329963445068951552/video/1', 'type': 'video', 'sizes': {'thumb': {'w': 150, 'h': 150, 'resize': 'crop'}, 'medium': {'w': 1200, 'h': 675, 'resize': 'fit'}, 'small': {'w': 680, 'h': 383, 'resize': 'fit'}, 'large': {'w': 1280, 'h': 720, 'resize': 'fit'}}, 'source_status_id': 1329963445068951552, 'source_status_id_str': '1329963445068951552', 'source_user_id': 729676086632656900, 'source_user_id_str': '729676086632656900', 'video_info': {'aspect_ratio': [16, 9], 'duration_millis': 244111, 'variants': [{'bitrate': 832000, 'content_type': 'video/mp4', 'url': 'https://video.twimg.com/amplify_video/1329963100624351232/vid/640x360/4St-bJPcpq8GKVJx.mp4?tag=13'}, {'bitrate': 2176000, 'content_type': 'video/mp4', 'url': 'https://video.twimg.com/amplify_video/1329963100624351232/vid/1280x720/el5EHuJa_pcIYjs-.mp4?tag=13'}, {'bitrate': 288000, 'content_type': 'video/mp4', 'url': 'https://video.twimg.com/amplify_video/1329963100624351232/vid/480x270/w1-LGKIaik_eqoDa.mp4?tag=13'}, {'content_type': 'application/x-mpegURL', 'url': 'https://video.twimg.com/amplify_video/1329963100624351232/pl/g-oeSeYnG--PU6ZJ.m3u8?tag=13'}]}, 'additional_media_info': {'title': '', 'description': '', 'embeddable': True, 'monetizable': False, 'source_user': {'id': 729676086632656900, 'id_str': '729676086632656900', 'name': 'Team Trump', 'screen_name': 'TeamTrump', 'location': 'USA', 'description': 'The official Twitter account for the Trump Campaign. Together, we will MAKE AMERICA GREAT AGAIN! 🇺🇸', 'url': 'https://t.co/mZB2hymxC9', 'entities': {'url': {'urls': [{'url': 'https://t.co/mZB2hymxC9', 'expanded_url': 'http://www.DonaldJTrump.com', 'display_url': 'DonaldJTrump.com', 'indices': [0, 23]}]}, 'description': {'urls': []}}, 'protected': False, 'followers_count': 2407796, 'friends_count': 132, 'listed_count': 4882, 'created_at': 'Mon May 09 14:15:10 +0000 2016', 'favourites_count': 3524, 'utc_offset': None, 'time_zone': None, 'geo_enabled': True, 'verified': True, 'statuses_count': 30219, 'lang': None, 'contributors_enabled': False, 'is_translator': False, 'is_translation_enabled': False, 'profile_background_color': '000000', 'profile_background_image_url': 'http://abs.twimg.com/images/themes/theme1/bg.png', 'profile_background_image_url_https': 'https://abs.twimg.com/images/themes/theme1/bg.png', 'profile_background_tile': False, 'profile_image_url': 'http://pbs.twimg.com/profile_images/745768799849308160/KrZhjkpH_normal.jpg', 'profile_image_url_https': 'https://pbs.twimg.com/profile_images/745768799849308160/KrZhjkpH_normal.jpg', 'profile_banner_url': 'https://pbs.twimg.com/profile_banners/729676086632656900/1605736114', 'profile_link_color': 'CB0606', 'profile_sidebar_border_color': '000000', 'profile_sidebar_fill_color': '000000', 'profile_text_color': '000000', 'profile_use_background_image': False, 'has_extended_profile': False, 'default_profile': False, 'default_profile_image': False, 'following': False, 'follow_request_sent': False, 'notifications': False, 'translator_type': 'none'}}}]}, source='Twitter for iPhone', source_url='http://twitter.com/download/iphone', in_reply_to_status_id=None, in_reply_to_status_id_str=None, in_reply_to_user_id=None, in_reply_to_user_id_str=None, in_reply_to_screen_name=None, author=User(_api=<tweepy.api.API object at 0x7f47dc444d90>, _json={'id': 25073877, 'id_str': '25073877', 'name': 'Donald J. Trump', 'screen_name': 'realDonaldTrump', 'location': 'Washington, DC', 'description': '45th President of the United States of America🇺🇸', 'url': 'https://t.co/8f9VFxztEJ', 'entities': {'url': {'urls': [{'url': 'https://t.co/8f9VFxztEJ', 'expanded_url': 'http://Vote.DonaldJTrump.com', 'display_url': 'Vote.DonaldJTrump.com', 'indices': [0, 23]}]}, 'description': {'urls': []}}, 'protected': False, 'followers_count': 88935454, 'friends_count': 51, 'listed_count': 125194, 'created_at': 'Wed Mar 18 13:46:38 +0000 2009', 'favourites_count': 6, 'utc_offset': None, 'time_zone': None, 'geo_enabled': True, 'verified': True, 'statuses_count': 58575, 'lang': None, 'contributors_enabled': False, 'is_translator': False, 'is_translation_enabled': True, 'profile_background_color': '6D5C18', 'profile_background_image_url': 'http://abs.twimg.com/images/themes/theme1/bg.png', 'profile_background_image_url_https': 'https://abs.twimg.com/images/themes/theme1/bg.png', 'profile_background_tile': True, 'profile_image_url': 'http://pbs.twimg.com/profile_images/874276197357596672/kUuht00m_normal.jpg', 'profile_image_url_https': 'https://pbs.twimg.com/profile_images/874276197357596672/kUuht00m_normal.jpg', 'profile_banner_url': 'https://pbs.twimg.com/profile_banners/25073877/1604214583', 'profile_link_color': '1B95E0', 'profile_sidebar_border_color': 'BDDCAD', 'profile_sidebar_fill_color': 'C5CEC0', 'profile_text_color': '333333', 'profile_use_background_image': True, 'has_extended_profile': False, 'default_profile': False, 'default_profile_image': False, 'following': False, 'follow_request_sent': False, 'notifications': False, 'translator_type': 'regular'}, id=25073877, id_str='25073877', name='Donald J. Trump', screen_name='realDonaldTrump', location='Washington, DC', description='45th President of the United States of America🇺🇸', url='https://t.co/8f9VFxztEJ', entities={'url': {'urls': [{'url': 'https://t.co/8f9VFxztEJ', 'expanded_url': 'http://Vote.DonaldJTrump.com', 'display_url': 'Vote.DonaldJTrump.com', 'indices': [0, 23]}]}, 'description': {'urls': []}}, protected=False, followers_count=88935454, friends_count=51, listed_count=125194, created_at=datetime.datetime(2009, 3, 18, 13, 46, 38), favourites_count=6, utc_offset=None, time_zone=None, geo_enabled=True, verified=True, statuses_count=58575, lang=None, contributors_enabled=False, is_translator=False, is_translation_enabled=True, profile_background_color='6D5C18', profile_background_image_url='http://abs.twimg.com/images/themes/theme1/bg.png', profile_background_image_url_https='https://abs.twimg.com/images/themes/theme1/bg.png', profile_background_tile=True, profile_image_url='http://pbs.twimg.com/profile_images/874276197357596672/kUuht00m_normal.jpg', profile_image_url_https='https://pbs.twimg.com/profile_images/874276197357596672/kUuht00m_normal.jpg', profile_banner_url='https://pbs.twimg.com/profile_banners/25073877/1604214583', profile_link_color='1B95E0', profile_sidebar_border_color='BDDCAD', profile_sidebar_fill_color='C5CEC0', profile_text_color='333333', profile_use_background_image=True, has_extended_profile=False, default_profile=False, default_profile_image=False, following=False, follow_request_sent=False, notifications=False, translator_type='regular'), user=User(_api=<tweepy.api.API object at 0x7f47dc444d90>, _json={'id': 25073877, 'id_str': '25073877', 'name': 'Donald J. Trump', 'screen_name': 'realDonaldTrump', 'location': 'Washington, DC', 'description': '45th President of the United States of America🇺🇸', 'url': 'https://t.co/8f9VFxztEJ', 'entities': {'url': {'urls': [{'url': 'https://t.co/8f9VFxztEJ', 'expanded_url': 'http://Vote.DonaldJTrump.com', 'display_url': 'Vote.DonaldJTrump.com', 'indices': [0, 23]}]}, 'description': {'urls': []}}, 'protected': False, 'followers_count': 88935454, 'friends_count': 51, 'listed_count': 125194, 'created_at': 'Wed Mar 18 13:46:38 +0000 2009', 'favourites_count': 6, 'utc_offset': None, 'time_zone': None, 'geo_enabled': True, 'verified': True, 'statuses_count': 58575, 'lang': None, 'contributors_enabled': False, 'is_translator': False, 'is_translation_enabled': True, 'profile_background_color': '6D5C18', 'profile_background_image_url': 'http://abs.twimg.com/images/themes/theme1/bg.png', 'profile_background_image_url_https': 'https://abs.twimg.com/images/themes/theme1/bg.png', 'profile_background_tile': True, 'profile_image_url': 'http://pbs.twimg.com/profile_images/874276197357596672/kUuht00m_normal.jpg', 'profile_image_url_https': 'https://pbs.twimg.com/profile_images/874276197357596672/kUuht00m_normal.jpg', 'profile_banner_url': 'https://pbs.twimg.com/profile_banners/25073877/1604214583', 'profile_link_color': '1B95E0', 'profile_sidebar_border_color': 'BDDCAD', 'profile_sidebar_fill_color': 'C5CEC0', 'profile_text_color': '333333', 'profile_use_background_image': True, 'has_extended_profile': False, 'default_profile': False, 'default_profile_image': False, 'following': False, 'follow_request_sent': False, 'notifications': False, 'translator_type': 'regular'}, id=25073877, id_str='25073877', name='Donald J. Trump', screen_name='realDonaldTrump', location='Washington, DC', description='45th President of the United States of America🇺🇸', url='https://t.co/8f9VFxztEJ', entities={'url': {'urls': [{'url': 'https://t.co/8f9VFxztEJ', 'expanded_url': 'http://Vote.DonaldJTrump.com', 'display_url': 'Vote.DonaldJTrump.com', 'indices': [0, 23]}]}, 'description': {'urls': []}}, protected=False, followers_count=88935454, friends_count=51, listed_count=125194, created_at=datetime.datetime(2009, 3, 18, 13, 46, 38), favourites_count=6, utc_offset=None, time_zone=None, geo_enabled=True, verified=True, statuses_count=58575, lang=None, contributors_enabled=False, is_translator=False, is_translation_enabled=True, profile_background_color='6D5C18', profile_background_image_url='http://abs.twimg.com/images/themes/theme1/bg.png', profile_background_image_url_https='https://abs.twimg.com/images/themes/theme1/bg.png', profile_background_tile=True, profile_image_url='http://pbs.twimg.com/profile_images/874276197357596672/kUuht00m_normal.jpg', profile_image_url_https='https://pbs.twimg.com/profile_images/874276197357596672/kUuht00m_normal.jpg', profile_banner_url='https://pbs.twimg.com/profile_banners/25073877/1604214583', profile_link_color='1B95E0', profile_sidebar_border_color='BDDCAD', profile_sidebar_fill_color='C5CEC0', profile_text_color='333333', profile_use_background_image=True, has_extended_profile=False, default_profile=False, default_profile_image=False, following=False, follow_request_sent=False, notifications=False, translator_type='regular'), geo=None, coordinates=None, place=None, contributors=None, is_quote_status=False, retweet_count=23418, favorite_count=80438, favorited=False, retweeted=False, possibly_sensitive=False, lang='und')"
      ]
     },
     "execution_count": 61,
     "metadata": {},
     "output_type": "execute_result"
    }
   ],
   "source": [
    "tweet"
   ]
  },
  {
   "cell_type": "code",
   "execution_count": 62,
   "metadata": {},
   "outputs": [
    {
     "name": "stdout",
     "output_type": "stream",
     "text": [
      "https://t.co/YHscjY6G8t\n",
      "2020-11-21 01:43:19\n",
      "\n",
      "\n",
      "https://t.co/OLZnCJq93Y\n",
      "2020-11-21 01:42:14\n",
      "\n",
      "\n",
      "https://t.co/cwOQLhQNFq\n",
      "2020-11-21 01:42:00\n",
      "\n",
      "\n",
      "...Why won’t they do it, and why are they so fast to certify a meaningless tally?\n",
      "2020-11-20 19:38:34\n",
      "\n",
      "\n",
      "The Governor of Georgia, and Secretary of State, refuse to let us look at signatures which would expose hundreds of thousands of illegal ballots, and give the Republican Party and me, David Perdue, and perhaps Kelly Loeffler, a BIG VICTORY...\n",
      "2020-11-20 19:38:33\n",
      "\n",
      "\n",
      "News Conference on Reduced Drug Prices at 2:30 P.M.\n",
      "2020-11-20 18:20:41\n",
      "\n",
      "\n",
      "Giuliani: The Case for Election Fraud Being Made By Americans https://t.co/yNfaKqYzCO via @BreitbartNews\n",
      "2020-11-20 13:53:00\n",
      "\n",
      "\n",
      "We have great support on the Election Hoax! https://t.co/ChpkuZvc4s\n",
      "2020-11-20 13:35:44\n",
      "\n",
      "\n",
      "Thank you Elizabeth, LOVE! https://t.co/iopJ0AJ1KV\n",
      "2020-11-20 13:01:17\n",
      "\n",
      "\n",
      "The great @FoxNews daytime ratings CRASH will only get worse! https://t.co/GdOWwV7EOY\n",
      "2020-11-20 12:56:13\n",
      "\n",
      "\n"
     ]
    }
   ],
   "source": [
    "for i in range(10):\n",
    "    tweet = trump_tweets[i]\n",
    "    print(tweet.full_text)\n",
    "    print(tweet.created_at)\n",
    "    print('\\n')"
   ]
  },
  {
   "cell_type": "code",
   "execution_count": 63,
   "metadata": {},
   "outputs": [
    {
     "name": "stdout",
     "output_type": "stream",
     "text": [
      "Requirement already satisfied: wordcloud in /home/tade/anaconda3/lib/python3.7/site-packages (1.8.1)\n",
      "Requirement already satisfied: numpy>=1.6.1 in /home/tade/anaconda3/lib/python3.7/site-packages (from wordcloud) (1.18.1)\n",
      "Requirement already satisfied: matplotlib in /home/tade/anaconda3/lib/python3.7/site-packages (from wordcloud) (3.2.1)\n",
      "Requirement already satisfied: pillow in /home/tade/anaconda3/lib/python3.7/site-packages (from wordcloud) (7.1.2)\n",
      "Requirement already satisfied: kiwisolver>=1.0.1 in /home/tade/anaconda3/lib/python3.7/site-packages (from matplotlib->wordcloud) (1.2.0)\n",
      "Requirement already satisfied: cycler>=0.10 in /home/tade/anaconda3/lib/python3.7/site-packages (from matplotlib->wordcloud) (0.10.0)\n",
      "Requirement already satisfied: python-dateutil>=2.1 in /home/tade/anaconda3/lib/python3.7/site-packages (from matplotlib->wordcloud) (2.6.1)\n",
      "Requirement already satisfied: pyparsing!=2.0.4,!=2.1.2,!=2.1.6,>=2.0.1 in /home/tade/anaconda3/lib/python3.7/site-packages (from matplotlib->wordcloud) (2.4.7)\n",
      "Requirement already satisfied: six in /home/tade/anaconda3/lib/python3.7/site-packages (from cycler>=0.10->matplotlib->wordcloud) (1.12.0)\n"
     ]
    }
   ],
   "source": [
    "!pip install wordcloud"
   ]
  },
  {
   "cell_type": "code",
   "execution_count": 64,
   "metadata": {},
   "outputs": [],
   "source": [
    "from wordcloud import WordCloud, STOPWORDS\n",
    "stopwords = set(STOPWORDS)\n",
    "trump_tweets_text = str([tweet.full_text for tweet in trump_tweets])\n",
    "word_cloud = WordCloud(stopwords=stopwords, max_words=25, \\\n",
    "                      background_color=\"white\").generate(trump_tweets_text)"
   ]
  },
  {
   "cell_type": "code",
   "execution_count": 65,
   "metadata": {},
   "outputs": [
    {
     "data": {
      "text/plain": [
       "<matplotlib.image.AxesImage at 0x7f47b6491e50>"
      ]
     },
     "execution_count": 65,
     "metadata": {},
     "output_type": "execute_result"
    },
    {
     "data": {
      "image/png": "[encoded data removed]",
      "text/plain": [
       "<Figure size 432x288 with 1 Axes>"
      ]
     },
     "metadata": {
      "needs_background": "light"
     },
     "output_type": "display_data"
    }
   ],
   "source": [
    "import matplotlib.pyplot as plt\n",
    "plt.imshow(word_cloud)"
   ]
  },
  {
   "cell_type": "code",
   "execution_count": 66,
   "metadata": {},
   "outputs": [],
   "source": [
    "# as we can see there are some words needs to be ignored lets do that\n",
    "stopwords.update(['https', 't', 'co', 'many'])\n",
    "word_cloud = WordCloud(stopwords=stopwords, max_words=10, \\\n",
    "                      background_color=\"azure\").generate(trump_tweets_text)"
   ]
  },
  {
   "cell_type": "code",
   "execution_count": 67,
   "metadata": {},
   "outputs": [
    {
     "data": {
      "text/plain": [
       "<matplotlib.image.AxesImage at 0x7f47b5950350>"
      ]
     },
     "execution_count": 67,
     "metadata": {},
     "output_type": "execute_result"
    },
    {
     "data": {
      "image/png": "[encoded data removed]",
      "text/plain": [
       "<Figure size 432x288 with 1 Axes>"
      ]
     },
     "metadata": {
      "needs_background": "light"
     },
     "output_type": "display_data"
    }
   ],
   "source": [
    "plt.imshow(word_cloud)"
   ]
  },
  {
   "cell_type": "markdown",
   "metadata": {},
   "source": [
    "# Sentiment Analysis\n",
    "    identify and categorize intent or opinion in text data \n",
    "    ==>in sentiment analysis we want to determine sentence's polarity ranging from -1 to 1 \n",
    "    +1(postive)\n",
    "    -1(negative)\n",
    "     0(neutral)\n",
    "    ==> we also want to understand whether the sentiment is objective or subjective\n",
    "     0(objective)\n",
    "    +1(subjective)"
   ]
  },
  {
   "cell_type": "code",
   "execution_count": 68,
   "metadata": {},
   "outputs": [],
   "source": [
    "# to implement sentiment analysis we can use the bag of words technique"
   ]
  },
  {
   "cell_type": "code",
   "execution_count": null,
   "metadata": {},
   "outputs": [],
   "source": [
    "!pip install textblob"
   ]
  },
  {
   "cell_type": "code",
   "execution_count": 69,
   "metadata": {},
   "outputs": [],
   "source": [
    "from textblob import TextBlob"
   ]
  },
  {
   "cell_type": "code",
   "execution_count": 70,
   "metadata": {},
   "outputs": [
    {
     "name": "stdout",
     "output_type": "stream",
     "text": [
      "Review                                  :Polarity  :Subjectivity\n",
      "https://t.co/YHscjY6G8t                  :    0.00   :   0.00\n",
      "https://t.co/OLZnCJq93Y                  :    0.00   :   0.00\n",
      "https://t.co/cwOQLhQNFq                  :    0.00   :   0.00\n",
      "...Why won’t they do it, and why are the :   -0.15   :   0.80\n",
      "The Governor of Georgia, and Secretary o :   -0.25   :   0.30\n",
      "News Conference on Reduced Drug Prices a :    0.00   :   0.00\n",
      "Giuliani: The Case for Election Fraud Be :    0.00   :   0.00\n",
      "We have great support on the Election Ho :    1.00   :   0.75\n",
      "Thank you Elizabeth, LOVE! https://t.co/ :    0.62   :   0.60\n",
      "The great @FoxNews daytime ratings CRASH :    0.10   :   0.78\n",
      "RINO Mitt Romney should read this. I’m s :    0.60   :   0.89\n",
      "@justin_hart There will be no lockdowns  :    0.07   :   0.47\n",
      "Will use these charts in court case. The :    0.00   :   0.00\n",
      "A Rigged Election! https://t.co/dAviFrkE :    0.00   :   0.00\n",
      "Great book! https://t.co/Aq4Qus3u4r      :    1.00   :   0.75\n",
      "Look at this in Michigan! A day AFTER th :    0.00   :   0.00\n",
      "So true. Thanks Jody! https://t.co/YnOpH :    0.30   :   0.43\n",
      "https://t.co/lJa6syVoqN                  :    0.00   :   0.00\n",
      "We withdrew because we won! https://t.co :    0.00   :   0.00\n",
      "Nolte: Top Pollster Finds 47% Say ‘Likel :    0.25   :   0.75\n",
      "Lawyers now on @newsmax, @OANN &amp; may :    0.00   :   0.75\n",
      "THE COVID DRUGS NOW AVAILABLE TO MAKE PE :    0.36   :   0.52\n",
      "“Evidence of voter fraud continues to gr :   -0.10   :   0.63\n",
      "Almost ZERO ballots rejected in Georgia  :    0.07   :   0.76\n",
      "Thousands of uncounted votes discovered  :    0.48   :   0.72\n",
      "Important News Conference today by lawye :    0.44   :   0.83\n",
      "Voter Fraud in Detroit is rampant, and h :    0.62   :   0.50\n",
      "VACCINES ARE COMING FAST!!!              :    0.39   :   0.60\n",
      "Great job on @foxandfriends today Gianca :    1.00   :   0.75\n",
      "...And with these numbers, by far the hi :    0.12   :   1.00\n",
      "It was my great honor to help, a tremend :    0.61   :   0.88\n",
      "Looking good! https://t.co/4EOWyhWzJ3    :    0.88   :   0.60\n",
      "\"Dominion-izing the Vote\" https://t.co/Z :    0.00   :   0.00\n",
      "“Statistical sampling to prove widesprea :    0.00   :   0.00\n",
      "Look at this in Wisconsin! A day AFTER t :   -0.51   :   0.83\n",
      "Thank you @DarrellIssa, so nice! \n",
      "https: :    0.75   :   1.00\n",
      "https://t.co/WqwBtqRH1I                  :    0.00   :   0.00\n",
      "FLOYD COUNTY, GEORGIA! \n",
      "https://t.co/mIZ :    0.00   :   0.00\n",
      "The Great State of Michigan, with votes  :    0.48   :   0.55\n",
      "In Detroit, there are FAR MORE VOTES THA :    0.40   :   0.72\n",
      "“The numbers have not improved, it is st :    0.62   :   0.50\n",
      "THEY WOULD’NT LET REPUBLICAN POLL WATCHE :    0.00   :   0.00\n",
      "The Georgia recount is a joke and is bei :    0.10   :   0.40\n",
      "They didn’t even allow Republican Observ :   -1.00   :   1.00\n",
      "This was a rigged election. No Republica :    0.62   :   0.50\n",
      "Wrong! At first they voted against becau :   -0.21   :   0.57\n",
      "...AND I WON THE ELECTION. VOTER FRAUD A :    0.00   :   0.00\n",
      "Trump votes. https://t.co/JYEMPg1MJc     :    0.00   :   0.00\n",
      "Wow! Governor Kemp will hopefully see th :    0.34   :   0.66\n",
      "Well, it’s really quite simple. You just :    0.27   :   0.35\n",
      "More votes than people, and that is the  :   -0.04   :   0.45\n",
      "Flip Michigan back to TRUMP. Detroit, no :    0.02   :   0.50\n",
      "Wow! Michigan just refused to certify th :    0.67   :   1.00\n",
      "“Second Georgia County Finds Thousands M :    0.25   :   0.25\n",
      "https://t.co/ciHvx0h6e9                  :    0.00   :   0.00\n",
      "The only thing secure about our 2020 Ele :    0.25   :   0.62\n",
      "THANK YOU! https://t.co/DrtsiD71i4       :    0.00   :   0.00\n",
      "...votes from Trump to Biden, late votin :    0.32   :   0.60\n",
      "The recent statement by Chris Krebs on t :   -0.01   :   0.55\n",
      "“DEAD PEOPLE VOTED” https://t.co/y6WRvCB :   -0.20   :   0.40\n",
      "https://t.co/GnGXzUZeo9                  :    0.00   :   0.00\n",
      "https://t.co/Nf8mnRLhy5                  :    0.00   :   0.00\n",
      "THIS SAYS IT ALL! https://t.co/zZSspsJPe :    0.00   :   0.00\n",
      "I have reversed the ridiculous decision  :   -0.42   :   1.00\n",
      "https://t.co/J99jQjt2wY                  :    0.00   :   0.00\n",
      "Big victory moments ago in the State of  :    0.18   :   0.43\n",
      "The rate of rejected Mail-In Ballots is  :    0.00   :   0.00\n",
      "Georgia won’t let us look at the all imp :   -0.03   :   0.83\n",
      "European Countries are sadly getting clo :   -0.38   :   0.67\n",
      "STOCK MARKET GETTING VERY CLOSE TO 30,00 :    0.36   :   0.52\n",
      "They will PACK THE COURTS. We won’t let  :    0.00   :   0.00\n",
      "The Radical Left Democrats, working with :   -0.31   :   0.50\n",
      "Trump Campaign Rejects Media Reports of  :    0.00   :   0.53\n",
      "Who will be running for Governor of the  :    0.56   :   0.80\n",
      "Another Vaccine just announced. This tim :    0.80   :   0.77\n",
      "Try watching @OANN. Really GREAT!        :    1.00   :   0.75\n",
      "The Fake recount going on in Georgia mea :   -0.62   :   1.00\n",
      "I won the Election!                      :    0.00   :   0.00\n",
      "I strongly stand with Kelly &amp; David. :    0.74   :   0.63\n",
      "Dominion is running our Election. Rigged :    0.00   :   0.00\n",
      "Thank you Andrew! https://t.co/lnFIJb64Y :    0.00   :   0.00\n",
      "Most fraudulent Election in history! htt :    0.62   :   0.50\n",
      "This is crazy! https://t.co/Dwvb57mgMz   :   -0.75   :   0.90\n",
      "No way! https://t.co/Dwvb57mgMz          :    0.00   :   0.00\n",
      "The Washington Post forgot to read the c :   -0.29   :   0.38\n",
      "I WON THE ELECTION!                      :    0.00   :   0.00\n",
      "....owned Dominion Voting Systems, turne :   -0.01   :   0.59\n",
      "....perhaps like never before! From larg :    0.18   :   0.48\n",
      "Why does the Fake News Media continuousl :   -0.05   :   0.73\n",
      "A great launch! @NASA was a closed up di :    0.30   :   0.51\n",
      "Many of the court cases being filed all  :   -0.17   :   0.53\n",
      "Spirit like never before! https://t.co/2 :    0.00   :   0.00\n",
      "Amazing! https://t.co/RMOa4jKZwA         :    0.75   :   0.90\n",
      "We won’t let a RIGGED ELECTION steal our :    0.00   :   0.00\n",
      "WATCH: D.C. Cops Direct Trump-Supporters :    0.12   :   0.48\n",
      "Great job Emily! https://t.co/kQbKViF7Il :    1.00   :   0.75\n",
      "John Bolton was one of the dumbest peopl :   -0.07   :   0.37\n",
      "https://t.co/8N0vB3nJPi                  :    0.00   :   0.00\n",
      "https://t.co/fKDXKEmNr1                  :    0.00   :   0.00\n",
      "https://t.co/ZruNgRgFqF                  :    0.00   :   0.00\n",
      "Rudy will be interviewed by @MariaBartir :    0.00   :   0.00\n",
      "Progress! https://t.co/K0NrpChXuI        :    0.00   :   0.00\n",
      "He only won in the eyes of the FAKE NEWS :   -0.23   :   0.80\n",
      "RIGGED ELECTION. WE WILL WIN!            :    1.00   :   0.40\n",
      "Watch @RudyGiuliani interview on @MariaB :    1.00   :   0.75\n",
      "All of the mechanical “glitches” that to :   -0.35   :   0.53\n",
      "He won because the Election was Rigged.  :   -0.12   :   0.44\n",
      "Doing a great job in Georgia. Their reco :    0.00   :   0.88\n",
      "This is why @FoxNews daytime and weekend :    0.53   :   0.65\n",
      "Tax filings reveal Biden cancer charity  :   -0.10   :   0.10\n",
      "Thank you Mark, but the Fake News Media  :   -0.62   :   1.00\n",
      "The Fake News Media hardly even discusse :   -0.06   :   0.68\n",
      "Thank you Mollie. The Free and Fair Pres :    0.37   :   0.90\n",
      "The Silent Media is the Enemy of the Peo :    0.00   :   0.10\n",
      "Human Radical Left garbage did this. Bei :    0.00   :   0.05\n",
      "Radical Left ANTIFA SCUM was easily rebu :   -0.03   :   0.42\n",
      "ANTIFA SCUM ran for the hills today when :    0.05   :   0.28\n",
      "I look forward to Mayor Giuliani spearhe :    0.49   :   0.65\n",
      "There is tremendous evidence of wide spr :    0.08   :   0.47\n",
      "https://t.co/aqAf0KkoYn                  :    0.00   :   0.00\n",
      ".@FoxNews and the Fake News Networks are :   -0.21   :   0.83\n",
      "https://t.co/RV5obxT9aG                  :    0.00   :   0.00\n",
      "Thank you Dan! https://t.co/Y5Dc7In245   :    0.00   :   0.00\n",
      "https://t.co/wkyEVYvbnk                  :    0.00   :   0.00\n",
      "They wouldn’t let our Poll Watchers and  :    1.00   :   0.40\n",
      "https://t.co/ywiw6sPicI                  :    0.00   :   0.00\n"
     ]
    }
   ],
   "source": [
    "trump_tweets_list = [tweet.full_text for tweet in trump_tweets]\n",
    "print('{:40}:{:10}:{:10}'.format('Review', 'Polarity', 'Subjectivity'))\n",
    "for tweet in trump_tweets_list:\n",
    "    sentiment = TextBlob(tweet)\n",
    "    print('{:40} :   {: 01.2f}   :   {:01.2f}'.format(tweet[:40]\\\n",
    "                                                     ,sentiment.polarity, sentiment.subjectivity))"
   ]
  },
  {
   "cell_type": "code",
   "execution_count": 71,
   "metadata": {},
   "outputs": [],
   "source": [
    "# Summerizing sentiment data"
   ]
  },
  {
   "cell_type": "code",
   "execution_count": 72,
   "metadata": {},
   "outputs": [
    {
     "name": "stdout",
     "output_type": "stream",
     "text": [
      "Final summarized counts :  [78, 23, 25]\n",
      "Pie Presentation \n",
      " ----------------------\n"
     ]
    },
    {
     "data": {
      "image/png": "[encoded data removed]",
      "text/plain": [
       "<Figure size 432x288 with 1 Axes>"
      ]
     },
     "metadata": {},
     "output_type": "display_data"
    }
   ],
   "source": [
    "labels = ['Negative', 'Neutral', 'postive']\n",
    "values = [0, 0, 0] #initializing count array\n",
    "for tweet in trump_tweets_list:\n",
    "    sentiment = TextBlob(tweet)\n",
    "    polarity = round((sentiment.polarity +1) *3) %3\n",
    "    values[polarity] = values[polarity] + 1\n",
    "print(\"Final summarized counts : \", values)\n",
    "colors = ['Green', 'Blue', 'Red']\n",
    "print(\"Pie Presentation \\n ----------------------\")\n",
    "plt.pie(values, labels=labels, colors=colors, \n",
    "       autopct='%1.1f%%', shadow=True, startangle=140)\n",
    "plt.axis('equal')\n",
    "plt.show()"
   ]
  },
  {
   "cell_type": "markdown",
   "metadata": {},
   "source": [
    "# Clustering\n",
    "    -unsupervised machine learning technique\n",
    "    -group similar items together based on features\n",
    "    -in text analysis the feature could be a single word\n",
    "    -documents with similar words group together\n",
    "    -clustering algorithms only use numeric data, so our text should converted to numeric representation\n",
    "    -we can use TF_IDF(Text frequence in document frequencey) technique to represent our text data into numeric\n",
    "    -group documents by similarity"
   ]
  },
  {
   "cell_type": "code",
   "execution_count": 73,
   "metadata": {},
   "outputs": [],
   "source": [
    "#what we do here is to get tweets from trump and peoples he follows then use clustering algorithm to understand\n",
    "#what kind of ideas revolve around on those group"
   ]
  },
  {
   "cell_type": "code",
   "execution_count": 93,
   "metadata": {},
   "outputs": [
    {
     "data": {
      "text/plain": [
       "['ukasha_bhatti',\n",
       " 'luckas_z',\n",
       " 'Primros27141372',\n",
       " 'Cris_CCF',\n",
       " 'EliseElise1313',\n",
       " 'Bick2Bick',\n",
       " 'xdkable',\n",
       " 'LorettaVanovet',\n",
       " 'Kubomasatake',\n",
       " 'dutch6574',\n",
       " 'KyleDFritz',\n",
       " 'MufaroHZiyambi',\n",
       " '40CEO2',\n",
       " 'pimentaluiz',\n",
       " 'Khanh20362414',\n",
       " 'hlullan',\n",
       " 'linares1515',\n",
       " 'George05705212',\n",
       " 'KitchenP11',\n",
       " 'MaiH03662688']"
      ]
     },
     "execution_count": 93,
     "metadata": {},
     "output_type": "execute_result"
    }
   ],
   "source": [
    "#for now lets get 20 people that trump follows\n",
    "trump_follows = []\n",
    "ids = api.followers_ids(screen_name=trump_name, count=20)\n",
    "for user in api.lookup_users(user_ids=ids):\n",
    "    trump_follows.append(user.screen_name)\n",
    "trump_follows"
   ]
  },
  {
   "cell_type": "code",
   "execution_count": 126,
   "metadata": {},
   "outputs": [],
   "source": [
    "#for each person lets get their 50 tweets it would be naive implementation\n",
    "all_tweets = []\n",
    "def get_tweets(name):\n",
    "    user = api.get_user(name)\n",
    "    name = user.screen_name\n",
    "    tweets = api.user_timeline(screen_name=name, count=3, include_rts=False,tweet_mode='extended')\n",
    "    return tweets\n",
    "a = get_tweets(trump_follows[0])\n",
    "for name in trump_follows:\n",
    "    try:\n",
    "        tweets = get_tweets(name)\n",
    "    except Exception as exp:\n",
    "        continue\n",
    "    tweets = tweets\n",
    "    all_tweets.extend(tweets)"
   ]
  },
  {
   "cell_type": "code",
   "execution_count": 127,
   "metadata": {},
   "outputs": [
    {
     "data": {
      "text/plain": [
       "[Status(_api=<tweepy.api.API object at 0x7f47dc444d90>, _json={'created_at': 'Sat Nov 21 05:56:02 +0000 2020', 'id': 1330027169536471041, 'id_str': '1330027169536471041', 'full_text': '😂 https://t.co/zGQMxEMZ5t', 'truncated': False, 'display_text_range': [0, 1], 'entities': {'hashtags': [], 'symbols': [], 'user_mentions': [], 'urls': [], 'media': [{'id': 1330027166923415552, 'id_str': '1330027166923415552', 'indices': [2, 25], 'media_url': 'http://pbs.twimg.com/media/EnU0qVoW4AAC6Dy.jpg', 'media_url_https': 'https://pbs.twimg.com/media/EnU0qVoW4AAC6Dy.jpg', 'url': 'https://t.co/zGQMxEMZ5t', 'display_url': 'pic.twitter.com/zGQMxEMZ5t', 'expanded_url': 'https://twitter.com/ukasha_bhatti/status/1330027169536471041/photo/1', 'type': 'photo', 'sizes': {'thumb': {'w': 150, 'h': 150, 'resize': 'crop'}, 'large': {'w': 401, 'h': 401, 'resize': 'fit'}, 'medium': {'w': 401, 'h': 401, 'resize': 'fit'}, 'small': {'w': 401, 'h': 401, 'resize': 'fit'}}}]}, 'extended_entities': {'media': [{'id': 1330027166923415552, 'id_str': '1330027166923415552', 'indices': [2, 25], 'media_url': 'http://pbs.twimg.com/media/EnU0qVoW4AAC6Dy.jpg', 'media_url_https': 'https://pbs.twimg.com/media/EnU0qVoW4AAC6Dy.jpg', 'url': 'https://t.co/zGQMxEMZ5t', 'display_url': 'pic.twitter.com/zGQMxEMZ5t', 'expanded_url': 'https://twitter.com/ukasha_bhatti/status/1330027169536471041/photo/1', 'type': 'photo', 'sizes': {'thumb': {'w': 150, 'h': 150, 'resize': 'crop'}, 'large': {'w': 401, 'h': 401, 'resize': 'fit'}, 'medium': {'w': 401, 'h': 401, 'resize': 'fit'}, 'small': {'w': 401, 'h': 401, 'resize': 'fit'}}}]}, 'source': '<a href=\"http://twitter.com/download/android\" rel=\"nofollow\">Twitter for Android</a>', 'in_reply_to_status_id': None, 'in_reply_to_status_id_str': None, 'in_reply_to_user_id': None, 'in_reply_to_user_id_str': None, 'in_reply_to_screen_name': None, 'user': {'id': 1327208760708898819, 'id_str': '1327208760708898819', 'name': 'ukasha Bhatti', 'screen_name': 'ukasha_bhatti', 'location': '', 'description': 'student', 'url': None, 'entities': {'description': {'urls': []}}, 'protected': False, 'followers_count': 1, 'friends_count': 62, 'listed_count': 0, 'created_at': 'Fri Nov 13 11:16:55 +0000 2020', 'favourites_count': 3, 'utc_offset': None, 'time_zone': None, 'geo_enabled': False, 'verified': False, 'statuses_count': 6, 'lang': None, 'contributors_enabled': False, 'is_translator': False, 'is_translation_enabled': False, 'profile_background_color': 'F5F8FA', 'profile_background_image_url': None, 'profile_background_image_url_https': None, 'profile_background_tile': False, 'profile_image_url': 'http://pbs.twimg.com/profile_images/1327208965428695040/3azTmJJi_normal.jpg', 'profile_image_url_https': 'https://pbs.twimg.com/profile_images/1327208965428695040/3azTmJJi_normal.jpg', 'profile_link_color': '1DA1F2', 'profile_sidebar_border_color': 'C0DEED', 'profile_sidebar_fill_color': 'DDEEF6', 'profile_text_color': '333333', 'profile_use_background_image': True, 'has_extended_profile': True, 'default_profile': True, 'default_profile_image': False, 'following': False, 'follow_request_sent': False, 'notifications': False, 'translator_type': 'none'}, 'geo': None, 'coordinates': None, 'place': None, 'contributors': None, 'is_quote_status': False, 'retweet_count': 0, 'favorite_count': 1, 'favorited': False, 'retweeted': False, 'possibly_sensitive': False, 'lang': 'und'}, created_at=datetime.datetime(2020, 11, 21, 5, 56, 2), id=1330027169536471041, id_str='1330027169536471041', full_text='😂 https://t.co/zGQMxEMZ5t', truncated=False, display_text_range=[0, 1], entities={'hashtags': [], 'symbols': [], 'user_mentions': [], 'urls': [], 'media': [{'id': 1330027166923415552, 'id_str': '1330027166923415552', 'indices': [2, 25], 'media_url': 'http://pbs.twimg.com/media/EnU0qVoW4AAC6Dy.jpg', 'media_url_https': 'https://pbs.twimg.com/media/EnU0qVoW4AAC6Dy.jpg', 'url': 'https://t.co/zGQMxEMZ5t', 'display_url': 'pic.twitter.com/zGQMxEMZ5t', 'expanded_url': 'https://twitter.com/ukasha_bhatti/status/1330027169536471041/photo/1', 'type': 'photo', 'sizes': {'thumb': {'w': 150, 'h': 150, 'resize': 'crop'}, 'large': {'w': 401, 'h': 401, 'resize': 'fit'}, 'medium': {'w': 401, 'h': 401, 'resize': 'fit'}, 'small': {'w': 401, 'h': 401, 'resize': 'fit'}}}]}, extended_entities={'media': [{'id': 1330027166923415552, 'id_str': '1330027166923415552', 'indices': [2, 25], 'media_url': 'http://pbs.twimg.com/media/EnU0qVoW4AAC6Dy.jpg', 'media_url_https': 'https://pbs.twimg.com/media/EnU0qVoW4AAC6Dy.jpg', 'url': 'https://t.co/zGQMxEMZ5t', 'display_url': 'pic.twitter.com/zGQMxEMZ5t', 'expanded_url': 'https://twitter.com/ukasha_bhatti/status/1330027169536471041/photo/1', 'type': 'photo', 'sizes': {'thumb': {'w': 150, 'h': 150, 'resize': 'crop'}, 'large': {'w': 401, 'h': 401, 'resize': 'fit'}, 'medium': {'w': 401, 'h': 401, 'resize': 'fit'}, 'small': {'w': 401, 'h': 401, 'resize': 'fit'}}}]}, source='Twitter for Android', source_url='http://twitter.com/download/android', in_reply_to_status_id=None, in_reply_to_status_id_str=None, in_reply_to_user_id=None, in_reply_to_user_id_str=None, in_reply_to_screen_name=None, author=User(_api=<tweepy.api.API object at 0x7f47dc444d90>, _json={'id': 1327208760708898819, 'id_str': '1327208760708898819', 'name': 'ukasha Bhatti', 'screen_name': 'ukasha_bhatti', 'location': '', 'description': 'student', 'url': None, 'entities': {'description': {'urls': []}}, 'protected': False, 'followers_count': 1, 'friends_count': 62, 'listed_count': 0, 'created_at': 'Fri Nov 13 11:16:55 +0000 2020', 'favourites_count': 3, 'utc_offset': None, 'time_zone': None, 'geo_enabled': False, 'verified': False, 'statuses_count': 6, 'lang': None, 'contributors_enabled': False, 'is_translator': False, 'is_translation_enabled': False, 'profile_background_color': 'F5F8FA', 'profile_background_image_url': None, 'profile_background_image_url_https': None, 'profile_background_tile': False, 'profile_image_url': 'http://pbs.twimg.com/profile_images/1327208965428695040/3azTmJJi_normal.jpg', 'profile_image_url_https': 'https://pbs.twimg.com/profile_images/1327208965428695040/3azTmJJi_normal.jpg', 'profile_link_color': '1DA1F2', 'profile_sidebar_border_color': 'C0DEED', 'profile_sidebar_fill_color': 'DDEEF6', 'profile_text_color': '333333', 'profile_use_background_image': True, 'has_extended_profile': True, 'default_profile': True, 'default_profile_image': False, 'following': False, 'follow_request_sent': False, 'notifications': False, 'translator_type': 'none'}, id=1327208760708898819, id_str='1327208760708898819', name='ukasha Bhatti', screen_name='ukasha_bhatti', location='', description='student', url=None, entities={'description': {'urls': []}}, protected=False, followers_count=1, friends_count=62, listed_count=0, created_at=datetime.datetime(2020, 11, 13, 11, 16, 55), favourites_count=3, utc_offset=None, time_zone=None, geo_enabled=False, verified=False, statuses_count=6, lang=None, contributors_enabled=False, is_translator=False, is_translation_enabled=False, profile_background_color='F5F8FA', profile_background_image_url=None, profile_background_image_url_https=None, profile_background_tile=False, profile_image_url='http://pbs.twimg.com/profile_images/1327208965428695040/3azTmJJi_normal.jpg', profile_image_url_https='https://pbs.twimg.com/profile_images/1327208965428695040/3azTmJJi_normal.jpg', profile_link_color='1DA1F2', profile_sidebar_border_color='C0DEED', profile_sidebar_fill_color='DDEEF6', profile_text_color='333333', profile_use_background_image=True, has_extended_profile=True, default_profile=True, default_profile_image=False, following=False, follow_request_sent=False, notifications=False, translator_type='none'), user=User(_api=<tweepy.api.API object at 0x7f47dc444d90>, _json={'id': 1327208760708898819, 'id_str': '1327208760708898819', 'name': 'ukasha Bhatti', 'screen_name': 'ukasha_bhatti', 'location': '', 'description': 'student', 'url': None, 'entities': {'description': {'urls': []}}, 'protected': False, 'followers_count': 1, 'friends_count': 62, 'listed_count': 0, 'created_at': 'Fri Nov 13 11:16:55 +0000 2020', 'favourites_count': 3, 'utc_offset': None, 'time_zone': None, 'geo_enabled': False, 'verified': False, 'statuses_count': 6, 'lang': None, 'contributors_enabled': False, 'is_translator': False, 'is_translation_enabled': False, 'profile_background_color': 'F5F8FA', 'profile_background_image_url': None, 'profile_background_image_url_https': None, 'profile_background_tile': False, 'profile_image_url': 'http://pbs.twimg.com/profile_images/1327208965428695040/3azTmJJi_normal.jpg', 'profile_image_url_https': 'https://pbs.twimg.com/profile_images/1327208965428695040/3azTmJJi_normal.jpg', 'profile_link_color': '1DA1F2', 'profile_sidebar_border_color': 'C0DEED', 'profile_sidebar_fill_color': 'DDEEF6', 'profile_text_color': '333333', 'profile_use_background_image': True, 'has_extended_profile': True, 'default_profile': True, 'default_profile_image': False, 'following': False, 'follow_request_sent': False, 'notifications': False, 'translator_type': 'none'}, id=1327208760708898819, id_str='1327208760708898819', name='ukasha Bhatti', screen_name='ukasha_bhatti', location='', description='student', url=None, entities={'description': {'urls': []}}, protected=False, followers_count=1, friends_count=62, listed_count=0, created_at=datetime.datetime(2020, 11, 13, 11, 16, 55), favourites_count=3, utc_offset=None, time_zone=None, geo_enabled=False, verified=False, statuses_count=6, lang=None, contributors_enabled=False, is_translator=False, is_translation_enabled=False, profile_background_color='F5F8FA', profile_background_image_url=None, profile_background_image_url_https=None, profile_background_tile=False, profile_image_url='http://pbs.twimg.com/profile_images/1327208965428695040/3azTmJJi_normal.jpg', profile_image_url_https='https://pbs.twimg.com/profile_images/1327208965428695040/3azTmJJi_normal.jpg', profile_link_color='1DA1F2', profile_sidebar_border_color='C0DEED', profile_sidebar_fill_color='DDEEF6', profile_text_color='333333', profile_use_background_image=True, has_extended_profile=True, default_profile=True, default_profile_image=False, following=False, follow_request_sent=False, notifications=False, translator_type='none'), geo=None, coordinates=None, place=None, contributors=None, is_quote_status=False, retweet_count=0, favorite_count=1, favorited=False, retweeted=False, possibly_sensitive=False, lang='und'),\n",
       " Status(_api=<tweepy.api.API object at 0x7f47dc444d90>, _json={'created_at': 'Sat Nov 21 05:53:01 +0000 2020', 'id': 1330026408144408578, 'id_str': '1330026408144408578', 'full_text': 'https://t.co/1E1E4J0jqD', 'truncated': False, 'display_text_range': [0, 0], 'entities': {'hashtags': [], 'symbols': [], 'user_mentions': [], 'urls': [], 'media': [{'id': 1330026399516782592, 'id_str': '1330026399516782592', 'indices': [0, 23], 'media_url': 'http://pbs.twimg.com/media/EnUz9q0W8AAhu6j.jpg', 'media_url_https': 'https://pbs.twimg.com/media/EnUz9q0W8AAhu6j.jpg', 'url': 'https://t.co/1E1E4J0jqD', 'display_url': 'pic.twitter.com/1E1E4J0jqD', 'expanded_url': 'https://twitter.com/ukasha_bhatti/status/1330026408144408578/photo/1', 'type': 'photo', 'sizes': {'medium': {'w': 568, 'h': 1200, 'resize': 'fit'}, 'thumb': {'w': 150, 'h': 150, 'resize': 'crop'}, 'large': {'w': 720, 'h': 1520, 'resize': 'fit'}, 'small': {'w': 322, 'h': 680, 'resize': 'fit'}}}]}, 'extended_entities': {'media': [{'id': 1330026399516782592, 'id_str': '1330026399516782592', 'indices': [0, 23], 'media_url': 'http://pbs.twimg.com/media/EnUz9q0W8AAhu6j.jpg', 'media_url_https': 'https://pbs.twimg.com/media/EnUz9q0W8AAhu6j.jpg', 'url': 'https://t.co/1E1E4J0jqD', 'display_url': 'pic.twitter.com/1E1E4J0jqD', 'expanded_url': 'https://twitter.com/ukasha_bhatti/status/1330026408144408578/photo/1', 'type': 'photo', 'sizes': {'medium': {'w': 568, 'h': 1200, 'resize': 'fit'}, 'thumb': {'w': 150, 'h': 150, 'resize': 'crop'}, 'large': {'w': 720, 'h': 1520, 'resize': 'fit'}, 'small': {'w': 322, 'h': 680, 'resize': 'fit'}}}]}, 'source': '<a href=\"http://twitter.com/download/android\" rel=\"nofollow\">Twitter for Android</a>', 'in_reply_to_status_id': None, 'in_reply_to_status_id_str': None, 'in_reply_to_user_id': None, 'in_reply_to_user_id_str': None, 'in_reply_to_screen_name': None, 'user': {'id': 1327208760708898819, 'id_str': '1327208760708898819', 'name': 'ukasha Bhatti', 'screen_name': 'ukasha_bhatti', 'location': '', 'description': 'student', 'url': None, 'entities': {'description': {'urls': []}}, 'protected': False, 'followers_count': 1, 'friends_count': 62, 'listed_count': 0, 'created_at': 'Fri Nov 13 11:16:55 +0000 2020', 'favourites_count': 3, 'utc_offset': None, 'time_zone': None, 'geo_enabled': False, 'verified': False, 'statuses_count': 6, 'lang': None, 'contributors_enabled': False, 'is_translator': False, 'is_translation_enabled': False, 'profile_background_color': 'F5F8FA', 'profile_background_image_url': None, 'profile_background_image_url_https': None, 'profile_background_tile': False, 'profile_image_url': 'http://pbs.twimg.com/profile_images/1327208965428695040/3azTmJJi_normal.jpg', 'profile_image_url_https': 'https://pbs.twimg.com/profile_images/1327208965428695040/3azTmJJi_normal.jpg', 'profile_link_color': '1DA1F2', 'profile_sidebar_border_color': 'C0DEED', 'profile_sidebar_fill_color': 'DDEEF6', 'profile_text_color': '333333', 'profile_use_background_image': True, 'has_extended_profile': True, 'default_profile': True, 'default_profile_image': False, 'following': False, 'follow_request_sent': False, 'notifications': False, 'translator_type': 'none'}, 'geo': None, 'coordinates': None, 'place': None, 'contributors': None, 'is_quote_status': False, 'retweet_count': 0, 'favorite_count': 0, 'favorited': False, 'retweeted': False, 'possibly_sensitive': False, 'lang': 'und'}, created_at=datetime.datetime(2020, 11, 21, 5, 53, 1), id=1330026408144408578, id_str='1330026408144408578', full_text='https://t.co/1E1E4J0jqD', truncated=False, display_text_range=[0, 0], entities={'hashtags': [], 'symbols': [], 'user_mentions': [], 'urls': [], 'media': [{'id': 1330026399516782592, 'id_str': '1330026399516782592', 'indices': [0, 23], 'media_url': 'http://pbs.twimg.com/media/EnUz9q0W8AAhu6j.jpg', 'media_url_https': 'https://pbs.twimg.com/media/EnUz9q0W8AAhu6j.jpg', 'url': 'https://t.co/1E1E4J0jqD', 'display_url': 'pic.twitter.com/1E1E4J0jqD', 'expanded_url': 'https://twitter.com/ukasha_bhatti/status/1330026408144408578/photo/1', 'type': 'photo', 'sizes': {'medium': {'w': 568, 'h': 1200, 'resize': 'fit'}, 'thumb': {'w': 150, 'h': 150, 'resize': 'crop'}, 'large': {'w': 720, 'h': 1520, 'resize': 'fit'}, 'small': {'w': 322, 'h': 680, 'resize': 'fit'}}}]}, extended_entities={'media': [{'id': 1330026399516782592, 'id_str': '1330026399516782592', 'indices': [0, 23], 'media_url': 'http://pbs.twimg.com/media/EnUz9q0W8AAhu6j.jpg', 'media_url_https': 'https://pbs.twimg.com/media/EnUz9q0W8AAhu6j.jpg', 'url': 'https://t.co/1E1E4J0jqD', 'display_url': 'pic.twitter.com/1E1E4J0jqD', 'expanded_url': 'https://twitter.com/ukasha_bhatti/status/1330026408144408578/photo/1', 'type': 'photo', 'sizes': {'medium': {'w': 568, 'h': 1200, 'resize': 'fit'}, 'thumb': {'w': 150, 'h': 150, 'resize': 'crop'}, 'large': {'w': 720, 'h': 1520, 'resize': 'fit'}, 'small': {'w': 322, 'h': 680, 'resize': 'fit'}}}]}, source='Twitter for Android', source_url='http://twitter.com/download/android', in_reply_to_status_id=None, in_reply_to_status_id_str=None, in_reply_to_user_id=None, in_reply_to_user_id_str=None, in_reply_to_screen_name=None, author=User(_api=<tweepy.api.API object at 0x7f47dc444d90>, _json={'id': 1327208760708898819, 'id_str': '1327208760708898819', 'name': 'ukasha Bhatti', 'screen_name': 'ukasha_bhatti', 'location': '', 'description': 'student', 'url': None, 'entities': {'description': {'urls': []}}, 'protected': False, 'followers_count': 1, 'friends_count': 62, 'listed_count': 0, 'created_at': 'Fri Nov 13 11:16:55 +0000 2020', 'favourites_count': 3, 'utc_offset': None, 'time_zone': None, 'geo_enabled': False, 'verified': False, 'statuses_count': 6, 'lang': None, 'contributors_enabled': False, 'is_translator': False, 'is_translation_enabled': False, 'profile_background_color': 'F5F8FA', 'profile_background_image_url': None, 'profile_background_image_url_https': None, 'profile_background_tile': False, 'profile_image_url': 'http://pbs.twimg.com/profile_images/1327208965428695040/3azTmJJi_normal.jpg', 'profile_image_url_https': 'https://pbs.twimg.com/profile_images/1327208965428695040/3azTmJJi_normal.jpg', 'profile_link_color': '1DA1F2', 'profile_sidebar_border_color': 'C0DEED', 'profile_sidebar_fill_color': 'DDEEF6', 'profile_text_color': '333333', 'profile_use_background_image': True, 'has_extended_profile': True, 'default_profile': True, 'default_profile_image': False, 'following': False, 'follow_request_sent': False, 'notifications': False, 'translator_type': 'none'}, id=1327208760708898819, id_str='1327208760708898819', name='ukasha Bhatti', screen_name='ukasha_bhatti', location='', description='student', url=None, entities={'description': {'urls': []}}, protected=False, followers_count=1, friends_count=62, listed_count=0, created_at=datetime.datetime(2020, 11, 13, 11, 16, 55), favourites_count=3, utc_offset=None, time_zone=None, geo_enabled=False, verified=False, statuses_count=6, lang=None, contributors_enabled=False, is_translator=False, is_translation_enabled=False, profile_background_color='F5F8FA', profile_background_image_url=None, profile_background_image_url_https=None, profile_background_tile=False, profile_image_url='http://pbs.twimg.com/profile_images/1327208965428695040/3azTmJJi_normal.jpg', profile_image_url_https='https://pbs.twimg.com/profile_images/1327208965428695040/3azTmJJi_normal.jpg', profile_link_color='1DA1F2', profile_sidebar_border_color='C0DEED', profile_sidebar_fill_color='DDEEF6', profile_text_color='333333', profile_use_background_image=True, has_extended_profile=True, default_profile=True, default_profile_image=False, following=False, follow_request_sent=False, notifications=False, translator_type='none'), user=User(_api=<tweepy.api.API object at 0x7f47dc444d90>, _json={'id': 1327208760708898819, 'id_str': '1327208760708898819', 'name': 'ukasha Bhatti', 'screen_name': 'ukasha_bhatti', 'location': '', 'description': 'student', 'url': None, 'entities': {'description': {'urls': []}}, 'protected': False, 'followers_count': 1, 'friends_count': 62, 'listed_count': 0, 'created_at': 'Fri Nov 13 11:16:55 +0000 2020', 'favourites_count': 3, 'utc_offset': None, 'time_zone': None, 'geo_enabled': False, 'verified': False, 'statuses_count': 6, 'lang': None, 'contributors_enabled': False, 'is_translator': False, 'is_translation_enabled': False, 'profile_background_color': 'F5F8FA', 'profile_background_image_url': None, 'profile_background_image_url_https': None, 'profile_background_tile': False, 'profile_image_url': 'http://pbs.twimg.com/profile_images/1327208965428695040/3azTmJJi_normal.jpg', 'profile_image_url_https': 'https://pbs.twimg.com/profile_images/1327208965428695040/3azTmJJi_normal.jpg', 'profile_link_color': '1DA1F2', 'profile_sidebar_border_color': 'C0DEED', 'profile_sidebar_fill_color': 'DDEEF6', 'profile_text_color': '333333', 'profile_use_background_image': True, 'has_extended_profile': True, 'default_profile': True, 'default_profile_image': False, 'following': False, 'follow_request_sent': False, 'notifications': False, 'translator_type': 'none'}, id=1327208760708898819, id_str='1327208760708898819', name='ukasha Bhatti', screen_name='ukasha_bhatti', location='', description='student', url=None, entities={'description': {'urls': []}}, protected=False, followers_count=1, friends_count=62, listed_count=0, created_at=datetime.datetime(2020, 11, 13, 11, 16, 55), favourites_count=3, utc_offset=None, time_zone=None, geo_enabled=False, verified=False, statuses_count=6, lang=None, contributors_enabled=False, is_translator=False, is_translation_enabled=False, profile_background_color='F5F8FA', profile_background_image_url=None, profile_background_image_url_https=None, profile_background_tile=False, profile_image_url='http://pbs.twimg.com/profile_images/1327208965428695040/3azTmJJi_normal.jpg', profile_image_url_https='https://pbs.twimg.com/profile_images/1327208965428695040/3azTmJJi_normal.jpg', profile_link_color='1DA1F2', profile_sidebar_border_color='C0DEED', profile_sidebar_fill_color='DDEEF6', profile_text_color='333333', profile_use_background_image=True, has_extended_profile=True, default_profile=True, default_profile_image=False, following=False, follow_request_sent=False, notifications=False, translator_type='none'), geo=None, coordinates=None, place=None, contributors=None, is_quote_status=False, retweet_count=0, favorite_count=0, favorited=False, retweeted=False, possibly_sensitive=False, lang='und'),\n",
       " Status(_api=<tweepy.api.API object at 0x7f47dc444d90>, _json={'created_at': 'Sat Nov 21 05:50:08 +0000 2020', 'id': 1330025682529886208, 'id_str': '1330025682529886208', 'full_text': '@Muhamma26839465 بہترین', 'truncated': False, 'display_text_range': [17, 23], 'entities': {'hashtags': [], 'symbols': [], 'user_mentions': [{'screen_name': 'Muhamma26839465', 'name': 'Muhammad Ramzan', 'id': 1329449235662647298, 'id_str': '1329449235662647298', 'indices': [0, 16]}], 'urls': []}, 'source': '<a href=\"http://twitter.com/download/android\" rel=\"nofollow\">Twitter for Android</a>', 'in_reply_to_status_id': 1329453696414081025, 'in_reply_to_status_id_str': '1329453696414081025', 'in_reply_to_user_id': 1329449235662647298, 'in_reply_to_user_id_str': '1329449235662647298', 'in_reply_to_screen_name': 'Muhamma26839465', 'user': {'id': 1327208760708898819, 'id_str': '1327208760708898819', 'name': 'ukasha Bhatti', 'screen_name': 'ukasha_bhatti', 'location': '', 'description': 'student', 'url': None, 'entities': {'description': {'urls': []}}, 'protected': False, 'followers_count': 1, 'friends_count': 62, 'listed_count': 0, 'created_at': 'Fri Nov 13 11:16:55 +0000 2020', 'favourites_count': 3, 'utc_offset': None, 'time_zone': None, 'geo_enabled': False, 'verified': False, 'statuses_count': 6, 'lang': None, 'contributors_enabled': False, 'is_translator': False, 'is_translation_enabled': False, 'profile_background_color': 'F5F8FA', 'profile_background_image_url': None, 'profile_background_image_url_https': None, 'profile_background_tile': False, 'profile_image_url': 'http://pbs.twimg.com/profile_images/1327208965428695040/3azTmJJi_normal.jpg', 'profile_image_url_https': 'https://pbs.twimg.com/profile_images/1327208965428695040/3azTmJJi_normal.jpg', 'profile_link_color': '1DA1F2', 'profile_sidebar_border_color': 'C0DEED', 'profile_sidebar_fill_color': 'DDEEF6', 'profile_text_color': '333333', 'profile_use_background_image': True, 'has_extended_profile': True, 'default_profile': True, 'default_profile_image': False, 'following': False, 'follow_request_sent': False, 'notifications': False, 'translator_type': 'none'}, 'geo': None, 'coordinates': None, 'place': None, 'contributors': None, 'is_quote_status': False, 'retweet_count': 0, 'favorite_count': 0, 'favorited': False, 'retweeted': False, 'lang': 'ur'}, created_at=datetime.datetime(2020, 11, 21, 5, 50, 8), id=1330025682529886208, id_str='1330025682529886208', full_text='@Muhamma26839465 بہترین', truncated=False, display_text_range=[17, 23], entities={'hashtags': [], 'symbols': [], 'user_mentions': [{'screen_name': 'Muhamma26839465', 'name': 'Muhammad Ramzan', 'id': 1329449235662647298, 'id_str': '1329449235662647298', 'indices': [0, 16]}], 'urls': []}, source='Twitter for Android', source_url='http://twitter.com/download/android', in_reply_to_status_id=1329453696414081025, in_reply_to_status_id_str='1329453696414081025', in_reply_to_user_id=1329449235662647298, in_reply_to_user_id_str='1329449235662647298', in_reply_to_screen_name='Muhamma26839465', author=User(_api=<tweepy.api.API object at 0x7f47dc444d90>, _json={'id': 1327208760708898819, 'id_str': '1327208760708898819', 'name': 'ukasha Bhatti', 'screen_name': 'ukasha_bhatti', 'location': '', 'description': 'student', 'url': None, 'entities': {'description': {'urls': []}}, 'protected': False, 'followers_count': 1, 'friends_count': 62, 'listed_count': 0, 'created_at': 'Fri Nov 13 11:16:55 +0000 2020', 'favourites_count': 3, 'utc_offset': None, 'time_zone': None, 'geo_enabled': False, 'verified': False, 'statuses_count': 6, 'lang': None, 'contributors_enabled': False, 'is_translator': False, 'is_translation_enabled': False, 'profile_background_color': 'F5F8FA', 'profile_background_image_url': None, 'profile_background_image_url_https': None, 'profile_background_tile': False, 'profile_image_url': 'http://pbs.twimg.com/profile_images/1327208965428695040/3azTmJJi_normal.jpg', 'profile_image_url_https': 'https://pbs.twimg.com/profile_images/1327208965428695040/3azTmJJi_normal.jpg', 'profile_link_color': '1DA1F2', 'profile_sidebar_border_color': 'C0DEED', 'profile_sidebar_fill_color': 'DDEEF6', 'profile_text_color': '333333', 'profile_use_background_image': True, 'has_extended_profile': True, 'default_profile': True, 'default_profile_image': False, 'following': False, 'follow_request_sent': False, 'notifications': False, 'translator_type': 'none'}, id=1327208760708898819, id_str='1327208760708898819', name='ukasha Bhatti', screen_name='ukasha_bhatti', location='', description='student', url=None, entities={'description': {'urls': []}}, protected=False, followers_count=1, friends_count=62, listed_count=0, created_at=datetime.datetime(2020, 11, 13, 11, 16, 55), favourites_count=3, utc_offset=None, time_zone=None, geo_enabled=False, verified=False, statuses_count=6, lang=None, contributors_enabled=False, is_translator=False, is_translation_enabled=False, profile_background_color='F5F8FA', profile_background_image_url=None, profile_background_image_url_https=None, profile_background_tile=False, profile_image_url='http://pbs.twimg.com/profile_images/1327208965428695040/3azTmJJi_normal.jpg', profile_image_url_https='https://pbs.twimg.com/profile_images/1327208965428695040/3azTmJJi_normal.jpg', profile_link_color='1DA1F2', profile_sidebar_border_color='C0DEED', profile_sidebar_fill_color='DDEEF6', profile_text_color='333333', profile_use_background_image=True, has_extended_profile=True, default_profile=True, default_profile_image=False, following=False, follow_request_sent=False, notifications=False, translator_type='none'), user=User(_api=<tweepy.api.API object at 0x7f47dc444d90>, _json={'id': 1327208760708898819, 'id_str': '1327208760708898819', 'name': 'ukasha Bhatti', 'screen_name': 'ukasha_bhatti', 'location': '', 'description': 'student', 'url': None, 'entities': {'description': {'urls': []}}, 'protected': False, 'followers_count': 1, 'friends_count': 62, 'listed_count': 0, 'created_at': 'Fri Nov 13 11:16:55 +0000 2020', 'favourites_count': 3, 'utc_offset': None, 'time_zone': None, 'geo_enabled': False, 'verified': False, 'statuses_count': 6, 'lang': None, 'contributors_enabled': False, 'is_translator': False, 'is_translation_enabled': False, 'profile_background_color': 'F5F8FA', 'profile_background_image_url': None, 'profile_background_image_url_https': None, 'profile_background_tile': False, 'profile_image_url': 'http://pbs.twimg.com/profile_images/1327208965428695040/3azTmJJi_normal.jpg', 'profile_image_url_https': 'https://pbs.twimg.com/profile_images/1327208965428695040/3azTmJJi_normal.jpg', 'profile_link_color': '1DA1F2', 'profile_sidebar_border_color': 'C0DEED', 'profile_sidebar_fill_color': 'DDEEF6', 'profile_text_color': '333333', 'profile_use_background_image': True, 'has_extended_profile': True, 'default_profile': True, 'default_profile_image': False, 'following': False, 'follow_request_sent': False, 'notifications': False, 'translator_type': 'none'}, id=1327208760708898819, id_str='1327208760708898819', name='ukasha Bhatti', screen_name='ukasha_bhatti', location='', description='student', url=None, entities={'description': {'urls': []}}, protected=False, followers_count=1, friends_count=62, listed_count=0, created_at=datetime.datetime(2020, 11, 13, 11, 16, 55), favourites_count=3, utc_offset=None, time_zone=None, geo_enabled=False, verified=False, statuses_count=6, lang=None, contributors_enabled=False, is_translator=False, is_translation_enabled=False, profile_background_color='F5F8FA', profile_background_image_url=None, profile_background_image_url_https=None, profile_background_tile=False, profile_image_url='http://pbs.twimg.com/profile_images/1327208965428695040/3azTmJJi_normal.jpg', profile_image_url_https='https://pbs.twimg.com/profile_images/1327208965428695040/3azTmJJi_normal.jpg', profile_link_color='1DA1F2', profile_sidebar_border_color='C0DEED', profile_sidebar_fill_color='DDEEF6', profile_text_color='333333', profile_use_background_image=True, has_extended_profile=True, default_profile=True, default_profile_image=False, following=False, follow_request_sent=False, notifications=False, translator_type='none'), geo=None, coordinates=None, place=None, contributors=None, is_quote_status=False, retweet_count=0, favorite_count=0, favorited=False, retweeted=False, lang='ur'),\n",
       " Status(_api=<tweepy.api.API object at 0x7f47dc444d90>, _json={'created_at': 'Thu Nov 19 10:30:01 +0000 2020', 'id': 1329371345579290625, 'id_str': '1329371345579290625', 'full_text': '@v_dosfatos #VerdadeDosFatos', 'truncated': False, 'display_text_range': [12, 28], 'entities': {'hashtags': [{'text': 'VerdadeDosFatos', 'indices': [12, 28]}], 'symbols': [], 'user_mentions': [{'screen_name': 'v_dosfatos', 'name': 'Verdade dos Fatos', 'id': 1249172048372473868, 'id_str': '1249172048372473868', 'indices': [0, 11]}], 'urls': []}, 'source': '<a href=\"http://twitter.com/download/android\" rel=\"nofollow\">Twitter for Android</a>', 'in_reply_to_status_id': 1329222887073574913, 'in_reply_to_status_id_str': '1329222887073574913', 'in_reply_to_user_id': 1249172048372473868, 'in_reply_to_user_id_str': '1249172048372473868', 'in_reply_to_screen_name': 'v_dosfatos', 'user': {'id': 1314526015998365696, 'id_str': '1314526015998365696', 'name': 'Cristiano Cardozo Ferreira', 'screen_name': 'Cris_CCF', 'location': 'Santa Isabel, Brasil', 'description': '', 'url': None, 'entities': {'description': {'urls': []}}, 'protected': False, 'followers_count': 0, 'friends_count': 58, 'listed_count': 0, 'created_at': 'Fri Oct 09 11:22:39 +0000 2020', 'favourites_count': 476, 'utc_offset': None, 'time_zone': None, 'geo_enabled': False, 'verified': False, 'statuses_count': 6, 'lang': None, 'contributors_enabled': False, 'is_translator': False, 'is_translation_enabled': False, 'profile_background_color': 'F5F8FA', 'profile_background_image_url': None, 'profile_background_image_url_https': None, 'profile_background_tile': False, 'profile_image_url': 'http://pbs.twimg.com/profile_images/1315361302248861697/nGuXshgv_normal.jpg', 'profile_image_url_https': 'https://pbs.twimg.com/profile_images/1315361302248861697/nGuXshgv_normal.jpg', 'profile_link_color': '1DA1F2', 'profile_sidebar_border_color': 'C0DEED', 'profile_sidebar_fill_color': 'DDEEF6', 'profile_text_color': '333333', 'profile_use_background_image': True, 'has_extended_profile': True, 'default_profile': True, 'default_profile_image': False, 'following': False, 'follow_request_sent': False, 'notifications': False, 'translator_type': 'none'}, 'geo': None, 'coordinates': None, 'place': None, 'contributors': None, 'is_quote_status': False, 'retweet_count': 0, 'favorite_count': 1, 'favorited': False, 'retweeted': False, 'lang': 'und'}, created_at=datetime.datetime(2020, 11, 19, 10, 30, 1), id=1329371345579290625, id_str='1329371345579290625', full_text='@v_dosfatos #VerdadeDosFatos', truncated=False, display_text_range=[12, 28], entities={'hashtags': [{'text': 'VerdadeDosFatos', 'indices': [12, 28]}], 'symbols': [], 'user_mentions': [{'screen_name': 'v_dosfatos', 'name': 'Verdade dos Fatos', 'id': 1249172048372473868, 'id_str': '1249172048372473868', 'indices': [0, 11]}], 'urls': []}, source='Twitter for Android', source_url='http://twitter.com/download/android', in_reply_to_status_id=1329222887073574913, in_reply_to_status_id_str='1329222887073574913', in_reply_to_user_id=1249172048372473868, in_reply_to_user_id_str='1249172048372473868', in_reply_to_screen_name='v_dosfatos', author=User(_api=<tweepy.api.API object at 0x7f47dc444d90>, _json={'id': 1314526015998365696, 'id_str': '1314526015998365696', 'name': 'Cristiano Cardozo Ferreira', 'screen_name': 'Cris_CCF', 'location': 'Santa Isabel, Brasil', 'description': '', 'url': None, 'entities': {'description': {'urls': []}}, 'protected': False, 'followers_count': 0, 'friends_count': 58, 'listed_count': 0, 'created_at': 'Fri Oct 09 11:22:39 +0000 2020', 'favourites_count': 476, 'utc_offset': None, 'time_zone': None, 'geo_enabled': False, 'verified': False, 'statuses_count': 6, 'lang': None, 'contributors_enabled': False, 'is_translator': False, 'is_translation_enabled': False, 'profile_background_color': 'F5F8FA', 'profile_background_image_url': None, 'profile_background_image_url_https': None, 'profile_background_tile': False, 'profile_image_url': 'http://pbs.twimg.com/profile_images/1315361302248861697/nGuXshgv_normal.jpg', 'profile_image_url_https': 'https://pbs.twimg.com/profile_images/1315361302248861697/nGuXshgv_normal.jpg', 'profile_link_color': '1DA1F2', 'profile_sidebar_border_color': 'C0DEED', 'profile_sidebar_fill_color': 'DDEEF6', 'profile_text_color': '333333', 'profile_use_background_image': True, 'has_extended_profile': True, 'default_profile': True, 'default_profile_image': False, 'following': False, 'follow_request_sent': False, 'notifications': False, 'translator_type': 'none'}, id=1314526015998365696, id_str='1314526015998365696', name='Cristiano Cardozo Ferreira', screen_name='Cris_CCF', location='Santa Isabel, Brasil', description='', url=None, entities={'description': {'urls': []}}, protected=False, followers_count=0, friends_count=58, listed_count=0, created_at=datetime.datetime(2020, 10, 9, 11, 22, 39), favourites_count=476, utc_offset=None, time_zone=None, geo_enabled=False, verified=False, statuses_count=6, lang=None, contributors_enabled=False, is_translator=False, is_translation_enabled=False, profile_background_color='F5F8FA', profile_background_image_url=None, profile_background_image_url_https=None, profile_background_tile=False, profile_image_url='http://pbs.twimg.com/profile_images/1315361302248861697/nGuXshgv_normal.jpg', profile_image_url_https='https://pbs.twimg.com/profile_images/1315361302248861697/nGuXshgv_normal.jpg', profile_link_color='1DA1F2', profile_sidebar_border_color='C0DEED', profile_sidebar_fill_color='DDEEF6', profile_text_color='333333', profile_use_background_image=True, has_extended_profile=True, default_profile=True, default_profile_image=False, following=False, follow_request_sent=False, notifications=False, translator_type='none'), user=User(_api=<tweepy.api.API object at 0x7f47dc444d90>, _json={'id': 1314526015998365696, 'id_str': '1314526015998365696', 'name': 'Cristiano Cardozo Ferreira', 'screen_name': 'Cris_CCF', 'location': 'Santa Isabel, Brasil', 'description': '', 'url': None, 'entities': {'description': {'urls': []}}, 'protected': False, 'followers_count': 0, 'friends_count': 58, 'listed_count': 0, 'created_at': 'Fri Oct 09 11:22:39 +0000 2020', 'favourites_count': 476, 'utc_offset': None, 'time_zone': None, 'geo_enabled': False, 'verified': False, 'statuses_count': 6, 'lang': None, 'contributors_enabled': False, 'is_translator': False, 'is_translation_enabled': False, 'profile_background_color': 'F5F8FA', 'profile_background_image_url': None, 'profile_background_image_url_https': None, 'profile_background_tile': False, 'profile_image_url': 'http://pbs.twimg.com/profile_images/1315361302248861697/nGuXshgv_normal.jpg', 'profile_image_url_https': 'https://pbs.twimg.com/profile_images/1315361302248861697/nGuXshgv_normal.jpg', 'profile_link_color': '1DA1F2', 'profile_sidebar_border_color': 'C0DEED', 'profile_sidebar_fill_color': 'DDEEF6', 'profile_text_color': '333333', 'profile_use_background_image': True, 'has_extended_profile': True, 'default_profile': True, 'default_profile_image': False, 'following': False, 'follow_request_sent': False, 'notifications': False, 'translator_type': 'none'}, id=1314526015998365696, id_str='1314526015998365696', name='Cristiano Cardozo Ferreira', screen_name='Cris_CCF', location='Santa Isabel, Brasil', description='', url=None, entities={'description': {'urls': []}}, protected=False, followers_count=0, friends_count=58, listed_count=0, created_at=datetime.datetime(2020, 10, 9, 11, 22, 39), favourites_count=476, utc_offset=None, time_zone=None, geo_enabled=False, verified=False, statuses_count=6, lang=None, contributors_enabled=False, is_translator=False, is_translation_enabled=False, profile_background_color='F5F8FA', profile_background_image_url=None, profile_background_image_url_https=None, profile_background_tile=False, profile_image_url='http://pbs.twimg.com/profile_images/1315361302248861697/nGuXshgv_normal.jpg', profile_image_url_https='https://pbs.twimg.com/profile_images/1315361302248861697/nGuXshgv_normal.jpg', profile_link_color='1DA1F2', profile_sidebar_border_color='C0DEED', profile_sidebar_fill_color='DDEEF6', profile_text_color='333333', profile_use_background_image=True, has_extended_profile=True, default_profile=True, default_profile_image=False, following=False, follow_request_sent=False, notifications=False, translator_type='none'), geo=None, coordinates=None, place=None, contributors=None, is_quote_status=False, retweet_count=0, favorite_count=1, favorited=False, retweeted=False, lang='und'),\n",
       " Status(_api=<tweepy.api.API object at 0x7f47dc444d90>, _json={'created_at': 'Thu Nov 19 10:29:07 +0000 2020', 'id': 1329371117950283777, 'id_str': '1329371117950283777', 'full_text': '@taoquei1 #VerdadeDosFatos', 'truncated': False, 'display_text_range': [10, 26], 'entities': {'hashtags': [{'text': 'VerdadeDosFatos', 'indices': [10, 26]}], 'symbols': [], 'user_mentions': [{'screen_name': 'taoquei1', 'name': 'TeAtualizei 🇧🇷👊🏻❤️', 'id': 1087259768, 'id_str': '1087259768', 'indices': [0, 9]}], 'urls': []}, 'source': '<a href=\"http://twitter.com/download/android\" rel=\"nofollow\">Twitter for Android</a>', 'in_reply_to_status_id': 1329228715327434754, 'in_reply_to_status_id_str': '1329228715327434754', 'in_reply_to_user_id': 1087259768, 'in_reply_to_user_id_str': '1087259768', 'in_reply_to_screen_name': 'taoquei1', 'user': {'id': 1314526015998365696, 'id_str': '1314526015998365696', 'name': 'Cristiano Cardozo Ferreira', 'screen_name': 'Cris_CCF', 'location': 'Santa Isabel, Brasil', 'description': '', 'url': None, 'entities': {'description': {'urls': []}}, 'protected': False, 'followers_count': 0, 'friends_count': 58, 'listed_count': 0, 'created_at': 'Fri Oct 09 11:22:39 +0000 2020', 'favourites_count': 476, 'utc_offset': None, 'time_zone': None, 'geo_enabled': False, 'verified': False, 'statuses_count': 6, 'lang': None, 'contributors_enabled': False, 'is_translator': False, 'is_translation_enabled': False, 'profile_background_color': 'F5F8FA', 'profile_background_image_url': None, 'profile_background_image_url_https': None, 'profile_background_tile': False, 'profile_image_url': 'http://pbs.twimg.com/profile_images/1315361302248861697/nGuXshgv_normal.jpg', 'profile_image_url_https': 'https://pbs.twimg.com/profile_images/1315361302248861697/nGuXshgv_normal.jpg', 'profile_link_color': '1DA1F2', 'profile_sidebar_border_color': 'C0DEED', 'profile_sidebar_fill_color': 'DDEEF6', 'profile_text_color': '333333', 'profile_use_background_image': True, 'has_extended_profile': True, 'default_profile': True, 'default_profile_image': False, 'following': False, 'follow_request_sent': False, 'notifications': False, 'translator_type': 'none'}, 'geo': None, 'coordinates': None, 'place': None, 'contributors': None, 'is_quote_status': False, 'retweet_count': 0, 'favorite_count': 0, 'favorited': False, 'retweeted': False, 'lang': 'und'}, created_at=datetime.datetime(2020, 11, 19, 10, 29, 7), id=1329371117950283777, id_str='1329371117950283777', full_text='@taoquei1 #VerdadeDosFatos', truncated=False, display_text_range=[10, 26], entities={'hashtags': [{'text': 'VerdadeDosFatos', 'indices': [10, 26]}], 'symbols': [], 'user_mentions': [{'screen_name': 'taoquei1', 'name': 'TeAtualizei 🇧🇷👊🏻❤️', 'id': 1087259768, 'id_str': '1087259768', 'indices': [0, 9]}], 'urls': []}, source='Twitter for Android', source_url='http://twitter.com/download/android', in_reply_to_status_id=1329228715327434754, in_reply_to_status_id_str='1329228715327434754', in_reply_to_user_id=1087259768, in_reply_to_user_id_str='1087259768', in_reply_to_screen_name='taoquei1', author=User(_api=<tweepy.api.API object at 0x7f47dc444d90>, _json={'id': 1314526015998365696, 'id_str': '1314526015998365696', 'name': 'Cristiano Cardozo Ferreira', 'screen_name': 'Cris_CCF', 'location': 'Santa Isabel, Brasil', 'description': '', 'url': None, 'entities': {'description': {'urls': []}}, 'protected': False, 'followers_count': 0, 'friends_count': 58, 'listed_count': 0, 'created_at': 'Fri Oct 09 11:22:39 +0000 2020', 'favourites_count': 476, 'utc_offset': None, 'time_zone': None, 'geo_enabled': False, 'verified': False, 'statuses_count': 6, 'lang': None, 'contributors_enabled': False, 'is_translator': False, 'is_translation_enabled': False, 'profile_background_color': 'F5F8FA', 'profile_background_image_url': None, 'profile_background_image_url_https': None, 'profile_background_tile': False, 'profile_image_url': 'http://pbs.twimg.com/profile_images/1315361302248861697/nGuXshgv_normal.jpg', 'profile_image_url_https': 'https://pbs.twimg.com/profile_images/1315361302248861697/nGuXshgv_normal.jpg', 'profile_link_color': '1DA1F2', 'profile_sidebar_border_color': 'C0DEED', 'profile_sidebar_fill_color': 'DDEEF6', 'profile_text_color': '333333', 'profile_use_background_image': True, 'has_extended_profile': True, 'default_profile': True, 'default_profile_image': False, 'following': False, 'follow_request_sent': False, 'notifications': False, 'translator_type': 'none'}, id=1314526015998365696, id_str='1314526015998365696', name='Cristiano Cardozo Ferreira', screen_name='Cris_CCF', location='Santa Isabel, Brasil', description='', url=None, entities={'description': {'urls': []}}, protected=False, followers_count=0, friends_count=58, listed_count=0, created_at=datetime.datetime(2020, 10, 9, 11, 22, 39), favourites_count=476, utc_offset=None, time_zone=None, geo_enabled=False, verified=False, statuses_count=6, lang=None, contributors_enabled=False, is_translator=False, is_translation_enabled=False, profile_background_color='F5F8FA', profile_background_image_url=None, profile_background_image_url_https=None, profile_background_tile=False, profile_image_url='http://pbs.twimg.com/profile_images/1315361302248861697/nGuXshgv_normal.jpg', profile_image_url_https='https://pbs.twimg.com/profile_images/1315361302248861697/nGuXshgv_normal.jpg', profile_link_color='1DA1F2', profile_sidebar_border_color='C0DEED', profile_sidebar_fill_color='DDEEF6', profile_text_color='333333', profile_use_background_image=True, has_extended_profile=True, default_profile=True, default_profile_image=False, following=False, follow_request_sent=False, notifications=False, translator_type='none'), user=User(_api=<tweepy.api.API object at 0x7f47dc444d90>, _json={'id': 1314526015998365696, 'id_str': '1314526015998365696', 'name': 'Cristiano Cardozo Ferreira', 'screen_name': 'Cris_CCF', 'location': 'Santa Isabel, Brasil', 'description': '', 'url': None, 'entities': {'description': {'urls': []}}, 'protected': False, 'followers_count': 0, 'friends_count': 58, 'listed_count': 0, 'created_at': 'Fri Oct 09 11:22:39 +0000 2020', 'favourites_count': 476, 'utc_offset': None, 'time_zone': None, 'geo_enabled': False, 'verified': False, 'statuses_count': 6, 'lang': None, 'contributors_enabled': False, 'is_translator': False, 'is_translation_enabled': False, 'profile_background_color': 'F5F8FA', 'profile_background_image_url': None, 'profile_background_image_url_https': None, 'profile_background_tile': False, 'profile_image_url': 'http://pbs.twimg.com/profile_images/1315361302248861697/nGuXshgv_normal.jpg', 'profile_image_url_https': 'https://pbs.twimg.com/profile_images/1315361302248861697/nGuXshgv_normal.jpg', 'profile_link_color': '1DA1F2', 'profile_sidebar_border_color': 'C0DEED', 'profile_sidebar_fill_color': 'DDEEF6', 'profile_text_color': '333333', 'profile_use_background_image': True, 'has_extended_profile': True, 'default_profile': True, 'default_profile_image': False, 'following': False, 'follow_request_sent': False, 'notifications': False, 'translator_type': 'none'}, id=1314526015998365696, id_str='1314526015998365696', name='Cristiano Cardozo Ferreira', screen_name='Cris_CCF', location='Santa Isabel, Brasil', description='', url=None, entities={'description': {'urls': []}}, protected=False, followers_count=0, friends_count=58, listed_count=0, created_at=datetime.datetime(2020, 10, 9, 11, 22, 39), favourites_count=476, utc_offset=None, time_zone=None, geo_enabled=False, verified=False, statuses_count=6, lang=None, contributors_enabled=False, is_translator=False, is_translation_enabled=False, profile_background_color='F5F8FA', profile_background_image_url=None, profile_background_image_url_https=None, profile_background_tile=False, profile_image_url='http://pbs.twimg.com/profile_images/1315361302248861697/nGuXshgv_normal.jpg', profile_image_url_https='https://pbs.twimg.com/profile_images/1315361302248861697/nGuXshgv_normal.jpg', profile_link_color='1DA1F2', profile_sidebar_border_color='C0DEED', profile_sidebar_fill_color='DDEEF6', profile_text_color='333333', profile_use_background_image=True, has_extended_profile=True, default_profile=True, default_profile_image=False, following=False, follow_request_sent=False, notifications=False, translator_type='none'), geo=None, coordinates=None, place=None, contributors=None, is_quote_status=False, retweet_count=0, favorite_count=0, favorited=False, retweeted=False, lang='und'),\n",
       " Status(_api=<tweepy.api.API object at 0x7f47dc444d90>, _json={'created_at': 'Mon Nov 16 00:13:18 +0000 2020', 'id': 1328128977811222535, 'id_str': '1328128977811222535', 'full_text': '@leandroruschel #VotoImpressoJa', 'truncated': False, 'display_text_range': [16, 31], 'entities': {'hashtags': [{'text': 'VotoImpressoJa', 'indices': [16, 31]}], 'symbols': [], 'user_mentions': [{'screen_name': 'leandroruschel', 'name': 'Leandro Ruschel 🇧🇷🇺🇸🇮🇹🇩🇪', 'id': 174818242, 'id_str': '174818242', 'indices': [0, 15]}], 'urls': []}, 'source': '<a href=\"http://twitter.com/download/android\" rel=\"nofollow\">Twitter for Android</a>', 'in_reply_to_status_id': 1328127942359207942, 'in_reply_to_status_id_str': '1328127942359207942', 'in_reply_to_user_id': 174818242, 'in_reply_to_user_id_str': '174818242', 'in_reply_to_screen_name': 'leandroruschel', 'user': {'id': 1314526015998365696, 'id_str': '1314526015998365696', 'name': 'Cristiano Cardozo Ferreira', 'screen_name': 'Cris_CCF', 'location': 'Santa Isabel, Brasil', 'description': '', 'url': None, 'entities': {'description': {'urls': []}}, 'protected': False, 'followers_count': 0, 'friends_count': 58, 'listed_count': 0, 'created_at': 'Fri Oct 09 11:22:39 +0000 2020', 'favourites_count': 476, 'utc_offset': None, 'time_zone': None, 'geo_enabled': False, 'verified': False, 'statuses_count': 6, 'lang': None, 'contributors_enabled': False, 'is_translator': False, 'is_translation_enabled': False, 'profile_background_color': 'F5F8FA', 'profile_background_image_url': None, 'profile_background_image_url_https': None, 'profile_background_tile': False, 'profile_image_url': 'http://pbs.twimg.com/profile_images/1315361302248861697/nGuXshgv_normal.jpg', 'profile_image_url_https': 'https://pbs.twimg.com/profile_images/1315361302248861697/nGuXshgv_normal.jpg', 'profile_link_color': '1DA1F2', 'profile_sidebar_border_color': 'C0DEED', 'profile_sidebar_fill_color': 'DDEEF6', 'profile_text_color': '333333', 'profile_use_background_image': True, 'has_extended_profile': True, 'default_profile': True, 'default_profile_image': False, 'following': False, 'follow_request_sent': False, 'notifications': False, 'translator_type': 'none'}, 'geo': None, 'coordinates': None, 'place': None, 'contributors': None, 'is_quote_status': False, 'retweet_count': 0, 'favorite_count': 0, 'favorited': False, 'retweeted': False, 'lang': 'und'}, created_at=datetime.datetime(2020, 11, 16, 0, 13, 18), id=1328128977811222535, id_str='1328128977811222535', full_text='@leandroruschel #VotoImpressoJa', truncated=False, display_text_range=[16, 31], entities={'hashtags': [{'text': 'VotoImpressoJa', 'indices': [16, 31]}], 'symbols': [], 'user_mentions': [{'screen_name': 'leandroruschel', 'name': 'Leandro Ruschel 🇧🇷🇺🇸🇮🇹🇩🇪', 'id': 174818242, 'id_str': '174818242', 'indices': [0, 15]}], 'urls': []}, source='Twitter for Android', source_url='http://twitter.com/download/android', in_reply_to_status_id=1328127942359207942, in_reply_to_status_id_str='1328127942359207942', in_reply_to_user_id=174818242, in_reply_to_user_id_str='174818242', in_reply_to_screen_name='leandroruschel', author=User(_api=<tweepy.api.API object at 0x7f47dc444d90>, _json={'id': 1314526015998365696, 'id_str': '1314526015998365696', 'name': 'Cristiano Cardozo Ferreira', 'screen_name': 'Cris_CCF', 'location': 'Santa Isabel, Brasil', 'description': '', 'url': None, 'entities': {'description': {'urls': []}}, 'protected': False, 'followers_count': 0, 'friends_count': 58, 'listed_count': 0, 'created_at': 'Fri Oct 09 11:22:39 +0000 2020', 'favourites_count': 476, 'utc_offset': None, 'time_zone': None, 'geo_enabled': False, 'verified': False, 'statuses_count': 6, 'lang': None, 'contributors_enabled': False, 'is_translator': False, 'is_translation_enabled': False, 'profile_background_color': 'F5F8FA', 'profile_background_image_url': None, 'profile_background_image_url_https': None, 'profile_background_tile': False, 'profile_image_url': 'http://pbs.twimg.com/profile_images/1315361302248861697/nGuXshgv_normal.jpg', 'profile_image_url_https': 'https://pbs.twimg.com/profile_images/1315361302248861697/nGuXshgv_normal.jpg', 'profile_link_color': '1DA1F2', 'profile_sidebar_border_color': 'C0DEED', 'profile_sidebar_fill_color': 'DDEEF6', 'profile_text_color': '333333', 'profile_use_background_image': True, 'has_extended_profile': True, 'default_profile': True, 'default_profile_image': False, 'following': False, 'follow_request_sent': False, 'notifications': False, 'translator_type': 'none'}, id=1314526015998365696, id_str='1314526015998365696', name='Cristiano Cardozo Ferreira', screen_name='Cris_CCF', location='Santa Isabel, Brasil', description='', url=None, entities={'description': {'urls': []}}, protected=False, followers_count=0, friends_count=58, listed_count=0, created_at=datetime.datetime(2020, 10, 9, 11, 22, 39), favourites_count=476, utc_offset=None, time_zone=None, geo_enabled=False, verified=False, statuses_count=6, lang=None, contributors_enabled=False, is_translator=False, is_translation_enabled=False, profile_background_color='F5F8FA', profile_background_image_url=None, profile_background_image_url_https=None, profile_background_tile=False, profile_image_url='http://pbs.twimg.com/profile_images/1315361302248861697/nGuXshgv_normal.jpg', profile_image_url_https='https://pbs.twimg.com/profile_images/1315361302248861697/nGuXshgv_normal.jpg', profile_link_color='1DA1F2', profile_sidebar_border_color='C0DEED', profile_sidebar_fill_color='DDEEF6', profile_text_color='333333', profile_use_background_image=True, has_extended_profile=True, default_profile=True, default_profile_image=False, following=False, follow_request_sent=False, notifications=False, translator_type='none'), user=User(_api=<tweepy.api.API object at 0x7f47dc444d90>, _json={'id': 1314526015998365696, 'id_str': '1314526015998365696', 'name': 'Cristiano Cardozo Ferreira', 'screen_name': 'Cris_CCF', 'location': 'Santa Isabel, Brasil', 'description': '', 'url': None, 'entities': {'description': {'urls': []}}, 'protected': False, 'followers_count': 0, 'friends_count': 58, 'listed_count': 0, 'created_at': 'Fri Oct 09 11:22:39 +0000 2020', 'favourites_count': 476, 'utc_offset': None, 'time_zone': None, 'geo_enabled': False, 'verified': False, 'statuses_count': 6, 'lang': None, 'contributors_enabled': False, 'is_translator': False, 'is_translation_enabled': False, 'profile_background_color': 'F5F8FA', 'profile_background_image_url': None, 'profile_background_image_url_https': None, 'profile_background_tile': False, 'profile_image_url': 'http://pbs.twimg.com/profile_images/1315361302248861697/nGuXshgv_normal.jpg', 'profile_image_url_https': 'https://pbs.twimg.com/profile_images/1315361302248861697/nGuXshgv_normal.jpg', 'profile_link_color': '1DA1F2', 'profile_sidebar_border_color': 'C0DEED', 'profile_sidebar_fill_color': 'DDEEF6', 'profile_text_color': '333333', 'profile_use_background_image': True, 'has_extended_profile': True, 'default_profile': True, 'default_profile_image': False, 'following': False, 'follow_request_sent': False, 'notifications': False, 'translator_type': 'none'}, id=1314526015998365696, id_str='1314526015998365696', name='Cristiano Cardozo Ferreira', screen_name='Cris_CCF', location='Santa Isabel, Brasil', description='', url=None, entities={'description': {'urls': []}}, protected=False, followers_count=0, friends_count=58, listed_count=0, created_at=datetime.datetime(2020, 10, 9, 11, 22, 39), favourites_count=476, utc_offset=None, time_zone=None, geo_enabled=False, verified=False, statuses_count=6, lang=None, contributors_enabled=False, is_translator=False, is_translation_enabled=False, profile_background_color='F5F8FA', profile_background_image_url=None, profile_background_image_url_https=None, profile_background_tile=False, profile_image_url='http://pbs.twimg.com/profile_images/1315361302248861697/nGuXshgv_normal.jpg', profile_image_url_https='https://pbs.twimg.com/profile_images/1315361302248861697/nGuXshgv_normal.jpg', profile_link_color='1DA1F2', profile_sidebar_border_color='C0DEED', profile_sidebar_fill_color='DDEEF6', profile_text_color='333333', profile_use_background_image=True, has_extended_profile=True, default_profile=True, default_profile_image=False, following=False, follow_request_sent=False, notifications=False, translator_type='none'), geo=None, coordinates=None, place=None, contributors=None, is_quote_status=False, retweet_count=0, favorite_count=0, favorited=False, retweeted=False, lang='und'),\n",
       " Status(_api=<tweepy.api.API object at 0x7f47dc444d90>, _json={'created_at': 'Tue Jan 12 21:06:55 +0000 2016', 'id': 687017938629472256, 'id_str': '687017938629472256', 'full_text': 'Hey @toddeherman this certainly smells (almost literally) like Seattle spirit https://t.co/0GtLuMb4U2', 'truncated': False, 'display_text_range': [0, 101], 'entities': {'hashtags': [], 'symbols': [], 'user_mentions': [{'screen_name': 'toddeherman', 'name': 'PRESIDENT-ELECT Todd Ξ Herman (Parler ToddEHerman)', 'id': 17971455, 'id_str': '17971455', 'indices': [4, 16]}], 'urls': [{'url': 'https://t.co/0GtLuMb4U2', 'expanded_url': 'https://www.muckrock.com/news/archives/2016/jan/12/alcohol-tobacco-firearms-and-grease-trail-seattle-/', 'display_url': 'muckrock.com/news/archives/…', 'indices': [78, 101]}]}, 'source': '<a href=\"http://twitter.com/download/android\" rel=\"nofollow\">Twitter for Android</a>', 'in_reply_to_status_id': None, 'in_reply_to_status_id_str': None, 'in_reply_to_user_id': None, 'in_reply_to_user_id_str': None, 'in_reply_to_screen_name': None, 'user': {'id': 22238116, 'id_str': '22238116', 'name': 'Kyle Summers', 'screen_name': 'xdkable', 'location': '', 'description': '', 'url': None, 'entities': {'description': {'urls': []}}, 'protected': False, 'followers_count': 6, 'friends_count': 29, 'listed_count': 1, 'created_at': 'Sat Feb 28 07:31:20 +0000 2009', 'favourites_count': 9, 'utc_offset': None, 'time_zone': None, 'geo_enabled': False, 'verified': False, 'statuses_count': 119, 'lang': None, 'contributors_enabled': False, 'is_translator': False, 'is_translation_enabled': False, 'profile_background_color': '1A1B1F', 'profile_background_image_url': 'http://abs.twimg.com/images/themes/theme1/bg.png', 'profile_background_image_url_https': 'https://abs.twimg.com/images/themes/theme1/bg.png', 'profile_background_tile': False, 'profile_image_url': 'http://pbs.twimg.com/profile_images/687015437381439488/EhwxP9H1_normal.jpg', 'profile_image_url_https': 'https://pbs.twimg.com/profile_images/687015437381439488/EhwxP9H1_normal.jpg', 'profile_link_color': '2FC2EF', 'profile_sidebar_border_color': '181A1E', 'profile_sidebar_fill_color': '252429', 'profile_text_color': '2BD723', 'profile_use_background_image': True, 'has_extended_profile': False, 'default_profile': False, 'default_profile_image': False, 'following': False, 'follow_request_sent': False, 'notifications': False, 'translator_type': 'none'}, 'geo': None, 'coordinates': None, 'place': None, 'contributors': None, 'is_quote_status': False, 'retweet_count': 0, 'favorite_count': 1, 'favorited': False, 'retweeted': False, 'possibly_sensitive': False, 'lang': 'en'}, created_at=datetime.datetime(2016, 1, 12, 21, 6, 55), id=687017938629472256, id_str='687017938629472256', full_text='Hey @toddeherman this certainly smells (almost literally) like Seattle spirit https://t.co/0GtLuMb4U2', truncated=False, display_text_range=[0, 101], entities={'hashtags': [], 'symbols': [], 'user_mentions': [{'screen_name': 'toddeherman', 'name': 'PRESIDENT-ELECT Todd Ξ Herman (Parler ToddEHerman)', 'id': 17971455, 'id_str': '17971455', 'indices': [4, 16]}], 'urls': [{'url': 'https://t.co/0GtLuMb4U2', 'expanded_url': 'https://www.muckrock.com/news/archives/2016/jan/12/alcohol-tobacco-firearms-and-grease-trail-seattle-/', 'display_url': 'muckrock.com/news/archives/…', 'indices': [78, 101]}]}, source='Twitter for Android', source_url='http://twitter.com/download/android', in_reply_to_status_id=None, in_reply_to_status_id_str=None, in_reply_to_user_id=None, in_reply_to_user_id_str=None, in_reply_to_screen_name=None, author=User(_api=<tweepy.api.API object at 0x7f47dc444d90>, _json={'id': 22238116, 'id_str': '22238116', 'name': 'Kyle Summers', 'screen_name': 'xdkable', 'location': '', 'description': '', 'url': None, 'entities': {'description': {'urls': []}}, 'protected': False, 'followers_count': 6, 'friends_count': 29, 'listed_count': 1, 'created_at': 'Sat Feb 28 07:31:20 +0000 2009', 'favourites_count': 9, 'utc_offset': None, 'time_zone': None, 'geo_enabled': False, 'verified': False, 'statuses_count': 119, 'lang': None, 'contributors_enabled': False, 'is_translator': False, 'is_translation_enabled': False, 'profile_background_color': '1A1B1F', 'profile_background_image_url': 'http://abs.twimg.com/images/themes/theme1/bg.png', 'profile_background_image_url_https': 'https://abs.twimg.com/images/themes/theme1/bg.png', 'profile_background_tile': False, 'profile_image_url': 'http://pbs.twimg.com/profile_images/687015437381439488/EhwxP9H1_normal.jpg', 'profile_image_url_https': 'https://pbs.twimg.com/profile_images/687015437381439488/EhwxP9H1_normal.jpg', 'profile_link_color': '2FC2EF', 'profile_sidebar_border_color': '181A1E', 'profile_sidebar_fill_color': '252429', 'profile_text_color': '2BD723', 'profile_use_background_image': True, 'has_extended_profile': False, 'default_profile': False, 'default_profile_image': False, 'following': False, 'follow_request_sent': False, 'notifications': False, 'translator_type': 'none'}, id=22238116, id_str='22238116', name='Kyle Summers', screen_name='xdkable', location='', description='', url=None, entities={'description': {'urls': []}}, protected=False, followers_count=6, friends_count=29, listed_count=1, created_at=datetime.datetime(2009, 2, 28, 7, 31, 20), favourites_count=9, utc_offset=None, time_zone=None, geo_enabled=False, verified=False, statuses_count=119, lang=None, contributors_enabled=False, is_translator=False, is_translation_enabled=False, profile_background_color='1A1B1F', profile_background_image_url='http://abs.twimg.com/images/themes/theme1/bg.png', profile_background_image_url_https='https://abs.twimg.com/images/themes/theme1/bg.png', profile_background_tile=False, profile_image_url='http://pbs.twimg.com/profile_images/687015437381439488/EhwxP9H1_normal.jpg', profile_image_url_https='https://pbs.twimg.com/profile_images/687015437381439488/EhwxP9H1_normal.jpg', profile_link_color='2FC2EF', profile_sidebar_border_color='181A1E', profile_sidebar_fill_color='252429', profile_text_color='2BD723', profile_use_background_image=True, has_extended_profile=False, default_profile=False, default_profile_image=False, following=False, follow_request_sent=False, notifications=False, translator_type='none'), user=User(_api=<tweepy.api.API object at 0x7f47dc444d90>, _json={'id': 22238116, 'id_str': '22238116', 'name': 'Kyle Summers', 'screen_name': 'xdkable', 'location': '', 'description': '', 'url': None, 'entities': {'description': {'urls': []}}, 'protected': False, 'followers_count': 6, 'friends_count': 29, 'listed_count': 1, 'created_at': 'Sat Feb 28 07:31:20 +0000 2009', 'favourites_count': 9, 'utc_offset': None, 'time_zone': None, 'geo_enabled': False, 'verified': False, 'statuses_count': 119, 'lang': None, 'contributors_enabled': False, 'is_translator': False, 'is_translation_enabled': False, 'profile_background_color': '1A1B1F', 'profile_background_image_url': 'http://abs.twimg.com/images/themes/theme1/bg.png', 'profile_background_image_url_https': 'https://abs.twimg.com/images/themes/theme1/bg.png', 'profile_background_tile': False, 'profile_image_url': 'http://pbs.twimg.com/profile_images/687015437381439488/EhwxP9H1_normal.jpg', 'profile_image_url_https': 'https://pbs.twimg.com/profile_images/687015437381439488/EhwxP9H1_normal.jpg', 'profile_link_color': '2FC2EF', 'profile_sidebar_border_color': '181A1E', 'profile_sidebar_fill_color': '252429', 'profile_text_color': '2BD723', 'profile_use_background_image': True, 'has_extended_profile': False, 'default_profile': False, 'default_profile_image': False, 'following': False, 'follow_request_sent': False, 'notifications': False, 'translator_type': 'none'}, id=22238116, id_str='22238116', name='Kyle Summers', screen_name='xdkable', location='', description='', url=None, entities={'description': {'urls': []}}, protected=False, followers_count=6, friends_count=29, listed_count=1, created_at=datetime.datetime(2009, 2, 28, 7, 31, 20), favourites_count=9, utc_offset=None, time_zone=None, geo_enabled=False, verified=False, statuses_count=119, lang=None, contributors_enabled=False, is_translator=False, is_translation_enabled=False, profile_background_color='1A1B1F', profile_background_image_url='http://abs.twimg.com/images/themes/theme1/bg.png', profile_background_image_url_https='https://abs.twimg.com/images/themes/theme1/bg.png', profile_background_tile=False, profile_image_url='http://pbs.twimg.com/profile_images/687015437381439488/EhwxP9H1_normal.jpg', profile_image_url_https='https://pbs.twimg.com/profile_images/687015437381439488/EhwxP9H1_normal.jpg', profile_link_color='2FC2EF', profile_sidebar_border_color='181A1E', profile_sidebar_fill_color='252429', profile_text_color='2BD723', profile_use_background_image=True, has_extended_profile=False, default_profile=False, default_profile_image=False, following=False, follow_request_sent=False, notifications=False, translator_type='none'), geo=None, coordinates=None, place=None, contributors=None, is_quote_status=False, retweet_count=0, favorite_count=1, favorited=False, retweeted=False, possibly_sensitive=False, lang='en'),\n",
       " Status(_api=<tweepy.api.API object at 0x7f47dc444d90>, _json={'created_at': 'Thu Oct 23 16:39:30 +0000 2014', 'id': 525325654112223233, 'id_str': '525325654112223233', 'full_text': \"@PhdTeresa 594 doesn't directly take away guns but makes normal people felons which removes their gun AND voting rights #voteno594 #2a\", 'truncated': False, 'display_text_range': [0, 134], 'entities': {'hashtags': [{'text': 'voteno594', 'indices': [120, 130]}, {'text': '2a', 'indices': [131, 134]}], 'symbols': [], 'user_mentions': [{'screen_name': 'PhdTeresa', 'name': 'NW Mama', 'id': 1906365968, 'id_str': '1906365968', 'indices': [0, 10]}], 'urls': []}, 'source': '<a href=\"http://twitter.com/download/android\" rel=\"nofollow\">Twitter for Android</a>', 'in_reply_to_status_id': 525109919775592448, 'in_reply_to_status_id_str': '525109919775592448', 'in_reply_to_user_id': 1906365968, 'in_reply_to_user_id_str': '1906365968', 'in_reply_to_screen_name': 'PhdTeresa', 'user': {'id': 22238116, 'id_str': '22238116', 'name': 'Kyle Summers', 'screen_name': 'xdkable', 'location': '', 'description': '', 'url': None, 'entities': {'description': {'urls': []}}, 'protected': False, 'followers_count': 6, 'friends_count': 29, 'listed_count': 1, 'created_at': 'Sat Feb 28 07:31:20 +0000 2009', 'favourites_count': 9, 'utc_offset': None, 'time_zone': None, 'geo_enabled': False, 'verified': False, 'statuses_count': 119, 'lang': None, 'contributors_enabled': False, 'is_translator': False, 'is_translation_enabled': False, 'profile_background_color': '1A1B1F', 'profile_background_image_url': 'http://abs.twimg.com/images/themes/theme1/bg.png', 'profile_background_image_url_https': 'https://abs.twimg.com/images/themes/theme1/bg.png', 'profile_background_tile': False, 'profile_image_url': 'http://pbs.twimg.com/profile_images/687015437381439488/EhwxP9H1_normal.jpg', 'profile_image_url_https': 'https://pbs.twimg.com/profile_images/687015437381439488/EhwxP9H1_normal.jpg', 'profile_link_color': '2FC2EF', 'profile_sidebar_border_color': '181A1E', 'profile_sidebar_fill_color': '252429', 'profile_text_color': '2BD723', 'profile_use_background_image': True, 'has_extended_profile': False, 'default_profile': False, 'default_profile_image': False, 'following': False, 'follow_request_sent': False, 'notifications': False, 'translator_type': 'none'}, 'geo': None, 'coordinates': None, 'place': None, 'contributors': None, 'is_quote_status': False, 'retweet_count': 0, 'favorite_count': 0, 'favorited': False, 'retweeted': False, 'lang': 'en'}, created_at=datetime.datetime(2014, 10, 23, 16, 39, 30), id=525325654112223233, id_str='525325654112223233', full_text=\"@PhdTeresa 594 doesn't directly take away guns but makes normal people felons which removes their gun AND voting rights #voteno594 #2a\", truncated=False, display_text_range=[0, 134], entities={'hashtags': [{'text': 'voteno594', 'indices': [120, 130]}, {'text': '2a', 'indices': [131, 134]}], 'symbols': [], 'user_mentions': [{'screen_name': 'PhdTeresa', 'name': 'NW Mama', 'id': 1906365968, 'id_str': '1906365968', 'indices': [0, 10]}], 'urls': []}, source='Twitter for Android', source_url='http://twitter.com/download/android', in_reply_to_status_id=525109919775592448, in_reply_to_status_id_str='525109919775592448', in_reply_to_user_id=1906365968, in_reply_to_user_id_str='1906365968', in_reply_to_screen_name='PhdTeresa', author=User(_api=<tweepy.api.API object at 0x7f47dc444d90>, _json={'id': 22238116, 'id_str': '22238116', 'name': 'Kyle Summers', 'screen_name': 'xdkable', 'location': '', 'description': '', 'url': None, 'entities': {'description': {'urls': []}}, 'protected': False, 'followers_count': 6, 'friends_count': 29, 'listed_count': 1, 'created_at': 'Sat Feb 28 07:31:20 +0000 2009', 'favourites_count': 9, 'utc_offset': None, 'time_zone': None, 'geo_enabled': False, 'verified': False, 'statuses_count': 119, 'lang': None, 'contributors_enabled': False, 'is_translator': False, 'is_translation_enabled': False, 'profile_background_color': '1A1B1F', 'profile_background_image_url': 'http://abs.twimg.com/images/themes/theme1/bg.png', 'profile_background_image_url_https': 'https://abs.twimg.com/images/themes/theme1/bg.png', 'profile_background_tile': False, 'profile_image_url': 'http://pbs.twimg.com/profile_images/687015437381439488/EhwxP9H1_normal.jpg', 'profile_image_url_https': 'https://pbs.twimg.com/profile_images/687015437381439488/EhwxP9H1_normal.jpg', 'profile_link_color': '2FC2EF', 'profile_sidebar_border_color': '181A1E', 'profile_sidebar_fill_color': '252429', 'profile_text_color': '2BD723', 'profile_use_background_image': True, 'has_extended_profile': False, 'default_profile': False, 'default_profile_image': False, 'following': False, 'follow_request_sent': False, 'notifications': False, 'translator_type': 'none'}, id=22238116, id_str='22238116', name='Kyle Summers', screen_name='xdkable', location='', description='', url=None, entities={'description': {'urls': []}}, protected=False, followers_count=6, friends_count=29, listed_count=1, created_at=datetime.datetime(2009, 2, 28, 7, 31, 20), favourites_count=9, utc_offset=None, time_zone=None, geo_enabled=False, verified=False, statuses_count=119, lang=None, contributors_enabled=False, is_translator=False, is_translation_enabled=False, profile_background_color='1A1B1F', profile_background_image_url='http://abs.twimg.com/images/themes/theme1/bg.png', profile_background_image_url_https='https://abs.twimg.com/images/themes/theme1/bg.png', profile_background_tile=False, profile_image_url='http://pbs.twimg.com/profile_images/687015437381439488/EhwxP9H1_normal.jpg', profile_image_url_https='https://pbs.twimg.com/profile_images/687015437381439488/EhwxP9H1_normal.jpg', profile_link_color='2FC2EF', profile_sidebar_border_color='181A1E', profile_sidebar_fill_color='252429', profile_text_color='2BD723', profile_use_background_image=True, has_extended_profile=False, default_profile=False, default_profile_image=False, following=False, follow_request_sent=False, notifications=False, translator_type='none'), user=User(_api=<tweepy.api.API object at 0x7f47dc444d90>, _json={'id': 22238116, 'id_str': '22238116', 'name': 'Kyle Summers', 'screen_name': 'xdkable', 'location': '', 'description': '', 'url': None, 'entities': {'description': {'urls': []}}, 'protected': False, 'followers_count': 6, 'friends_count': 29, 'listed_count': 1, 'created_at': 'Sat Feb 28 07:31:20 +0000 2009', 'favourites_count': 9, 'utc_offset': None, 'time_zone': None, 'geo_enabled': False, 'verified': False, 'statuses_count': 119, 'lang': None, 'contributors_enabled': False, 'is_translator': False, 'is_translation_enabled': False, 'profile_background_color': '1A1B1F', 'profile_background_image_url': 'http://abs.twimg.com/images/themes/theme1/bg.png', 'profile_background_image_url_https': 'https://abs.twimg.com/images/themes/theme1/bg.png', 'profile_background_tile': False, 'profile_image_url': 'http://pbs.twimg.com/profile_images/687015437381439488/EhwxP9H1_normal.jpg', 'profile_image_url_https': 'https://pbs.twimg.com/profile_images/687015437381439488/EhwxP9H1_normal.jpg', 'profile_link_color': '2FC2EF', 'profile_sidebar_border_color': '181A1E', 'profile_sidebar_fill_color': '252429', 'profile_text_color': '2BD723', 'profile_use_background_image': True, 'has_extended_profile': False, 'default_profile': False, 'default_profile_image': False, 'following': False, 'follow_request_sent': False, 'notifications': False, 'translator_type': 'none'}, id=22238116, id_str='22238116', name='Kyle Summers', screen_name='xdkable', location='', description='', url=None, entities={'description': {'urls': []}}, protected=False, followers_count=6, friends_count=29, listed_count=1, created_at=datetime.datetime(2009, 2, 28, 7, 31, 20), favourites_count=9, utc_offset=None, time_zone=None, geo_enabled=False, verified=False, statuses_count=119, lang=None, contributors_enabled=False, is_translator=False, is_translation_enabled=False, profile_background_color='1A1B1F', profile_background_image_url='http://abs.twimg.com/images/themes/theme1/bg.png', profile_background_image_url_https='https://abs.twimg.com/images/themes/theme1/bg.png', profile_background_tile=False, profile_image_url='http://pbs.twimg.com/profile_images/687015437381439488/EhwxP9H1_normal.jpg', profile_image_url_https='https://pbs.twimg.com/profile_images/687015437381439488/EhwxP9H1_normal.jpg', profile_link_color='2FC2EF', profile_sidebar_border_color='181A1E', profile_sidebar_fill_color='252429', profile_text_color='2BD723', profile_use_background_image=True, has_extended_profile=False, default_profile=False, default_profile_image=False, following=False, follow_request_sent=False, notifications=False, translator_type='none'), geo=None, coordinates=None, place=None, contributors=None, is_quote_status=False, retweet_count=0, favorite_count=0, favorited=False, retweeted=False, lang='en'),\n",
       " Status(_api=<tweepy.api.API object at 0x7f47dc444d90>, _json={'created_at': 'Sun Oct 18 04:50:39 +0000 2020', 'id': 1317689527360630784, 'id_str': '1317689527360630784', 'full_text': '@WhiteHouse @realDonaldTrump And then I’ll take away your medical plan and social security.', 'truncated': False, 'display_text_range': [29, 91], 'entities': {'hashtags': [], 'symbols': [], 'user_mentions': [{'screen_name': 'WhiteHouse', 'name': 'The White House', 'id': 822215673812119553, 'id_str': '822215673812119553', 'indices': [0, 11]}, {'screen_name': 'realDonaldTrump', 'name': 'Donald J. Trump', 'id': 25073877, 'id_str': '25073877', 'indices': [12, 28]}], 'urls': []}, 'source': '<a href=\"http://twitter.com/#!/download/ipad\" rel=\"nofollow\">Twitter for iPad</a>', 'in_reply_to_status_id': 1317164876524064773, 'in_reply_to_status_id_str': '1317164876524064773', 'in_reply_to_user_id': 822215673812119553, 'in_reply_to_user_id_str': '822215673812119553', 'in_reply_to_screen_name': 'WhiteHouse', 'user': {'id': 763217587035451393, 'id_str': '763217587035451393', 'name': 'Lloyd W Walker', 'screen_name': 'dutch6574', 'location': '', 'description': 'NBA', 'url': None, 'entities': {'description': {'urls': []}}, 'protected': False, 'followers_count': 2, 'friends_count': 44, 'listed_count': 0, 'created_at': 'Wed Aug 10 03:37:07 +0000 2016', 'favourites_count': 202, 'utc_offset': None, 'time_zone': None, 'geo_enabled': False, 'verified': False, 'statuses_count': 24, 'lang': None, 'contributors_enabled': False, 'is_translator': False, 'is_translation_enabled': False, 'profile_background_color': 'F5F8FA', 'profile_background_image_url': None, 'profile_background_image_url_https': None, 'profile_background_tile': False, 'profile_image_url': 'http://pbs.twimg.com/profile_images/764471235757559808/glNnTf_m_normal.jpg', 'profile_image_url_https': 'https://pbs.twimg.com/profile_images/764471235757559808/glNnTf_m_normal.jpg', 'profile_link_color': '1DA1F2', 'profile_sidebar_border_color': 'C0DEED', 'profile_sidebar_fill_color': 'DDEEF6', 'profile_text_color': '333333', 'profile_use_background_image': True, 'has_extended_profile': False, 'default_profile': True, 'default_profile_image': False, 'following': False, 'follow_request_sent': False, 'notifications': False, 'translator_type': 'none'}, 'geo': None, 'coordinates': None, 'place': None, 'contributors': None, 'is_quote_status': False, 'retweet_count': 0, 'favorite_count': 0, 'favorited': False, 'retweeted': False, 'lang': 'en'}, created_at=datetime.datetime(2020, 10, 18, 4, 50, 39), id=1317689527360630784, id_str='1317689527360630784', full_text='@WhiteHouse @realDonaldTrump And then I’ll take away your medical plan and social security.', truncated=False, display_text_range=[29, 91], entities={'hashtags': [], 'symbols': [], 'user_mentions': [{'screen_name': 'WhiteHouse', 'name': 'The White House', 'id': 822215673812119553, 'id_str': '822215673812119553', 'indices': [0, 11]}, {'screen_name': 'realDonaldTrump', 'name': 'Donald J. Trump', 'id': 25073877, 'id_str': '25073877', 'indices': [12, 28]}], 'urls': []}, source='Twitter for iPad', source_url='http://twitter.com/#!/download/ipad', in_reply_to_status_id=1317164876524064773, in_reply_to_status_id_str='1317164876524064773', in_reply_to_user_id=822215673812119553, in_reply_to_user_id_str='822215673812119553', in_reply_to_screen_name='WhiteHouse', author=User(_api=<tweepy.api.API object at 0x7f47dc444d90>, _json={'id': 763217587035451393, 'id_str': '763217587035451393', 'name': 'Lloyd W Walker', 'screen_name': 'dutch6574', 'location': '', 'description': 'NBA', 'url': None, 'entities': {'description': {'urls': []}}, 'protected': False, 'followers_count': 2, 'friends_count': 44, 'listed_count': 0, 'created_at': 'Wed Aug 10 03:37:07 +0000 2016', 'favourites_count': 202, 'utc_offset': None, 'time_zone': None, 'geo_enabled': False, 'verified': False, 'statuses_count': 24, 'lang': None, 'contributors_enabled': False, 'is_translator': False, 'is_translation_enabled': False, 'profile_background_color': 'F5F8FA', 'profile_background_image_url': None, 'profile_background_image_url_https': None, 'profile_background_tile': False, 'profile_image_url': 'http://pbs.twimg.com/profile_images/764471235757559808/glNnTf_m_normal.jpg', 'profile_image_url_https': 'https://pbs.twimg.com/profile_images/764471235757559808/glNnTf_m_normal.jpg', 'profile_link_color': '1DA1F2', 'profile_sidebar_border_color': 'C0DEED', 'profile_sidebar_fill_color': 'DDEEF6', 'profile_text_color': '333333', 'profile_use_background_image': True, 'has_extended_profile': False, 'default_profile': True, 'default_profile_image': False, 'following': False, 'follow_request_sent': False, 'notifications': False, 'translator_type': 'none'}, id=763217587035451393, id_str='763217587035451393', name='Lloyd W Walker', screen_name='dutch6574', location='', description='NBA', url=None, entities={'description': {'urls': []}}, protected=False, followers_count=2, friends_count=44, listed_count=0, created_at=datetime.datetime(2016, 8, 10, 3, 37, 7), favourites_count=202, utc_offset=None, time_zone=None, geo_enabled=False, verified=False, statuses_count=24, lang=None, contributors_enabled=False, is_translator=False, is_translation_enabled=False, profile_background_color='F5F8FA', profile_background_image_url=None, profile_background_image_url_https=None, profile_background_tile=False, profile_image_url='http://pbs.twimg.com/profile_images/764471235757559808/glNnTf_m_normal.jpg', profile_image_url_https='https://pbs.twimg.com/profile_images/764471235757559808/glNnTf_m_normal.jpg', profile_link_color='1DA1F2', profile_sidebar_border_color='C0DEED', profile_sidebar_fill_color='DDEEF6', profile_text_color='333333', profile_use_background_image=True, has_extended_profile=False, default_profile=True, default_profile_image=False, following=False, follow_request_sent=False, notifications=False, translator_type='none'), user=User(_api=<tweepy.api.API object at 0x7f47dc444d90>, _json={'id': 763217587035451393, 'id_str': '763217587035451393', 'name': 'Lloyd W Walker', 'screen_name': 'dutch6574', 'location': '', 'description': 'NBA', 'url': None, 'entities': {'description': {'urls': []}}, 'protected': False, 'followers_count': 2, 'friends_count': 44, 'listed_count': 0, 'created_at': 'Wed Aug 10 03:37:07 +0000 2016', 'favourites_count': 202, 'utc_offset': None, 'time_zone': None, 'geo_enabled': False, 'verified': False, 'statuses_count': 24, 'lang': None, 'contributors_enabled': False, 'is_translator': False, 'is_translation_enabled': False, 'profile_background_color': 'F5F8FA', 'profile_background_image_url': None, 'profile_background_image_url_https': None, 'profile_background_tile': False, 'profile_image_url': 'http://pbs.twimg.com/profile_images/764471235757559808/glNnTf_m_normal.jpg', 'profile_image_url_https': 'https://pbs.twimg.com/profile_images/764471235757559808/glNnTf_m_normal.jpg', 'profile_link_color': '1DA1F2', 'profile_sidebar_border_color': 'C0DEED', 'profile_sidebar_fill_color': 'DDEEF6', 'profile_text_color': '333333', 'profile_use_background_image': True, 'has_extended_profile': False, 'default_profile': True, 'default_profile_image': False, 'following': False, 'follow_request_sent': False, 'notifications': False, 'translator_type': 'none'}, id=763217587035451393, id_str='763217587035451393', name='Lloyd W Walker', screen_name='dutch6574', location='', description='NBA', url=None, entities={'description': {'urls': []}}, protected=False, followers_count=2, friends_count=44, listed_count=0, created_at=datetime.datetime(2016, 8, 10, 3, 37, 7), favourites_count=202, utc_offset=None, time_zone=None, geo_enabled=False, verified=False, statuses_count=24, lang=None, contributors_enabled=False, is_translator=False, is_translation_enabled=False, profile_background_color='F5F8FA', profile_background_image_url=None, profile_background_image_url_https=None, profile_background_tile=False, profile_image_url='http://pbs.twimg.com/profile_images/764471235757559808/glNnTf_m_normal.jpg', profile_image_url_https='https://pbs.twimg.com/profile_images/764471235757559808/glNnTf_m_normal.jpg', profile_link_color='1DA1F2', profile_sidebar_border_color='C0DEED', profile_sidebar_fill_color='DDEEF6', profile_text_color='333333', profile_use_background_image=True, has_extended_profile=False, default_profile=True, default_profile_image=False, following=False, follow_request_sent=False, notifications=False, translator_type='none'), geo=None, coordinates=None, place=None, contributors=None, is_quote_status=False, retweet_count=0, favorite_count=0, favorited=False, retweeted=False, lang='en'),\n",
       " Status(_api=<tweepy.api.API object at 0x7f47dc444d90>, _json={'created_at': 'Fri Oct 16 14:35:46 +0000 2020', 'id': 1317112000812437506, 'id_str': '1317112000812437506', 'full_text': '@realDonaldTrump @POTUS @SenatorCollins Good for her', 'truncated': False, 'display_text_range': [40, 52], 'entities': {'hashtags': [], 'symbols': [], 'user_mentions': [{'screen_name': 'realDonaldTrump', 'name': 'Donald J. Trump', 'id': 25073877, 'id_str': '25073877', 'indices': [0, 16]}, {'screen_name': 'POTUS', 'name': 'President Trump', 'id': 822215679726100480, 'id_str': '822215679726100480', 'indices': [17, 23]}, {'screen_name': 'SenatorCollins', 'name': 'Sen. Susan Collins', 'id': 19726613, 'id_str': '19726613', 'indices': [24, 39]}], 'urls': []}, 'source': '<a href=\"http://twitter.com/download/iphone\" rel=\"nofollow\">Twitter for iPhone</a>', 'in_reply_to_status_id': 1317081982166323200, 'in_reply_to_status_id_str': '1317081982166323200', 'in_reply_to_user_id': 25073877, 'in_reply_to_user_id_str': '25073877', 'in_reply_to_screen_name': 'realDonaldTrump', 'user': {'id': 763217587035451393, 'id_str': '763217587035451393', 'name': 'Lloyd W Walker', 'screen_name': 'dutch6574', 'location': '', 'description': 'NBA', 'url': None, 'entities': {'description': {'urls': []}}, 'protected': False, 'followers_count': 2, 'friends_count': 44, 'listed_count': 0, 'created_at': 'Wed Aug 10 03:37:07 +0000 2016', 'favourites_count': 202, 'utc_offset': None, 'time_zone': None, 'geo_enabled': False, 'verified': False, 'statuses_count': 24, 'lang': None, 'contributors_enabled': False, 'is_translator': False, 'is_translation_enabled': False, 'profile_background_color': 'F5F8FA', 'profile_background_image_url': None, 'profile_background_image_url_https': None, 'profile_background_tile': False, 'profile_image_url': 'http://pbs.twimg.com/profile_images/764471235757559808/glNnTf_m_normal.jpg', 'profile_image_url_https': 'https://pbs.twimg.com/profile_images/764471235757559808/glNnTf_m_normal.jpg', 'profile_link_color': '1DA1F2', 'profile_sidebar_border_color': 'C0DEED', 'profile_sidebar_fill_color': 'DDEEF6', 'profile_text_color': '333333', 'profile_use_background_image': True, 'has_extended_profile': False, 'default_profile': True, 'default_profile_image': False, 'following': False, 'follow_request_sent': False, 'notifications': False, 'translator_type': 'none'}, 'geo': None, 'coordinates': None, 'place': None, 'contributors': None, 'is_quote_status': False, 'retweet_count': 0, 'favorite_count': 0, 'favorited': False, 'retweeted': False, 'lang': 'en'}, created_at=datetime.datetime(2020, 10, 16, 14, 35, 46), id=1317112000812437506, id_str='1317112000812437506', full_text='@realDonaldTrump @POTUS @SenatorCollins Good for her', truncated=False, display_text_range=[40, 52], entities={'hashtags': [], 'symbols': [], 'user_mentions': [{'screen_name': 'realDonaldTrump', 'name': 'Donald J. Trump', 'id': 25073877, 'id_str': '25073877', 'indices': [0, 16]}, {'screen_name': 'POTUS', 'name': 'President Trump', 'id': 822215679726100480, 'id_str': '822215679726100480', 'indices': [17, 23]}, {'screen_name': 'SenatorCollins', 'name': 'Sen. Susan Collins', 'id': 19726613, 'id_str': '19726613', 'indices': [24, 39]}], 'urls': []}, source='Twitter for iPhone', source_url='http://twitter.com/download/iphone', in_reply_to_status_id=1317081982166323200, in_reply_to_status_id_str='1317081982166323200', in_reply_to_user_id=25073877, in_reply_to_user_id_str='25073877', in_reply_to_screen_name='realDonaldTrump', author=User(_api=<tweepy.api.API object at 0x7f47dc444d90>, _json={'id': 763217587035451393, 'id_str': '763217587035451393', 'name': 'Lloyd W Walker', 'screen_name': 'dutch6574', 'location': '', 'description': 'NBA', 'url': None, 'entities': {'description': {'urls': []}}, 'protected': False, 'followers_count': 2, 'friends_count': 44, 'listed_count': 0, 'created_at': 'Wed Aug 10 03:37:07 +0000 2016', 'favourites_count': 202, 'utc_offset': None, 'time_zone': None, 'geo_enabled': False, 'verified': False, 'statuses_count': 24, 'lang': None, 'contributors_enabled': False, 'is_translator': False, 'is_translation_enabled': False, 'profile_background_color': 'F5F8FA', 'profile_background_image_url': None, 'profile_background_image_url_https': None, 'profile_background_tile': False, 'profile_image_url': 'http://pbs.twimg.com/profile_images/764471235757559808/glNnTf_m_normal.jpg', 'profile_image_url_https': 'https://pbs.twimg.com/profile_images/764471235757559808/glNnTf_m_normal.jpg', 'profile_link_color': '1DA1F2', 'profile_sidebar_border_color': 'C0DEED', 'profile_sidebar_fill_color': 'DDEEF6', 'profile_text_color': '333333', 'profile_use_background_image': True, 'has_extended_profile': False, 'default_profile': True, 'default_profile_image': False, 'following': False, 'follow_request_sent': False, 'notifications': False, 'translator_type': 'none'}, id=763217587035451393, id_str='763217587035451393', name='Lloyd W Walker', screen_name='dutch6574', location='', description='NBA', url=None, entities={'description': {'urls': []}}, protected=False, followers_count=2, friends_count=44, listed_count=0, created_at=datetime.datetime(2016, 8, 10, 3, 37, 7), favourites_count=202, utc_offset=None, time_zone=None, geo_enabled=False, verified=False, statuses_count=24, lang=None, contributors_enabled=False, is_translator=False, is_translation_enabled=False, profile_background_color='F5F8FA', profile_background_image_url=None, profile_background_image_url_https=None, profile_background_tile=False, profile_image_url='http://pbs.twimg.com/profile_images/764471235757559808/glNnTf_m_normal.jpg', profile_image_url_https='https://pbs.twimg.com/profile_images/764471235757559808/glNnTf_m_normal.jpg', profile_link_color='1DA1F2', profile_sidebar_border_color='C0DEED', profile_sidebar_fill_color='DDEEF6', profile_text_color='333333', profile_use_background_image=True, has_extended_profile=False, default_profile=True, default_profile_image=False, following=False, follow_request_sent=False, notifications=False, translator_type='none'), user=User(_api=<tweepy.api.API object at 0x7f47dc444d90>, _json={'id': 763217587035451393, 'id_str': '763217587035451393', 'name': 'Lloyd W Walker', 'screen_name': 'dutch6574', 'location': '', 'description': 'NBA', 'url': None, 'entities': {'description': {'urls': []}}, 'protected': False, 'followers_count': 2, 'friends_count': 44, 'listed_count': 0, 'created_at': 'Wed Aug 10 03:37:07 +0000 2016', 'favourites_count': 202, 'utc_offset': None, 'time_zone': None, 'geo_enabled': False, 'verified': False, 'statuses_count': 24, 'lang': None, 'contributors_enabled': False, 'is_translator': False, 'is_translation_enabled': False, 'profile_background_color': 'F5F8FA', 'profile_background_image_url': None, 'profile_background_image_url_https': None, 'profile_background_tile': False, 'profile_image_url': 'http://pbs.twimg.com/profile_images/764471235757559808/glNnTf_m_normal.jpg', 'profile_image_url_https': 'https://pbs.twimg.com/profile_images/764471235757559808/glNnTf_m_normal.jpg', 'profile_link_color': '1DA1F2', 'profile_sidebar_border_color': 'C0DEED', 'profile_sidebar_fill_color': 'DDEEF6', 'profile_text_color': '333333', 'profile_use_background_image': True, 'has_extended_profile': False, 'default_profile': True, 'default_profile_image': False, 'following': False, 'follow_request_sent': False, 'notifications': False, 'translator_type': 'none'}, id=763217587035451393, id_str='763217587035451393', name='Lloyd W Walker', screen_name='dutch6574', location='', description='NBA', url=None, entities={'description': {'urls': []}}, protected=False, followers_count=2, friends_count=44, listed_count=0, created_at=datetime.datetime(2016, 8, 10, 3, 37, 7), favourites_count=202, utc_offset=None, time_zone=None, geo_enabled=False, verified=False, statuses_count=24, lang=None, contributors_enabled=False, is_translator=False, is_translation_enabled=False, profile_background_color='F5F8FA', profile_background_image_url=None, profile_background_image_url_https=None, profile_background_tile=False, profile_image_url='http://pbs.twimg.com/profile_images/764471235757559808/glNnTf_m_normal.jpg', profile_image_url_https='https://pbs.twimg.com/profile_images/764471235757559808/glNnTf_m_normal.jpg', profile_link_color='1DA1F2', profile_sidebar_border_color='C0DEED', profile_sidebar_fill_color='DDEEF6', profile_text_color='333333', profile_use_background_image=True, has_extended_profile=False, default_profile=True, default_profile_image=False, following=False, follow_request_sent=False, notifications=False, translator_type='none'), geo=None, coordinates=None, place=None, contributors=None, is_quote_status=False, retweet_count=0, favorite_count=0, favorited=False, retweeted=False, lang='en'),\n",
       " Status(_api=<tweepy.api.API object at 0x7f47dc444d90>, _json={'created_at': 'Sun Jul 26 20:14:36 +0000 2020', 'id': 1287481465609940992, 'id_str': '1287481465609940992', 'full_text': '@realDonaldTrump @POTUS @Yankees Plus I have been playing a lot of golf and New Yorkers don’t like me', 'truncated': False, 'display_text_range': [33, 101], 'entities': {'hashtags': [], 'symbols': [], 'user_mentions': [{'screen_name': 'realDonaldTrump', 'name': 'Donald J. Trump', 'id': 25073877, 'id_str': '25073877', 'indices': [0, 16]}, {'screen_name': 'POTUS', 'name': 'President Trump', 'id': 822215679726100480, 'id_str': '822215679726100480', 'indices': [17, 23]}, {'screen_name': 'Yankees', 'name': 'New York Yankees', 'id': 40927173, 'id_str': '40927173', 'indices': [24, 32]}], 'urls': []}, 'source': '<a href=\"http://twitter.com/download/iphone\" rel=\"nofollow\">Twitter for iPhone</a>', 'in_reply_to_status_id': 1287473812733341696, 'in_reply_to_status_id_str': '1287473812733341696', 'in_reply_to_user_id': 25073877, 'in_reply_to_user_id_str': '25073877', 'in_reply_to_screen_name': 'realDonaldTrump', 'user': {'id': 763217587035451393, 'id_str': '763217587035451393', 'name': 'Lloyd W Walker', 'screen_name': 'dutch6574', 'location': '', 'description': 'NBA', 'url': None, 'entities': {'description': {'urls': []}}, 'protected': False, 'followers_count': 2, 'friends_count': 44, 'listed_count': 0, 'created_at': 'Wed Aug 10 03:37:07 +0000 2016', 'favourites_count': 202, 'utc_offset': None, 'time_zone': None, 'geo_enabled': False, 'verified': False, 'statuses_count': 24, 'lang': None, 'contributors_enabled': False, 'is_translator': False, 'is_translation_enabled': False, 'profile_background_color': 'F5F8FA', 'profile_background_image_url': None, 'profile_background_image_url_https': None, 'profile_background_tile': False, 'profile_image_url': 'http://pbs.twimg.com/profile_images/764471235757559808/glNnTf_m_normal.jpg', 'profile_image_url_https': 'https://pbs.twimg.com/profile_images/764471235757559808/glNnTf_m_normal.jpg', 'profile_link_color': '1DA1F2', 'profile_sidebar_border_color': 'C0DEED', 'profile_sidebar_fill_color': 'DDEEF6', 'profile_text_color': '333333', 'profile_use_background_image': True, 'has_extended_profile': False, 'default_profile': True, 'default_profile_image': False, 'following': False, 'follow_request_sent': False, 'notifications': False, 'translator_type': 'none'}, 'geo': None, 'coordinates': None, 'place': None, 'contributors': None, 'is_quote_status': False, 'retweet_count': 1, 'favorite_count': 1, 'favorited': False, 'retweeted': False, 'lang': 'en'}, created_at=datetime.datetime(2020, 7, 26, 20, 14, 36), id=1287481465609940992, id_str='1287481465609940992', full_text='@realDonaldTrump @POTUS @Yankees Plus I have been playing a lot of golf and New Yorkers don’t like me', truncated=False, display_text_range=[33, 101], entities={'hashtags': [], 'symbols': [], 'user_mentions': [{'screen_name': 'realDonaldTrump', 'name': 'Donald J. Trump', 'id': 25073877, 'id_str': '25073877', 'indices': [0, 16]}, {'screen_name': 'POTUS', 'name': 'President Trump', 'id': 822215679726100480, 'id_str': '822215679726100480', 'indices': [17, 23]}, {'screen_name': 'Yankees', 'name': 'New York Yankees', 'id': 40927173, 'id_str': '40927173', 'indices': [24, 32]}], 'urls': []}, source='Twitter for iPhone', source_url='http://twitter.com/download/iphone', in_reply_to_status_id=1287473812733341696, in_reply_to_status_id_str='1287473812733341696', in_reply_to_user_id=25073877, in_reply_to_user_id_str='25073877', in_reply_to_screen_name='realDonaldTrump', author=User(_api=<tweepy.api.API object at 0x7f47dc444d90>, _json={'id': 763217587035451393, 'id_str': '763217587035451393', 'name': 'Lloyd W Walker', 'screen_name': 'dutch6574', 'location': '', 'description': 'NBA', 'url': None, 'entities': {'description': {'urls': []}}, 'protected': False, 'followers_count': 2, 'friends_count': 44, 'listed_count': 0, 'created_at': 'Wed Aug 10 03:37:07 +0000 2016', 'favourites_count': 202, 'utc_offset': None, 'time_zone': None, 'geo_enabled': False, 'verified': False, 'statuses_count': 24, 'lang': None, 'contributors_enabled': False, 'is_translator': False, 'is_translation_enabled': False, 'profile_background_color': 'F5F8FA', 'profile_background_image_url': None, 'profile_background_image_url_https': None, 'profile_background_tile': False, 'profile_image_url': 'http://pbs.twimg.com/profile_images/764471235757559808/glNnTf_m_normal.jpg', 'profile_image_url_https': 'https://pbs.twimg.com/profile_images/764471235757559808/glNnTf_m_normal.jpg', 'profile_link_color': '1DA1F2', 'profile_sidebar_border_color': 'C0DEED', 'profile_sidebar_fill_color': 'DDEEF6', 'profile_text_color': '333333', 'profile_use_background_image': True, 'has_extended_profile': False, 'default_profile': True, 'default_profile_image': False, 'following': False, 'follow_request_sent': False, 'notifications': False, 'translator_type': 'none'}, id=763217587035451393, id_str='763217587035451393', name='Lloyd W Walker', screen_name='dutch6574', location='', description='NBA', url=None, entities={'description': {'urls': []}}, protected=False, followers_count=2, friends_count=44, listed_count=0, created_at=datetime.datetime(2016, 8, 10, 3, 37, 7), favourites_count=202, utc_offset=None, time_zone=None, geo_enabled=False, verified=False, statuses_count=24, lang=None, contributors_enabled=False, is_translator=False, is_translation_enabled=False, profile_background_color='F5F8FA', profile_background_image_url=None, profile_background_image_url_https=None, profile_background_tile=False, profile_image_url='http://pbs.twimg.com/profile_images/764471235757559808/glNnTf_m_normal.jpg', profile_image_url_https='https://pbs.twimg.com/profile_images/764471235757559808/glNnTf_m_normal.jpg', profile_link_color='1DA1F2', profile_sidebar_border_color='C0DEED', profile_sidebar_fill_color='DDEEF6', profile_text_color='333333', profile_use_background_image=True, has_extended_profile=False, default_profile=True, default_profile_image=False, following=False, follow_request_sent=False, notifications=False, translator_type='none'), user=User(_api=<tweepy.api.API object at 0x7f47dc444d90>, _json={'id': 763217587035451393, 'id_str': '763217587035451393', 'name': 'Lloyd W Walker', 'screen_name': 'dutch6574', 'location': '', 'description': 'NBA', 'url': None, 'entities': {'description': {'urls': []}}, 'protected': False, 'followers_count': 2, 'friends_count': 44, 'listed_count': 0, 'created_at': 'Wed Aug 10 03:37:07 +0000 2016', 'favourites_count': 202, 'utc_offset': None, 'time_zone': None, 'geo_enabled': False, 'verified': False, 'statuses_count': 24, 'lang': None, 'contributors_enabled': False, 'is_translator': False, 'is_translation_enabled': False, 'profile_background_color': 'F5F8FA', 'profile_background_image_url': None, 'profile_background_image_url_https': None, 'profile_background_tile': False, 'profile_image_url': 'http://pbs.twimg.com/profile_images/764471235757559808/glNnTf_m_normal.jpg', 'profile_image_url_https': 'https://pbs.twimg.com/profile_images/764471235757559808/glNnTf_m_normal.jpg', 'profile_link_color': '1DA1F2', 'profile_sidebar_border_color': 'C0DEED', 'profile_sidebar_fill_color': 'DDEEF6', 'profile_text_color': '333333', 'profile_use_background_image': True, 'has_extended_profile': False, 'default_profile': True, 'default_profile_image': False, 'following': False, 'follow_request_sent': False, 'notifications': False, 'translator_type': 'none'}, id=763217587035451393, id_str='763217587035451393', name='Lloyd W Walker', screen_name='dutch6574', location='', description='NBA', url=None, entities={'description': {'urls': []}}, protected=False, followers_count=2, friends_count=44, listed_count=0, created_at=datetime.datetime(2016, 8, 10, 3, 37, 7), favourites_count=202, utc_offset=None, time_zone=None, geo_enabled=False, verified=False, statuses_count=24, lang=None, contributors_enabled=False, is_translator=False, is_translation_enabled=False, profile_background_color='F5F8FA', profile_background_image_url=None, profile_background_image_url_https=None, profile_background_tile=False, profile_image_url='http://pbs.twimg.com/profile_images/764471235757559808/glNnTf_m_normal.jpg', profile_image_url_https='https://pbs.twimg.com/profile_images/764471235757559808/glNnTf_m_normal.jpg', profile_link_color='1DA1F2', profile_sidebar_border_color='C0DEED', profile_sidebar_fill_color='DDEEF6', profile_text_color='333333', profile_use_background_image=True, has_extended_profile=False, default_profile=True, default_profile_image=False, following=False, follow_request_sent=False, notifications=False, translator_type='none'), geo=None, coordinates=None, place=None, contributors=None, is_quote_status=False, retweet_count=1, favorite_count=1, favorited=False, retweeted=False, lang='en'),\n",
       " Status(_api=<tweepy.api.API object at 0x7f47dc444d90>, _json={'created_at': 'Sat Nov 21 05:59:05 +0000 2020', 'id': 1330027938255802368, 'id_str': '1330027938255802368', 'full_text': '@realDonaldTrump sore losers!! @GSAEmily @LindseyGrahamSC @WHPressSec @GSAEmily', 'truncated': False, 'display_text_range': [0, 79], 'entities': {'hashtags': [], 'symbols': [], 'user_mentions': [{'screen_name': 'realDonaldTrump', 'name': 'Donald J. Trump', 'id': 25073877, 'id_str': '25073877', 'indices': [0, 16]}, {'screen_name': 'GSAEmily', 'name': 'Emily Murphy', 'id': 927599317858349058, 'id_str': '927599317858349058', 'indices': [31, 40]}, {'screen_name': 'LindseyGrahamSC', 'name': 'Lindsey Graham', 'id': 432895323, 'id_str': '432895323', 'indices': [41, 57]}, {'screen_name': 'WHPressSec', 'name': 'White House Press 🇺🇸', 'id': 872321933626544128, 'id_str': '872321933626544128', 'indices': [58, 69]}, {'screen_name': 'GSAEmily', 'name': 'Emily Murphy', 'id': 927599317858349058, 'id_str': '927599317858349058', 'indices': [70, 79]}], 'urls': []}, 'source': '<a href=\"http://twitter.com/download/iphone\" rel=\"nofollow\">Twitter for iPhone</a>', 'in_reply_to_status_id': None, 'in_reply_to_status_id_str': None, 'in_reply_to_user_id': 25073877, 'in_reply_to_user_id_str': '25073877', 'in_reply_to_screen_name': 'realDonaldTrump', 'user': {'id': 145314434, 'id_str': '145314434', 'name': 'Kyle Fritz', 'screen_name': 'KyleDFritz', 'location': 'Los Angeles', 'description': '🎬 Manager of Oscar, Emmy & Golden Globe winners for over 25 years✨\\nGuiding Actors Through the Business of Acting\\nSign up for classes or consultations👇', 'url': 'https://t.co/BNNRyxcrql', 'entities': {'url': {'urls': [{'url': 'https://t.co/BNNRyxcrql', 'expanded_url': 'https://www.kylesactingfiles.com/', 'display_url': 'kylesactingfiles.com', 'indices': [0, 23]}]}, 'description': {'urls': []}}, 'protected': False, 'followers_count': 543, 'friends_count': 188, 'listed_count': 12, 'created_at': 'Tue May 18 17:17:52 +0000 2010', 'favourites_count': 1790, 'utc_offset': None, 'time_zone': None, 'geo_enabled': False, 'verified': False, 'statuses_count': 711, 'lang': None, 'contributors_enabled': False, 'is_translator': False, 'is_translation_enabled': False, 'profile_background_color': 'C0DEED', 'profile_background_image_url': 'http://abs.twimg.com/images/themes/theme1/bg.png', 'profile_background_image_url_https': 'https://abs.twimg.com/images/themes/theme1/bg.png', 'profile_background_tile': False, 'profile_image_url': 'http://pbs.twimg.com/profile_images/1288973050810003456/Tk79GCVq_normal.jpg', 'profile_image_url_https': 'https://pbs.twimg.com/profile_images/1288973050810003456/Tk79GCVq_normal.jpg', 'profile_banner_url': 'https://pbs.twimg.com/profile_banners/145314434/1444927310', 'profile_link_color': '1DA1F2', 'profile_sidebar_border_color': 'C0DEED', 'profile_sidebar_fill_color': 'DDEEF6', 'profile_text_color': '333333', 'profile_use_background_image': True, 'has_extended_profile': False, 'default_profile': True, 'default_profile_image': False, 'following': False, 'follow_request_sent': False, 'notifications': False, 'translator_type': 'none'}, 'geo': None, 'coordinates': None, 'place': None, 'contributors': None, 'is_quote_status': False, 'retweet_count': 0, 'favorite_count': 0, 'favorited': False, 'retweeted': False, 'lang': 'en'}, created_at=datetime.datetime(2020, 11, 21, 5, 59, 5), id=1330027938255802368, id_str='1330027938255802368', full_text='@realDonaldTrump sore losers!! @GSAEmily @LindseyGrahamSC @WHPressSec @GSAEmily', truncated=False, display_text_range=[0, 79], entities={'hashtags': [], 'symbols': [], 'user_mentions': [{'screen_name': 'realDonaldTrump', 'name': 'Donald J. Trump', 'id': 25073877, 'id_str': '25073877', 'indices': [0, 16]}, {'screen_name': 'GSAEmily', 'name': 'Emily Murphy', 'id': 927599317858349058, 'id_str': '927599317858349058', 'indices': [31, 40]}, {'screen_name': 'LindseyGrahamSC', 'name': 'Lindsey Graham', 'id': 432895323, 'id_str': '432895323', 'indices': [41, 57]}, {'screen_name': 'WHPressSec', 'name': 'White House Press 🇺🇸', 'id': 872321933626544128, 'id_str': '872321933626544128', 'indices': [58, 69]}, {'screen_name': 'GSAEmily', 'name': 'Emily Murphy', 'id': 927599317858349058, 'id_str': '927599317858349058', 'indices': [70, 79]}], 'urls': []}, source='Twitter for iPhone', source_url='http://twitter.com/download/iphone', in_reply_to_status_id=None, in_reply_to_status_id_str=None, in_reply_to_user_id=25073877, in_reply_to_user_id_str='25073877', in_reply_to_screen_name='realDonaldTrump', author=User(_api=<tweepy.api.API object at 0x7f47dc444d90>, _json={'id': 145314434, 'id_str': '145314434', 'name': 'Kyle Fritz', 'screen_name': 'KyleDFritz', 'location': 'Los Angeles', 'description': '🎬 Manager of Oscar, Emmy & Golden Globe winners for over 25 years✨\\nGuiding Actors Through the Business of Acting\\nSign up for classes or consultations👇', 'url': 'https://t.co/BNNRyxcrql', 'entities': {'url': {'urls': [{'url': 'https://t.co/BNNRyxcrql', 'expanded_url': 'https://www.kylesactingfiles.com/', 'display_url': 'kylesactingfiles.com', 'indices': [0, 23]}]}, 'description': {'urls': []}}, 'protected': False, 'followers_count': 543, 'friends_count': 188, 'listed_count': 12, 'created_at': 'Tue May 18 17:17:52 +0000 2010', 'favourites_count': 1790, 'utc_offset': None, 'time_zone': None, 'geo_enabled': False, 'verified': False, 'statuses_count': 711, 'lang': None, 'contributors_enabled': False, 'is_translator': False, 'is_translation_enabled': False, 'profile_background_color': 'C0DEED', 'profile_background_image_url': 'http://abs.twimg.com/images/themes/theme1/bg.png', 'profile_background_image_url_https': 'https://abs.twimg.com/images/themes/theme1/bg.png', 'profile_background_tile': False, 'profile_image_url': 'http://pbs.twimg.com/profile_images/1288973050810003456/Tk79GCVq_normal.jpg', 'profile_image_url_https': 'https://pbs.twimg.com/profile_images/1288973050810003456/Tk79GCVq_normal.jpg', 'profile_banner_url': 'https://pbs.twimg.com/profile_banners/145314434/1444927310', 'profile_link_color': '1DA1F2', 'profile_sidebar_border_color': 'C0DEED', 'profile_sidebar_fill_color': 'DDEEF6', 'profile_text_color': '333333', 'profile_use_background_image': True, 'has_extended_profile': False, 'default_profile': True, 'default_profile_image': False, 'following': False, 'follow_request_sent': False, 'notifications': False, 'translator_type': 'none'}, id=145314434, id_str='145314434', name='Kyle Fritz', screen_name='KyleDFritz', location='Los Angeles', description='🎬 Manager of Oscar, Emmy & Golden Globe winners for over 25 years✨\\nGuiding Actors Through the Business of Acting\\nSign up for classes or consultations👇', url='https://t.co/BNNRyxcrql', entities={'url': {'urls': [{'url': 'https://t.co/BNNRyxcrql', 'expanded_url': 'https://www.kylesactingfiles.com/', 'display_url': 'kylesactingfiles.com', 'indices': [0, 23]}]}, 'description': {'urls': []}}, protected=False, followers_count=543, friends_count=188, listed_count=12, created_at=datetime.datetime(2010, 5, 18, 17, 17, 52), favourites_count=1790, utc_offset=None, time_zone=None, geo_enabled=False, verified=False, statuses_count=711, lang=None, contributors_enabled=False, is_translator=False, is_translation_enabled=False, profile_background_color='C0DEED', profile_background_image_url='http://abs.twimg.com/images/themes/theme1/bg.png', profile_background_image_url_https='https://abs.twimg.com/images/themes/theme1/bg.png', profile_background_tile=False, profile_image_url='http://pbs.twimg.com/profile_images/1288973050810003456/Tk79GCVq_normal.jpg', profile_image_url_https='https://pbs.twimg.com/profile_images/1288973050810003456/Tk79GCVq_normal.jpg', profile_banner_url='https://pbs.twimg.com/profile_banners/145314434/1444927310', profile_link_color='1DA1F2', profile_sidebar_border_color='C0DEED', profile_sidebar_fill_color='DDEEF6', profile_text_color='333333', profile_use_background_image=True, has_extended_profile=False, default_profile=True, default_profile_image=False, following=False, follow_request_sent=False, notifications=False, translator_type='none'), user=User(_api=<tweepy.api.API object at 0x7f47dc444d90>, _json={'id': 145314434, 'id_str': '145314434', 'name': 'Kyle Fritz', 'screen_name': 'KyleDFritz', 'location': 'Los Angeles', 'description': '🎬 Manager of Oscar, Emmy & Golden Globe winners for over 25 years✨\\nGuiding Actors Through the Business of Acting\\nSign up for classes or consultations👇', 'url': 'https://t.co/BNNRyxcrql', 'entities': {'url': {'urls': [{'url': 'https://t.co/BNNRyxcrql', 'expanded_url': 'https://www.kylesactingfiles.com/', 'display_url': 'kylesactingfiles.com', 'indices': [0, 23]}]}, 'description': {'urls': []}}, 'protected': False, 'followers_count': 543, 'friends_count': 188, 'listed_count': 12, 'created_at': 'Tue May 18 17:17:52 +0000 2010', 'favourites_count': 1790, 'utc_offset': None, 'time_zone': None, 'geo_enabled': False, 'verified': False, 'statuses_count': 711, 'lang': None, 'contributors_enabled': False, 'is_translator': False, 'is_translation_enabled': False, 'profile_background_color': 'C0DEED', 'profile_background_image_url': 'http://abs.twimg.com/images/themes/theme1/bg.png', 'profile_background_image_url_https': 'https://abs.twimg.com/images/themes/theme1/bg.png', 'profile_background_tile': False, 'profile_image_url': 'http://pbs.twimg.com/profile_images/1288973050810003456/Tk79GCVq_normal.jpg', 'profile_image_url_https': 'https://pbs.twimg.com/profile_images/1288973050810003456/Tk79GCVq_normal.jpg', 'profile_banner_url': 'https://pbs.twimg.com/profile_banners/145314434/1444927310', 'profile_link_color': '1DA1F2', 'profile_sidebar_border_color': 'C0DEED', 'profile_sidebar_fill_color': 'DDEEF6', 'profile_text_color': '333333', 'profile_use_background_image': True, 'has_extended_profile': False, 'default_profile': True, 'default_profile_image': False, 'following': False, 'follow_request_sent': False, 'notifications': False, 'translator_type': 'none'}, id=145314434, id_str='145314434', name='Kyle Fritz', screen_name='KyleDFritz', location='Los Angeles', description='🎬 Manager of Oscar, Emmy & Golden Globe winners for over 25 years✨\\nGuiding Actors Through the Business of Acting\\nSign up for classes or consultations👇', url='https://t.co/BNNRyxcrql', entities={'url': {'urls': [{'url': 'https://t.co/BNNRyxcrql', 'expanded_url': 'https://www.kylesactingfiles.com/', 'display_url': 'kylesactingfiles.com', 'indices': [0, 23]}]}, 'description': {'urls': []}}, protected=False, followers_count=543, friends_count=188, listed_count=12, created_at=datetime.datetime(2010, 5, 18, 17, 17, 52), favourites_count=1790, utc_offset=None, time_zone=None, geo_enabled=False, verified=False, statuses_count=711, lang=None, contributors_enabled=False, is_translator=False, is_translation_enabled=False, profile_background_color='C0DEED', profile_background_image_url='http://abs.twimg.com/images/themes/theme1/bg.png', profile_background_image_url_https='https://abs.twimg.com/images/themes/theme1/bg.png', profile_background_tile=False, profile_image_url='http://pbs.twimg.com/profile_images/1288973050810003456/Tk79GCVq_normal.jpg', profile_image_url_https='https://pbs.twimg.com/profile_images/1288973050810003456/Tk79GCVq_normal.jpg', profile_banner_url='https://pbs.twimg.com/profile_banners/145314434/1444927310', profile_link_color='1DA1F2', profile_sidebar_border_color='C0DEED', profile_sidebar_fill_color='DDEEF6', profile_text_color='333333', profile_use_background_image=True, has_extended_profile=False, default_profile=True, default_profile_image=False, following=False, follow_request_sent=False, notifications=False, translator_type='none'), geo=None, coordinates=None, place=None, contributors=None, is_quote_status=False, retweet_count=0, favorite_count=0, favorited=False, retweeted=False, lang='en'),\n",
       " Status(_api=<tweepy.api.API object at 0x7f47dc444d90>, _json={'created_at': 'Sat Nov 21 01:58:45 +0000 2020', 'id': 1329967454722740224, 'id_str': '1329967454722740224', 'full_text': '@JoergSeitz @JeriLRyan Thx!', 'truncated': False, 'display_text_range': [23, 27], 'entities': {'hashtags': [], 'symbols': [], 'user_mentions': [{'screen_name': 'JoergSeitz', 'name': 'Joerg Seitz', 'id': 1141633802, 'id_str': '1141633802', 'indices': [0, 11]}, {'screen_name': 'JeriLRyan', 'name': 'Jeri Ryan', 'id': 144003355, 'id_str': '144003355', 'indices': [12, 22]}], 'urls': []}, 'source': '<a href=\"http://twitter.com/download/iphone\" rel=\"nofollow\">Twitter for iPhone</a>', 'in_reply_to_status_id': 1316456143196237824, 'in_reply_to_status_id_str': '1316456143196237824', 'in_reply_to_user_id': 1141633802, 'in_reply_to_user_id_str': '1141633802', 'in_reply_to_screen_name': 'JoergSeitz', 'user': {'id': 145314434, 'id_str': '145314434', 'name': 'Kyle Fritz', 'screen_name': 'KyleDFritz', 'location': 'Los Angeles', 'description': '🎬 Manager of Oscar, Emmy & Golden Globe winners for over 25 years✨\\nGuiding Actors Through the Business of Acting\\nSign up for classes or consultations👇', 'url': 'https://t.co/BNNRyxcrql', 'entities': {'url': {'urls': [{'url': 'https://t.co/BNNRyxcrql', 'expanded_url': 'https://www.kylesactingfiles.com/', 'display_url': 'kylesactingfiles.com', 'indices': [0, 23]}]}, 'description': {'urls': []}}, 'protected': False, 'followers_count': 543, 'friends_count': 188, 'listed_count': 12, 'created_at': 'Tue May 18 17:17:52 +0000 2010', 'favourites_count': 1790, 'utc_offset': None, 'time_zone': None, 'geo_enabled': False, 'verified': False, 'statuses_count': 711, 'lang': None, 'contributors_enabled': False, 'is_translator': False, 'is_translation_enabled': False, 'profile_background_color': 'C0DEED', 'profile_background_image_url': 'http://abs.twimg.com/images/themes/theme1/bg.png', 'profile_background_image_url_https': 'https://abs.twimg.com/images/themes/theme1/bg.png', 'profile_background_tile': False, 'profile_image_url': 'http://pbs.twimg.com/profile_images/1288973050810003456/Tk79GCVq_normal.jpg', 'profile_image_url_https': 'https://pbs.twimg.com/profile_images/1288973050810003456/Tk79GCVq_normal.jpg', 'profile_banner_url': 'https://pbs.twimg.com/profile_banners/145314434/1444927310', 'profile_link_color': '1DA1F2', 'profile_sidebar_border_color': 'C0DEED', 'profile_sidebar_fill_color': 'DDEEF6', 'profile_text_color': '333333', 'profile_use_background_image': True, 'has_extended_profile': False, 'default_profile': True, 'default_profile_image': False, 'following': False, 'follow_request_sent': False, 'notifications': False, 'translator_type': 'none'}, 'geo': None, 'coordinates': None, 'place': None, 'contributors': None, 'is_quote_status': False, 'retweet_count': 0, 'favorite_count': 1, 'favorited': False, 'retweeted': False, 'lang': 'und'}, created_at=datetime.datetime(2020, 11, 21, 1, 58, 45), id=1329967454722740224, id_str='1329967454722740224', full_text='@JoergSeitz @JeriLRyan Thx!', truncated=False, display_text_range=[23, 27], entities={'hashtags': [], 'symbols': [], 'user_mentions': [{'screen_name': 'JoergSeitz', 'name': 'Joerg Seitz', 'id': 1141633802, 'id_str': '1141633802', 'indices': [0, 11]}, {'screen_name': 'JeriLRyan', 'name': 'Jeri Ryan', 'id': 144003355, 'id_str': '144003355', 'indices': [12, 22]}], 'urls': []}, source='Twitter for iPhone', source_url='http://twitter.com/download/iphone', in_reply_to_status_id=1316456143196237824, in_reply_to_status_id_str='1316456143196237824', in_reply_to_user_id=1141633802, in_reply_to_user_id_str='1141633802', in_reply_to_screen_name='JoergSeitz', author=User(_api=<tweepy.api.API object at 0x7f47dc444d90>, _json={'id': 145314434, 'id_str': '145314434', 'name': 'Kyle Fritz', 'screen_name': 'KyleDFritz', 'location': 'Los Angeles', 'description': '🎬 Manager of Oscar, Emmy & Golden Globe winners for over 25 years✨\\nGuiding Actors Through the Business of Acting\\nSign up for classes or consultations👇', 'url': 'https://t.co/BNNRyxcrql', 'entities': {'url': {'urls': [{'url': 'https://t.co/BNNRyxcrql', 'expanded_url': 'https://www.kylesactingfiles.com/', 'display_url': 'kylesactingfiles.com', 'indices': [0, 23]}]}, 'description': {'urls': []}}, 'protected': False, 'followers_count': 543, 'friends_count': 188, 'listed_count': 12, 'created_at': 'Tue May 18 17:17:52 +0000 2010', 'favourites_count': 1790, 'utc_offset': None, 'time_zone': None, 'geo_enabled': False, 'verified': False, 'statuses_count': 711, 'lang': None, 'contributors_enabled': False, 'is_translator': False, 'is_translation_enabled': False, 'profile_background_color': 'C0DEED', 'profile_background_image_url': 'http://abs.twimg.com/images/themes/theme1/bg.png', 'profile_background_image_url_https': 'https://abs.twimg.com/images/themes/theme1/bg.png', 'profile_background_tile': False, 'profile_image_url': 'http://pbs.twimg.com/profile_images/1288973050810003456/Tk79GCVq_normal.jpg', 'profile_image_url_https': 'https://pbs.twimg.com/profile_images/1288973050810003456/Tk79GCVq_normal.jpg', 'profile_banner_url': 'https://pbs.twimg.com/profile_banners/145314434/1444927310', 'profile_link_color': '1DA1F2', 'profile_sidebar_border_color': 'C0DEED', 'profile_sidebar_fill_color': 'DDEEF6', 'profile_text_color': '333333', 'profile_use_background_image': True, 'has_extended_profile': False, 'default_profile': True, 'default_profile_image': False, 'following': False, 'follow_request_sent': False, 'notifications': False, 'translator_type': 'none'}, id=145314434, id_str='145314434', name='Kyle Fritz', screen_name='KyleDFritz', location='Los Angeles', description='🎬 Manager of Oscar, Emmy & Golden Globe winners for over 25 years✨\\nGuiding Actors Through the Business of Acting\\nSign up for classes or consultations👇', url='https://t.co/BNNRyxcrql', entities={'url': {'urls': [{'url': 'https://t.co/BNNRyxcrql', 'expanded_url': 'https://www.kylesactingfiles.com/', 'display_url': 'kylesactingfiles.com', 'indices': [0, 23]}]}, 'description': {'urls': []}}, protected=False, followers_count=543, friends_count=188, listed_count=12, created_at=datetime.datetime(2010, 5, 18, 17, 17, 52), favourites_count=1790, utc_offset=None, time_zone=None, geo_enabled=False, verified=False, statuses_count=711, lang=None, contributors_enabled=False, is_translator=False, is_translation_enabled=False, profile_background_color='C0DEED', profile_background_image_url='http://abs.twimg.com/images/themes/theme1/bg.png', profile_background_image_url_https='https://abs.twimg.com/images/themes/theme1/bg.png', profile_background_tile=False, profile_image_url='http://pbs.twimg.com/profile_images/1288973050810003456/Tk79GCVq_normal.jpg', profile_image_url_https='https://pbs.twimg.com/profile_images/1288973050810003456/Tk79GCVq_normal.jpg', profile_banner_url='https://pbs.twimg.com/profile_banners/145314434/1444927310', profile_link_color='1DA1F2', profile_sidebar_border_color='C0DEED', profile_sidebar_fill_color='DDEEF6', profile_text_color='333333', profile_use_background_image=True, has_extended_profile=False, default_profile=True, default_profile_image=False, following=False, follow_request_sent=False, notifications=False, translator_type='none'), user=User(_api=<tweepy.api.API object at 0x7f47dc444d90>, _json={'id': 145314434, 'id_str': '145314434', 'name': 'Kyle Fritz', 'screen_name': 'KyleDFritz', 'location': 'Los Angeles', 'description': '🎬 Manager of Oscar, Emmy & Golden Globe winners for over 25 years✨\\nGuiding Actors Through the Business of Acting\\nSign up for classes or consultations👇', 'url': 'https://t.co/BNNRyxcrql', 'entities': {'url': {'urls': [{'url': 'https://t.co/BNNRyxcrql', 'expanded_url': 'https://www.kylesactingfiles.com/', 'display_url': 'kylesactingfiles.com', 'indices': [0, 23]}]}, 'description': {'urls': []}}, 'protected': False, 'followers_count': 543, 'friends_count': 188, 'listed_count': 12, 'created_at': 'Tue May 18 17:17:52 +0000 2010', 'favourites_count': 1790, 'utc_offset': None, 'time_zone': None, 'geo_enabled': False, 'verified': False, 'statuses_count': 711, 'lang': None, 'contributors_enabled': False, 'is_translator': False, 'is_translation_enabled': False, 'profile_background_color': 'C0DEED', 'profile_background_image_url': 'http://abs.twimg.com/images/themes/theme1/bg.png', 'profile_background_image_url_https': 'https://abs.twimg.com/images/themes/theme1/bg.png', 'profile_background_tile': False, 'profile_image_url': 'http://pbs.twimg.com/profile_images/1288973050810003456/Tk79GCVq_normal.jpg', 'profile_image_url_https': 'https://pbs.twimg.com/profile_images/1288973050810003456/Tk79GCVq_normal.jpg', 'profile_banner_url': 'https://pbs.twimg.com/profile_banners/145314434/1444927310', 'profile_link_color': '1DA1F2', 'profile_sidebar_border_color': 'C0DEED', 'profile_sidebar_fill_color': 'DDEEF6', 'profile_text_color': '333333', 'profile_use_background_image': True, 'has_extended_profile': False, 'default_profile': True, 'default_profile_image': False, 'following': False, 'follow_request_sent': False, 'notifications': False, 'translator_type': 'none'}, id=145314434, id_str='145314434', name='Kyle Fritz', screen_name='KyleDFritz', location='Los Angeles', description='🎬 Manager of Oscar, Emmy & Golden Globe winners for over 25 years✨\\nGuiding Actors Through the Business of Acting\\nSign up for classes or consultations👇', url='https://t.co/BNNRyxcrql', entities={'url': {'urls': [{'url': 'https://t.co/BNNRyxcrql', 'expanded_url': 'https://www.kylesactingfiles.com/', 'display_url': 'kylesactingfiles.com', 'indices': [0, 23]}]}, 'description': {'urls': []}}, protected=False, followers_count=543, friends_count=188, listed_count=12, created_at=datetime.datetime(2010, 5, 18, 17, 17, 52), favourites_count=1790, utc_offset=None, time_zone=None, geo_enabled=False, verified=False, statuses_count=711, lang=None, contributors_enabled=False, is_translator=False, is_translation_enabled=False, profile_background_color='C0DEED', profile_background_image_url='http://abs.twimg.com/images/themes/theme1/bg.png', profile_background_image_url_https='https://abs.twimg.com/images/themes/theme1/bg.png', profile_background_tile=False, profile_image_url='http://pbs.twimg.com/profile_images/1288973050810003456/Tk79GCVq_normal.jpg', profile_image_url_https='https://pbs.twimg.com/profile_images/1288973050810003456/Tk79GCVq_normal.jpg', profile_banner_url='https://pbs.twimg.com/profile_banners/145314434/1444927310', profile_link_color='1DA1F2', profile_sidebar_border_color='C0DEED', profile_sidebar_fill_color='DDEEF6', profile_text_color='333333', profile_use_background_image=True, has_extended_profile=False, default_profile=True, default_profile_image=False, following=False, follow_request_sent=False, notifications=False, translator_type='none'), geo=None, coordinates=None, place=None, contributors=None, is_quote_status=False, retweet_count=0, favorite_count=1, favorited=False, retweeted=False, lang='und'),\n",
       " Status(_api=<tweepy.api.API object at 0x7f47dc444d90>, _json={'created_at': 'Wed Nov 18 17:09:19 +0000 2020', 'id': 1329109442810454016, 'id_str': '1329109442810454016', 'full_text': '@GovWhitmer you’re a hero and a patriot! You have my full support and admiration!!', 'truncated': False, 'display_text_range': [0, 82], 'entities': {'hashtags': [], 'symbols': [], 'user_mentions': [{'screen_name': 'GovWhitmer', 'name': 'Governor Gretchen Whitmer', 'id': 102071743, 'id_str': '102071743', 'indices': [0, 11]}], 'urls': []}, 'source': '<a href=\"http://twitter.com/download/iphone\" rel=\"nofollow\">Twitter for iPhone</a>', 'in_reply_to_status_id': None, 'in_reply_to_status_id_str': None, 'in_reply_to_user_id': 102071743, 'in_reply_to_user_id_str': '102071743', 'in_reply_to_screen_name': 'GovWhitmer', 'user': {'id': 145314434, 'id_str': '145314434', 'name': 'Kyle Fritz', 'screen_name': 'KyleDFritz', 'location': 'Los Angeles', 'description': '🎬 Manager of Oscar, Emmy & Golden Globe winners for over 25 years✨\\nGuiding Actors Through the Business of Acting\\nSign up for classes or consultations👇', 'url': 'https://t.co/BNNRyxcrql', 'entities': {'url': {'urls': [{'url': 'https://t.co/BNNRyxcrql', 'expanded_url': 'https://www.kylesactingfiles.com/', 'display_url': 'kylesactingfiles.com', 'indices': [0, 23]}]}, 'description': {'urls': []}}, 'protected': False, 'followers_count': 543, 'friends_count': 188, 'listed_count': 12, 'created_at': 'Tue May 18 17:17:52 +0000 2010', 'favourites_count': 1790, 'utc_offset': None, 'time_zone': None, 'geo_enabled': False, 'verified': False, 'statuses_count': 711, 'lang': None, 'contributors_enabled': False, 'is_translator': False, 'is_translation_enabled': False, 'profile_background_color': 'C0DEED', 'profile_background_image_url': 'http://abs.twimg.com/images/themes/theme1/bg.png', 'profile_background_image_url_https': 'https://abs.twimg.com/images/themes/theme1/bg.png', 'profile_background_tile': False, 'profile_image_url': 'http://pbs.twimg.com/profile_images/1288973050810003456/Tk79GCVq_normal.jpg', 'profile_image_url_https': 'https://pbs.twimg.com/profile_images/1288973050810003456/Tk79GCVq_normal.jpg', 'profile_banner_url': 'https://pbs.twimg.com/profile_banners/145314434/1444927310', 'profile_link_color': '1DA1F2', 'profile_sidebar_border_color': 'C0DEED', 'profile_sidebar_fill_color': 'DDEEF6', 'profile_text_color': '333333', 'profile_use_background_image': True, 'has_extended_profile': False, 'default_profile': True, 'default_profile_image': False, 'following': False, 'follow_request_sent': False, 'notifications': False, 'translator_type': 'none'}, 'geo': None, 'coordinates': None, 'place': None, 'contributors': None, 'is_quote_status': False, 'retweet_count': 0, 'favorite_count': 0, 'favorited': False, 'retweeted': False, 'lang': 'en'}, created_at=datetime.datetime(2020, 11, 18, 17, 9, 19), id=1329109442810454016, id_str='1329109442810454016', full_text='@GovWhitmer you’re a hero and a patriot! You have my full support and admiration!!', truncated=False, display_text_range=[0, 82], entities={'hashtags': [], 'symbols': [], 'user_mentions': [{'screen_name': 'GovWhitmer', 'name': 'Governor Gretchen Whitmer', 'id': 102071743, 'id_str': '102071743', 'indices': [0, 11]}], 'urls': []}, source='Twitter for iPhone', source_url='http://twitter.com/download/iphone', in_reply_to_status_id=None, in_reply_to_status_id_str=None, in_reply_to_user_id=102071743, in_reply_to_user_id_str='102071743', in_reply_to_screen_name='GovWhitmer', author=User(_api=<tweepy.api.API object at 0x7f47dc444d90>, _json={'id': 145314434, 'id_str': '145314434', 'name': 'Kyle Fritz', 'screen_name': 'KyleDFritz', 'location': 'Los Angeles', 'description': '🎬 Manager of Oscar, Emmy & Golden Globe winners for over 25 years✨\\nGuiding Actors Through the Business of Acting\\nSign up for classes or consultations👇', 'url': 'https://t.co/BNNRyxcrql', 'entities': {'url': {'urls': [{'url': 'https://t.co/BNNRyxcrql', 'expanded_url': 'https://www.kylesactingfiles.com/', 'display_url': 'kylesactingfiles.com', 'indices': [0, 23]}]}, 'description': {'urls': []}}, 'protected': False, 'followers_count': 543, 'friends_count': 188, 'listed_count': 12, 'created_at': 'Tue May 18 17:17:52 +0000 2010', 'favourites_count': 1790, 'utc_offset': None, 'time_zone': None, 'geo_enabled': False, 'verified': False, 'statuses_count': 711, 'lang': None, 'contributors_enabled': False, 'is_translator': False, 'is_translation_enabled': False, 'profile_background_color': 'C0DEED', 'profile_background_image_url': 'http://abs.twimg.com/images/themes/theme1/bg.png', 'profile_background_image_url_https': 'https://abs.twimg.com/images/themes/theme1/bg.png', 'profile_background_tile': False, 'profile_image_url': 'http://pbs.twimg.com/profile_images/1288973050810003456/Tk79GCVq_normal.jpg', 'profile_image_url_https': 'https://pbs.twimg.com/profile_images/1288973050810003456/Tk79GCVq_normal.jpg', 'profile_banner_url': 'https://pbs.twimg.com/profile_banners/145314434/1444927310', 'profile_link_color': '1DA1F2', 'profile_sidebar_border_color': 'C0DEED', 'profile_sidebar_fill_color': 'DDEEF6', 'profile_text_color': '333333', 'profile_use_background_image': True, 'has_extended_profile': False, 'default_profile': True, 'default_profile_image': False, 'following': False, 'follow_request_sent': False, 'notifications': False, 'translator_type': 'none'}, id=145314434, id_str='145314434', name='Kyle Fritz', screen_name='KyleDFritz', location='Los Angeles', description='🎬 Manager of Oscar, Emmy & Golden Globe winners for over 25 years✨\\nGuiding Actors Through the Business of Acting\\nSign up for classes or consultations👇', url='https://t.co/BNNRyxcrql', entities={'url': {'urls': [{'url': 'https://t.co/BNNRyxcrql', 'expanded_url': 'https://www.kylesactingfiles.com/', 'display_url': 'kylesactingfiles.com', 'indices': [0, 23]}]}, 'description': {'urls': []}}, protected=False, followers_count=543, friends_count=188, listed_count=12, created_at=datetime.datetime(2010, 5, 18, 17, 17, 52), favourites_count=1790, utc_offset=None, time_zone=None, geo_enabled=False, verified=False, statuses_count=711, lang=None, contributors_enabled=False, is_translator=False, is_translation_enabled=False, profile_background_color='C0DEED', profile_background_image_url='http://abs.twimg.com/images/themes/theme1/bg.png', profile_background_image_url_https='https://abs.twimg.com/images/themes/theme1/bg.png', profile_background_tile=False, profile_image_url='http://pbs.twimg.com/profile_images/1288973050810003456/Tk79GCVq_normal.jpg', profile_image_url_https='https://pbs.twimg.com/profile_images/1288973050810003456/Tk79GCVq_normal.jpg', profile_banner_url='https://pbs.twimg.com/profile_banners/145314434/1444927310', profile_link_color='1DA1F2', profile_sidebar_border_color='C0DEED', profile_sidebar_fill_color='DDEEF6', profile_text_color='333333', profile_use_background_image=True, has_extended_profile=False, default_profile=True, default_profile_image=False, following=False, follow_request_sent=False, notifications=False, translator_type='none'), user=User(_api=<tweepy.api.API object at 0x7f47dc444d90>, _json={'id': 145314434, 'id_str': '145314434', 'name': 'Kyle Fritz', 'screen_name': 'KyleDFritz', 'location': 'Los Angeles', 'description': '🎬 Manager of Oscar, Emmy & Golden Globe winners for over 25 years✨\\nGuiding Actors Through the Business of Acting\\nSign up for classes or consultations👇', 'url': 'https://t.co/BNNRyxcrql', 'entities': {'url': {'urls': [{'url': 'https://t.co/BNNRyxcrql', 'expanded_url': 'https://www.kylesactingfiles.com/', 'display_url': 'kylesactingfiles.com', 'indices': [0, 23]}]}, 'description': {'urls': []}}, 'protected': False, 'followers_count': 543, 'friends_count': 188, 'listed_count': 12, 'created_at': 'Tue May 18 17:17:52 +0000 2010', 'favourites_count': 1790, 'utc_offset': None, 'time_zone': None, 'geo_enabled': False, 'verified': False, 'statuses_count': 711, 'lang': None, 'contributors_enabled': False, 'is_translator': False, 'is_translation_enabled': False, 'profile_background_color': 'C0DEED', 'profile_background_image_url': 'http://abs.twimg.com/images/themes/theme1/bg.png', 'profile_background_image_url_https': 'https://abs.twimg.com/images/themes/theme1/bg.png', 'profile_background_tile': False, 'profile_image_url': 'http://pbs.twimg.com/profile_images/1288973050810003456/Tk79GCVq_normal.jpg', 'profile_image_url_https': 'https://pbs.twimg.com/profile_images/1288973050810003456/Tk79GCVq_normal.jpg', 'profile_banner_url': 'https://pbs.twimg.com/profile_banners/145314434/1444927310', 'profile_link_color': '1DA1F2', 'profile_sidebar_border_color': 'C0DEED', 'profile_sidebar_fill_color': 'DDEEF6', 'profile_text_color': '333333', 'profile_use_background_image': True, 'has_extended_profile': False, 'default_profile': True, 'default_profile_image': False, 'following': False, 'follow_request_sent': False, 'notifications': False, 'translator_type': 'none'}, id=145314434, id_str='145314434', name='Kyle Fritz', screen_name='KyleDFritz', location='Los Angeles', description='🎬 Manager of Oscar, Emmy & Golden Globe winners for over 25 years✨\\nGuiding Actors Through the Business of Acting\\nSign up for classes or consultations👇', url='https://t.co/BNNRyxcrql', entities={'url': {'urls': [{'url': 'https://t.co/BNNRyxcrql', 'expanded_url': 'https://www.kylesactingfiles.com/', 'display_url': 'kylesactingfiles.com', 'indices': [0, 23]}]}, 'description': {'urls': []}}, protected=False, followers_count=543, friends_count=188, listed_count=12, created_at=datetime.datetime(2010, 5, 18, 17, 17, 52), favourites_count=1790, utc_offset=None, time_zone=None, geo_enabled=False, verified=False, statuses_count=711, lang=None, contributors_enabled=False, is_translator=False, is_translation_enabled=False, profile_background_color='C0DEED', profile_background_image_url='http://abs.twimg.com/images/themes/theme1/bg.png', profile_background_image_url_https='https://abs.twimg.com/images/themes/theme1/bg.png', profile_background_tile=False, profile_image_url='http://pbs.twimg.com/profile_images/1288973050810003456/Tk79GCVq_normal.jpg', profile_image_url_https='https://pbs.twimg.com/profile_images/1288973050810003456/Tk79GCVq_normal.jpg', profile_banner_url='https://pbs.twimg.com/profile_banners/145314434/1444927310', profile_link_color='1DA1F2', profile_sidebar_border_color='C0DEED', profile_sidebar_fill_color='DDEEF6', profile_text_color='333333', profile_use_background_image=True, has_extended_profile=False, default_profile=True, default_profile_image=False, following=False, follow_request_sent=False, notifications=False, translator_type='none'), geo=None, coordinates=None, place=None, contributors=None, is_quote_status=False, retweet_count=0, favorite_count=0, favorited=False, retweeted=False, lang='en'),\n",
       " Status(_api=<tweepy.api.API object at 0x7f47dc444d90>, _json={'created_at': 'Sat Nov 21 04:46:51 +0000 2020', 'id': 1330009757730672641, 'id_str': '1330009757730672641', 'full_text': '@hatiperi_wacho @thaslickpastor Ve pakati varikukuvara ne hot water', 'truncated': False, 'display_text_range': [32, 67], 'entities': {'hashtags': [], 'symbols': [], 'user_mentions': [{'screen_name': 'hatiperi_wacho', 'name': 'MR MATAYI 👑', 'id': 1034021256985800706, 'id_str': '1034021256985800706', 'indices': [0, 15]}, {'screen_name': 'thaslickpastor', 'name': 'ThaSlickPastor😎👑', 'id': 701020210661351424, 'id_str': '701020210661351424', 'indices': [16, 31]}], 'urls': []}, 'source': '<a href=\"http://twitter.com/download/android\" rel=\"nofollow\">Twitter for Android</a>', 'in_reply_to_status_id': 1330008894270287873, 'in_reply_to_status_id_str': '1330008894270287873', 'in_reply_to_user_id': 1034021256985800706, 'in_reply_to_user_id_str': '1034021256985800706', 'in_reply_to_screen_name': 'hatiperi_wacho', 'user': {'id': 700553595880493057, 'id_str': '700553595880493057', 'name': 'M.Ziyambi', 'screen_name': 'MufaroHZiyambi', 'location': 'Harare, Zimbabwe', 'description': '#VeniVidiVici', 'url': None, 'entities': {'description': {'urls': []}}, 'protected': False, 'followers_count': 3354, 'friends_count': 3064, 'listed_count': 0, 'created_at': 'Fri Feb 19 05:32:47 +0000 2016', 'favourites_count': 73698, 'utc_offset': None, 'time_zone': None, 'geo_enabled': False, 'verified': False, 'statuses_count': 7934, 'lang': None, 'contributors_enabled': False, 'is_translator': False, 'is_translation_enabled': False, 'profile_background_color': '000000', 'profile_background_image_url': 'http://abs.twimg.com/images/themes/theme1/bg.png', 'profile_background_image_url_https': 'https://abs.twimg.com/images/themes/theme1/bg.png', 'profile_background_tile': False, 'profile_image_url': 'http://pbs.twimg.com/profile_images/1254079472367734786/MbG3F4WY_normal.jpg', 'profile_image_url_https': 'https://pbs.twimg.com/profile_images/1254079472367734786/MbG3F4WY_normal.jpg', 'profile_link_color': '1B95E0', 'profile_sidebar_border_color': '000000', 'profile_sidebar_fill_color': '000000', 'profile_text_color': '000000', 'profile_use_background_image': False, 'has_extended_profile': True, 'default_profile': False, 'default_profile_image': False, 'following': False, 'follow_request_sent': False, 'notifications': False, 'translator_type': 'none'}, 'geo': None, 'coordinates': None, 'place': None, 'contributors': None, 'is_quote_status': False, 'retweet_count': 0, 'favorite_count': 1, 'favorited': False, 'retweeted': False, 'lang': 'et'}, created_at=datetime.datetime(2020, 11, 21, 4, 46, 51), id=1330009757730672641, id_str='1330009757730672641', full_text='@hatiperi_wacho @thaslickpastor Ve pakati varikukuvara ne hot water', truncated=False, display_text_range=[32, 67], entities={'hashtags': [], 'symbols': [], 'user_mentions': [{'screen_name': 'hatiperi_wacho', 'name': 'MR MATAYI 👑', 'id': 1034021256985800706, 'id_str': '1034021256985800706', 'indices': [0, 15]}, {'screen_name': 'thaslickpastor', 'name': 'ThaSlickPastor😎👑', 'id': 701020210661351424, 'id_str': '701020210661351424', 'indices': [16, 31]}], 'urls': []}, source='Twitter for Android', source_url='http://twitter.com/download/android', in_reply_to_status_id=1330008894270287873, in_reply_to_status_id_str='1330008894270287873', in_reply_to_user_id=1034021256985800706, in_reply_to_user_id_str='1034021256985800706', in_reply_to_screen_name='hatiperi_wacho', author=User(_api=<tweepy.api.API object at 0x7f47dc444d90>, _json={'id': 700553595880493057, 'id_str': '700553595880493057', 'name': 'M.Ziyambi', 'screen_name': 'MufaroHZiyambi', 'location': 'Harare, Zimbabwe', 'description': '#VeniVidiVici', 'url': None, 'entities': {'description': {'urls': []}}, 'protected': False, 'followers_count': 3354, 'friends_count': 3064, 'listed_count': 0, 'created_at': 'Fri Feb 19 05:32:47 +0000 2016', 'favourites_count': 73698, 'utc_offset': None, 'time_zone': None, 'geo_enabled': False, 'verified': False, 'statuses_count': 7934, 'lang': None, 'contributors_enabled': False, 'is_translator': False, 'is_translation_enabled': False, 'profile_background_color': '000000', 'profile_background_image_url': 'http://abs.twimg.com/images/themes/theme1/bg.png', 'profile_background_image_url_https': 'https://abs.twimg.com/images/themes/theme1/bg.png', 'profile_background_tile': False, 'profile_image_url': 'http://pbs.twimg.com/profile_images/1254079472367734786/MbG3F4WY_normal.jpg', 'profile_image_url_https': 'https://pbs.twimg.com/profile_images/1254079472367734786/MbG3F4WY_normal.jpg', 'profile_link_color': '1B95E0', 'profile_sidebar_border_color': '000000', 'profile_sidebar_fill_color': '000000', 'profile_text_color': '000000', 'profile_use_background_image': False, 'has_extended_profile': True, 'default_profile': False, 'default_profile_image': False, 'following': False, 'follow_request_sent': False, 'notifications': False, 'translator_type': 'none'}, id=700553595880493057, id_str='700553595880493057', name='M.Ziyambi', screen_name='MufaroHZiyambi', location='Harare, Zimbabwe', description='#VeniVidiVici', url=None, entities={'description': {'urls': []}}, protected=False, followers_count=3354, friends_count=3064, listed_count=0, created_at=datetime.datetime(2016, 2, 19, 5, 32, 47), favourites_count=73698, utc_offset=None, time_zone=None, geo_enabled=False, verified=False, statuses_count=7934, lang=None, contributors_enabled=False, is_translator=False, is_translation_enabled=False, profile_background_color='000000', profile_background_image_url='http://abs.twimg.com/images/themes/theme1/bg.png', profile_background_image_url_https='https://abs.twimg.com/images/themes/theme1/bg.png', profile_background_tile=False, profile_image_url='http://pbs.twimg.com/profile_images/1254079472367734786/MbG3F4WY_normal.jpg', profile_image_url_https='https://pbs.twimg.com/profile_images/1254079472367734786/MbG3F4WY_normal.jpg', profile_link_color='1B95E0', profile_sidebar_border_color='000000', profile_sidebar_fill_color='000000', profile_text_color='000000', profile_use_background_image=False, has_extended_profile=True, default_profile=False, default_profile_image=False, following=False, follow_request_sent=False, notifications=False, translator_type='none'), user=User(_api=<tweepy.api.API object at 0x7f47dc444d90>, _json={'id': 700553595880493057, 'id_str': '700553595880493057', 'name': 'M.Ziyambi', 'screen_name': 'MufaroHZiyambi', 'location': 'Harare, Zimbabwe', 'description': '#VeniVidiVici', 'url': None, 'entities': {'description': {'urls': []}}, 'protected': False, 'followers_count': 3354, 'friends_count': 3064, 'listed_count': 0, 'created_at': 'Fri Feb 19 05:32:47 +0000 2016', 'favourites_count': 73698, 'utc_offset': None, 'time_zone': None, 'geo_enabled': False, 'verified': False, 'statuses_count': 7934, 'lang': None, 'contributors_enabled': False, 'is_translator': False, 'is_translation_enabled': False, 'profile_background_color': '000000', 'profile_background_image_url': 'http://abs.twimg.com/images/themes/theme1/bg.png', 'profile_background_image_url_https': 'https://abs.twimg.com/images/themes/theme1/bg.png', 'profile_background_tile': False, 'profile_image_url': 'http://pbs.twimg.com/profile_images/1254079472367734786/MbG3F4WY_normal.jpg', 'profile_image_url_https': 'https://pbs.twimg.com/profile_images/1254079472367734786/MbG3F4WY_normal.jpg', 'profile_link_color': '1B95E0', 'profile_sidebar_border_color': '000000', 'profile_sidebar_fill_color': '000000', 'profile_text_color': '000000', 'profile_use_background_image': False, 'has_extended_profile': True, 'default_profile': False, 'default_profile_image': False, 'following': False, 'follow_request_sent': False, 'notifications': False, 'translator_type': 'none'}, id=700553595880493057, id_str='700553595880493057', name='M.Ziyambi', screen_name='MufaroHZiyambi', location='Harare, Zimbabwe', description='#VeniVidiVici', url=None, entities={'description': {'urls': []}}, protected=False, followers_count=3354, friends_count=3064, listed_count=0, created_at=datetime.datetime(2016, 2, 19, 5, 32, 47), favourites_count=73698, utc_offset=None, time_zone=None, geo_enabled=False, verified=False, statuses_count=7934, lang=None, contributors_enabled=False, is_translator=False, is_translation_enabled=False, profile_background_color='000000', profile_background_image_url='http://abs.twimg.com/images/themes/theme1/bg.png', profile_background_image_url_https='https://abs.twimg.com/images/themes/theme1/bg.png', profile_background_tile=False, profile_image_url='http://pbs.twimg.com/profile_images/1254079472367734786/MbG3F4WY_normal.jpg', profile_image_url_https='https://pbs.twimg.com/profile_images/1254079472367734786/MbG3F4WY_normal.jpg', profile_link_color='1B95E0', profile_sidebar_border_color='000000', profile_sidebar_fill_color='000000', profile_text_color='000000', profile_use_background_image=False, has_extended_profile=True, default_profile=False, default_profile_image=False, following=False, follow_request_sent=False, notifications=False, translator_type='none'), geo=None, coordinates=None, place=None, contributors=None, is_quote_status=False, retweet_count=0, favorite_count=1, favorited=False, retweeted=False, lang='et'),\n",
       " Status(_api=<tweepy.api.API object at 0x7f47dc444d90>, _json={'created_at': 'Thu Nov 19 06:17:16 +0000 2020', 'id': 1329307735473713154, 'id_str': '1329307735473713154', 'full_text': '@maurocezar ficou muito claro Mauro. Comentario sensato por sinal.', 'truncated': False, 'display_text_range': [12, 66], 'entities': {'hashtags': [], 'symbols': [], 'user_mentions': [{'screen_name': 'maurocezar', 'name': 'Mauro Cezar', 'id': 55069015, 'id_str': '55069015', 'indices': [0, 11]}], 'urls': []}, 'source': '<a href=\"https://mobile.twitter.com\" rel=\"nofollow\">Twitter Web App</a>', 'in_reply_to_status_id': 1329304928876113920, 'in_reply_to_status_id_str': '1329304928876113920', 'in_reply_to_user_id': 55069015, 'in_reply_to_user_id_str': '55069015', 'in_reply_to_screen_name': 'maurocezar', 'user': {'id': 59023680, 'id_str': '59023680', 'name': 'Piranha News', 'screen_name': 'pimentaluiz', 'location': '', 'description': '', 'url': None, 'entities': {'description': {'urls': []}}, 'protected': False, 'followers_count': 37, 'friends_count': 677, 'listed_count': 1, 'created_at': 'Wed Jul 22 03:39:23 +0000 2009', 'favourites_count': 78, 'utc_offset': None, 'time_zone': None, 'geo_enabled': False, 'verified': False, 'statuses_count': 66, 'lang': None, 'contributors_enabled': False, 'is_translator': False, 'is_translation_enabled': False, 'profile_background_color': 'C0DEED', 'profile_background_image_url': 'http://abs.twimg.com/images/themes/theme1/bg.png', 'profile_background_image_url_https': 'https://abs.twimg.com/images/themes/theme1/bg.png', 'profile_background_tile': False, 'profile_image_url': 'http://pbs.twimg.com/profile_images/773555372648988672/hJbl_ILy_normal.jpg', 'profile_image_url_https': 'https://pbs.twimg.com/profile_images/773555372648988672/hJbl_ILy_normal.jpg', 'profile_link_color': '1DA1F2', 'profile_sidebar_border_color': 'C0DEED', 'profile_sidebar_fill_color': 'DDEEF6', 'profile_text_color': '333333', 'profile_use_background_image': True, 'has_extended_profile': False, 'default_profile': True, 'default_profile_image': False, 'following': False, 'follow_request_sent': False, 'notifications': False, 'translator_type': 'none'}, 'geo': None, 'coordinates': None, 'place': None, 'contributors': None, 'is_quote_status': False, 'retweet_count': 0, 'favorite_count': 0, 'favorited': False, 'retweeted': False, 'lang': 'pt'}, created_at=datetime.datetime(2020, 11, 19, 6, 17, 16), id=1329307735473713154, id_str='1329307735473713154', full_text='@maurocezar ficou muito claro Mauro. Comentario sensato por sinal.', truncated=False, display_text_range=[12, 66], entities={'hashtags': [], 'symbols': [], 'user_mentions': [{'screen_name': 'maurocezar', 'name': 'Mauro Cezar', 'id': 55069015, 'id_str': '55069015', 'indices': [0, 11]}], 'urls': []}, source='Twitter Web App', source_url='https://mobile.twitter.com', in_reply_to_status_id=1329304928876113920, in_reply_to_status_id_str='1329304928876113920', in_reply_to_user_id=55069015, in_reply_to_user_id_str='55069015', in_reply_to_screen_name='maurocezar', author=User(_api=<tweepy.api.API object at 0x7f47dc444d90>, _json={'id': 59023680, 'id_str': '59023680', 'name': 'Piranha News', 'screen_name': 'pimentaluiz', 'location': '', 'description': '', 'url': None, 'entities': {'description': {'urls': []}}, 'protected': False, 'followers_count': 37, 'friends_count': 677, 'listed_count': 1, 'created_at': 'Wed Jul 22 03:39:23 +0000 2009', 'favourites_count': 78, 'utc_offset': None, 'time_zone': None, 'geo_enabled': False, 'verified': False, 'statuses_count': 66, 'lang': None, 'contributors_enabled': False, 'is_translator': False, 'is_translation_enabled': False, 'profile_background_color': 'C0DEED', 'profile_background_image_url': 'http://abs.twimg.com/images/themes/theme1/bg.png', 'profile_background_image_url_https': 'https://abs.twimg.com/images/themes/theme1/bg.png', 'profile_background_tile': False, 'profile_image_url': 'http://pbs.twimg.com/profile_images/773555372648988672/hJbl_ILy_normal.jpg', 'profile_image_url_https': 'https://pbs.twimg.com/profile_images/773555372648988672/hJbl_ILy_normal.jpg', 'profile_link_color': '1DA1F2', 'profile_sidebar_border_color': 'C0DEED', 'profile_sidebar_fill_color': 'DDEEF6', 'profile_text_color': '333333', 'profile_use_background_image': True, 'has_extended_profile': False, 'default_profile': True, 'default_profile_image': False, 'following': False, 'follow_request_sent': False, 'notifications': False, 'translator_type': 'none'}, id=59023680, id_str='59023680', name='Piranha News', screen_name='pimentaluiz', location='', description='', url=None, entities={'description': {'urls': []}}, protected=False, followers_count=37, friends_count=677, listed_count=1, created_at=datetime.datetime(2009, 7, 22, 3, 39, 23), favourites_count=78, utc_offset=None, time_zone=None, geo_enabled=False, verified=False, statuses_count=66, lang=None, contributors_enabled=False, is_translator=False, is_translation_enabled=False, profile_background_color='C0DEED', profile_background_image_url='http://abs.twimg.com/images/themes/theme1/bg.png', profile_background_image_url_https='https://abs.twimg.com/images/themes/theme1/bg.png', profile_background_tile=False, profile_image_url='http://pbs.twimg.com/profile_images/773555372648988672/hJbl_ILy_normal.jpg', profile_image_url_https='https://pbs.twimg.com/profile_images/773555372648988672/hJbl_ILy_normal.jpg', profile_link_color='1DA1F2', profile_sidebar_border_color='C0DEED', profile_sidebar_fill_color='DDEEF6', profile_text_color='333333', profile_use_background_image=True, has_extended_profile=False, default_profile=True, default_profile_image=False, following=False, follow_request_sent=False, notifications=False, translator_type='none'), user=User(_api=<tweepy.api.API object at 0x7f47dc444d90>, _json={'id': 59023680, 'id_str': '59023680', 'name': 'Piranha News', 'screen_name': 'pimentaluiz', 'location': '', 'description': '', 'url': None, 'entities': {'description': {'urls': []}}, 'protected': False, 'followers_count': 37, 'friends_count': 677, 'listed_count': 1, 'created_at': 'Wed Jul 22 03:39:23 +0000 2009', 'favourites_count': 78, 'utc_offset': None, 'time_zone': None, 'geo_enabled': False, 'verified': False, 'statuses_count': 66, 'lang': None, 'contributors_enabled': False, 'is_translator': False, 'is_translation_enabled': False, 'profile_background_color': 'C0DEED', 'profile_background_image_url': 'http://abs.twimg.com/images/themes/theme1/bg.png', 'profile_background_image_url_https': 'https://abs.twimg.com/images/themes/theme1/bg.png', 'profile_background_tile': False, 'profile_image_url': 'http://pbs.twimg.com/profile_images/773555372648988672/hJbl_ILy_normal.jpg', 'profile_image_url_https': 'https://pbs.twimg.com/profile_images/773555372648988672/hJbl_ILy_normal.jpg', 'profile_link_color': '1DA1F2', 'profile_sidebar_border_color': 'C0DEED', 'profile_sidebar_fill_color': 'DDEEF6', 'profile_text_color': '333333', 'profile_use_background_image': True, 'has_extended_profile': False, 'default_profile': True, 'default_profile_image': False, 'following': False, 'follow_request_sent': False, 'notifications': False, 'translator_type': 'none'}, id=59023680, id_str='59023680', name='Piranha News', screen_name='pimentaluiz', location='', description='', url=None, entities={'description': {'urls': []}}, protected=False, followers_count=37, friends_count=677, listed_count=1, created_at=datetime.datetime(2009, 7, 22, 3, 39, 23), favourites_count=78, utc_offset=None, time_zone=None, geo_enabled=False, verified=False, statuses_count=66, lang=None, contributors_enabled=False, is_translator=False, is_translation_enabled=False, profile_background_color='C0DEED', profile_background_image_url='http://abs.twimg.com/images/themes/theme1/bg.png', profile_background_image_url_https='https://abs.twimg.com/images/themes/theme1/bg.png', profile_background_tile=False, profile_image_url='http://pbs.twimg.com/profile_images/773555372648988672/hJbl_ILy_normal.jpg', profile_image_url_https='https://pbs.twimg.com/profile_images/773555372648988672/hJbl_ILy_normal.jpg', profile_link_color='1DA1F2', profile_sidebar_border_color='C0DEED', profile_sidebar_fill_color='DDEEF6', profile_text_color='333333', profile_use_background_image=True, has_extended_profile=False, default_profile=True, default_profile_image=False, following=False, follow_request_sent=False, notifications=False, translator_type='none'), geo=None, coordinates=None, place=None, contributors=None, is_quote_status=False, retweet_count=0, favorite_count=0, favorited=False, retweeted=False, lang='pt'),\n",
       " Status(_api=<tweepy.api.API object at 0x7f47dc444d90>, _json={'created_at': 'Mon Nov 09 14:05:41 +0000 2020', 'id': 1325801739166097409, 'id_str': '1325801739166097409', 'full_text': '@henrybugalho Se for serie é Spoiler, pois vc entrega a temporada q o dito cujo morre.', 'truncated': False, 'display_text_range': [14, 86], 'entities': {'hashtags': [], 'symbols': [], 'user_mentions': [{'screen_name': 'henrybugalho', 'name': 'Henry Bugalho', 'id': 20294499, 'id_str': '20294499', 'indices': [0, 13]}], 'urls': []}, 'source': '<a href=\"http://twitter.com/download/iphone\" rel=\"nofollow\">Twitter for iPhone</a>', 'in_reply_to_status_id': 1325759155227996161, 'in_reply_to_status_id_str': '1325759155227996161', 'in_reply_to_user_id': 20294499, 'in_reply_to_user_id_str': '20294499', 'in_reply_to_screen_name': 'henrybugalho', 'user': {'id': 59023680, 'id_str': '59023680', 'name': 'Piranha News', 'screen_name': 'pimentaluiz', 'location': '', 'description': '', 'url': None, 'entities': {'description': {'urls': []}}, 'protected': False, 'followers_count': 37, 'friends_count': 677, 'listed_count': 1, 'created_at': 'Wed Jul 22 03:39:23 +0000 2009', 'favourites_count': 78, 'utc_offset': None, 'time_zone': None, 'geo_enabled': False, 'verified': False, 'statuses_count': 66, 'lang': None, 'contributors_enabled': False, 'is_translator': False, 'is_translation_enabled': False, 'profile_background_color': 'C0DEED', 'profile_background_image_url': 'http://abs.twimg.com/images/themes/theme1/bg.png', 'profile_background_image_url_https': 'https://abs.twimg.com/images/themes/theme1/bg.png', 'profile_background_tile': False, 'profile_image_url': 'http://pbs.twimg.com/profile_images/773555372648988672/hJbl_ILy_normal.jpg', 'profile_image_url_https': 'https://pbs.twimg.com/profile_images/773555372648988672/hJbl_ILy_normal.jpg', 'profile_link_color': '1DA1F2', 'profile_sidebar_border_color': 'C0DEED', 'profile_sidebar_fill_color': 'DDEEF6', 'profile_text_color': '333333', 'profile_use_background_image': True, 'has_extended_profile': False, 'default_profile': True, 'default_profile_image': False, 'following': False, 'follow_request_sent': False, 'notifications': False, 'translator_type': 'none'}, 'geo': None, 'coordinates': None, 'place': None, 'contributors': None, 'is_quote_status': False, 'retweet_count': 0, 'favorite_count': 0, 'favorited': False, 'retweeted': False, 'lang': 'pt'}, created_at=datetime.datetime(2020, 11, 9, 14, 5, 41), id=1325801739166097409, id_str='1325801739166097409', full_text='@henrybugalho Se for serie é Spoiler, pois vc entrega a temporada q o dito cujo morre.', truncated=False, display_text_range=[14, 86], entities={'hashtags': [], 'symbols': [], 'user_mentions': [{'screen_name': 'henrybugalho', 'name': 'Henry Bugalho', 'id': 20294499, 'id_str': '20294499', 'indices': [0, 13]}], 'urls': []}, source='Twitter for iPhone', source_url='http://twitter.com/download/iphone', in_reply_to_status_id=1325759155227996161, in_reply_to_status_id_str='1325759155227996161', in_reply_to_user_id=20294499, in_reply_to_user_id_str='20294499', in_reply_to_screen_name='henrybugalho', author=User(_api=<tweepy.api.API object at 0x7f47dc444d90>, _json={'id': 59023680, 'id_str': '59023680', 'name': 'Piranha News', 'screen_name': 'pimentaluiz', 'location': '', 'description': '', 'url': None, 'entities': {'description': {'urls': []}}, 'protected': False, 'followers_count': 37, 'friends_count': 677, 'listed_count': 1, 'created_at': 'Wed Jul 22 03:39:23 +0000 2009', 'favourites_count': 78, 'utc_offset': None, 'time_zone': None, 'geo_enabled': False, 'verified': False, 'statuses_count': 66, 'lang': None, 'contributors_enabled': False, 'is_translator': False, 'is_translation_enabled': False, 'profile_background_color': 'C0DEED', 'profile_background_image_url': 'http://abs.twimg.com/images/themes/theme1/bg.png', 'profile_background_image_url_https': 'https://abs.twimg.com/images/themes/theme1/bg.png', 'profile_background_tile': False, 'profile_image_url': 'http://pbs.twimg.com/profile_images/773555372648988672/hJbl_ILy_normal.jpg', 'profile_image_url_https': 'https://pbs.twimg.com/profile_images/773555372648988672/hJbl_ILy_normal.jpg', 'profile_link_color': '1DA1F2', 'profile_sidebar_border_color': 'C0DEED', 'profile_sidebar_fill_color': 'DDEEF6', 'profile_text_color': '333333', 'profile_use_background_image': True, 'has_extended_profile': False, 'default_profile': True, 'default_profile_image': False, 'following': False, 'follow_request_sent': False, 'notifications': False, 'translator_type': 'none'}, id=59023680, id_str='59023680', name='Piranha News', screen_name='pimentaluiz', location='', description='', url=None, entities={'description': {'urls': []}}, protected=False, followers_count=37, friends_count=677, listed_count=1, created_at=datetime.datetime(2009, 7, 22, 3, 39, 23), favourites_count=78, utc_offset=None, time_zone=None, geo_enabled=False, verified=False, statuses_count=66, lang=None, contributors_enabled=False, is_translator=False, is_translation_enabled=False, profile_background_color='C0DEED', profile_background_image_url='http://abs.twimg.com/images/themes/theme1/bg.png', profile_background_image_url_https='https://abs.twimg.com/images/themes/theme1/bg.png', profile_background_tile=False, profile_image_url='http://pbs.twimg.com/profile_images/773555372648988672/hJbl_ILy_normal.jpg', profile_image_url_https='https://pbs.twimg.com/profile_images/773555372648988672/hJbl_ILy_normal.jpg', profile_link_color='1DA1F2', profile_sidebar_border_color='C0DEED', profile_sidebar_fill_color='DDEEF6', profile_text_color='333333', profile_use_background_image=True, has_extended_profile=False, default_profile=True, default_profile_image=False, following=False, follow_request_sent=False, notifications=False, translator_type='none'), user=User(_api=<tweepy.api.API object at 0x7f47dc444d90>, _json={'id': 59023680, 'id_str': '59023680', 'name': 'Piranha News', 'screen_name': 'pimentaluiz', 'location': '', 'description': '', 'url': None, 'entities': {'description': {'urls': []}}, 'protected': False, 'followers_count': 37, 'friends_count': 677, 'listed_count': 1, 'created_at': 'Wed Jul 22 03:39:23 +0000 2009', 'favourites_count': 78, 'utc_offset': None, 'time_zone': None, 'geo_enabled': False, 'verified': False, 'statuses_count': 66, 'lang': None, 'contributors_enabled': False, 'is_translator': False, 'is_translation_enabled': False, 'profile_background_color': 'C0DEED', 'profile_background_image_url': 'http://abs.twimg.com/images/themes/theme1/bg.png', 'profile_background_image_url_https': 'https://abs.twimg.com/images/themes/theme1/bg.png', 'profile_background_tile': False, 'profile_image_url': 'http://pbs.twimg.com/profile_images/773555372648988672/hJbl_ILy_normal.jpg', 'profile_image_url_https': 'https://pbs.twimg.com/profile_images/773555372648988672/hJbl_ILy_normal.jpg', 'profile_link_color': '1DA1F2', 'profile_sidebar_border_color': 'C0DEED', 'profile_sidebar_fill_color': 'DDEEF6', 'profile_text_color': '333333', 'profile_use_background_image': True, 'has_extended_profile': False, 'default_profile': True, 'default_profile_image': False, 'following': False, 'follow_request_sent': False, 'notifications': False, 'translator_type': 'none'}, id=59023680, id_str='59023680', name='Piranha News', screen_name='pimentaluiz', location='', description='', url=None, entities={'description': {'urls': []}}, protected=False, followers_count=37, friends_count=677, listed_count=1, created_at=datetime.datetime(2009, 7, 22, 3, 39, 23), favourites_count=78, utc_offset=None, time_zone=None, geo_enabled=False, verified=False, statuses_count=66, lang=None, contributors_enabled=False, is_translator=False, is_translation_enabled=False, profile_background_color='C0DEED', profile_background_image_url='http://abs.twimg.com/images/themes/theme1/bg.png', profile_background_image_url_https='https://abs.twimg.com/images/themes/theme1/bg.png', profile_background_tile=False, profile_image_url='http://pbs.twimg.com/profile_images/773555372648988672/hJbl_ILy_normal.jpg', profile_image_url_https='https://pbs.twimg.com/profile_images/773555372648988672/hJbl_ILy_normal.jpg', profile_link_color='1DA1F2', profile_sidebar_border_color='C0DEED', profile_sidebar_fill_color='DDEEF6', profile_text_color='333333', profile_use_background_image=True, has_extended_profile=False, default_profile=True, default_profile_image=False, following=False, follow_request_sent=False, notifications=False, translator_type='none'), geo=None, coordinates=None, place=None, contributors=None, is_quote_status=False, retweet_count=0, favorite_count=0, favorited=False, retweeted=False, lang='pt'),\n",
       " Status(_api=<tweepy.api.API object at 0x7f47dc444d90>, _json={'created_at': 'Sun Nov 08 16:21:01 +0000 2020', 'id': 1325473411162923008, 'id_str': '1325473411162923008', 'full_text': '@itslaly Perfeita a explicação da Priori. Irretocável.', 'truncated': False, 'display_text_range': [9, 54], 'entities': {'hashtags': [], 'symbols': [], 'user_mentions': [{'screen_name': 'itslaly', 'name': 'celtinha 2010', 'id': 87594130, 'id_str': '87594130', 'indices': [0, 8]}], 'urls': []}, 'source': '<a href=\"http://twitter.com/download/iphone\" rel=\"nofollow\">Twitter for iPhone</a>', 'in_reply_to_status_id': 1323727684174831618, 'in_reply_to_status_id_str': '1323727684174831618', 'in_reply_to_user_id': 87594130, 'in_reply_to_user_id_str': '87594130', 'in_reply_to_screen_name': 'itslaly', 'user': {'id': 59023680, 'id_str': '59023680', 'name': 'Piranha News', 'screen_name': 'pimentaluiz', 'location': '', 'description': '', 'url': None, 'entities': {'description': {'urls': []}}, 'protected': False, 'followers_count': 37, 'friends_count': 677, 'listed_count': 1, 'created_at': 'Wed Jul 22 03:39:23 +0000 2009', 'favourites_count': 78, 'utc_offset': None, 'time_zone': None, 'geo_enabled': False, 'verified': False, 'statuses_count': 66, 'lang': None, 'contributors_enabled': False, 'is_translator': False, 'is_translation_enabled': False, 'profile_background_color': 'C0DEED', 'profile_background_image_url': 'http://abs.twimg.com/images/themes/theme1/bg.png', 'profile_background_image_url_https': 'https://abs.twimg.com/images/themes/theme1/bg.png', 'profile_background_tile': False, 'profile_image_url': 'http://pbs.twimg.com/profile_images/773555372648988672/hJbl_ILy_normal.jpg', 'profile_image_url_https': 'https://pbs.twimg.com/profile_images/773555372648988672/hJbl_ILy_normal.jpg', 'profile_link_color': '1DA1F2', 'profile_sidebar_border_color': 'C0DEED', 'profile_sidebar_fill_color': 'DDEEF6', 'profile_text_color': '333333', 'profile_use_background_image': True, 'has_extended_profile': False, 'default_profile': True, 'default_profile_image': False, 'following': False, 'follow_request_sent': False, 'notifications': False, 'translator_type': 'none'}, 'geo': None, 'coordinates': None, 'place': None, 'contributors': None, 'is_quote_status': False, 'retweet_count': 0, 'favorite_count': 0, 'favorited': False, 'retweeted': False, 'lang': 'pt'}, created_at=datetime.datetime(2020, 11, 8, 16, 21, 1), id=1325473411162923008, id_str='1325473411162923008', full_text='@itslaly Perfeita a explicação da Priori. Irretocável.', truncated=False, display_text_range=[9, 54], entities={'hashtags': [], 'symbols': [], 'user_mentions': [{'screen_name': 'itslaly', 'name': 'celtinha 2010', 'id': 87594130, 'id_str': '87594130', 'indices': [0, 8]}], 'urls': []}, source='Twitter for iPhone', source_url='http://twitter.com/download/iphone', in_reply_to_status_id=1323727684174831618, in_reply_to_status_id_str='1323727684174831618', in_reply_to_user_id=87594130, in_reply_to_user_id_str='87594130', in_reply_to_screen_name='itslaly', author=User(_api=<tweepy.api.API object at 0x7f47dc444d90>, _json={'id': 59023680, 'id_str': '59023680', 'name': 'Piranha News', 'screen_name': 'pimentaluiz', 'location': '', 'description': '', 'url': None, 'entities': {'description': {'urls': []}}, 'protected': False, 'followers_count': 37, 'friends_count': 677, 'listed_count': 1, 'created_at': 'Wed Jul 22 03:39:23 +0000 2009', 'favourites_count': 78, 'utc_offset': None, 'time_zone': None, 'geo_enabled': False, 'verified': False, 'statuses_count': 66, 'lang': None, 'contributors_enabled': False, 'is_translator': False, 'is_translation_enabled': False, 'profile_background_color': 'C0DEED', 'profile_background_image_url': 'http://abs.twimg.com/images/themes/theme1/bg.png', 'profile_background_image_url_https': 'https://abs.twimg.com/images/themes/theme1/bg.png', 'profile_background_tile': False, 'profile_image_url': 'http://pbs.twimg.com/profile_images/773555372648988672/hJbl_ILy_normal.jpg', 'profile_image_url_https': 'https://pbs.twimg.com/profile_images/773555372648988672/hJbl_ILy_normal.jpg', 'profile_link_color': '1DA1F2', 'profile_sidebar_border_color': 'C0DEED', 'profile_sidebar_fill_color': 'DDEEF6', 'profile_text_color': '333333', 'profile_use_background_image': True, 'has_extended_profile': False, 'default_profile': True, 'default_profile_image': False, 'following': False, 'follow_request_sent': False, 'notifications': False, 'translator_type': 'none'}, id=59023680, id_str='59023680', name='Piranha News', screen_name='pimentaluiz', location='', description='', url=None, entities={'description': {'urls': []}}, protected=False, followers_count=37, friends_count=677, listed_count=1, created_at=datetime.datetime(2009, 7, 22, 3, 39, 23), favourites_count=78, utc_offset=None, time_zone=None, geo_enabled=False, verified=False, statuses_count=66, lang=None, contributors_enabled=False, is_translator=False, is_translation_enabled=False, profile_background_color='C0DEED', profile_background_image_url='http://abs.twimg.com/images/themes/theme1/bg.png', profile_background_image_url_https='https://abs.twimg.com/images/themes/theme1/bg.png', profile_background_tile=False, profile_image_url='http://pbs.twimg.com/profile_images/773555372648988672/hJbl_ILy_normal.jpg', profile_image_url_https='https://pbs.twimg.com/profile_images/773555372648988672/hJbl_ILy_normal.jpg', profile_link_color='1DA1F2', profile_sidebar_border_color='C0DEED', profile_sidebar_fill_color='DDEEF6', profile_text_color='333333', profile_use_background_image=True, has_extended_profile=False, default_profile=True, default_profile_image=False, following=False, follow_request_sent=False, notifications=False, translator_type='none'), user=User(_api=<tweepy.api.API object at 0x7f47dc444d90>, _json={'id': 59023680, 'id_str': '59023680', 'name': 'Piranha News', 'screen_name': 'pimentaluiz', 'location': '', 'description': '', 'url': None, 'entities': {'description': {'urls': []}}, 'protected': False, 'followers_count': 37, 'friends_count': 677, 'listed_count': 1, 'created_at': 'Wed Jul 22 03:39:23 +0000 2009', 'favourites_count': 78, 'utc_offset': None, 'time_zone': None, 'geo_enabled': False, 'verified': False, 'statuses_count': 66, 'lang': None, 'contributors_enabled': False, 'is_translator': False, 'is_translation_enabled': False, 'profile_background_color': 'C0DEED', 'profile_background_image_url': 'http://abs.twimg.com/images/themes/theme1/bg.png', 'profile_background_image_url_https': 'https://abs.twimg.com/images/themes/theme1/bg.png', 'profile_background_tile': False, 'profile_image_url': 'http://pbs.twimg.com/profile_images/773555372648988672/hJbl_ILy_normal.jpg', 'profile_image_url_https': 'https://pbs.twimg.com/profile_images/773555372648988672/hJbl_ILy_normal.jpg', 'profile_link_color': '1DA1F2', 'profile_sidebar_border_color': 'C0DEED', 'profile_sidebar_fill_color': 'DDEEF6', 'profile_text_color': '333333', 'profile_use_background_image': True, 'has_extended_profile': False, 'default_profile': True, 'default_profile_image': False, 'following': False, 'follow_request_sent': False, 'notifications': False, 'translator_type': 'none'}, id=59023680, id_str='59023680', name='Piranha News', screen_name='pimentaluiz', location='', description='', url=None, entities={'description': {'urls': []}}, protected=False, followers_count=37, friends_count=677, listed_count=1, created_at=datetime.datetime(2009, 7, 22, 3, 39, 23), favourites_count=78, utc_offset=None, time_zone=None, geo_enabled=False, verified=False, statuses_count=66, lang=None, contributors_enabled=False, is_translator=False, is_translation_enabled=False, profile_background_color='C0DEED', profile_background_image_url='http://abs.twimg.com/images/themes/theme1/bg.png', profile_background_image_url_https='https://abs.twimg.com/images/themes/theme1/bg.png', profile_background_tile=False, profile_image_url='http://pbs.twimg.com/profile_images/773555372648988672/hJbl_ILy_normal.jpg', profile_image_url_https='https://pbs.twimg.com/profile_images/773555372648988672/hJbl_ILy_normal.jpg', profile_link_color='1DA1F2', profile_sidebar_border_color='C0DEED', profile_sidebar_fill_color='DDEEF6', profile_text_color='333333', profile_use_background_image=True, has_extended_profile=False, default_profile=True, default_profile_image=False, following=False, follow_request_sent=False, notifications=False, translator_type='none'), geo=None, coordinates=None, place=None, contributors=None, is_quote_status=False, retweet_count=0, favorite_count=0, favorited=False, retweeted=False, lang='pt'),\n",
       " Status(_api=<tweepy.api.API object at 0x7f47dc444d90>, _json={'created_at': 'Fri Nov 20 17:35:42 +0000 2020', 'id': 1329840859257466880, 'id_str': '1329840859257466880', 'full_text': 'Ramaphosa appoints Tsakani Maluleke as new auditor-general https://t.co/4McFQPJ4LM via @businesstechSA', 'truncated': False, 'display_text_range': [0, 102], 'entities': {'hashtags': [], 'symbols': [], 'user_mentions': [{'screen_name': 'BusinessTechSA', 'name': 'BusinessTech', 'id': 405484835, 'id_str': '405484835', 'indices': [87, 102]}], 'urls': [{'url': 'https://t.co/4McFQPJ4LM', 'expanded_url': 'https://businesstech.co.za/news/government/450269/ramaphosa-appoints-tsakani-maluleke-as-new-auditor-general/', 'display_url': 'businesstech.co.za/news/governmen…', 'indices': [59, 82]}]}, 'source': '<a href=\"http://twitter.com/download/android\" rel=\"nofollow\">Twitter for Android</a>', 'in_reply_to_status_id': None, 'in_reply_to_status_id_str': None, 'in_reply_to_user_id': None, 'in_reply_to_user_id_str': None, 'in_reply_to_screen_name': None, 'user': {'id': 1328568447496835073, 'id_str': '1328568447496835073', 'name': \"Bj Hlullan's\", 'screen_name': 'hlullan', 'location': '', 'description': 'Am A Wine Lover Sommelier And Connoisseurs', 'url': None, 'entities': {'description': {'urls': []}}, 'protected': False, 'followers_count': 3, 'friends_count': 57, 'listed_count': 0, 'created_at': 'Tue Nov 17 05:19:51 +0000 2020', 'favourites_count': 11, 'utc_offset': None, 'time_zone': None, 'geo_enabled': False, 'verified': False, 'statuses_count': 1, 'lang': None, 'contributors_enabled': False, 'is_translator': False, 'is_translation_enabled': False, 'profile_background_color': 'F5F8FA', 'profile_background_image_url': None, 'profile_background_image_url_https': None, 'profile_background_tile': False, 'profile_image_url': 'http://pbs.twimg.com/profile_images/1328568854600159236/z99ECDgL_normal.jpg', 'profile_image_url_https': 'https://pbs.twimg.com/profile_images/1328568854600159236/z99ECDgL_normal.jpg', 'profile_link_color': '1DA1F2', 'profile_sidebar_border_color': 'C0DEED', 'profile_sidebar_fill_color': 'DDEEF6', 'profile_text_color': '333333', 'profile_use_background_image': True, 'has_extended_profile': True, 'default_profile': True, 'default_profile_image': False, 'following': False, 'follow_request_sent': False, 'notifications': False, 'translator_type': 'none'}, 'geo': None, 'coordinates': None, 'place': None, 'contributors': None, 'is_quote_status': False, 'retweet_count': 0, 'favorite_count': 0, 'favorited': False, 'retweeted': False, 'possibly_sensitive': False, 'lang': 'tl'}, created_at=datetime.datetime(2020, 11, 20, 17, 35, 42), id=1329840859257466880, id_str='1329840859257466880', full_text='Ramaphosa appoints Tsakani Maluleke as new auditor-general https://t.co/4McFQPJ4LM via @businesstechSA', truncated=False, display_text_range=[0, 102], entities={'hashtags': [], 'symbols': [], 'user_mentions': [{'screen_name': 'BusinessTechSA', 'name': 'BusinessTech', 'id': 405484835, 'id_str': '405484835', 'indices': [87, 102]}], 'urls': [{'url': 'https://t.co/4McFQPJ4LM', 'expanded_url': 'https://businesstech.co.za/news/government/450269/ramaphosa-appoints-tsakani-maluleke-as-new-auditor-general/', 'display_url': 'businesstech.co.za/news/governmen…', 'indices': [59, 82]}]}, source='Twitter for Android', source_url='http://twitter.com/download/android', in_reply_to_status_id=None, in_reply_to_status_id_str=None, in_reply_to_user_id=None, in_reply_to_user_id_str=None, in_reply_to_screen_name=None, author=User(_api=<tweepy.api.API object at 0x7f47dc444d90>, _json={'id': 1328568447496835073, 'id_str': '1328568447496835073', 'name': \"Bj Hlullan's\", 'screen_name': 'hlullan', 'location': '', 'description': 'Am A Wine Lover Sommelier And Connoisseurs', 'url': None, 'entities': {'description': {'urls': []}}, 'protected': False, 'followers_count': 3, 'friends_count': 57, 'listed_count': 0, 'created_at': 'Tue Nov 17 05:19:51 +0000 2020', 'favourites_count': 11, 'utc_offset': None, 'time_zone': None, 'geo_enabled': False, 'verified': False, 'statuses_count': 1, 'lang': None, 'contributors_enabled': False, 'is_translator': False, 'is_translation_enabled': False, 'profile_background_color': 'F5F8FA', 'profile_background_image_url': None, 'profile_background_image_url_https': None, 'profile_background_tile': False, 'profile_image_url': 'http://pbs.twimg.com/profile_images/1328568854600159236/z99ECDgL_normal.jpg', 'profile_image_url_https': 'https://pbs.twimg.com/profile_images/1328568854600159236/z99ECDgL_normal.jpg', 'profile_link_color': '1DA1F2', 'profile_sidebar_border_color': 'C0DEED', 'profile_sidebar_fill_color': 'DDEEF6', 'profile_text_color': '333333', 'profile_use_background_image': True, 'has_extended_profile': True, 'default_profile': True, 'default_profile_image': False, 'following': False, 'follow_request_sent': False, 'notifications': False, 'translator_type': 'none'}, id=1328568447496835073, id_str='1328568447496835073', name=\"Bj Hlullan's\", screen_name='hlullan', location='', description='Am A Wine Lover Sommelier And Connoisseurs', url=None, entities={'description': {'urls': []}}, protected=False, followers_count=3, friends_count=57, listed_count=0, created_at=datetime.datetime(2020, 11, 17, 5, 19, 51), favourites_count=11, utc_offset=None, time_zone=None, geo_enabled=False, verified=False, statuses_count=1, lang=None, contributors_enabled=False, is_translator=False, is_translation_enabled=False, profile_background_color='F5F8FA', profile_background_image_url=None, profile_background_image_url_https=None, profile_background_tile=False, profile_image_url='http://pbs.twimg.com/profile_images/1328568854600159236/z99ECDgL_normal.jpg', profile_image_url_https='https://pbs.twimg.com/profile_images/1328568854600159236/z99ECDgL_normal.jpg', profile_link_color='1DA1F2', profile_sidebar_border_color='C0DEED', profile_sidebar_fill_color='DDEEF6', profile_text_color='333333', profile_use_background_image=True, has_extended_profile=True, default_profile=True, default_profile_image=False, following=False, follow_request_sent=False, notifications=False, translator_type='none'), user=User(_api=<tweepy.api.API object at 0x7f47dc444d90>, _json={'id': 1328568447496835073, 'id_str': '1328568447496835073', 'name': \"Bj Hlullan's\", 'screen_name': 'hlullan', 'location': '', 'description': 'Am A Wine Lover Sommelier And Connoisseurs', 'url': None, 'entities': {'description': {'urls': []}}, 'protected': False, 'followers_count': 3, 'friends_count': 57, 'listed_count': 0, 'created_at': 'Tue Nov 17 05:19:51 +0000 2020', 'favourites_count': 11, 'utc_offset': None, 'time_zone': None, 'geo_enabled': False, 'verified': False, 'statuses_count': 1, 'lang': None, 'contributors_enabled': False, 'is_translator': False, 'is_translation_enabled': False, 'profile_background_color': 'F5F8FA', 'profile_background_image_url': None, 'profile_background_image_url_https': None, 'profile_background_tile': False, 'profile_image_url': 'http://pbs.twimg.com/profile_images/1328568854600159236/z99ECDgL_normal.jpg', 'profile_image_url_https': 'https://pbs.twimg.com/profile_images/1328568854600159236/z99ECDgL_normal.jpg', 'profile_link_color': '1DA1F2', 'profile_sidebar_border_color': 'C0DEED', 'profile_sidebar_fill_color': 'DDEEF6', 'profile_text_color': '333333', 'profile_use_background_image': True, 'has_extended_profile': True, 'default_profile': True, 'default_profile_image': False, 'following': False, 'follow_request_sent': False, 'notifications': False, 'translator_type': 'none'}, id=1328568447496835073, id_str='1328568447496835073', name=\"Bj Hlullan's\", screen_name='hlullan', location='', description='Am A Wine Lover Sommelier And Connoisseurs', url=None, entities={'description': {'urls': []}}, protected=False, followers_count=3, friends_count=57, listed_count=0, created_at=datetime.datetime(2020, 11, 17, 5, 19, 51), favourites_count=11, utc_offset=None, time_zone=None, geo_enabled=False, verified=False, statuses_count=1, lang=None, contributors_enabled=False, is_translator=False, is_translation_enabled=False, profile_background_color='F5F8FA', profile_background_image_url=None, profile_background_image_url_https=None, profile_background_tile=False, profile_image_url='http://pbs.twimg.com/profile_images/1328568854600159236/z99ECDgL_normal.jpg', profile_image_url_https='https://pbs.twimg.com/profile_images/1328568854600159236/z99ECDgL_normal.jpg', profile_link_color='1DA1F2', profile_sidebar_border_color='C0DEED', profile_sidebar_fill_color='DDEEF6', profile_text_color='333333', profile_use_background_image=True, has_extended_profile=True, default_profile=True, default_profile_image=False, following=False, follow_request_sent=False, notifications=False, translator_type='none'), geo=None, coordinates=None, place=None, contributors=None, is_quote_status=False, retweet_count=0, favorite_count=0, favorited=False, retweeted=False, possibly_sensitive=False, lang='tl'),\n",
       " Status(_api=<tweepy.api.API object at 0x7f47dc444d90>, _json={'created_at': 'Thu Nov 19 17:57:46 +0000 2020', 'id': 1329484025011073025, 'id_str': '1329484025011073025', 'full_text': '@ProfeGiraldo @shebelut De verdad que esta generación es de cristal no aguanta ni un grubeo. 🤦\\u200d♂️', 'truncated': False, 'display_text_range': [24, 97], 'entities': {'hashtags': [], 'symbols': [], 'user_mentions': [{'screen_name': 'ProfeGiraldo', 'name': 'LUIS ALBERTO GIRALDO🇵🇪🇵🇦', 'id': 287873300, 'id_str': '287873300', 'indices': [0, 13]}, {'screen_name': 'shebelut', 'name': 'REY DE LA GAMBETA', 'id': 239487115, 'id_str': '239487115', 'indices': [14, 23]}], 'urls': []}, 'source': '<a href=\"http://twitter.com/download/android\" rel=\"nofollow\">Twitter for Android</a>', 'in_reply_to_status_id': 1329482257816576000, 'in_reply_to_status_id_str': '1329482257816576000', 'in_reply_to_user_id': 287873300, 'in_reply_to_user_id_str': '287873300', 'in_reply_to_screen_name': 'ProfeGiraldo', 'user': {'id': 1292240718, 'id_str': '1292240718', 'name': '100 %🇵🇦', 'screen_name': 'linares1515', 'location': 'Panamá', 'description': 'Independiente', 'url': None, 'entities': {'description': {'urls': []}}, 'protected': False, 'followers_count': 108, 'friends_count': 546, 'listed_count': 1, 'created_at': 'Sat Mar 23 19:11:39 +0000 2013', 'favourites_count': 257, 'utc_offset': None, 'time_zone': None, 'geo_enabled': True, 'verified': False, 'statuses_count': 2205, 'lang': None, 'contributors_enabled': False, 'is_translator': False, 'is_translation_enabled': False, 'profile_background_color': '000000', 'profile_background_image_url': 'http://abs.twimg.com/images/themes/theme1/bg.png', 'profile_background_image_url_https': 'https://abs.twimg.com/images/themes/theme1/bg.png', 'profile_background_tile': False, 'profile_image_url': 'http://pbs.twimg.com/profile_images/1185363928001499136/JUkNPEDP_normal.jpg', 'profile_image_url_https': 'https://pbs.twimg.com/profile_images/1185363928001499136/JUkNPEDP_normal.jpg', 'profile_banner_url': 'https://pbs.twimg.com/profile_banners/1292240718/1364173193', 'profile_link_color': 'DD2E44', 'profile_sidebar_border_color': '000000', 'profile_sidebar_fill_color': '000000', 'profile_text_color': '000000', 'profile_use_background_image': False, 'has_extended_profile': False, 'default_profile': False, 'default_profile_image': False, 'following': False, 'follow_request_sent': False, 'notifications': False, 'translator_type': 'none'}, 'geo': None, 'coordinates': None, 'place': None, 'contributors': None, 'is_quote_status': False, 'retweet_count': 0, 'favorite_count': 0, 'favorited': False, 'retweeted': False, 'lang': 'es'}, created_at=datetime.datetime(2020, 11, 19, 17, 57, 46), id=1329484025011073025, id_str='1329484025011073025', full_text='@ProfeGiraldo @shebelut De verdad que esta generación es de cristal no aguanta ni un grubeo. 🤦\\u200d♂️', truncated=False, display_text_range=[24, 97], entities={'hashtags': [], 'symbols': [], 'user_mentions': [{'screen_name': 'ProfeGiraldo', 'name': 'LUIS ALBERTO GIRALDO🇵🇪🇵🇦', 'id': 287873300, 'id_str': '287873300', 'indices': [0, 13]}, {'screen_name': 'shebelut', 'name': 'REY DE LA GAMBETA', 'id': 239487115, 'id_str': '239487115', 'indices': [14, 23]}], 'urls': []}, source='Twitter for Android', source_url='http://twitter.com/download/android', in_reply_to_status_id=1329482257816576000, in_reply_to_status_id_str='1329482257816576000', in_reply_to_user_id=287873300, in_reply_to_user_id_str='287873300', in_reply_to_screen_name='ProfeGiraldo', author=User(_api=<tweepy.api.API object at 0x7f47dc444d90>, _json={'id': 1292240718, 'id_str': '1292240718', 'name': '100 %🇵🇦', 'screen_name': 'linares1515', 'location': 'Panamá', 'description': 'Independiente', 'url': None, 'entities': {'description': {'urls': []}}, 'protected': False, 'followers_count': 108, 'friends_count': 546, 'listed_count': 1, 'created_at': 'Sat Mar 23 19:11:39 +0000 2013', 'favourites_count': 257, 'utc_offset': None, 'time_zone': None, 'geo_enabled': True, 'verified': False, 'statuses_count': 2205, 'lang': None, 'contributors_enabled': False, 'is_translator': False, 'is_translation_enabled': False, 'profile_background_color': '000000', 'profile_background_image_url': 'http://abs.twimg.com/images/themes/theme1/bg.png', 'profile_background_image_url_https': 'https://abs.twimg.com/images/themes/theme1/bg.png', 'profile_background_tile': False, 'profile_image_url': 'http://pbs.twimg.com/profile_images/1185363928001499136/JUkNPEDP_normal.jpg', 'profile_image_url_https': 'https://pbs.twimg.com/profile_images/1185363928001499136/JUkNPEDP_normal.jpg', 'profile_banner_url': 'https://pbs.twimg.com/profile_banners/1292240718/1364173193', 'profile_link_color': 'DD2E44', 'profile_sidebar_border_color': '000000', 'profile_sidebar_fill_color': '000000', 'profile_text_color': '000000', 'profile_use_background_image': False, 'has_extended_profile': False, 'default_profile': False, 'default_profile_image': False, 'following': False, 'follow_request_sent': False, 'notifications': False, 'translator_type': 'none'}, id=1292240718, id_str='1292240718', name='100 %🇵🇦', screen_name='linares1515', location='Panamá', description='Independiente', url=None, entities={'description': {'urls': []}}, protected=False, followers_count=108, friends_count=546, listed_count=1, created_at=datetime.datetime(2013, 3, 23, 19, 11, 39), favourites_count=257, utc_offset=None, time_zone=None, geo_enabled=True, verified=False, statuses_count=2205, lang=None, contributors_enabled=False, is_translator=False, is_translation_enabled=False, profile_background_color='000000', profile_background_image_url='http://abs.twimg.com/images/themes/theme1/bg.png', profile_background_image_url_https='https://abs.twimg.com/images/themes/theme1/bg.png', profile_background_tile=False, profile_image_url='http://pbs.twimg.com/profile_images/1185363928001499136/JUkNPEDP_normal.jpg', profile_image_url_https='https://pbs.twimg.com/profile_images/1185363928001499136/JUkNPEDP_normal.jpg', profile_banner_url='https://pbs.twimg.com/profile_banners/1292240718/1364173193', profile_link_color='DD2E44', profile_sidebar_border_color='000000', profile_sidebar_fill_color='000000', profile_text_color='000000', profile_use_background_image=False, has_extended_profile=False, default_profile=False, default_profile_image=False, following=False, follow_request_sent=False, notifications=False, translator_type='none'), user=User(_api=<tweepy.api.API object at 0x7f47dc444d90>, _json={'id': 1292240718, 'id_str': '1292240718', 'name': '100 %🇵🇦', 'screen_name': 'linares1515', 'location': 'Panamá', 'description': 'Independiente', 'url': None, 'entities': {'description': {'urls': []}}, 'protected': False, 'followers_count': 108, 'friends_count': 546, 'listed_count': 1, 'created_at': 'Sat Mar 23 19:11:39 +0000 2013', 'favourites_count': 257, 'utc_offset': None, 'time_zone': None, 'geo_enabled': True, 'verified': False, 'statuses_count': 2205, 'lang': None, 'contributors_enabled': False, 'is_translator': False, 'is_translation_enabled': False, 'profile_background_color': '000000', 'profile_background_image_url': 'http://abs.twimg.com/images/themes/theme1/bg.png', 'profile_background_image_url_https': 'https://abs.twimg.com/images/themes/theme1/bg.png', 'profile_background_tile': False, 'profile_image_url': 'http://pbs.twimg.com/profile_images/1185363928001499136/JUkNPEDP_normal.jpg', 'profile_image_url_https': 'https://pbs.twimg.com/profile_images/1185363928001499136/JUkNPEDP_normal.jpg', 'profile_banner_url': 'https://pbs.twimg.com/profile_banners/1292240718/1364173193', 'profile_link_color': 'DD2E44', 'profile_sidebar_border_color': '000000', 'profile_sidebar_fill_color': '000000', 'profile_text_color': '000000', 'profile_use_background_image': False, 'has_extended_profile': False, 'default_profile': False, 'default_profile_image': False, 'following': False, 'follow_request_sent': False, 'notifications': False, 'translator_type': 'none'}, id=1292240718, id_str='1292240718', name='100 %🇵🇦', screen_name='linares1515', location='Panamá', description='Independiente', url=None, entities={'description': {'urls': []}}, protected=False, followers_count=108, friends_count=546, listed_count=1, created_at=datetime.datetime(2013, 3, 23, 19, 11, 39), favourites_count=257, utc_offset=None, time_zone=None, geo_enabled=True, verified=False, statuses_count=2205, lang=None, contributors_enabled=False, is_translator=False, is_translation_enabled=False, profile_background_color='000000', profile_background_image_url='http://abs.twimg.com/images/themes/theme1/bg.png', profile_background_image_url_https='https://abs.twimg.com/images/themes/theme1/bg.png', profile_background_tile=False, profile_image_url='http://pbs.twimg.com/profile_images/1185363928001499136/JUkNPEDP_normal.jpg', profile_image_url_https='https://pbs.twimg.com/profile_images/1185363928001499136/JUkNPEDP_normal.jpg', profile_banner_url='https://pbs.twimg.com/profile_banners/1292240718/1364173193', profile_link_color='DD2E44', profile_sidebar_border_color='000000', profile_sidebar_fill_color='000000', profile_text_color='000000', profile_use_background_image=False, has_extended_profile=False, default_profile=False, default_profile_image=False, following=False, follow_request_sent=False, notifications=False, translator_type='none'), geo=None, coordinates=None, place=None, contributors=None, is_quote_status=False, retweet_count=0, favorite_count=0, favorited=False, retweeted=False, lang='es'),\n",
       " Status(_api=<tweepy.api.API object at 0x7f47dc444d90>, _json={'created_at': 'Sat Nov 21 06:01:34 +0000 2020', 'id': 1330028560493539328, 'id_str': '1330028560493539328', 'full_text': \"I miss the days when life was so simple '\", 'truncated': False, 'display_text_range': [0, 41], 'entities': {'hashtags': [], 'symbols': [], 'user_mentions': [], 'urls': []}, 'source': '<a href=\"http://twitter.com/download/android\" rel=\"nofollow\">Twitter for Android</a>', 'in_reply_to_status_id': None, 'in_reply_to_status_id_str': None, 'in_reply_to_user_id': None, 'in_reply_to_user_id_str': None, 'in_reply_to_screen_name': None, 'user': {'id': 1329009334488076288, 'id_str': '1329009334488076288', 'name': 'George', 'screen_name': 'George05705212', 'location': '', 'description': 'good son of a good mother and father', 'url': None, 'entities': {'description': {'urls': []}}, 'protected': False, 'followers_count': 5, 'friends_count': 74, 'listed_count': 0, 'created_at': 'Wed Nov 18 10:31:51 +0000 2020', 'favourites_count': 0, 'utc_offset': None, 'time_zone': None, 'geo_enabled': False, 'verified': False, 'statuses_count': 5, 'lang': None, 'contributors_enabled': False, 'is_translator': False, 'is_translation_enabled': False, 'profile_background_color': 'F5F8FA', 'profile_background_image_url': None, 'profile_background_image_url_https': None, 'profile_background_tile': False, 'profile_image_url': 'http://pbs.twimg.com/profile_images/1329009759564001280/lJVJUT50_normal.jpg', 'profile_image_url_https': 'https://pbs.twimg.com/profile_images/1329009759564001280/lJVJUT50_normal.jpg', 'profile_link_color': '1DA1F2', 'profile_sidebar_border_color': 'C0DEED', 'profile_sidebar_fill_color': 'DDEEF6', 'profile_text_color': '333333', 'profile_use_background_image': True, 'has_extended_profile': True, 'default_profile': True, 'default_profile_image': False, 'following': False, 'follow_request_sent': False, 'notifications': False, 'translator_type': 'none'}, 'geo': None, 'coordinates': None, 'place': None, 'contributors': None, 'is_quote_status': False, 'retweet_count': 0, 'favorite_count': 0, 'favorited': False, 'retweeted': False, 'lang': 'en'}, created_at=datetime.datetime(2020, 11, 21, 6, 1, 34), id=1330028560493539328, id_str='1330028560493539328', full_text=\"I miss the days when life was so simple '\", truncated=False, display_text_range=[0, 41], entities={'hashtags': [], 'symbols': [], 'user_mentions': [], 'urls': []}, source='Twitter for Android', source_url='http://twitter.com/download/android', in_reply_to_status_id=None, in_reply_to_status_id_str=None, in_reply_to_user_id=None, in_reply_to_user_id_str=None, in_reply_to_screen_name=None, author=User(_api=<tweepy.api.API object at 0x7f47dc444d90>, _json={'id': 1329009334488076288, 'id_str': '1329009334488076288', 'name': 'George', 'screen_name': 'George05705212', 'location': '', 'description': 'good son of a good mother and father', 'url': None, 'entities': {'description': {'urls': []}}, 'protected': False, 'followers_count': 5, 'friends_count': 74, 'listed_count': 0, 'created_at': 'Wed Nov 18 10:31:51 +0000 2020', 'favourites_count': 0, 'utc_offset': None, 'time_zone': None, 'geo_enabled': False, 'verified': False, 'statuses_count': 5, 'lang': None, 'contributors_enabled': False, 'is_translator': False, 'is_translation_enabled': False, 'profile_background_color': 'F5F8FA', 'profile_background_image_url': None, 'profile_background_image_url_https': None, 'profile_background_tile': False, 'profile_image_url': 'http://pbs.twimg.com/profile_images/1329009759564001280/lJVJUT50_normal.jpg', 'profile_image_url_https': 'https://pbs.twimg.com/profile_images/1329009759564001280/lJVJUT50_normal.jpg', 'profile_link_color': '1DA1F2', 'profile_sidebar_border_color': 'C0DEED', 'profile_sidebar_fill_color': 'DDEEF6', 'profile_text_color': '333333', 'profile_use_background_image': True, 'has_extended_profile': True, 'default_profile': True, 'default_profile_image': False, 'following': False, 'follow_request_sent': False, 'notifications': False, 'translator_type': 'none'}, id=1329009334488076288, id_str='1329009334488076288', name='George', screen_name='George05705212', location='', description='good son of a good mother and father', url=None, entities={'description': {'urls': []}}, protected=False, followers_count=5, friends_count=74, listed_count=0, created_at=datetime.datetime(2020, 11, 18, 10, 31, 51), favourites_count=0, utc_offset=None, time_zone=None, geo_enabled=False, verified=False, statuses_count=5, lang=None, contributors_enabled=False, is_translator=False, is_translation_enabled=False, profile_background_color='F5F8FA', profile_background_image_url=None, profile_background_image_url_https=None, profile_background_tile=False, profile_image_url='http://pbs.twimg.com/profile_images/1329009759564001280/lJVJUT50_normal.jpg', profile_image_url_https='https://pbs.twimg.com/profile_images/1329009759564001280/lJVJUT50_normal.jpg', profile_link_color='1DA1F2', profile_sidebar_border_color='C0DEED', profile_sidebar_fill_color='DDEEF6', profile_text_color='333333', profile_use_background_image=True, has_extended_profile=True, default_profile=True, default_profile_image=False, following=False, follow_request_sent=False, notifications=False, translator_type='none'), user=User(_api=<tweepy.api.API object at 0x7f47dc444d90>, _json={'id': 1329009334488076288, 'id_str': '1329009334488076288', 'name': 'George', 'screen_name': 'George05705212', 'location': '', 'description': 'good son of a good mother and father', 'url': None, 'entities': {'description': {'urls': []}}, 'protected': False, 'followers_count': 5, 'friends_count': 74, 'listed_count': 0, 'created_at': 'Wed Nov 18 10:31:51 +0000 2020', 'favourites_count': 0, 'utc_offset': None, 'time_zone': None, 'geo_enabled': False, 'verified': False, 'statuses_count': 5, 'lang': None, 'contributors_enabled': False, 'is_translator': False, 'is_translation_enabled': False, 'profile_background_color': 'F5F8FA', 'profile_background_image_url': None, 'profile_background_image_url_https': None, 'profile_background_tile': False, 'profile_image_url': 'http://pbs.twimg.com/profile_images/1329009759564001280/lJVJUT50_normal.jpg', 'profile_image_url_https': 'https://pbs.twimg.com/profile_images/1329009759564001280/lJVJUT50_normal.jpg', 'profile_link_color': '1DA1F2', 'profile_sidebar_border_color': 'C0DEED', 'profile_sidebar_fill_color': 'DDEEF6', 'profile_text_color': '333333', 'profile_use_background_image': True, 'has_extended_profile': True, 'default_profile': True, 'default_profile_image': False, 'following': False, 'follow_request_sent': False, 'notifications': False, 'translator_type': 'none'}, id=1329009334488076288, id_str='1329009334488076288', name='George', screen_name='George05705212', location='', description='good son of a good mother and father', url=None, entities={'description': {'urls': []}}, protected=False, followers_count=5, friends_count=74, listed_count=0, created_at=datetime.datetime(2020, 11, 18, 10, 31, 51), favourites_count=0, utc_offset=None, time_zone=None, geo_enabled=False, verified=False, statuses_count=5, lang=None, contributors_enabled=False, is_translator=False, is_translation_enabled=False, profile_background_color='F5F8FA', profile_background_image_url=None, profile_background_image_url_https=None, profile_background_tile=False, profile_image_url='http://pbs.twimg.com/profile_images/1329009759564001280/lJVJUT50_normal.jpg', profile_image_url_https='https://pbs.twimg.com/profile_images/1329009759564001280/lJVJUT50_normal.jpg', profile_link_color='1DA1F2', profile_sidebar_border_color='C0DEED', profile_sidebar_fill_color='DDEEF6', profile_text_color='333333', profile_use_background_image=True, has_extended_profile=True, default_profile=True, default_profile_image=False, following=False, follow_request_sent=False, notifications=False, translator_type='none'), geo=None, coordinates=None, place=None, contributors=None, is_quote_status=False, retweet_count=0, favorite_count=0, favorited=False, retweeted=False, lang='en'),\n",
       " Status(_api=<tweepy.api.API object at 0x7f47dc444d90>, _json={'created_at': 'Thu Nov 19 06:21:50 +0000 2020', 'id': 1329308884679479296, 'id_str': '1329308884679479296', 'full_text': \"@Ebuka A wise man once said NOTHING '\", 'truncated': False, 'display_text_range': [7, 37], 'entities': {'hashtags': [], 'symbols': [], 'user_mentions': [{'screen_name': 'Ebuka', 'name': 'Ebuka Obi-Uchendu', 'id': 18378475, 'id_str': '18378475', 'indices': [0, 6]}], 'urls': []}, 'source': '<a href=\"http://twitter.com/download/android\" rel=\"nofollow\">Twitter for Android</a>', 'in_reply_to_status_id': 1157602036432756736, 'in_reply_to_status_id_str': '1157602036432756736', 'in_reply_to_user_id': 18378475, 'in_reply_to_user_id_str': '18378475', 'in_reply_to_screen_name': 'Ebuka', 'user': {'id': 1329009334488076288, 'id_str': '1329009334488076288', 'name': 'George', 'screen_name': 'George05705212', 'location': '', 'description': 'good son of a good mother and father', 'url': None, 'entities': {'description': {'urls': []}}, 'protected': False, 'followers_count': 5, 'friends_count': 74, 'listed_count': 0, 'created_at': 'Wed Nov 18 10:31:51 +0000 2020', 'favourites_count': 0, 'utc_offset': None, 'time_zone': None, 'geo_enabled': False, 'verified': False, 'statuses_count': 5, 'lang': None, 'contributors_enabled': False, 'is_translator': False, 'is_translation_enabled': False, 'profile_background_color': 'F5F8FA', 'profile_background_image_url': None, 'profile_background_image_url_https': None, 'profile_background_tile': False, 'profile_image_url': 'http://pbs.twimg.com/profile_images/1329009759564001280/lJVJUT50_normal.jpg', 'profile_image_url_https': 'https://pbs.twimg.com/profile_images/1329009759564001280/lJVJUT50_normal.jpg', 'profile_link_color': '1DA1F2', 'profile_sidebar_border_color': 'C0DEED', 'profile_sidebar_fill_color': 'DDEEF6', 'profile_text_color': '333333', 'profile_use_background_image': True, 'has_extended_profile': True, 'default_profile': True, 'default_profile_image': False, 'following': False, 'follow_request_sent': False, 'notifications': False, 'translator_type': 'none'}, 'geo': None, 'coordinates': None, 'place': None, 'contributors': None, 'is_quote_status': False, 'retweet_count': 0, 'favorite_count': 0, 'favorited': False, 'retweeted': False, 'lang': 'en'}, created_at=datetime.datetime(2020, 11, 19, 6, 21, 50), id=1329308884679479296, id_str='1329308884679479296', full_text=\"@Ebuka A wise man once said NOTHING '\", truncated=False, display_text_range=[7, 37], entities={'hashtags': [], 'symbols': [], 'user_mentions': [{'screen_name': 'Ebuka', 'name': 'Ebuka Obi-Uchendu', 'id': 18378475, 'id_str': '18378475', 'indices': [0, 6]}], 'urls': []}, source='Twitter for Android', source_url='http://twitter.com/download/android', in_reply_to_status_id=1157602036432756736, in_reply_to_status_id_str='1157602036432756736', in_reply_to_user_id=18378475, in_reply_to_user_id_str='18378475', in_reply_to_screen_name='Ebuka', author=User(_api=<tweepy.api.API object at 0x7f47dc444d90>, _json={'id': 1329009334488076288, 'id_str': '1329009334488076288', 'name': 'George', 'screen_name': 'George05705212', 'location': '', 'description': 'good son of a good mother and father', 'url': None, 'entities': {'description': {'urls': []}}, 'protected': False, 'followers_count': 5, 'friends_count': 74, 'listed_count': 0, 'created_at': 'Wed Nov 18 10:31:51 +0000 2020', 'favourites_count': 0, 'utc_offset': None, 'time_zone': None, 'geo_enabled': False, 'verified': False, 'statuses_count': 5, 'lang': None, 'contributors_enabled': False, 'is_translator': False, 'is_translation_enabled': False, 'profile_background_color': 'F5F8FA', 'profile_background_image_url': None, 'profile_background_image_url_https': None, 'profile_background_tile': False, 'profile_image_url': 'http://pbs.twimg.com/profile_images/1329009759564001280/lJVJUT50_normal.jpg', 'profile_image_url_https': 'https://pbs.twimg.com/profile_images/1329009759564001280/lJVJUT50_normal.jpg', 'profile_link_color': '1DA1F2', 'profile_sidebar_border_color': 'C0DEED', 'profile_sidebar_fill_color': 'DDEEF6', 'profile_text_color': '333333', 'profile_use_background_image': True, 'has_extended_profile': True, 'default_profile': True, 'default_profile_image': False, 'following': False, 'follow_request_sent': False, 'notifications': False, 'translator_type': 'none'}, id=1329009334488076288, id_str='1329009334488076288', name='George', screen_name='George05705212', location='', description='good son of a good mother and father', url=None, entities={'description': {'urls': []}}, protected=False, followers_count=5, friends_count=74, listed_count=0, created_at=datetime.datetime(2020, 11, 18, 10, 31, 51), favourites_count=0, utc_offset=None, time_zone=None, geo_enabled=False, verified=False, statuses_count=5, lang=None, contributors_enabled=False, is_translator=False, is_translation_enabled=False, profile_background_color='F5F8FA', profile_background_image_url=None, profile_background_image_url_https=None, profile_background_tile=False, profile_image_url='http://pbs.twimg.com/profile_images/1329009759564001280/lJVJUT50_normal.jpg', profile_image_url_https='https://pbs.twimg.com/profile_images/1329009759564001280/lJVJUT50_normal.jpg', profile_link_color='1DA1F2', profile_sidebar_border_color='C0DEED', profile_sidebar_fill_color='DDEEF6', profile_text_color='333333', profile_use_background_image=True, has_extended_profile=True, default_profile=True, default_profile_image=False, following=False, follow_request_sent=False, notifications=False, translator_type='none'), user=User(_api=<tweepy.api.API object at 0x7f47dc444d90>, _json={'id': 1329009334488076288, 'id_str': '1329009334488076288', 'name': 'George', 'screen_name': 'George05705212', 'location': '', 'description': 'good son of a good mother and father', 'url': None, 'entities': {'description': {'urls': []}}, 'protected': False, 'followers_count': 5, 'friends_count': 74, 'listed_count': 0, 'created_at': 'Wed Nov 18 10:31:51 +0000 2020', 'favourites_count': 0, 'utc_offset': None, 'time_zone': None, 'geo_enabled': False, 'verified': False, 'statuses_count': 5, 'lang': None, 'contributors_enabled': False, 'is_translator': False, 'is_translation_enabled': False, 'profile_background_color': 'F5F8FA', 'profile_background_image_url': None, 'profile_background_image_url_https': None, 'profile_background_tile': False, 'profile_image_url': 'http://pbs.twimg.com/profile_images/1329009759564001280/lJVJUT50_normal.jpg', 'profile_image_url_https': 'https://pbs.twimg.com/profile_images/1329009759564001280/lJVJUT50_normal.jpg', 'profile_link_color': '1DA1F2', 'profile_sidebar_border_color': 'C0DEED', 'profile_sidebar_fill_color': 'DDEEF6', 'profile_text_color': '333333', 'profile_use_background_image': True, 'has_extended_profile': True, 'default_profile': True, 'default_profile_image': False, 'following': False, 'follow_request_sent': False, 'notifications': False, 'translator_type': 'none'}, id=1329009334488076288, id_str='1329009334488076288', name='George', screen_name='George05705212', location='', description='good son of a good mother and father', url=None, entities={'description': {'urls': []}}, protected=False, followers_count=5, friends_count=74, listed_count=0, created_at=datetime.datetime(2020, 11, 18, 10, 31, 51), favourites_count=0, utc_offset=None, time_zone=None, geo_enabled=False, verified=False, statuses_count=5, lang=None, contributors_enabled=False, is_translator=False, is_translation_enabled=False, profile_background_color='F5F8FA', profile_background_image_url=None, profile_background_image_url_https=None, profile_background_tile=False, profile_image_url='http://pbs.twimg.com/profile_images/1329009759564001280/lJVJUT50_normal.jpg', profile_image_url_https='https://pbs.twimg.com/profile_images/1329009759564001280/lJVJUT50_normal.jpg', profile_link_color='1DA1F2', profile_sidebar_border_color='C0DEED', profile_sidebar_fill_color='DDEEF6', profile_text_color='333333', profile_use_background_image=True, has_extended_profile=True, default_profile=True, default_profile_image=False, following=False, follow_request_sent=False, notifications=False, translator_type='none'), geo=None, coordinates=None, place=None, contributors=None, is_quote_status=False, retweet_count=0, favorite_count=0, favorited=False, retweeted=False, lang='en'),\n",
       " Status(_api=<tweepy.api.API object at 0x7f47dc444d90>, _json={'created_at': 'Thu Nov 19 06:19:34 +0000 2020', 'id': 1329308315759816704, 'id_str': '1329308315759816704', 'full_text': 'Cultural Affairs Assistant at the U.S. Embassy https://t.co/1AZW0xHskb', 'truncated': False, 'display_text_range': [0, 70], 'entities': {'hashtags': [], 'symbols': [], 'user_mentions': [], 'urls': [{'url': 'https://t.co/1AZW0xHskb', 'expanded_url': 'https://jobsinnigeria.careers/jobs/cultural-affairs-assistant-u-s-embassy/', 'display_url': 'jobsinnigeria.careers/jobs/cultural-…', 'indices': [47, 70]}]}, 'source': '<a href=\"http://twitter.com/download/android\" rel=\"nofollow\">Twitter for Android</a>', 'in_reply_to_status_id': None, 'in_reply_to_status_id_str': None, 'in_reply_to_user_id': None, 'in_reply_to_user_id_str': None, 'in_reply_to_screen_name': None, 'user': {'id': 1329009334488076288, 'id_str': '1329009334488076288', 'name': 'George', 'screen_name': 'George05705212', 'location': '', 'description': 'good son of a good mother and father', 'url': None, 'entities': {'description': {'urls': []}}, 'protected': False, 'followers_count': 5, 'friends_count': 74, 'listed_count': 0, 'created_at': 'Wed Nov 18 10:31:51 +0000 2020', 'favourites_count': 0, 'utc_offset': None, 'time_zone': None, 'geo_enabled': False, 'verified': False, 'statuses_count': 5, 'lang': None, 'contributors_enabled': False, 'is_translator': False, 'is_translation_enabled': False, 'profile_background_color': 'F5F8FA', 'profile_background_image_url': None, 'profile_background_image_url_https': None, 'profile_background_tile': False, 'profile_image_url': 'http://pbs.twimg.com/profile_images/1329009759564001280/lJVJUT50_normal.jpg', 'profile_image_url_https': 'https://pbs.twimg.com/profile_images/1329009759564001280/lJVJUT50_normal.jpg', 'profile_link_color': '1DA1F2', 'profile_sidebar_border_color': 'C0DEED', 'profile_sidebar_fill_color': 'DDEEF6', 'profile_text_color': '333333', 'profile_use_background_image': True, 'has_extended_profile': True, 'default_profile': True, 'default_profile_image': False, 'following': False, 'follow_request_sent': False, 'notifications': False, 'translator_type': 'none'}, 'geo': None, 'coordinates': None, 'place': None, 'contributors': None, 'is_quote_status': False, 'retweet_count': 0, 'favorite_count': 0, 'favorited': False, 'retweeted': False, 'possibly_sensitive': False, 'lang': 'en'}, created_at=datetime.datetime(2020, 11, 19, 6, 19, 34), id=1329308315759816704, id_str='1329308315759816704', full_text='Cultural Affairs Assistant at the U.S. Embassy https://t.co/1AZW0xHskb', truncated=False, display_text_range=[0, 70], entities={'hashtags': [], 'symbols': [], 'user_mentions': [], 'urls': [{'url': 'https://t.co/1AZW0xHskb', 'expanded_url': 'https://jobsinnigeria.careers/jobs/cultural-affairs-assistant-u-s-embassy/', 'display_url': 'jobsinnigeria.careers/jobs/cultural-…', 'indices': [47, 70]}]}, source='Twitter for Android', source_url='http://twitter.com/download/android', in_reply_to_status_id=None, in_reply_to_status_id_str=None, in_reply_to_user_id=None, in_reply_to_user_id_str=None, in_reply_to_screen_name=None, author=User(_api=<tweepy.api.API object at 0x7f47dc444d90>, _json={'id': 1329009334488076288, 'id_str': '1329009334488076288', 'name': 'George', 'screen_name': 'George05705212', 'location': '', 'description': 'good son of a good mother and father', 'url': None, 'entities': {'description': {'urls': []}}, 'protected': False, 'followers_count': 5, 'friends_count': 74, 'listed_count': 0, 'created_at': 'Wed Nov 18 10:31:51 +0000 2020', 'favourites_count': 0, 'utc_offset': None, 'time_zone': None, 'geo_enabled': False, 'verified': False, 'statuses_count': 5, 'lang': None, 'contributors_enabled': False, 'is_translator': False, 'is_translation_enabled': False, 'profile_background_color': 'F5F8FA', 'profile_background_image_url': None, 'profile_background_image_url_https': None, 'profile_background_tile': False, 'profile_image_url': 'http://pbs.twimg.com/profile_images/1329009759564001280/lJVJUT50_normal.jpg', 'profile_image_url_https': 'https://pbs.twimg.com/profile_images/1329009759564001280/lJVJUT50_normal.jpg', 'profile_link_color': '1DA1F2', 'profile_sidebar_border_color': 'C0DEED', 'profile_sidebar_fill_color': 'DDEEF6', 'profile_text_color': '333333', 'profile_use_background_image': True, 'has_extended_profile': True, 'default_profile': True, 'default_profile_image': False, 'following': False, 'follow_request_sent': False, 'notifications': False, 'translator_type': 'none'}, id=1329009334488076288, id_str='1329009334488076288', name='George', screen_name='George05705212', location='', description='good son of a good mother and father', url=None, entities={'description': {'urls': []}}, protected=False, followers_count=5, friends_count=74, listed_count=0, created_at=datetime.datetime(2020, 11, 18, 10, 31, 51), favourites_count=0, utc_offset=None, time_zone=None, geo_enabled=False, verified=False, statuses_count=5, lang=None, contributors_enabled=False, is_translator=False, is_translation_enabled=False, profile_background_color='F5F8FA', profile_background_image_url=None, profile_background_image_url_https=None, profile_background_tile=False, profile_image_url='http://pbs.twimg.com/profile_images/1329009759564001280/lJVJUT50_normal.jpg', profile_image_url_https='https://pbs.twimg.com/profile_images/1329009759564001280/lJVJUT50_normal.jpg', profile_link_color='1DA1F2', profile_sidebar_border_color='C0DEED', profile_sidebar_fill_color='DDEEF6', profile_text_color='333333', profile_use_background_image=True, has_extended_profile=True, default_profile=True, default_profile_image=False, following=False, follow_request_sent=False, notifications=False, translator_type='none'), user=User(_api=<tweepy.api.API object at 0x7f47dc444d90>, _json={'id': 1329009334488076288, 'id_str': '1329009334488076288', 'name': 'George', 'screen_name': 'George05705212', 'location': '', 'description': 'good son of a good mother and father', 'url': None, 'entities': {'description': {'urls': []}}, 'protected': False, 'followers_count': 5, 'friends_count': 74, 'listed_count': 0, 'created_at': 'Wed Nov 18 10:31:51 +0000 2020', 'favourites_count': 0, 'utc_offset': None, 'time_zone': None, 'geo_enabled': False, 'verified': False, 'statuses_count': 5, 'lang': None, 'contributors_enabled': False, 'is_translator': False, 'is_translation_enabled': False, 'profile_background_color': 'F5F8FA', 'profile_background_image_url': None, 'profile_background_image_url_https': None, 'profile_background_tile': False, 'profile_image_url': 'http://pbs.twimg.com/profile_images/1329009759564001280/lJVJUT50_normal.jpg', 'profile_image_url_https': 'https://pbs.twimg.com/profile_images/1329009759564001280/lJVJUT50_normal.jpg', 'profile_link_color': '1DA1F2', 'profile_sidebar_border_color': 'C0DEED', 'profile_sidebar_fill_color': 'DDEEF6', 'profile_text_color': '333333', 'profile_use_background_image': True, 'has_extended_profile': True, 'default_profile': True, 'default_profile_image': False, 'following': False, 'follow_request_sent': False, 'notifications': False, 'translator_type': 'none'}, id=1329009334488076288, id_str='1329009334488076288', name='George', screen_name='George05705212', location='', description='good son of a good mother and father', url=None, entities={'description': {'urls': []}}, protected=False, followers_count=5, friends_count=74, listed_count=0, created_at=datetime.datetime(2020, 11, 18, 10, 31, 51), favourites_count=0, utc_offset=None, time_zone=None, geo_enabled=False, verified=False, statuses_count=5, lang=None, contributors_enabled=False, is_translator=False, is_translation_enabled=False, profile_background_color='F5F8FA', profile_background_image_url=None, profile_background_image_url_https=None, profile_background_tile=False, profile_image_url='http://pbs.twimg.com/profile_images/1329009759564001280/lJVJUT50_normal.jpg', profile_image_url_https='https://pbs.twimg.com/profile_images/1329009759564001280/lJVJUT50_normal.jpg', profile_link_color='1DA1F2', profile_sidebar_border_color='C0DEED', profile_sidebar_fill_color='DDEEF6', profile_text_color='333333', profile_use_background_image=True, has_extended_profile=True, default_profile=True, default_profile_image=False, following=False, follow_request_sent=False, notifications=False, translator_type='none'), geo=None, coordinates=None, place=None, contributors=None, is_quote_status=False, retweet_count=0, favorite_count=0, favorited=False, retweeted=False, possibly_sensitive=False, lang='en')]"
      ]
     },
     "execution_count": 127,
     "metadata": {},
     "output_type": "execute_result"
    }
   ],
   "source": [
    "all_tweets"
   ]
  },
  {
   "cell_type": "code",
   "execution_count": 128,
   "metadata": {},
   "outputs": [],
   "source": [
    "#lets create sample tweet categories\n",
    "categories = ['poltics', 'movies', 'education', 'entertainment']"
   ]
  },
  {
   "cell_type": "code",
   "execution_count": 149,
   "metadata": {},
   "outputs": [],
   "source": [
    "from sklearn.feature_extraction.text import TfidfVectorizer\n",
    "from sklearn.feature_extraction.text import CountVectorizer\n",
    "from sklearn.feature_extraction.text import TfidfTransformer\n"
   ]
  },
  {
   "cell_type": "code",
   "execution_count": 146,
   "metadata": {},
   "outputs": [
    {
     "data": {
      "text/plain": [
       "60"
      ]
     },
     "execution_count": 146,
     "metadata": {},
     "output_type": "execute_result"
    }
   ],
   "source": [
    "all_tweets_text = [tweet.full_text for tweet in all_tweets]\n",
    "count_vect = CountVectorizer()\n",
    "X_train = count_vect.fit_transform(all_tweets_text)\n",
    "count_vect.vocabulary_.get(u'https')\n"
   ]
  },
  {
   "cell_type": "code",
   "execution_count": 137,
   "metadata": {},
   "outputs": [],
   "source": [
    "#lets use kmeans clustering"
   ]
  },
  {
   "cell_type": "code",
   "execution_count": 148,
   "metadata": {},
   "outputs": [
    {
     "data": {
      "text/plain": [
       "(23, 164)"
      ]
     },
     "execution_count": 148,
     "metadata": {},
     "output_type": "execute_result"
    }
   ],
   "source": [
    "tf_transformer = TfidfTransformer(use_idf=False).fit(X_train)\n",
    "X_train_tf = tf_transformer.transform(X_train)\n",
    "X_train_tf.shape"
   ]
  },
  {
   "cell_type": "code",
   "execution_count": 160,
   "metadata": {},
   "outputs": [
    {
     "data": {
      "text/plain": [
       "['0gtlumb4u2',\n",
       " '1azw0xhskb',\n",
       " '1e1e4j0jqd',\n",
       " '2a',\n",
       " '4mcfqpj4lm',\n",
       " '594',\n",
       " 'admiration',\n",
       " 'affairs',\n",
       " 'aguanta',\n",
       " 'appoints',\n",
       " 'assistant',\n",
       " 'auditor',\n",
       " 'away',\n",
       " 'businesstechsa',\n",
       " 'certainly',\n",
       " 'claro',\n",
       " 'comentario',\n",
       " 'cristal',\n",
       " 'cujo',\n",
       " 'cultural',\n",
       " 'da',\n",
       " 'days',\n",
       " 'directly',\n",
       " 'dito',\n",
       " 'doesn',\n",
       " 'don',\n",
       " 'ebuka',\n",
       " 'embassy',\n",
       " 'entrega',\n",
       " 'es',\n",
       " 'esta',\n",
       " 'explicação',\n",
       " 'felons',\n",
       " 'ficou',\n",
       " 'generación',\n",
       " 'general',\n",
       " 'golf',\n",
       " 'good',\n",
       " 'govwhitmer',\n",
       " 'grubeo',\n",
       " 'gsaemily',\n",
       " 'gun',\n",
       " 'guns',\n",
       " 'hatiperi_wacho',\n",
       " 'henrybugalho',\n",
       " 'hero',\n",
       " 'hey',\n",
       " 'hot',\n",
       " 'https',\n",
       " 'irretocável',\n",
       " 'itslaly',\n",
       " 'jerilryan',\n",
       " 'joergseitz',\n",
       " 'leandroruschel',\n",
       " 'life',\n",
       " 'like',\n",
       " 'lindseygrahamsc',\n",
       " 'literally',\n",
       " 'll',\n",
       " 'losers',\n",
       " 'lot',\n",
       " 'makes',\n",
       " 'maluleke',\n",
       " 'man',\n",
       " 'mauro',\n",
       " 'maurocezar',\n",
       " 'medical',\n",
       " 'miss',\n",
       " 'morre',\n",
       " 'muhamma26839465',\n",
       " 'muito',\n",
       " 'ne',\n",
       " 'new',\n",
       " 'ni',\n",
       " 'normal',\n",
       " 'pakati',\n",
       " 'patriot',\n",
       " 'people',\n",
       " 'perfeita',\n",
       " 'phdteresa',\n",
       " 'plan',\n",
       " 'playing',\n",
       " 'plus',\n",
       " 'pois',\n",
       " 'por',\n",
       " 'potus',\n",
       " 'priori',\n",
       " 'profegiraldo',\n",
       " 'que',\n",
       " 'ramaphosa',\n",
       " 'realdonaldtrump',\n",
       " 'removes',\n",
       " 'rights',\n",
       " 'said',\n",
       " 'se',\n",
       " 'seattle',\n",
       " 'security',\n",
       " 'senatorcollins',\n",
       " 'sensato',\n",
       " 'serie',\n",
       " 'shebelut',\n",
       " 'simple',\n",
       " 'sinal',\n",
       " 'smells',\n",
       " 'social',\n",
       " 'sore',\n",
       " 'spirit',\n",
       " 'spoiler',\n",
       " 'support',\n",
       " 'taoquei1',\n",
       " 'temporada',\n",
       " 'thaslickpastor',\n",
       " 'thx',\n",
       " 'toddeherman',\n",
       " 'tsakani',\n",
       " 'v_dosfatos',\n",
       " 'varikukuvara',\n",
       " 'vc',\n",
       " 've',\n",
       " 'verdad',\n",
       " 'verdadedosfatos',\n",
       " 'voteno594',\n",
       " 'voting',\n",
       " 'votoimpressoja',\n",
       " 'water',\n",
       " 'whitehouse',\n",
       " 'whpresssec',\n",
       " 'wise',\n",
       " 'yankees',\n",
       " 'yorkers',\n",
       " 'zgqmxemz5t',\n",
       " 'بہترین']"
      ]
     },
     "execution_count": 160,
     "metadata": {},
     "output_type": "execute_result"
    }
   ],
   "source": [
    "vectorizer = TfidfVectorizer(stop_words='english')\n",
    "hash_matrix = vectorizer.fit_transform(all_tweets_text)\n",
    "categories = vectorizer.get_feature_names()\n",
    "categories"
   ]
  },
  {
   "cell_type": "code",
   "execution_count": 158,
   "metadata": {},
   "outputs": [],
   "source": [
    "from sklearn.cluster import KMeans\n",
    "Kmeans = KMeans(n_clusters=4).fit(hash_matrix)"
   ]
  },
  {
   "cell_type": "code",
   "execution_count": 163,
   "metadata": {},
   "outputs": [
    {
     "name": "stdout",
     "output_type": "stream",
     "text": [
      "\n",
      " Group :  0 \n",
      "--------------\n",
      "1e1e4j0jqd\n",
      "594\n",
      "affairs\n",
      "away\n",
      "businesstechsa\n",
      "certainly\n",
      "claro\n",
      "comentario\n",
      "cristal\n",
      "cultural\n",
      "da\n",
      "days\n"
     ]
    },
    {
     "ename": "IndexError",
     "evalue": "index 23 is out of bounds for axis 0 with size 23",
     "output_type": "error",
     "traceback": [
      "\u001b[0;31m---------------------------------------------------------------------------\u001b[0m",
      "\u001b[0;31mIndexError\u001b[0m                                Traceback (most recent call last)",
      "\u001b[0;32m<ipython-input-163-1b4b99931b32>\u001b[0m in \u001b[0;36m<module>\u001b[0;34m\u001b[0m\n\u001b[1;32m      3\u001b[0m     \u001b[0mprint\u001b[0m\u001b[0;34m(\u001b[0m\u001b[0;34m'\\n Group : '\u001b[0m\u001b[0;34m,\u001b[0m \u001b[0mgroup\u001b[0m\u001b[0;34m,\u001b[0m \u001b[0;34m'\\n--------------'\u001b[0m\u001b[0;34m)\u001b[0m\u001b[0;34m\u001b[0m\u001b[0;34m\u001b[0m\u001b[0m\n\u001b[1;32m      4\u001b[0m     \u001b[0;32mfor\u001b[0m \u001b[0mi\u001b[0m \u001b[0;32min\u001b[0m \u001b[0mrange\u001b[0m\u001b[0;34m(\u001b[0m\u001b[0mlen\u001b[0m\u001b[0;34m(\u001b[0m\u001b[0mcategories\u001b[0m\u001b[0;34m)\u001b[0m\u001b[0;34m-\u001b[0m\u001b[0;36m1\u001b[0m\u001b[0;34m)\u001b[0m\u001b[0;34m:\u001b[0m\u001b[0;34m\u001b[0m\u001b[0;34m\u001b[0m\u001b[0m\n\u001b[0;32m----> 5\u001b[0;31m         \u001b[0;32mif\u001b[0m\u001b[0;34m(\u001b[0m\u001b[0mclusters\u001b[0m\u001b[0;34m[\u001b[0m\u001b[0mi\u001b[0m\u001b[0;34m]\u001b[0m \u001b[0;34m==\u001b[0m \u001b[0mgroup\u001b[0m\u001b[0;34m)\u001b[0m\u001b[0;34m:\u001b[0m\u001b[0;34m\u001b[0m\u001b[0;34m\u001b[0m\u001b[0m\n\u001b[0m\u001b[1;32m      6\u001b[0m             \u001b[0mprint\u001b[0m\u001b[0;34m(\u001b[0m\u001b[0mcategories\u001b[0m\u001b[0;34m[\u001b[0m\u001b[0mi\u001b[0m\u001b[0;34m]\u001b[0m\u001b[0;34m)\u001b[0m\u001b[0;34m\u001b[0m\u001b[0;34m\u001b[0m\u001b[0m\n",
      "\u001b[0;31mIndexError\u001b[0m: index 23 is out of bounds for axis 0 with size 23"
     ]
    }
   ],
   "source": [
    "clusters = Kmeans.labels_\n",
    "for group in set(clusters):\n",
    "    print('\\n Group : ', group, '\\n--------------')\n",
    "    for i in range(len(categories)-1):\n",
    "        if(clusters[i] == group):\n",
    "            print(categories[i])"
   ]
  },
  {
   "cell_type": "code",
   "execution_count": null,
   "metadata": {},
   "outputs": [],
   "source": []
  }
 ],
 "metadata": {
  "kernelspec": {
   "display_name": "Python 3",
   "language": "python",
   "name": "python3"
  },
  "language_info": {
   "codemirror_mode": {
    "name": "ipython",
    "version": 3
   },
   "file_extension": ".py",
   "mimetype": "text/x-python",
   "name": "python",
   "nbconvert_exporter": "python",
   "pygments_lexer": "ipython3",
   "version": "3.7.6"
  }
 },
 "nbformat": 4,
 "nbformat_minor": 4
}
