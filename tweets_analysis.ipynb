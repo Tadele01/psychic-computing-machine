{
 "cells": [
  {
   "cell_type": "code",
   "execution_count": 1,
   "metadata": {},
   "outputs": [],
   "source": [
    "import tweepy"
   ]
  },
  {
   "cell_type": "code",
   "execution_count": 2,
   "metadata": {},
   "outputs": [],
   "source": [
    "import config"
   ]
  },
  {
   "cell_type": "code",
   "execution_count": 91,
   "metadata": {},
   "outputs": [
    {
     "name": "stdout",
     "output_type": "stream",
     "text": [
      "Misguided ‘patriotism’ is killing this country.\n",
      "\n",
      "#Covid19 https://t.co/Bfizibg622\n",
      "RT @eaglewarrior427: #Georgia has had 425K #COVID19  cases &amp; almost 9K deaths\n",
      "\n",
      "It didn't have to be this way.\n",
      "\n",
      "Both Perdue &amp; Loeffler were…\n",
      "RT @axidentaliberal: @KLoeffler has attacked @ReverendWarnock \n",
      "She smeared him\n",
      "She's gone as low as you can go\n",
      "\n",
      "But after she tests positiv…\n",
      "RT @NCDCgov: DID YOU KNOW?\n",
      "\n",
      "The virus that causes #COVID19 can live on surfaces for several hours\n",
      "\n",
      "⚫Limit or avoid sharing personal items\n",
      "⚫…\n",
      "RT @bianet_org: #biamag Dr. Özgür Bilek, #Covid19'un iş kazası ya da meslek hastalığı olarak kabul edilmemesinin ne anlama geldiğini anlatt…\n",
      "RT @HelenBranswell: This ⁦@rkhamsi⁩ piece makes a lot of sense to me. Health workers are being traumatized by a relentless flow of #COVID19…\n",
      "@MoriartyLab BC refuses to regularly test #covid19 LTCH workers for Covid19. \n",
      "\n",
      "Only does screening question which m… https://t.co/QLGGQYoHTb\n",
      "RT @WybrenvanHaga: Technische vragen waarom in de richtlijn van het @rivm het aantal cycli van de PCR-test is verhoogd van 30 naar 35 en wa…\n",
      "RT @NSWHealth: NSW recorded no new cases of locally acquired #COVID19 in the 24 hours to 8pm last night. \n",
      "\n",
      "Eleven cases were reported in ov…\n",
      "Modern Minimal Typography Photo Change The Date Save The Date  https://t.co/pswqDvPxuu #changethedate… https://t.co/SjpopIzp31\n",
      "Set the mind free SEE MORE HERE ==&gt; https://t.co/2CVGAJFLHG   #covid19 #covid #coronavirus #trump https://t.co/G8qwsLpPYx\n",
      "RT @picardonhealth: Human cost of pandemic driven home by powerful photo of overwhelmed doctor phoning a family to tell them a loved one ha…\n",
      "RT @jsierraalvarez: #ComunicadoCoparmex\n",
      "\n",
      "Las 100 mil muertes de mexicanos por #COVID19 pudierno evitarse; escenario es catastrófico; urge u…\n",
      "RT @neuwirthe: #COVID19 #COVID19at  \n",
      "21.11. 8:00 bis 23:00 4510 neugemeldete positive Tests.\n",
      "RT @OMC_Espana: Aquí os dejamos el enlace al documento de obligado cumplimiento para todos los profesionales de la Medicina\n",
      "https://t.co/Bp…\n",
      "RT @BGOnTheScene: National Guard greeting travelers to New York’s LaGuardia Airport with mandatory health forms to fill out #NewYork #Cuomo…\n",
      "RT @bakshiharsh55: Fight Corona VR https://t.co/zN6yBPuDNm Available 2. \n",
      "#ue4 #UnrealEngine #indiedev #gamer #IndieGameDev #indiegames #CHV…\n",
      "#COVID19 #coronavirus https://t.co/fHFZx0qBS9\n",
      "RT @CollectorSGL: शादी—ब्याह के इस सीजन में खरीदारी के लिए बाजारों में भीड़ न करें। #COVID19 संक्रमण से बचने के लिए मास्क जरूर लगाएं, 2 गज…\n",
      "RT @donwinslow: 195,542 NEW #COVID19 cases today.\n",
      "\n",
      "And airports are full of people traveling.\n",
      "\n",
      "Thanksgiving with your family in November.…\n",
      "RT @astro_duque: Me he reunido esta mañana con el director general de @pfizer_spain, Sergio Rodríguez, para conocer los últimos avances de…\n",
      "शादी—ब्याह के इस सीजन में खरीदारी के लिए बाजारों में भीड़ न करें। #COVID19 संक्रमण से बचने के लिए मास्क जरूर लगाएं,… https://t.co/PznxSd7vLg\n",
      "Zeng Guang, former chief epidemiologist with the Chinese CDC, cited an Italian study which suggests that Covid-19 w… https://t.co/yZssYzzPr9\n",
      "RT @RahelsMind: Einfach sprachlos wie hier die deutsche Geschichte immer wieder für den eigenen Zweck \"missbraucht\" wird. #noafd #fckafd #f…\n",
      "RT @SherazSays_: The difference between the opposition's past and present statements about #COVID19 shows their hypocrisy .\n",
      "They are enemie…\n",
      "RT @TyraniaVapirel: Με 108 νεκρούς ο #Μητσοτάκης παίζει τέννις.\n",
      "Εάν το είχε κάνει ο Τσίπρας τα κανάλια θα έκαναν έκτακτες μεταδόσεις.\n",
      "Σιχαμ…\n",
      "Lies dazu: 5. Mose Kapitel 28 #corona #covid19 #pandemie Samuel Eckert liest auf der Corona-Info-Tour aus der Bibel… https://t.co/cGR3xc8zYq\n",
      "RT @TalbertSwan: @realDonaldTrump 260,000 DEAD\n",
      "\n",
      "12 Million INFECTED\n",
      "\n",
      "200,000 tested positive YESTERDAY\n",
      "\n",
      "17,000 have died since ELECTION DAY…\n",
      "Američka agencija @US_FDA zakazala je za 10. decembar sastanak gde će razmatrati zahtev kompanije @pfizer o bezbedn… https://t.co/qpWsPj2QiB\n",
      "RT @aswagalmal: شكرا\" لكل الكادر الطبي والصحي بمختلف تخصصاتهم!\n",
      "\n",
      "via @marklewismd \n",
      "#COVID19 \n",
      "#كوفيد_19 #كرونا https://t.co/hUEbWlR2lD\n",
      "RT @DrEricDing: No words... CNN reports that Trump appearing to be skipping G20 virtual summit side-event focused on #COVID19 pandemic. Tru…\n",
      "RT @DrEricDing: ⚠️US has hit 12,000,000 #COVID19 cases.\n",
      "\n",
      "📍Newest 1M took only 6 days—sharp **acceleration**: 11 days for 10th mil, and 7 da…\n",
      "RT @AmarilloLeones: Quand un policier Anglais confesse son ras-le-bol de la #DictatureSanitaire\n",
      "\n",
      "Policiers Français, ouvrez les yeux à votr…\n",
      "RT @EricWasserman1: WATCH: Protesters in Huntington Beach, waving American and Trump flags and calling themselves “curfew breakers,” are pr…\n",
      "https://t.co/7Z3qO1gWMl A #New #Air #Filtration #Ventilation #Model for #Homes, #Schools🚍🚸&amp; #Biz🏘️🏪using Mini… https://t.co/enEJCqa11D\n",
      "Casos de Coronavirus: \n",
      "\n",
      "Activos:  16,654,036\n",
      "Leves: 16,551,677\n",
      "Críticos: 102359\n",
      "Recuperados: 40,495,685  \n",
      "Muertes:… https://t.co/rzmBZvfmtF\n",
      "RT @DussolAlexis: #Covid19 : #Pfizer prépare une version en poudre de son vaccin - Le Parisien https://t.co/SROY6KxRzx\n",
      "La facture Macron (bien avant cette crise #COVID19) est sans précédent et sera un lourd fardeau pour la génération… https://t.co/LLTnooscP0\n",
      "RT @NextLAMayor: According to \"Science\" someone in Huntington Beach is going to have to start looting or set a Federal courthouse on fire t…\n",
      "#covid #covid19 #koronavirus #sehiyyegovaz #azərbaycan #bizbirlikdəgüclüyük https://t.co/D6w5NP3F7p\n",
      "शादी—ब्याह के इस सीजन में खरीदारी के लिए बाजारों में भीड़ न करें। #COVID19 संक्रमण से बचने के लिए मास्क जरूर लगाएं,… https://t.co/PigtZQbSpB\n",
      "RT @VtvGujarati: બોટાદમાં ઉર્જા મંત્રી સૌરભ પટેલના સ્નેહ મિલન સમારોહમાં મહામારીમાં કોવિડના નિયમોનો ભંગ, ઉમટી પડી ભીડ\n",
      "\n",
      "@saurabhpatelguj @CMO…\n",
      "RT @N_landCouncil: Self-isolating if you have #Covid19 symptoms or live with someone who has symptoms is really important 🙏 Watch our short…\n",
      "@MetroUK Anyone who challenges the State sanctioned narrative on #COVID19  reds to be arrested and thrown in jail.… https://t.co/qVMCu07oPb\n",
      "RT @UrugwiroVillage: President Kagame is currently attending and will give remarks during the first session of the 2020 G20 Leaders’ Summit…\n",
      "RT @CiroGomezL: La #CDMX comenzó a aplicar pruebas masivas y gratuitas para detectar #COVID19, así como el rastreo de contagiados ¿Por qué…\n",
      "As #COVID19 crisis continues and Govts across the globe evolve their responses, Tech Entrepreneurs come to the resc… https://t.co/XdK35c4fZj\n",
      "RT @Non_Fiction83: Can I get a follow from anyone out there that thinks that schools are unsafe and should be closed? After all, they’re in…\n",
      "RT @Belen_Viloria: Datos y redes de valor. #Tecnología y #colaboración, (capacidad inherente al ser humano que paradójicamente hoy estamos…\n",
      "RT @SharecareInc: We’ve spoken with hundreds of doctors, patients, frontline works and healthcare advocates. They all share a common messag…\n",
      "RT @JonasHeidelberg: Is there a good graphic showing best-case or realistic-case cumulated global #covid19 #vaccine production? @vercheckt…\n",
      "RT @SandhyaPanchal_: રાજકોટમાં નાક કે મોઢા નીચે માસ્ક સાથે બહાર નીકળ્યા તો થશે 200 રૂપિયાનો દંડ\n",
      "\n",
      "#MaskUp #StayHome #Rajkot #Covid19\n",
      "RT @SohiAmarjeet: Mourning &amp; grieving the loss of a loved one is the hardest part of #covid19 restrictions. If you are feeling lonely and n…\n",
      "DID YOU KNOW?\n",
      "\n",
      "The virus that causes #COVID19 can live on surfaces for several hours\n",
      "\n",
      "⚫Limit or avoid sharing perso… https://t.co/kW8pDCuEWZ\n",
      "RT @SuomenMEmedia: Vuonna 2003 SARS potilaista 40% kärsi ME:n oireista vielä 3,5 vuoden kuluttua virustaudin diagnosoinnista.\n",
      "Monikohan #CO…\n",
      "RT @ygjumi: イベルメクチン💊を病院にて定期的に使用\n",
      "#COVID19 治療薬として肯定的な結果\n",
      "パンデミックと戦うために直ちに検討を！\n",
      "\n",
      "豪州シドニー–消化器疾患センター（CDD）\n",
      "医学部長Thomas Borody教授\n",
      "\n",
      "💊米国FDA食品医薬品局＆豪州TGA保険省…\n",
      "शादी—ब्याह के इस सीजन में खरीदारी के लिए बाजारों में भीड़ न करें। #COVID19 संक्रमण से बचने के लिए मास्क जरूर लगाएं,… https://t.co/yCwrzQZH8N\n",
      "RT @GuevaraMontiel: La irresponsabilidad de este gobierno en cada calle de nuestro Centro Histórico lastima a los poblanos. Más allá de la…\n",
      "RT @BGOnTheScene: National Guard greeting travelers to New York’s LaGuardia Airport with mandatory health forms to fill out #NewYork #Cuomo…\n",
      "RT @pau_charity: Ce soir la température est tombé jusqu’à 5°, malgré la température nous sommes toujours présent sur le terrain. \n",
      "\n",
      "￼￼#Solid…\n",
      "RT @Iromg: This is quite extraordinary #COVID19\n",
      "#COVID19 @jdjsbhopal\n",
      "@collectorshajap @ChouhanShivraj @CMMadhyaPradesh यह आप ही के नेता है जो सोशल डिस्टेंसिंग का उ… https://t.co/vMLxVD6euD\n",
      "RT @EricWasserman1: WATCH: Protesters in Huntington Beach, waving American and Trump flags and calling themselves “curfew breakers,” are pr…\n",
      "RT @Marco_cgr: Dans la soirée les BRAV-M ont interpellé une jeune femme alors qu’elle filmait une interpellation.\n",
      ".\n",
      "Séquence entière 🎥\n",
      ".\n",
      "#p…\n",
      "RT @sapiofoxy: In February 2018, 64,000 died of flu.\n",
      "There were no masks, social distancing and lockdowns? But there wasn't a #global agend…\n",
      "RT @picardonhealth: Human cost of pandemic driven home by powerful photo of overwhelmed doctor phoning a family to tell them a loved one ha…\n",
      "RT @DrEricDing: No words... CNN reports that Trump appearing to be skipping G20 virtual summit side-event focused on #COVID19 pandemic. Tru…\n",
      "RT @Mediavenir: 🇮🇹 Glaçant reportage à #Naples : les #hôpitaux ne peuvent plus accueillir de patients. Certains sont intubés dans leurs aut…\n",
      "RT @maurobiani: #TheEconomyofFrancesco #economia #sviluppo #Giovani #Terra #Poveri #disuguaglianze #Covid19 \n",
      "Un altro mondo.\n",
      "https://t.co/U…\n",
      "शादी—ब्याह के इस सीजन में खरीदारी के लिए बाजारों में भीड़ न करें। #COVID19 संक्रमण से बचने के लिए मास्क जरूर लगाएं,… https://t.co/GR0uW3AlRr\n",
      "RT @ygjumi: 【#COVID19 3剤併用治療】\n",
      "\n",
      "1．イベルメクチン\n",
      "\n",
      "2．亜鉛\n",
      "\n",
      "3．ドキシサイクリン\n",
      "ニキビ、尿路感染症、腸内感染症、呼吸器感染症、眼感染症、淋病、クラミジア、梅毒、歯周炎（歯周病）などの感染症に使用されるTGAおよびFDA承認テトラサイクリン系…\n",
      "RT @la_campu: Perdí la nariz, mientras no pierda el olfato, todo bien 👍🏼😊\n",
      "\n",
      "No bajemos la guardia ante el #COVID19\n",
      "RT @Kalingatv: 46 #COVID19  Positives, 68 Recoveries In #Bhubaneswar In The Past 24 Hrs #Odisha https://t.co/loy2IjZTup\n",
      "Not Medical Advice! The following study shows a significant correlation between vitamin D deficiency and the severi… https://t.co/eBbdMh4Ze0\n",
      "RT @BPRCVS: #ThrivingCommunities programme launched - A new national support programme for #VCFSE groups, supporting communities impacted b…\n",
      "RT @altrelhpossible: Carrers oberts per @LHAjuntament els caps de setmana a #LHospitalet de #Llobregat amb motiu de la #COVID19.\n",
      "\n",
      "!Un, dos,…\n",
      "RT @PRO_Vizag: #JanAndolan\n",
      "Follow #COVID19 Appropriate Behaviour \n",
      "Cover your mouth &amp; nose with tissue/handkerchief while you cough or sneez…\n",
      "गोपाष्टमी की हार्दिक शुभकामनाएं। 🙏\n",
      "गौ माता की जय। 🙏\n",
      "#RamamrutamWith_Rushivarji\n",
      "#Shrinathdham #Rushivarji… https://t.co/x2z5I5M5Eb\n",
      "RT @GabrielScally: @eggersnsf @bmj_latest @otago @mendel_random The conclusion is spot on Matthias. Britain continues to be the worst islan…\n",
      "RT @nationnews: 10 new Covid-19 cases in quarantine facilities, one in refugee camp\n",
      "#Covid19 #Thailandnews #TheNationThailand\n",
      "https://t.co/…\n",
      "RT @nationnews: 10 new Covid-19 cases in quarantine facilities, one in refugee camp\n",
      "#Covid19 #Thailandnews #TheNationThailand\n",
      "https://t.co/…\n",
      "RT @outsider63: Burglars rejoice as police target peaceful protesters for breach of covid-fascist regulations in Basildon, Essex.\n",
      "#covid19…\n",
      "I spent a week in the Eastern Cape and what I witnessed in one township, especially shebeens and taverns is shockin… https://t.co/e16Ck8uGO1\n",
      "शादी—ब्याह के इस सीजन में खरीदारी के लिए बाजारों में भीड़ न करें। #COVID19 संक्रमण से बचने के लिए मास्क जरूर लगाएं,… https://t.co/7pBmbfoB1b\n",
      "RT @pcrclaims: Coming soon! Future individual  &amp; business plaintiffs please follow for updates. Share with everyone who has suffered harm f…\n",
      "RT @DrEricDing: 📍NEW—Texas Army National Guard has just arrived in El Paso—they have been assigned the grim work of dealing with the overfl…\n",
      "RT @PRO_Vizag: #JanAndolan  \n",
      "Steps to be taken when #COVID19 cases occur in the office.\n",
      " #StaySafe &amp; #StayHealthy \n",
      "#IndiaFightsCorona\n",
      "#Unit…\n",
      "Pues al final, @sanchezcastejon si que duerme con el bicho #coletasrata al lado, pero los que no dormimos somos los… https://t.co/lBJFUBJX5f\n",
      "RT @lyne_ian: ASYMPTOMATIC SPREAD OF #COVID19 IS NOT AN ISSUE!\n",
      "\n",
      "Fauci, Beda M. Stadler, the WHO, and studies from May and Nov 20, all say s…\n",
      "RT @Mediavenir: 🇫🇷 FLASH - 17 881 cas de #coronavirus en 24h en #France, une forte baisse par rapport à samedi dernier (34 032). 276 décès…\n",
      "RT @BloodDonorsIn: #Hyderabad\n",
      "Need #Blood Type :  O-positive\n",
      "At : Apollo Hospital, Jubilee Hills \n",
      "Blood Component : Need Plasma from O+ve #…\n",
      "RT @dabeard: Suggestion: Since #COVID19 is so severe, shouldn't we call attempts to extend mask use \"protections\" (they keep us alive) rath…\n",
      "RT @BluDiChina: Xi Ping Pong propone un codice QR per viaggiare sicuri.\n",
      "Siccome la proposta di marchiare il bestiame viene da un cinese, i…\n",
      "RT @tb_doc: Looking forward to today’s #Covid19 Training Day for @MedicalAidPal #IsolatedButTogether \n",
      "Thank you so much to all our brillian…\n",
      "RT @JapanGov: Congratulations to the @riken_en #Fugaku for remaining No.1 on the #Top500 #supercomputer list! Before festive season, RIKEN,…\n",
      "RT @Caerage: #PandemicProfiteer Sen Kelly Loeffler has tested positive for #COVID19. I find it offensive that a wealthy Senator who sold st…\n",
      "RT @Caerage: #PandemicProfiteer Sen Kelly Loeffler has tested positive for #COVID19. I find it offensive that a wealthy Senator who sold st…\n",
      "RT @Kalingatv: #BREAKING: 15 more patients succumb to #COVID19 in #Odisha in the last 24 hours, Death toll mounts to 1640 https://t.co/j8EP…\n",
      "RT @la_campu: Perdí la nariz, mientras no pierda el olfato, todo bien 👍🏼😊\n",
      "\n",
      "No bajemos la guardia ante el #COVID19\n",
      "RT @antonioguterres: We must ensure that #COVID19 vaccines are treated as a global public good — a people’s vaccine accessible and affordab…\n"
     ]
    }
   ],
   "source": [
    "auth = tweepy.OAuthHandler(config.consumer_key, config.consumer_secret)\n",
    "auth.set_access_token(config.access_token, config.access_token_secret)\n",
    "api = tweepy.API(auth, wait_on_rate_limit=True)\n",
    "tweets = api.search(\"#covid19\", count=100)\n",
    "for tweet in tweets:\n",
    "    print(tweet.text)"
   ]
  },
  {
   "cell_type": "code",
   "execution_count": 4,
   "metadata": {},
   "outputs": [
    {
     "name": "stdout",
     "output_type": "stream",
     "text": [
      "https://twitter.com/ale48005530\n",
      "https://twitter.com/Alavto2404\n",
      "https://twitter.com/Lexcxo2\n",
      "https://twitter.com/FridgetP\n",
      "https://twitter.com/vashon64343900\n",
      "https://twitter.com/ArsiyaMujawar\n",
      "https://twitter.com/PajulaErik\n",
      "https://twitter.com/itscareybaby_\n",
      "https://twitter.com/Michele92498812\n",
      "https://twitter.com/MacyOBrien18\n"
     ]
    }
   ],
   "source": [
    "ids = api.followers_ids(screen_name=\"TheWeeknd\", count=10)\n",
    "for user in api.lookup_users(user_ids=ids):\n",
    "    print(\"https://twitter.com/{}\".format(user.screen_name))\n"
   ]
  },
  {
   "cell_type": "code",
   "execution_count": 5,
   "metadata": {},
   "outputs": [],
   "source": [
    "#Reminder to get current user mention(for us we can use brand's name in this)\n",
    "tweets_mentions = api.mentions_timeline(count=10)\n",
    "for tweet in tweets_mentions:\n",
    "    print(tweet.text)"
   ]
  },
  {
   "cell_type": "code",
   "execution_count": 6,
   "metadata": {},
   "outputs": [],
   "source": [
    "#Oh God no one mentions me hahahhaah"
   ]
  },
  {
   "cell_type": "code",
   "execution_count": null,
   "metadata": {},
   "outputs": [],
   "source": []
  },
  {
   "cell_type": "code",
   "execution_count": 7,
   "metadata": {},
   "outputs": [],
   "source": [
    "#lets analyze \n"
   ]
  },
  {
   "cell_type": "code",
   "execution_count": 8,
   "metadata": {},
   "outputs": [
    {
     "data": {
      "text/plain": [
       "tweepy.models.ResultSet"
      ]
     },
     "execution_count": 8,
     "metadata": {},
     "output_type": "execute_result"
    }
   ],
   "source": [
    "my_timeline = api.home_timeline(count=10)\n",
    "type(my_timeline)"
   ]
  },
  {
   "cell_type": "code",
   "execution_count": 9,
   "metadata": {},
   "outputs": [
    {
     "name": "stdout",
     "output_type": "stream",
     "text": [
      "Help on ResultSet in module tweepy.models object:\n",
      "\n",
      "class ResultSet(builtins.list)\n",
      " |  ResultSet(max_id=None, since_id=None)\n",
      " |  \n",
      " |  A list like object that holds results from a Twitter API query.\n",
      " |  \n",
      " |  Method resolution order:\n",
      " |      ResultSet\n",
      " |      builtins.list\n",
      " |      builtins.object\n",
      " |  \n",
      " |  Methods defined here:\n",
      " |  \n",
      " |  __init__(self, max_id=None, since_id=None)\n",
      " |      Initialize self.  See help(type(self)) for accurate signature.\n",
      " |  \n",
      " |  ids(self)\n",
      " |  \n",
      " |  ----------------------------------------------------------------------\n",
      " |  Data descriptors defined here:\n",
      " |  \n",
      " |  __dict__\n",
      " |      dictionary for instance variables (if defined)\n",
      " |  \n",
      " |  __weakref__\n",
      " |      list of weak references to the object (if defined)\n",
      " |  \n",
      " |  max_id\n",
      " |  \n",
      " |  since_id\n",
      " |  \n",
      " |  ----------------------------------------------------------------------\n",
      " |  Methods inherited from builtins.list:\n",
      " |  \n",
      " |  __add__(self, value, /)\n",
      " |      Return self+value.\n",
      " |  \n",
      " |  __contains__(self, key, /)\n",
      " |      Return key in self.\n",
      " |  \n",
      " |  __delitem__(self, key, /)\n",
      " |      Delete self[key].\n",
      " |  \n",
      " |  __eq__(self, value, /)\n",
      " |      Return self==value.\n",
      " |  \n",
      " |  __ge__(self, value, /)\n",
      " |      Return self>=value.\n",
      " |  \n",
      " |  __getattribute__(self, name, /)\n",
      " |      Return getattr(self, name).\n",
      " |  \n",
      " |  __getitem__(...)\n",
      " |      x.__getitem__(y) <==> x[y]\n",
      " |  \n",
      " |  __gt__(self, value, /)\n",
      " |      Return self>value.\n",
      " |  \n",
      " |  __iadd__(self, value, /)\n",
      " |      Implement self+=value.\n",
      " |  \n",
      " |  __imul__(self, value, /)\n",
      " |      Implement self*=value.\n",
      " |  \n",
      " |  __iter__(self, /)\n",
      " |      Implement iter(self).\n",
      " |  \n",
      " |  __le__(self, value, /)\n",
      " |      Return self<=value.\n",
      " |  \n",
      " |  __len__(self, /)\n",
      " |      Return len(self).\n",
      " |  \n",
      " |  __lt__(self, value, /)\n",
      " |      Return self<value.\n",
      " |  \n",
      " |  __mul__(self, value, /)\n",
      " |      Return self*value.\n",
      " |  \n",
      " |  __ne__(self, value, /)\n",
      " |      Return self!=value.\n",
      " |  \n",
      " |  __repr__(self, /)\n",
      " |      Return repr(self).\n",
      " |  \n",
      " |  __reversed__(self, /)\n",
      " |      Return a reverse iterator over the list.\n",
      " |  \n",
      " |  __rmul__(self, value, /)\n",
      " |      Return value*self.\n",
      " |  \n",
      " |  __setitem__(self, key, value, /)\n",
      " |      Set self[key] to value.\n",
      " |  \n",
      " |  __sizeof__(self, /)\n",
      " |      Return the size of the list in memory, in bytes.\n",
      " |  \n",
      " |  append(self, object, /)\n",
      " |      Append object to the end of the list.\n",
      " |  \n",
      " |  clear(self, /)\n",
      " |      Remove all items from list.\n",
      " |  \n",
      " |  copy(self, /)\n",
      " |      Return a shallow copy of the list.\n",
      " |  \n",
      " |  count(self, value, /)\n",
      " |      Return number of occurrences of value.\n",
      " |  \n",
      " |  extend(self, iterable, /)\n",
      " |      Extend list by appending elements from the iterable.\n",
      " |  \n",
      " |  index(self, value, start=0, stop=9223372036854775807, /)\n",
      " |      Return first index of value.\n",
      " |      \n",
      " |      Raises ValueError if the value is not present.\n",
      " |  \n",
      " |  insert(self, index, object, /)\n",
      " |      Insert object before index.\n",
      " |  \n",
      " |  pop(self, index=-1, /)\n",
      " |      Remove and return item at index (default last).\n",
      " |      \n",
      " |      Raises IndexError if list is empty or index is out of range.\n",
      " |  \n",
      " |  remove(self, value, /)\n",
      " |      Remove first occurrence of value.\n",
      " |      \n",
      " |      Raises ValueError if the value is not present.\n",
      " |  \n",
      " |  reverse(self, /)\n",
      " |      Reverse *IN PLACE*.\n",
      " |  \n",
      " |  sort(self, /, *, key=None, reverse=False)\n",
      " |      Stable sort *IN PLACE*.\n",
      " |  \n",
      " |  ----------------------------------------------------------------------\n",
      " |  Static methods inherited from builtins.list:\n",
      " |  \n",
      " |  __new__(*args, **kwargs) from builtins.type\n",
      " |      Create and return a new object.  See help(type) for accurate signature.\n",
      " |  \n",
      " |  ----------------------------------------------------------------------\n",
      " |  Data and other attributes inherited from builtins.list:\n",
      " |  \n",
      " |  __hash__ = None\n",
      "\n"
     ]
    }
   ],
   "source": [
    "help(my_timeline)"
   ]
  },
  {
   "cell_type": "code",
   "execution_count": 10,
   "metadata": {},
   "outputs": [
    {
     "data": {
      "text/plain": [
       "['__add__',\n",
       " '__class__',\n",
       " '__contains__',\n",
       " '__delattr__',\n",
       " '__delitem__',\n",
       " '__dict__',\n",
       " '__dir__',\n",
       " '__doc__',\n",
       " '__eq__',\n",
       " '__format__',\n",
       " '__ge__',\n",
       " '__getattribute__',\n",
       " '__getitem__',\n",
       " '__gt__',\n",
       " '__hash__',\n",
       " '__iadd__',\n",
       " '__imul__',\n",
       " '__init__',\n",
       " '__init_subclass__',\n",
       " '__iter__',\n",
       " '__le__',\n",
       " '__len__',\n",
       " '__lt__',\n",
       " '__module__',\n",
       " '__mul__',\n",
       " '__ne__',\n",
       " '__new__',\n",
       " '__reduce__',\n",
       " '__reduce_ex__',\n",
       " '__repr__',\n",
       " '__reversed__',\n",
       " '__rmul__',\n",
       " '__setattr__',\n",
       " '__setitem__',\n",
       " '__sizeof__',\n",
       " '__str__',\n",
       " '__subclasshook__',\n",
       " '__weakref__',\n",
       " '_max_id',\n",
       " '_since_id',\n",
       " 'append',\n",
       " 'clear',\n",
       " 'copy',\n",
       " 'count',\n",
       " 'extend',\n",
       " 'ids',\n",
       " 'index',\n",
       " 'insert',\n",
       " 'max_id',\n",
       " 'pop',\n",
       " 'remove',\n",
       " 'reverse',\n",
       " 'since_id',\n",
       " 'sort']"
      ]
     },
     "execution_count": 10,
     "metadata": {},
     "output_type": "execute_result"
    }
   ],
   "source": [
    "dir(my_timeline)"
   ]
  },
  {
   "cell_type": "code",
   "execution_count": 11,
   "metadata": {},
   "outputs": [
    {
     "data": {
      "text/plain": [
       "{'_max_id': None, '_since_id': None}"
      ]
     },
     "execution_count": 11,
     "metadata": {},
     "output_type": "execute_result"
    }
   ],
   "source": [
    "my_timeline.__dict__"
   ]
  },
  {
   "cell_type": "code",
   "execution_count": 12,
   "metadata": {},
   "outputs": [
    {
     "data": {
      "text/plain": [
       "tweepy.models.ResultSet"
      ]
     },
     "execution_count": 12,
     "metadata": {},
     "output_type": "execute_result"
    }
   ],
   "source": [
    "type(my_timeline)"
   ]
  },
  {
   "cell_type": "code",
   "execution_count": 13,
   "metadata": {},
   "outputs": [],
   "source": [
    "one = my_timeline[0]"
   ]
  },
  {
   "cell_type": "code",
   "execution_count": 14,
   "metadata": {},
   "outputs": [],
   "source": [
    "attributes = one._json.items()\n",
    "attr_type = [type(x) for x in attributes]"
   ]
  },
  {
   "cell_type": "code",
   "execution_count": 15,
   "metadata": {},
   "outputs": [],
   "source": [
    "#now lets use each attribute one by one"
   ]
  },
  {
   "cell_type": "code",
   "execution_count": 16,
   "metadata": {},
   "outputs": [
    {
     "data": {
      "text/plain": [
       "datetime.datetime(2020, 11, 22, 5, 50, 30)"
      ]
     },
     "execution_count": 16,
     "metadata": {},
     "output_type": "execute_result"
    }
   ],
   "source": [
    "one.created_at # return a date time object"
   ]
  },
  {
   "cell_type": "code",
   "execution_count": 17,
   "metadata": {},
   "outputs": [
    {
     "data": {
      "text/plain": [
       "1330388164242857985"
      ]
     },
     "execution_count": 17,
     "metadata": {},
     "output_type": "execute_result"
    }
   ],
   "source": [
    "one.id # return id of the tweet we don't need it that much"
   ]
  },
  {
   "cell_type": "code",
   "execution_count": 18,
   "metadata": {},
   "outputs": [
    {
     "data": {
      "text/plain": [
       "'1330388164242857985'"
      ]
     },
     "execution_count": 18,
     "metadata": {},
     "output_type": "execute_result"
    }
   ],
   "source": [
    "one.id_str # string version of id "
   ]
  },
  {
   "cell_type": "code",
   "execution_count": 19,
   "metadata": {},
   "outputs": [
    {
     "data": {
      "text/plain": [
       "'@TwitterU @back_to_Matheus 😂 https://t.co/dvh0JUWegX'"
      ]
     },
     "execution_count": 19,
     "metadata": {},
     "output_type": "execute_result"
    }
   ],
   "source": [
    "one.text # return the actual tweet which is very useful"
   ]
  },
  {
   "cell_type": "code",
   "execution_count": 20,
   "metadata": {},
   "outputs": [
    {
     "data": {
      "text/plain": [
       "False"
      ]
     },
     "execution_count": 20,
     "metadata": {},
     "output_type": "execute_result"
    }
   ],
   "source": [
    "one.truncated # return whether the tweet is truncated version or not"
   ]
  },
  {
   "cell_type": "code",
   "execution_count": 21,
   "metadata": {},
   "outputs": [
    {
     "data": {
      "text/plain": [
       "dict_keys(['hashtags', 'symbols', 'user_mentions', 'urls', 'media'])"
      ]
     },
     "execution_count": 21,
     "metadata": {},
     "output_type": "execute_result"
    }
   ],
   "source": [
    "one.entities.keys()"
   ]
  },
  {
   "cell_type": "code",
   "execution_count": 22,
   "metadata": {},
   "outputs": [
    {
     "data": {
      "text/plain": [
       "[]"
      ]
     },
     "execution_count": 22,
     "metadata": {},
     "output_type": "execute_result"
    }
   ],
   "source": [
    "one.entities['hashtags']"
   ]
  },
  {
   "cell_type": "code",
   "execution_count": null,
   "metadata": {},
   "outputs": [],
   "source": []
  },
  {
   "cell_type": "code",
   "execution_count": 23,
   "metadata": {},
   "outputs": [],
   "source": [
    "#here is better way to get hashtags \n",
    "for elt in one.entities['hashtags']:\n",
    "    print(elt['text'])"
   ]
  },
  {
   "cell_type": "code",
   "execution_count": 24,
   "metadata": {},
   "outputs": [
    {
     "data": {
      "text/plain": [
       "[]"
      ]
     },
     "execution_count": 24,
     "metadata": {},
     "output_type": "execute_result"
    }
   ],
   "source": [
    "one.entities['symbols'] # IDK what the hell this returns "
   ]
  },
  {
   "cell_type": "code",
   "execution_count": 25,
   "metadata": {},
   "outputs": [
    {
     "data": {
      "text/plain": [
       "[{'screen_name': 'TwitterU',\n",
       "  'name': 'TwitterU is @ #Codechella 🎡',\n",
       "  'id': 172442947,\n",
       "  'id_str': '172442947',\n",
       "  'indices': [0, 9]},\n",
       " {'screen_name': 'back_to_Matheus',\n",
       "  'name': 'Matheus Power',\n",
       "  'id': 1648061395,\n",
       "  'id_str': '1648061395',\n",
       "  'indices': [10, 26]}]"
      ]
     },
     "execution_count": 25,
     "metadata": {},
     "output_type": "execute_result"
    }
   ],
   "source": [
    "one.entities['user_mentions'] # list of mentioned users "
   ]
  },
  {
   "cell_type": "code",
   "execution_count": 26,
   "metadata": {},
   "outputs": [
    {
     "name": "stdout",
     "output_type": "stream",
     "text": [
      "TwitterU\n",
      "TwitterU is @ #Codechella 🎡\n",
      "172442947\n",
      "172442947\n",
      "back_to_Matheus\n",
      "Matheus Power\n",
      "1648061395\n",
      "1648061395\n"
     ]
    }
   ],
   "source": [
    "for elt in one.entities['user_mentions']:\n",
    "    print(elt['screen_name'])\n",
    "    print(elt['name'])\n",
    "    print(elt['id'])\n",
    "    print(elt['id_str'])\n",
    "\n",
    "#we need the id of mentioned user to know about the user more using id search"
   ]
  },
  {
   "cell_type": "code",
   "execution_count": null,
   "metadata": {},
   "outputs": [],
   "source": []
  },
  {
   "cell_type": "code",
   "execution_count": 27,
   "metadata": {},
   "outputs": [
    {
     "data": {
      "text/plain": [
       "[]"
      ]
     },
     "execution_count": 27,
     "metadata": {},
     "output_type": "execute_result"
    }
   ],
   "source": [
    "one.entities['urls'] #returns list of urls in tweets"
   ]
  },
  {
   "cell_type": "code",
   "execution_count": 28,
   "metadata": {},
   "outputs": [
    {
     "data": {
      "text/plain": [
       "'Twitter for iPhone'"
      ]
     },
     "execution_count": 28,
     "metadata": {},
     "output_type": "execute_result"
    }
   ],
   "source": [
    "one.source #this might be very useful since it returns user's platform"
   ]
  },
  {
   "cell_type": "code",
   "execution_count": 29,
   "metadata": {},
   "outputs": [
    {
     "data": {
      "text/plain": [
       "1330372301473234944"
      ]
     },
     "execution_count": 29,
     "metadata": {},
     "output_type": "execute_result"
    }
   ],
   "source": [
    "one.in_reply_to_status_id"
   ]
  },
  {
   "cell_type": "code",
   "execution_count": 30,
   "metadata": {},
   "outputs": [
    {
     "data": {
      "text/plain": [
       "'1330372301473234944'"
      ]
     },
     "execution_count": 30,
     "metadata": {},
     "output_type": "execute_result"
    }
   ],
   "source": [
    "one.in_reply_to_status_id_str"
   ]
  },
  {
   "cell_type": "code",
   "execution_count": 31,
   "metadata": {},
   "outputs": [
    {
     "data": {
      "text/plain": [
       "172442947"
      ]
     },
     "execution_count": 31,
     "metadata": {},
     "output_type": "execute_result"
    }
   ],
   "source": [
    "one.in_reply_to_user_id"
   ]
  },
  {
   "cell_type": "code",
   "execution_count": 32,
   "metadata": {},
   "outputs": [
    {
     "data": {
      "text/plain": [
       "'172442947'"
      ]
     },
     "execution_count": 32,
     "metadata": {},
     "output_type": "execute_result"
    }
   ],
   "source": [
    "one.in_reply_to_user_id_str"
   ]
  },
  {
   "cell_type": "code",
   "execution_count": 33,
   "metadata": {},
   "outputs": [
    {
     "data": {
      "text/plain": [
       "'TwitterU'"
      ]
     },
     "execution_count": 33,
     "metadata": {},
     "output_type": "execute_result"
    }
   ],
   "source": [
    "one.in_reply_to_screen_name"
   ]
  },
  {
   "cell_type": "code",
   "execution_count": 34,
   "metadata": {},
   "outputs": [
    {
     "data": {
      "text/plain": [
       "User(_api=<tweepy.api.API object at 0x7f0051b7afd0>, _json={'id': 289483672, 'id_str': '289483672', 'name': 'Kelly 🎡 is at #Codechella', 'screen_name': 'Hummmmmbaby', 'location': '', 'description': \"in search of the world's best b⚫️ba milk tea. bay area sports in my blood. @twitteru university recruiting hYPe 🤪 @TwitterAsians lead ❤️\", 'url': None, 'entities': {'description': {'urls': []}}, 'protected': False, 'followers_count': 2597, 'friends_count': 986, 'listed_count': 29, 'created_at': 'Thu Apr 28 18:40:00 +0000 2011', 'favourites_count': 26650, 'utc_offset': None, 'time_zone': None, 'geo_enabled': True, 'verified': False, 'statuses_count': 6223, 'lang': None, 'contributors_enabled': False, 'is_translator': False, 'is_translation_enabled': False, 'profile_background_color': 'BADFCD', 'profile_background_image_url': 'http://abs.twimg.com/images/themes/theme12/bg.gif', 'profile_background_image_url_https': 'https://abs.twimg.com/images/themes/theme12/bg.gif', 'profile_background_tile': False, 'profile_image_url': 'http://pbs.twimg.com/profile_images/1307086490116198401/Cme7kKGb_normal.jpg', 'profile_image_url_https': 'https://pbs.twimg.com/profile_images/1307086490116198401/Cme7kKGb_normal.jpg', 'profile_banner_url': 'https://pbs.twimg.com/profile_banners/289483672/1605767662', 'profile_link_color': 'FF0000', 'profile_sidebar_border_color': 'F2E195', 'profile_sidebar_fill_color': 'FFF7CC', 'profile_text_color': '0C3E53', 'profile_use_background_image': True, 'has_extended_profile': True, 'default_profile': False, 'default_profile_image': False, 'following': True, 'follow_request_sent': False, 'notifications': False, 'translator_type': 'regular'}, id=289483672, id_str='289483672', name='Kelly 🎡 is at #Codechella', screen_name='Hummmmmbaby', location='', description=\"in search of the world's best b⚫️ba milk tea. bay area sports in my blood. @twitteru university recruiting hYPe 🤪 @TwitterAsians lead ❤️\", url=None, entities={'description': {'urls': []}}, protected=False, followers_count=2597, friends_count=986, listed_count=29, created_at=datetime.datetime(2011, 4, 28, 18, 40), favourites_count=26650, utc_offset=None, time_zone=None, geo_enabled=True, verified=False, statuses_count=6223, lang=None, contributors_enabled=False, is_translator=False, is_translation_enabled=False, profile_background_color='BADFCD', profile_background_image_url='http://abs.twimg.com/images/themes/theme12/bg.gif', profile_background_image_url_https='https://abs.twimg.com/images/themes/theme12/bg.gif', profile_background_tile=False, profile_image_url='http://pbs.twimg.com/profile_images/1307086490116198401/Cme7kKGb_normal.jpg', profile_image_url_https='https://pbs.twimg.com/profile_images/1307086490116198401/Cme7kKGb_normal.jpg', profile_banner_url='https://pbs.twimg.com/profile_banners/289483672/1605767662', profile_link_color='FF0000', profile_sidebar_border_color='F2E195', profile_sidebar_fill_color='FFF7CC', profile_text_color='0C3E53', profile_use_background_image=True, has_extended_profile=True, default_profile=False, default_profile_image=False, following=True, follow_request_sent=False, notifications=False, translator_type='regular')"
      ]
     },
     "execution_count": 34,
     "metadata": {},
     "output_type": "execute_result"
    }
   ],
   "source": [
    "one.user "
   ]
  },
  {
   "cell_type": "code",
   "execution_count": 35,
   "metadata": {
    "scrolled": false
   },
   "outputs": [
    {
     "data": {
      "text/plain": [
       "dict_keys(['created_at', 'id', 'id_str', 'text', 'truncated', 'entities', 'extended_entities', 'source', 'in_reply_to_status_id', 'in_reply_to_status_id_str', 'in_reply_to_user_id', 'in_reply_to_user_id_str', 'in_reply_to_screen_name', 'user', 'geo', 'coordinates', 'place', 'contributors', 'is_quote_status', 'retweet_count', 'favorite_count', 'favorited', 'retweeted', 'possibly_sensitive', 'possibly_sensitive_appealable', 'lang'])"
      ]
     },
     "execution_count": 35,
     "metadata": {},
     "output_type": "execute_result"
    }
   ],
   "source": [
    "one._json.keys()\n"
   ]
  },
  {
   "cell_type": "code",
   "execution_count": 36,
   "metadata": {},
   "outputs": [],
   "source": [
    "one.geo #return geographic location if available else return None"
   ]
  },
  {
   "cell_type": "code",
   "execution_count": 37,
   "metadata": {},
   "outputs": [],
   "source": [
    "one.coordinates   #return latitude longtiude coordinate if available else return None"
   ]
  },
  {
   "cell_type": "code",
   "execution_count": 38,
   "metadata": {},
   "outputs": [
    {
     "data": {
      "text/plain": [
       "Place(_api=<tweepy.api.API object at 0x7f0051b7afd0>, id='c47c0bc571bf5427', url='https://api.twitter.com/1.1/geo/id/c47c0bc571bf5427.json', place_type='city', name='Honolulu', full_name='Honolulu, HI', country_code='US', country='United States', contained_within=[], bounding_box=BoundingBox(_api=<tweepy.api.API object at 0x7f0051b7afd0>, type='Polygon', coordinates=[[[-157.950476, 21.254837], [-157.648702, 21.254837], [-157.648702, 21.38505], [-157.950476, 21.38505]]]), attributes={})"
      ]
     },
     "execution_count": 38,
     "metadata": {},
     "output_type": "execute_result"
    }
   ],
   "source": [
    "one.place # return place if available else return None"
   ]
  },
  {
   "cell_type": "code",
   "execution_count": 39,
   "metadata": {},
   "outputs": [],
   "source": [
    "one.contributors"
   ]
  },
  {
   "cell_type": "code",
   "execution_count": 40,
   "metadata": {},
   "outputs": [
    {
     "data": {
      "text/plain": [
       "False"
      ]
     },
     "execution_count": 40,
     "metadata": {},
     "output_type": "execute_result"
    }
   ],
   "source": [
    "one.is_quote_status"
   ]
  },
  {
   "cell_type": "code",
   "execution_count": 41,
   "metadata": {},
   "outputs": [
    {
     "data": {
      "text/plain": [
       "0"
      ]
     },
     "execution_count": 41,
     "metadata": {},
     "output_type": "execute_result"
    }
   ],
   "source": [
    "one.retweet_count"
   ]
  },
  {
   "cell_type": "code",
   "execution_count": 42,
   "metadata": {},
   "outputs": [
    {
     "data": {
      "text/plain": [
       "0"
      ]
     },
     "execution_count": 42,
     "metadata": {},
     "output_type": "execute_result"
    }
   ],
   "source": [
    "one.favorite_count"
   ]
  },
  {
   "cell_type": "code",
   "execution_count": 43,
   "metadata": {},
   "outputs": [
    {
     "data": {
      "text/plain": [
       "False"
      ]
     },
     "execution_count": 43,
     "metadata": {},
     "output_type": "execute_result"
    }
   ],
   "source": [
    "one.favorited"
   ]
  },
  {
   "cell_type": "code",
   "execution_count": 44,
   "metadata": {},
   "outputs": [
    {
     "data": {
      "text/plain": [
       "False"
      ]
     },
     "execution_count": 44,
     "metadata": {},
     "output_type": "execute_result"
    }
   ],
   "source": [
    "one.retweeted"
   ]
  },
  {
   "cell_type": "code",
   "execution_count": 45,
   "metadata": {},
   "outputs": [
    {
     "data": {
      "text/plain": [
       "'und'"
      ]
     },
     "execution_count": 45,
     "metadata": {},
     "output_type": "execute_result"
    }
   ],
   "source": [
    "one.lang"
   ]
  },
  {
   "cell_type": "markdown",
   "metadata": {},
   "source": [
    "\n",
    "# lets do some more fun"
   ]
  },
  {
   "cell_type": "code",
   "execution_count": 46,
   "metadata": {},
   "outputs": [
    {
     "data": {
      "text/plain": [
       "<tweepy.api.API at 0x7f0051b7afd0>"
      ]
     },
     "execution_count": 46,
     "metadata": {},
     "output_type": "execute_result"
    }
   ],
   "source": [
    "api"
   ]
  },
  {
   "cell_type": "code",
   "execution_count": 47,
   "metadata": {},
   "outputs": [
    {
     "data": {
      "text/plain": [
       "['__class__',\n",
       " '__delattr__',\n",
       " '__dict__',\n",
       " '__dir__',\n",
       " '__doc__',\n",
       " '__eq__',\n",
       " '__format__',\n",
       " '__ge__',\n",
       " '__getattribute__',\n",
       " '__gt__',\n",
       " '__hash__',\n",
       " '__init__',\n",
       " '__init_subclass__',\n",
       " '__le__',\n",
       " '__lt__',\n",
       " '__module__',\n",
       " '__ne__',\n",
       " '__new__',\n",
       " '__reduce__',\n",
       " '__reduce_ex__',\n",
       " '__repr__',\n",
       " '__setattr__',\n",
       " '__sizeof__',\n",
       " '__str__',\n",
       " '__subclasshook__',\n",
       " '__weakref__',\n",
       " '_add_list_members',\n",
       " '_lookup_friendships',\n",
       " '_pack_image',\n",
       " '_remove_list_members',\n",
       " '_send_direct_message',\n",
       " 'add_list_member',\n",
       " 'add_list_members',\n",
       " 'api_root',\n",
       " 'auth',\n",
       " 'blocks',\n",
       " 'blocks_ids',\n",
       " 'cache',\n",
       " 'cached_result',\n",
       " 'compression',\n",
       " 'configuration',\n",
       " 'create_block',\n",
       " 'create_favorite',\n",
       " 'create_friendship',\n",
       " 'create_list',\n",
       " 'create_media_metadata',\n",
       " 'create_mute',\n",
       " 'create_saved_search',\n",
       " 'destroy_block',\n",
       " 'destroy_direct_message',\n",
       " 'destroy_favorite',\n",
       " 'destroy_friendship',\n",
       " 'destroy_list',\n",
       " 'destroy_mute',\n",
       " 'destroy_saved_search',\n",
       " 'destroy_status',\n",
       " 'favorites',\n",
       " 'followers',\n",
       " 'followers_ids',\n",
       " 'friends',\n",
       " 'friends_ids',\n",
       " 'friendships_incoming',\n",
       " 'friendships_outgoing',\n",
       " 'geo_id',\n",
       " 'geo_search',\n",
       " 'geo_similar_places',\n",
       " 'get_direct_message',\n",
       " 'get_list',\n",
       " 'get_oembed',\n",
       " 'get_saved_search',\n",
       " 'get_settings',\n",
       " 'get_status',\n",
       " 'get_user',\n",
       " 'home_timeline',\n",
       " 'host',\n",
       " 'last_response',\n",
       " 'list_direct_messages',\n",
       " 'list_members',\n",
       " 'list_subscribers',\n",
       " 'list_timeline',\n",
       " 'lists_all',\n",
       " 'lists_memberships',\n",
       " 'lists_subscriptions',\n",
       " 'lookup_friendships',\n",
       " 'lookup_users',\n",
       " 'me',\n",
       " 'media_upload',\n",
       " 'mentions_timeline',\n",
       " 'mutes',\n",
       " 'mutes_ids',\n",
       " 'parser',\n",
       " 'proxy',\n",
       " 'rate_limit_status',\n",
       " 'related_results',\n",
       " 'remove_list_member',\n",
       " 'remove_list_members',\n",
       " 'report_spam',\n",
       " 'retry_count',\n",
       " 'retry_delay',\n",
       " 'retry_errors',\n",
       " 'retweet',\n",
       " 'retweeters',\n",
       " 'retweets',\n",
       " 'retweets_of_me',\n",
       " 'reverse_geocode',\n",
       " 'saved_searches',\n",
       " 'search',\n",
       " 'search_host',\n",
       " 'search_root',\n",
       " 'search_users',\n",
       " 'send_direct_message',\n",
       " 'set_settings',\n",
       " 'show_friendship',\n",
       " 'show_list_member',\n",
       " 'show_list_subscriber',\n",
       " 'statuses_lookup',\n",
       " 'subscribe_list',\n",
       " 'supported_languages',\n",
       " 'timeout',\n",
       " 'trends_available',\n",
       " 'trends_closest',\n",
       " 'trends_place',\n",
       " 'unretweet',\n",
       " 'unsubscribe_list',\n",
       " 'update_list',\n",
       " 'update_profile',\n",
       " 'update_profile_background_image',\n",
       " 'update_profile_banner',\n",
       " 'update_profile_image',\n",
       " 'update_status',\n",
       " 'update_with_media',\n",
       " 'upload_host',\n",
       " 'upload_root',\n",
       " 'user_timeline',\n",
       " 'verify_credentials',\n",
       " 'wait_on_rate_limit',\n",
       " 'wait_on_rate_limit_notify']"
      ]
     },
     "execution_count": 47,
     "metadata": {},
     "output_type": "execute_result"
    }
   ],
   "source": [
    "dir(api)"
   ]
  },
  {
   "cell_type": "code",
   "execution_count": 48,
   "metadata": {},
   "outputs": [],
   "source": [
    "name_of = one.user.screen_name\n",
    "user = api.get_user(name_of)"
   ]
  },
  {
   "cell_type": "code",
   "execution_count": 49,
   "metadata": {},
   "outputs": [
    {
     "data": {
      "text/plain": [
       "dict_keys(['id', 'id_str', 'name', 'screen_name', 'location', 'profile_location', 'description', 'url', 'entities', 'protected', 'followers_count', 'friends_count', 'listed_count', 'created_at', 'favourites_count', 'utc_offset', 'time_zone', 'geo_enabled', 'verified', 'statuses_count', 'lang', 'status', 'contributors_enabled', 'is_translator', 'is_translation_enabled', 'profile_background_color', 'profile_background_image_url', 'profile_background_image_url_https', 'profile_background_tile', 'profile_image_url', 'profile_image_url_https', 'profile_banner_url', 'profile_link_color', 'profile_sidebar_border_color', 'profile_sidebar_fill_color', 'profile_text_color', 'profile_use_background_image', 'has_extended_profile', 'default_profile', 'default_profile_image', 'following', 'follow_request_sent', 'notifications', 'translator_type'])"
      ]
     },
     "execution_count": 49,
     "metadata": {},
     "output_type": "execute_result"
    }
   ],
   "source": [
    "user._json.keys()"
   ]
  },
  {
   "cell_type": "code",
   "execution_count": 50,
   "metadata": {},
   "outputs": [
    {
     "data": {
      "text/plain": [
       "'Hummmmmbaby'"
      ]
     },
     "execution_count": 50,
     "metadata": {},
     "output_type": "execute_result"
    }
   ],
   "source": [
    "user.screen_name"
   ]
  },
  {
   "cell_type": "code",
   "execution_count": 51,
   "metadata": {},
   "outputs": [
    {
     "data": {
      "text/plain": [
       "'Kelly 🎡 is at #Codechella'"
      ]
     },
     "execution_count": 51,
     "metadata": {},
     "output_type": "execute_result"
    }
   ],
   "source": [
    "user.name"
   ]
  },
  {
   "cell_type": "code",
   "execution_count": 52,
   "metadata": {},
   "outputs": [
    {
     "data": {
      "text/plain": [
       "2597"
      ]
     },
     "execution_count": 52,
     "metadata": {},
     "output_type": "execute_result"
    }
   ],
   "source": [
    "user.followers_count"
   ]
  },
  {
   "cell_type": "code",
   "execution_count": 53,
   "metadata": {},
   "outputs": [
    {
     "name": "stdout",
     "output_type": "stream",
     "text": [
      "_TeNgaio_\n",
      "linukxxx\n",
      "AlongeEfe\n",
      "joycew67\n",
      "Transition46\n",
      "DrBiden\n",
      "ChrisCuomo\n",
      "staceyabrams\n",
      "mPinoe\n",
      "oumeimin\n",
      "angadsg\n",
      "shoher\n",
      "theYariBlanco\n",
      "dbarrett\n",
      "oxMrMIKExo\n",
      "normant_\n",
      "mjmichellekim\n",
      "bbnoodz\n",
      "Kingzac21\n",
      "fauciforthewin\n"
     ]
    }
   ],
   "source": [
    "for frnd in user.friends():\n",
    "    print(frnd.screen_name)"
   ]
  },
  {
   "cell_type": "code",
   "execution_count": 54,
   "metadata": {},
   "outputs": [
    {
     "data": {
      "text/plain": [
       "<bound method User.followers of User(_api=<tweepy.api.API object at 0x7f0051b7afd0>, _json={'id': 289483672, 'id_str': '289483672', 'name': 'Kelly 🎡 is at #Codechella', 'screen_name': 'Hummmmmbaby', 'location': '', 'profile_location': None, 'description': \"in search of the world's best b⚫️ba milk tea. bay area sports in my blood. @twitteru university recruiting hYPe 🤪 @TwitterAsians lead ❤️\", 'url': None, 'entities': {'description': {'urls': []}}, 'protected': False, 'followers_count': 2597, 'friends_count': 986, 'listed_count': 29, 'created_at': 'Thu Apr 28 18:40:00 +0000 2011', 'favourites_count': 26650, 'utc_offset': None, 'time_zone': None, 'geo_enabled': True, 'verified': False, 'statuses_count': 6223, 'lang': None, 'status': {'created_at': 'Sun Nov 22 05:50:30 +0000 2020', 'id': 1330388164242857985, 'id_str': '1330388164242857985', 'text': '@TwitterU @back_to_Matheus 😂 https://t.co/dvh0JUWegX', 'truncated': False, 'entities': {'hashtags': [], 'symbols': [], 'user_mentions': [{'screen_name': 'TwitterU', 'name': 'TwitterU is @ #Codechella 🎡', 'id': 172442947, 'id_str': '172442947', 'indices': [0, 9]}, {'screen_name': 'back_to_Matheus', 'name': 'Matheus Power', 'id': 1648061395, 'id_str': '1648061395', 'indices': [10, 26]}], 'urls': [], 'media': [{'id': 1330388156911333378, 'id_str': '1330388156911333378', 'indices': [29, 52], 'media_url': 'http://pbs.twimg.com/tweet_video_thumb/EnZ8-uIWMAIbLFl.jpg', 'media_url_https': 'https://pbs.twimg.com/tweet_video_thumb/EnZ8-uIWMAIbLFl.jpg', 'url': 'https://t.co/dvh0JUWegX', 'display_url': 'pic.twitter.com/dvh0JUWegX', 'expanded_url': 'https://twitter.com/Hummmmmbaby/status/1330388164242857985/photo/1', 'type': 'photo', 'sizes': {'thumb': {'w': 150, 'h': 150, 'resize': 'crop'}, 'small': {'w': 450, 'h': 450, 'resize': 'fit'}, 'large': {'w': 450, 'h': 450, 'resize': 'fit'}, 'medium': {'w': 450, 'h': 450, 'resize': 'fit'}}}]}, 'extended_entities': {'media': [{'id': 1330388156911333378, 'id_str': '1330388156911333378', 'indices': [29, 52], 'media_url': 'http://pbs.twimg.com/tweet_video_thumb/EnZ8-uIWMAIbLFl.jpg', 'media_url_https': 'https://pbs.twimg.com/tweet_video_thumb/EnZ8-uIWMAIbLFl.jpg', 'url': 'https://t.co/dvh0JUWegX', 'display_url': 'pic.twitter.com/dvh0JUWegX', 'expanded_url': 'https://twitter.com/Hummmmmbaby/status/1330388164242857985/photo/1', 'type': 'animated_gif', 'sizes': {'thumb': {'w': 150, 'h': 150, 'resize': 'crop'}, 'small': {'w': 450, 'h': 450, 'resize': 'fit'}, 'large': {'w': 450, 'h': 450, 'resize': 'fit'}, 'medium': {'w': 450, 'h': 450, 'resize': 'fit'}}, 'video_info': {'aspect_ratio': [1, 1], 'variants': [{'bitrate': 0, 'content_type': 'video/mp4', 'url': 'https://video.twimg.com/tweet_video/EnZ8-uIWMAIbLFl.mp4'}]}}]}, 'source': '<a href=\"http://twitter.com/download/iphone\" rel=\"nofollow\">Twitter for iPhone</a>', 'in_reply_to_status_id': 1330372301473234944, 'in_reply_to_status_id_str': '1330372301473234944', 'in_reply_to_user_id': 172442947, 'in_reply_to_user_id_str': '172442947', 'in_reply_to_screen_name': 'TwitterU', 'geo': None, 'coordinates': None, 'place': {'id': 'c47c0bc571bf5427', 'url': 'https://api.twitter.com/1.1/geo/id/c47c0bc571bf5427.json', 'place_type': 'city', 'name': 'Honolulu', 'full_name': 'Honolulu, HI', 'country_code': 'US', 'country': 'United States', 'contained_within': [], 'bounding_box': {'type': 'Polygon', 'coordinates': [[[-157.950476, 21.254837], [-157.648702, 21.254837], [-157.648702, 21.38505], [-157.950476, 21.38505]]]}, 'attributes': {}}, 'contributors': None, 'is_quote_status': False, 'retweet_count': 0, 'favorite_count': 0, 'favorited': False, 'retweeted': False, 'possibly_sensitive': False, 'lang': 'und'}, 'contributors_enabled': False, 'is_translator': False, 'is_translation_enabled': False, 'profile_background_color': 'BADFCD', 'profile_background_image_url': 'http://abs.twimg.com/images/themes/theme12/bg.gif', 'profile_background_image_url_https': 'https://abs.twimg.com/images/themes/theme12/bg.gif', 'profile_background_tile': False, 'profile_image_url': 'http://pbs.twimg.com/profile_images/1307086490116198401/Cme7kKGb_normal.jpg', 'profile_image_url_https': 'https://pbs.twimg.com/profile_images/1307086490116198401/Cme7kKGb_normal.jpg', 'profile_banner_url': 'https://pbs.twimg.com/profile_banners/289483672/1605767662', 'profile_link_color': 'FF0000', 'profile_sidebar_border_color': 'F2E195', 'profile_sidebar_fill_color': 'FFF7CC', 'profile_text_color': '0C3E53', 'profile_use_background_image': True, 'has_extended_profile': True, 'default_profile': False, 'default_profile_image': False, 'following': True, 'follow_request_sent': False, 'notifications': False, 'translator_type': 'regular'}, id=289483672, id_str='289483672', name='Kelly 🎡 is at #Codechella', screen_name='Hummmmmbaby', location='', profile_location=None, description=\"in search of the world's best b⚫️ba milk tea. bay area sports in my blood. @twitteru university recruiting hYPe 🤪 @TwitterAsians lead ❤️\", url=None, entities={'description': {'urls': []}}, protected=False, followers_count=2597, friends_count=986, listed_count=29, created_at=datetime.datetime(2011, 4, 28, 18, 40), favourites_count=26650, utc_offset=None, time_zone=None, geo_enabled=True, verified=False, statuses_count=6223, lang=None, status=Status(_api=<tweepy.api.API object at 0x7f0051b7afd0>, _json={'created_at': 'Sun Nov 22 05:50:30 +0000 2020', 'id': 1330388164242857985, 'id_str': '1330388164242857985', 'text': '@TwitterU @back_to_Matheus 😂 https://t.co/dvh0JUWegX', 'truncated': False, 'entities': {'hashtags': [], 'symbols': [], 'user_mentions': [{'screen_name': 'TwitterU', 'name': 'TwitterU is @ #Codechella 🎡', 'id': 172442947, 'id_str': '172442947', 'indices': [0, 9]}, {'screen_name': 'back_to_Matheus', 'name': 'Matheus Power', 'id': 1648061395, 'id_str': '1648061395', 'indices': [10, 26]}], 'urls': [], 'media': [{'id': 1330388156911333378, 'id_str': '1330388156911333378', 'indices': [29, 52], 'media_url': 'http://pbs.twimg.com/tweet_video_thumb/EnZ8-uIWMAIbLFl.jpg', 'media_url_https': 'https://pbs.twimg.com/tweet_video_thumb/EnZ8-uIWMAIbLFl.jpg', 'url': 'https://t.co/dvh0JUWegX', 'display_url': 'pic.twitter.com/dvh0JUWegX', 'expanded_url': 'https://twitter.com/Hummmmmbaby/status/1330388164242857985/photo/1', 'type': 'photo', 'sizes': {'thumb': {'w': 150, 'h': 150, 'resize': 'crop'}, 'small': {'w': 450, 'h': 450, 'resize': 'fit'}, 'large': {'w': 450, 'h': 450, 'resize': 'fit'}, 'medium': {'w': 450, 'h': 450, 'resize': 'fit'}}}]}, 'extended_entities': {'media': [{'id': 1330388156911333378, 'id_str': '1330388156911333378', 'indices': [29, 52], 'media_url': 'http://pbs.twimg.com/tweet_video_thumb/EnZ8-uIWMAIbLFl.jpg', 'media_url_https': 'https://pbs.twimg.com/tweet_video_thumb/EnZ8-uIWMAIbLFl.jpg', 'url': 'https://t.co/dvh0JUWegX', 'display_url': 'pic.twitter.com/dvh0JUWegX', 'expanded_url': 'https://twitter.com/Hummmmmbaby/status/1330388164242857985/photo/1', 'type': 'animated_gif', 'sizes': {'thumb': {'w': 150, 'h': 150, 'resize': 'crop'}, 'small': {'w': 450, 'h': 450, 'resize': 'fit'}, 'large': {'w': 450, 'h': 450, 'resize': 'fit'}, 'medium': {'w': 450, 'h': 450, 'resize': 'fit'}}, 'video_info': {'aspect_ratio': [1, 1], 'variants': [{'bitrate': 0, 'content_type': 'video/mp4', 'url': 'https://video.twimg.com/tweet_video/EnZ8-uIWMAIbLFl.mp4'}]}}]}, 'source': '<a href=\"http://twitter.com/download/iphone\" rel=\"nofollow\">Twitter for iPhone</a>', 'in_reply_to_status_id': 1330372301473234944, 'in_reply_to_status_id_str': '1330372301473234944', 'in_reply_to_user_id': 172442947, 'in_reply_to_user_id_str': '172442947', 'in_reply_to_screen_name': 'TwitterU', 'geo': None, 'coordinates': None, 'place': {'id': 'c47c0bc571bf5427', 'url': 'https://api.twitter.com/1.1/geo/id/c47c0bc571bf5427.json', 'place_type': 'city', 'name': 'Honolulu', 'full_name': 'Honolulu, HI', 'country_code': 'US', 'country': 'United States', 'contained_within': [], 'bounding_box': {'type': 'Polygon', 'coordinates': [[[-157.950476, 21.254837], [-157.648702, 21.254837], [-157.648702, 21.38505], [-157.950476, 21.38505]]]}, 'attributes': {}}, 'contributors': None, 'is_quote_status': False, 'retweet_count': 0, 'favorite_count': 0, 'favorited': False, 'retweeted': False, 'possibly_sensitive': False, 'lang': 'und'}, created_at=datetime.datetime(2020, 11, 22, 5, 50, 30), id=1330388164242857985, id_str='1330388164242857985', text='@TwitterU @back_to_Matheus 😂 https://t.co/dvh0JUWegX', truncated=False, entities={'hashtags': [], 'symbols': [], 'user_mentions': [{'screen_name': 'TwitterU', 'name': 'TwitterU is @ #Codechella 🎡', 'id': 172442947, 'id_str': '172442947', 'indices': [0, 9]}, {'screen_name': 'back_to_Matheus', 'name': 'Matheus Power', 'id': 1648061395, 'id_str': '1648061395', 'indices': [10, 26]}], 'urls': [], 'media': [{'id': 1330388156911333378, 'id_str': '1330388156911333378', 'indices': [29, 52], 'media_url': 'http://pbs.twimg.com/tweet_video_thumb/EnZ8-uIWMAIbLFl.jpg', 'media_url_https': 'https://pbs.twimg.com/tweet_video_thumb/EnZ8-uIWMAIbLFl.jpg', 'url': 'https://t.co/dvh0JUWegX', 'display_url': 'pic.twitter.com/dvh0JUWegX', 'expanded_url': 'https://twitter.com/Hummmmmbaby/status/1330388164242857985/photo/1', 'type': 'photo', 'sizes': {'thumb': {'w': 150, 'h': 150, 'resize': 'crop'}, 'small': {'w': 450, 'h': 450, 'resize': 'fit'}, 'large': {'w': 450, 'h': 450, 'resize': 'fit'}, 'medium': {'w': 450, 'h': 450, 'resize': 'fit'}}}]}, extended_entities={'media': [{'id': 1330388156911333378, 'id_str': '1330388156911333378', 'indices': [29, 52], 'media_url': 'http://pbs.twimg.com/tweet_video_thumb/EnZ8-uIWMAIbLFl.jpg', 'media_url_https': 'https://pbs.twimg.com/tweet_video_thumb/EnZ8-uIWMAIbLFl.jpg', 'url': 'https://t.co/dvh0JUWegX', 'display_url': 'pic.twitter.com/dvh0JUWegX', 'expanded_url': 'https://twitter.com/Hummmmmbaby/status/1330388164242857985/photo/1', 'type': 'animated_gif', 'sizes': {'thumb': {'w': 150, 'h': 150, 'resize': 'crop'}, 'small': {'w': 450, 'h': 450, 'resize': 'fit'}, 'large': {'w': 450, 'h': 450, 'resize': 'fit'}, 'medium': {'w': 450, 'h': 450, 'resize': 'fit'}}, 'video_info': {'aspect_ratio': [1, 1], 'variants': [{'bitrate': 0, 'content_type': 'video/mp4', 'url': 'https://video.twimg.com/tweet_video/EnZ8-uIWMAIbLFl.mp4'}]}}]}, source='Twitter for iPhone', source_url='http://twitter.com/download/iphone', in_reply_to_status_id=1330372301473234944, in_reply_to_status_id_str='1330372301473234944', in_reply_to_user_id=172442947, in_reply_to_user_id_str='172442947', in_reply_to_screen_name='TwitterU', geo=None, coordinates=None, place=Place(_api=<tweepy.api.API object at 0x7f0051b7afd0>, id='c47c0bc571bf5427', url='https://api.twitter.com/1.1/geo/id/c47c0bc571bf5427.json', place_type='city', name='Honolulu', full_name='Honolulu, HI', country_code='US', country='United States', contained_within=[], bounding_box=BoundingBox(_api=<tweepy.api.API object at 0x7f0051b7afd0>, type='Polygon', coordinates=[[[-157.950476, 21.254837], [-157.648702, 21.254837], [-157.648702, 21.38505], [-157.950476, 21.38505]]]), attributes={}), contributors=None, is_quote_status=False, retweet_count=0, favorite_count=0, favorited=False, retweeted=False, possibly_sensitive=False, lang='und'), contributors_enabled=False, is_translator=False, is_translation_enabled=False, profile_background_color='BADFCD', profile_background_image_url='http://abs.twimg.com/images/themes/theme12/bg.gif', profile_background_image_url_https='https://abs.twimg.com/images/themes/theme12/bg.gif', profile_background_tile=False, profile_image_url='http://pbs.twimg.com/profile_images/1307086490116198401/Cme7kKGb_normal.jpg', profile_image_url_https='https://pbs.twimg.com/profile_images/1307086490116198401/Cme7kKGb_normal.jpg', profile_banner_url='https://pbs.twimg.com/profile_banners/289483672/1605767662', profile_link_color='FF0000', profile_sidebar_border_color='F2E195', profile_sidebar_fill_color='FFF7CC', profile_text_color='0C3E53', profile_use_background_image=True, has_extended_profile=True, default_profile=False, default_profile_image=False, following=True, follow_request_sent=False, notifications=False, translator_type='regular')>"
      ]
     },
     "execution_count": 54,
     "metadata": {},
     "output_type": "execute_result"
    }
   ],
   "source": [
    "user.followers"
   ]
  },
  {
   "cell_type": "markdown",
   "metadata": {},
   "source": [
    "# Word cloud\n",
    "    A graphical display of words in a corpus \n",
    "    size of word based on number of occurrences. the more the occurrences the bigger the size and vise versa\n",
    "    visual view of the most popular terms"
   ]
  },
  {
   "cell_type": "code",
   "execution_count": 55,
   "metadata": {},
   "outputs": [],
   "source": [
    "#lets get Donald J Trump's tweets"
   ]
  },
  {
   "cell_type": "code",
   "execution_count": 56,
   "metadata": {},
   "outputs": [],
   "source": [
    "trump = api.get_user('realDonaldTrump')\n",
    "trump_name = trump.screen_name"
   ]
  },
  {
   "cell_type": "code",
   "execution_count": 57,
   "metadata": {},
   "outputs": [],
   "source": [
    "trump_tweets = api.user_timeline(screen_name=trump_name, count=200,  include_rts = False, tweet_mode = 'extended')"
   ]
  },
  {
   "cell_type": "code",
   "execution_count": 58,
   "metadata": {},
   "outputs": [
    {
     "data": {
      "text/plain": [
       "132"
      ]
     },
     "execution_count": 58,
     "metadata": {},
     "output_type": "execute_result"
    }
   ],
   "source": [
    "len(trump_tweets)\n"
   ]
  },
  {
   "cell_type": "code",
   "execution_count": 59,
   "metadata": {},
   "outputs": [],
   "source": [
    "tweet = trump_tweets[0]"
   ]
  },
  {
   "cell_type": "code",
   "execution_count": 60,
   "metadata": {},
   "outputs": [
    {
     "data": {
      "text/plain": [
       "Status(_api=<tweepy.api.API object at 0x7f0051b7afd0>, _json={'created_at': 'Sun Nov 22 04:55:16 +0000 2020', 'id': 1330374263581368320, 'id_str': '1330374263581368320', 'full_text': '....WILL APPEAL!', 'truncated': False, 'display_text_range': [0, 16], 'entities': {'hashtags': [], 'symbols': [], 'user_mentions': [], 'urls': []}, 'source': '<a href=\"http://twitter.com/download/iphone\" rel=\"nofollow\">Twitter for iPhone</a>', 'in_reply_to_status_id': 1330374020613758977, 'in_reply_to_status_id_str': '1330374020613758977', 'in_reply_to_user_id': 25073877, 'in_reply_to_user_id_str': '25073877', 'in_reply_to_screen_name': 'realDonaldTrump', 'user': {'id': 25073877, 'id_str': '25073877', 'name': 'Donald J. Trump', 'screen_name': 'realDonaldTrump', 'location': 'Washington, DC', 'description': '45th President of the United States of America🇺🇸', 'url': 'https://t.co/8f9VFxztEJ', 'entities': {'url': {'urls': [{'url': 'https://t.co/8f9VFxztEJ', 'expanded_url': 'http://Vote.DonaldJTrump.com', 'display_url': 'Vote.DonaldJTrump.com', 'indices': [0, 23]}]}, 'description': {'urls': []}}, 'protected': False, 'followers_count': 88925517, 'friends_count': 51, 'listed_count': 125257, 'created_at': 'Wed Mar 18 13:46:38 +0000 2009', 'favourites_count': 6, 'utc_offset': None, 'time_zone': None, 'geo_enabled': True, 'verified': True, 'statuses_count': 58610, 'lang': None, 'contributors_enabled': False, 'is_translator': False, 'is_translation_enabled': True, 'profile_background_color': '6D5C18', 'profile_background_image_url': 'http://abs.twimg.com/images/themes/theme1/bg.png', 'profile_background_image_url_https': 'https://abs.twimg.com/images/themes/theme1/bg.png', 'profile_background_tile': True, 'profile_image_url': 'http://pbs.twimg.com/profile_images/874276197357596672/kUuht00m_normal.jpg', 'profile_image_url_https': 'https://pbs.twimg.com/profile_images/874276197357596672/kUuht00m_normal.jpg', 'profile_banner_url': 'https://pbs.twimg.com/profile_banners/25073877/1604214583', 'profile_link_color': '1B95E0', 'profile_sidebar_border_color': 'BDDCAD', 'profile_sidebar_fill_color': 'C5CEC0', 'profile_text_color': '333333', 'profile_use_background_image': True, 'has_extended_profile': False, 'default_profile': False, 'default_profile_image': False, 'following': False, 'follow_request_sent': False, 'notifications': False, 'translator_type': 'regular'}, 'geo': None, 'coordinates': None, 'place': None, 'contributors': None, 'is_quote_status': False, 'retweet_count': 7452, 'favorite_count': 50653, 'favorited': False, 'retweeted': False, 'lang': 'en'}, created_at=datetime.datetime(2020, 11, 22, 4, 55, 16), id=1330374263581368320, id_str='1330374263581368320', full_text='....WILL APPEAL!', truncated=False, display_text_range=[0, 16], entities={'hashtags': [], 'symbols': [], 'user_mentions': [], 'urls': []}, source='Twitter for iPhone', source_url='http://twitter.com/download/iphone', in_reply_to_status_id=1330374020613758977, in_reply_to_status_id_str='1330374020613758977', in_reply_to_user_id=25073877, in_reply_to_user_id_str='25073877', in_reply_to_screen_name='realDonaldTrump', author=User(_api=<tweepy.api.API object at 0x7f0051b7afd0>, _json={'id': 25073877, 'id_str': '25073877', 'name': 'Donald J. Trump', 'screen_name': 'realDonaldTrump', 'location': 'Washington, DC', 'description': '45th President of the United States of America🇺🇸', 'url': 'https://t.co/8f9VFxztEJ', 'entities': {'url': {'urls': [{'url': 'https://t.co/8f9VFxztEJ', 'expanded_url': 'http://Vote.DonaldJTrump.com', 'display_url': 'Vote.DonaldJTrump.com', 'indices': [0, 23]}]}, 'description': {'urls': []}}, 'protected': False, 'followers_count': 88925517, 'friends_count': 51, 'listed_count': 125257, 'created_at': 'Wed Mar 18 13:46:38 +0000 2009', 'favourites_count': 6, 'utc_offset': None, 'time_zone': None, 'geo_enabled': True, 'verified': True, 'statuses_count': 58610, 'lang': None, 'contributors_enabled': False, 'is_translator': False, 'is_translation_enabled': True, 'profile_background_color': '6D5C18', 'profile_background_image_url': 'http://abs.twimg.com/images/themes/theme1/bg.png', 'profile_background_image_url_https': 'https://abs.twimg.com/images/themes/theme1/bg.png', 'profile_background_tile': True, 'profile_image_url': 'http://pbs.twimg.com/profile_images/874276197357596672/kUuht00m_normal.jpg', 'profile_image_url_https': 'https://pbs.twimg.com/profile_images/874276197357596672/kUuht00m_normal.jpg', 'profile_banner_url': 'https://pbs.twimg.com/profile_banners/25073877/1604214583', 'profile_link_color': '1B95E0', 'profile_sidebar_border_color': 'BDDCAD', 'profile_sidebar_fill_color': 'C5CEC0', 'profile_text_color': '333333', 'profile_use_background_image': True, 'has_extended_profile': False, 'default_profile': False, 'default_profile_image': False, 'following': False, 'follow_request_sent': False, 'notifications': False, 'translator_type': 'regular'}, id=25073877, id_str='25073877', name='Donald J. Trump', screen_name='realDonaldTrump', location='Washington, DC', description='45th President of the United States of America🇺🇸', url='https://t.co/8f9VFxztEJ', entities={'url': {'urls': [{'url': 'https://t.co/8f9VFxztEJ', 'expanded_url': 'http://Vote.DonaldJTrump.com', 'display_url': 'Vote.DonaldJTrump.com', 'indices': [0, 23]}]}, 'description': {'urls': []}}, protected=False, followers_count=88925517, friends_count=51, listed_count=125257, created_at=datetime.datetime(2009, 3, 18, 13, 46, 38), favourites_count=6, utc_offset=None, time_zone=None, geo_enabled=True, verified=True, statuses_count=58610, lang=None, contributors_enabled=False, is_translator=False, is_translation_enabled=True, profile_background_color='6D5C18', profile_background_image_url='http://abs.twimg.com/images/themes/theme1/bg.png', profile_background_image_url_https='https://abs.twimg.com/images/themes/theme1/bg.png', profile_background_tile=True, profile_image_url='http://pbs.twimg.com/profile_images/874276197357596672/kUuht00m_normal.jpg', profile_image_url_https='https://pbs.twimg.com/profile_images/874276197357596672/kUuht00m_normal.jpg', profile_banner_url='https://pbs.twimg.com/profile_banners/25073877/1604214583', profile_link_color='1B95E0', profile_sidebar_border_color='BDDCAD', profile_sidebar_fill_color='C5CEC0', profile_text_color='333333', profile_use_background_image=True, has_extended_profile=False, default_profile=False, default_profile_image=False, following=False, follow_request_sent=False, notifications=False, translator_type='regular'), user=User(_api=<tweepy.api.API object at 0x7f0051b7afd0>, _json={'id': 25073877, 'id_str': '25073877', 'name': 'Donald J. Trump', 'screen_name': 'realDonaldTrump', 'location': 'Washington, DC', 'description': '45th President of the United States of America🇺🇸', 'url': 'https://t.co/8f9VFxztEJ', 'entities': {'url': {'urls': [{'url': 'https://t.co/8f9VFxztEJ', 'expanded_url': 'http://Vote.DonaldJTrump.com', 'display_url': 'Vote.DonaldJTrump.com', 'indices': [0, 23]}]}, 'description': {'urls': []}}, 'protected': False, 'followers_count': 88925517, 'friends_count': 51, 'listed_count': 125257, 'created_at': 'Wed Mar 18 13:46:38 +0000 2009', 'favourites_count': 6, 'utc_offset': None, 'time_zone': None, 'geo_enabled': True, 'verified': True, 'statuses_count': 58610, 'lang': None, 'contributors_enabled': False, 'is_translator': False, 'is_translation_enabled': True, 'profile_background_color': '6D5C18', 'profile_background_image_url': 'http://abs.twimg.com/images/themes/theme1/bg.png', 'profile_background_image_url_https': 'https://abs.twimg.com/images/themes/theme1/bg.png', 'profile_background_tile': True, 'profile_image_url': 'http://pbs.twimg.com/profile_images/874276197357596672/kUuht00m_normal.jpg', 'profile_image_url_https': 'https://pbs.twimg.com/profile_images/874276197357596672/kUuht00m_normal.jpg', 'profile_banner_url': 'https://pbs.twimg.com/profile_banners/25073877/1604214583', 'profile_link_color': '1B95E0', 'profile_sidebar_border_color': 'BDDCAD', 'profile_sidebar_fill_color': 'C5CEC0', 'profile_text_color': '333333', 'profile_use_background_image': True, 'has_extended_profile': False, 'default_profile': False, 'default_profile_image': False, 'following': False, 'follow_request_sent': False, 'notifications': False, 'translator_type': 'regular'}, id=25073877, id_str='25073877', name='Donald J. Trump', screen_name='realDonaldTrump', location='Washington, DC', description='45th President of the United States of America🇺🇸', url='https://t.co/8f9VFxztEJ', entities={'url': {'urls': [{'url': 'https://t.co/8f9VFxztEJ', 'expanded_url': 'http://Vote.DonaldJTrump.com', 'display_url': 'Vote.DonaldJTrump.com', 'indices': [0, 23]}]}, 'description': {'urls': []}}, protected=False, followers_count=88925517, friends_count=51, listed_count=125257, created_at=datetime.datetime(2009, 3, 18, 13, 46, 38), favourites_count=6, utc_offset=None, time_zone=None, geo_enabled=True, verified=True, statuses_count=58610, lang=None, contributors_enabled=False, is_translator=False, is_translation_enabled=True, profile_background_color='6D5C18', profile_background_image_url='http://abs.twimg.com/images/themes/theme1/bg.png', profile_background_image_url_https='https://abs.twimg.com/images/themes/theme1/bg.png', profile_background_tile=True, profile_image_url='http://pbs.twimg.com/profile_images/874276197357596672/kUuht00m_normal.jpg', profile_image_url_https='https://pbs.twimg.com/profile_images/874276197357596672/kUuht00m_normal.jpg', profile_banner_url='https://pbs.twimg.com/profile_banners/25073877/1604214583', profile_link_color='1B95E0', profile_sidebar_border_color='BDDCAD', profile_sidebar_fill_color='C5CEC0', profile_text_color='333333', profile_use_background_image=True, has_extended_profile=False, default_profile=False, default_profile_image=False, following=False, follow_request_sent=False, notifications=False, translator_type='regular'), geo=None, coordinates=None, place=None, contributors=None, is_quote_status=False, retweet_count=7452, favorite_count=50653, favorited=False, retweeted=False, lang='en')"
      ]
     },
     "execution_count": 60,
     "metadata": {},
     "output_type": "execute_result"
    }
   ],
   "source": [
    "tweet"
   ]
  },
  {
   "cell_type": "code",
   "execution_count": 61,
   "metadata": {},
   "outputs": [
    {
     "name": "stdout",
     "output_type": "stream",
     "text": [
      "....WILL APPEAL!\n",
      "2020-11-22 04:55:16\n",
      "\n",
      "\n",
      "Thanks Mark. It’s all a continuation of the never ending Witch Hunt. Judge Brann, who would not even allow us to present our case or evidence, is a product of Senator Pat “No Tariffs” Toomey of Pennsylvania, no friend of mine, &amp; Obama - No wonder. 900,000 Fraudulent Votes! https://t.co/17rk2KsUPs\n",
      "2020-11-22 04:54:18\n",
      "\n",
      "\n",
      "“Dominion-izing the Vote”\n",
      "Part Three via @OANN @ChanelRion https://t.co/5En1SjPIol\n",
      "2020-11-22 04:32:09\n",
      "\n",
      "\n",
      "“Dominion-izing the Vote”\n",
      "Part Two via @OANN @ChanelRion \n",
      "https://t.co/HFvrnViseu\n",
      "2020-11-22 04:31:12\n",
      "\n",
      "\n",
      "“Dominion-izing the Vote”\n",
      "Part One via @OANN @ChanelRion \n",
      "https://t.co/7OtrKfoj6q\n",
      "2020-11-22 04:30:20\n",
      "\n",
      "\n",
      "True! https://t.co/tlb3zylLqX\n",
      "2020-11-22 04:23:48\n",
      "\n",
      "\n",
      "They never thought a Vaccine could be done so soon but don’t worry, they will try to give the credit to Biden! https://t.co/zp7vZET8R4\n",
      "2020-11-22 04:15:42\n",
      "\n",
      "\n",
      "https://t.co/3XrEnnwhMn\n",
      "2020-11-22 03:26:01\n",
      "\n",
      "\n",
      "https://t.co/dHIHuBOqqY\n",
      "2020-11-22 03:25:42\n",
      "\n",
      "\n",
      "Sorry Liz, can’t accept the results of an election with hundreds of thousands of fraudulent votes cast, enough to easily flip the Election. You’re just unhappy that I’m bringing the troops back home where they belong! https://t.co/elZ9X3wrAz\n",
      "2020-11-22 01:49:55\n",
      "\n",
      "\n"
     ]
    }
   ],
   "source": [
    "for i in range(10):\n",
    "    tweet = trump_tweets[i]\n",
    "    print(tweet.full_text)\n",
    "    print(tweet.created_at)\n",
    "    print('\\n')"
   ]
  },
  {
   "cell_type": "code",
   "execution_count": 62,
   "metadata": {},
   "outputs": [
    {
     "name": "stdout",
     "output_type": "stream",
     "text": [
      "Requirement already satisfied: wordcloud in /home/tade/anaconda3/lib/python3.7/site-packages (1.8.1)\n",
      "Requirement already satisfied: pillow in /home/tade/anaconda3/lib/python3.7/site-packages (from wordcloud) (7.1.2)\n",
      "Requirement already satisfied: matplotlib in /home/tade/anaconda3/lib/python3.7/site-packages (from wordcloud) (3.2.1)\n",
      "Requirement already satisfied: numpy>=1.6.1 in /home/tade/anaconda3/lib/python3.7/site-packages (from wordcloud) (1.18.1)\n",
      "Requirement already satisfied: cycler>=0.10 in /home/tade/anaconda3/lib/python3.7/site-packages (from matplotlib->wordcloud) (0.10.0)\n",
      "Requirement already satisfied: kiwisolver>=1.0.1 in /home/tade/anaconda3/lib/python3.7/site-packages (from matplotlib->wordcloud) (1.2.0)\n",
      "Requirement already satisfied: python-dateutil>=2.1 in /home/tade/anaconda3/lib/python3.7/site-packages (from matplotlib->wordcloud) (2.6.1)\n",
      "Requirement already satisfied: pyparsing!=2.0.4,!=2.1.2,!=2.1.6,>=2.0.1 in /home/tade/anaconda3/lib/python3.7/site-packages (from matplotlib->wordcloud) (2.4.7)\n",
      "Requirement already satisfied: six in /home/tade/anaconda3/lib/python3.7/site-packages (from cycler>=0.10->matplotlib->wordcloud) (1.12.0)\n"
     ]
    }
   ],
   "source": [
    "!pip install wordcloud"
   ]
  },
  {
   "cell_type": "code",
   "execution_count": 63,
   "metadata": {},
   "outputs": [],
   "source": [
    "from wordcloud import WordCloud, STOPWORDS\n",
    "stopwords = set(STOPWORDS)\n",
    "trump_tweets_text = str([tweet.full_text for tweet in trump_tweets])\n",
    "word_cloud = WordCloud(stopwords=stopwords, max_words=25, \\\n",
    "                      background_color=\"white\").generate(trump_tweets_text)"
   ]
  },
  {
   "cell_type": "code",
   "execution_count": 64,
   "metadata": {},
   "outputs": [
    {
     "data": {
      "text/plain": [
       "<matplotlib.image.AxesImage at 0x7f0038088e90>"
      ]
     },
     "execution_count": 64,
     "metadata": {},
     "output_type": "execute_result"
    },
    {
     "data": {
      "image/png": "[encoded data removed]",
      "text/plain": [
       "<Figure size 432x288 with 1 Axes>"
      ]
     },
     "metadata": {
      "needs_background": "light"
     },
     "output_type": "display_data"
    }
   ],
   "source": [
    "import matplotlib.pyplot as plt\n",
    "plt.imshow(word_cloud)"
   ]
  },
  {
   "cell_type": "code",
   "execution_count": 87,
   "metadata": {},
   "outputs": [
    {
     "data": {
      "text/plain": [
       "'Election'"
      ]
     },
     "execution_count": 87,
     "metadata": {},
     "output_type": "execute_result"
    }
   ],
   "source": [
    "# as we can see there are some words needs to be ignored lets do that\n",
    "stopwords.update(['https', 't', 'co', 'many'])\n",
    "word_cloud = WordCloud(stopwords=stopwords, max_words=10, \\\n",
    "                      background_color=\"azure\").generate(trump_tweets_text)\n",
    "list(word_cloud.words_.keys())[0]"
   ]
  },
  {
   "cell_type": "code",
   "execution_count": 66,
   "metadata": {},
   "outputs": [
    {
     "data": {
      "text/plain": [
       "<matplotlib.image.AxesImage at 0x7f00370d5950>"
      ]
     },
     "execution_count": 66,
     "metadata": {},
     "output_type": "execute_result"
    },
    {
     "data": {
      "image/png": "[encoded data removed]",
      "text/plain": [
       "<Figure size 432x288 with 1 Axes>"
      ]
     },
     "metadata": {
      "needs_background": "light"
     },
     "output_type": "display_data"
    }
   ],
   "source": [
    "plt.imshow(word_cloud)"
   ]
  },
  {
   "cell_type": "markdown",
   "metadata": {},
   "source": [
    "# Sentiment Analysis\n",
    "    identify and categorize intent or opinion in text data \n",
    "    ==>in sentiment analysis we want to determine sentence's polarity ranging from -1 to 1 \n",
    "    +1(postive)\n",
    "    -1(negative)\n",
    "     0(neutral)\n",
    "    ==> we also want to understand whether the sentiment is objective or subjective\n",
    "     0(objective)\n",
    "    +1(subjective)"
   ]
  },
  {
   "cell_type": "code",
   "execution_count": 67,
   "metadata": {},
   "outputs": [],
   "source": [
    "# to implement sentiment analysis we can use the bag of words technique"
   ]
  },
  {
   "cell_type": "code",
   "execution_count": 68,
   "metadata": {},
   "outputs": [
    {
     "name": "stdout",
     "output_type": "stream",
     "text": [
      "Requirement already satisfied: textblob in /home/tade/anaconda3/lib/python3.7/site-packages (0.15.3)\r\n",
      "Requirement already satisfied: nltk>=3.1 in /home/tade/anaconda3/lib/python3.7/site-packages (from textblob) (3.5)\r\n",
      "Requirement already satisfied: tqdm in /home/tade/anaconda3/lib/python3.7/site-packages (from nltk>=3.1->textblob) (4.46.1)\r\n",
      "Requirement already satisfied: regex in /home/tade/anaconda3/lib/python3.7/site-packages (from nltk>=3.1->textblob) (2020.5.14)\r\n",
      "Requirement already satisfied: joblib in /home/tade/anaconda3/lib/python3.7/site-packages (from nltk>=3.1->textblob) (0.15.1)\r\n",
      "Requirement already satisfied: click in /home/tade/anaconda3/lib/python3.7/site-packages (from nltk>=3.1->textblob) (5.1)\r\n"
     ]
    }
   ],
   "source": [
    "!pip install textblob"
   ]
  },
  {
   "cell_type": "code",
   "execution_count": 69,
   "metadata": {},
   "outputs": [],
   "source": [
    "from textblob import TextBlob"
   ]
  },
  {
   "cell_type": "code",
   "execution_count": 70,
   "metadata": {},
   "outputs": [
    {
     "name": "stdout",
     "output_type": "stream",
     "text": [
      "Review                                  :Polarity  :Subjectivity\n",
      "....WILL APPEAL!                         :    0.00   :   0.00\n",
      "Thanks Mark. It’s all a continuation of  :    0.10   :   0.10\n",
      "“Dominion-izing the Vote”\n",
      "Part Three via :    0.00   :   0.00\n",
      "“Dominion-izing the Vote”\n",
      "Part Two via @ :    0.00   :   0.00\n",
      "“Dominion-izing the Vote”\n",
      "Part One via @ :    0.00   :   0.00\n",
      "True! https://t.co/tlb3zylLqX            :    0.44   :   0.65\n",
      "They never thought a Vaccine could be do :    0.00   :   0.00\n",
      "https://t.co/3XrEnnwhMn                  :    0.00   :   0.00\n",
      "https://t.co/dHIHuBOqqY                  :    0.00   :   0.00\n",
      "Sorry Liz, can’t accept the results of a :   -0.13   :   0.65\n",
      "Well, there were hundreds of thousands o :   -0.38   :   0.70\n",
      "This is not at all frivolous. It is brou :   -0.04   :   0.58\n",
      "....the COURAGE to do what has to be don :    0.00   :   0.00\n",
      "Why is Joe Biden so quickly forming a Ca :    0.22   :   0.47\n",
      "The Media is just as corrupt as the Elec :   -0.62   :   1.00\n",
      "Fake News always “forgets” to mention th :    0.25   :   0.84\n",
      "The Fake News is not talking about the f :   -0.04   :   0.61\n",
      "Joe Biden was a total disaster in handli :   -0.50   :   0.88\n",
      "“President Trump has done many great thi :    0.35   :   0.64\n",
      "Watch: Hundreds of Activists Gather for  :    0.38   :   0.37\n",
      "Check out @PastorDScott’s new show tonig :    0.51   :   0.53\n",
      "Big voter fraud information coming out c :    0.00   :   0.10\n",
      "I agree! https://t.co/dugcH0VjH6         :    0.00   :   0.00\n",
      "My son Donald is doing very well. Thank  :    0.25   :   0.30\n",
      "Massive voter fraud will be shown! https :    0.00   :   1.00\n",
      "This is true, but much different than re :    0.28   :   0.79\n",
      "Trump Announces Groundbreaking Rules to  :    0.00   :   0.00\n",
      "https://t.co/YHscjY6G8t                  :    0.00   :   0.00\n",
      "https://t.co/OLZnCJq93Y                  :    0.00   :   0.00\n",
      "https://t.co/cwOQLhQNFq                  :    0.00   :   0.00\n",
      "...Why won’t they do it, and why are the :   -0.15   :   0.80\n",
      "The Governor of Georgia, and Secretary o :   -0.25   :   0.30\n",
      "News Conference on Reduced Drug Prices a :    0.00   :   0.00\n",
      "Giuliani: The Case for Election Fraud Be :    0.00   :   0.00\n",
      "We have great support on the Election Ho :    1.00   :   0.75\n",
      "Thank you Elizabeth, LOVE! https://t.co/ :    0.62   :   0.60\n",
      "The great @FoxNews daytime ratings CRASH :    0.10   :   0.78\n",
      "RINO Mitt Romney should read this. I’m s :    0.60   :   0.89\n",
      "@justin_hart There will be no lockdowns  :    0.07   :   0.47\n",
      "Will use these charts in court case. The :    0.00   :   0.00\n",
      "A Rigged Election! https://t.co/dAviFrkE :    0.00   :   0.00\n",
      "Great book! https://t.co/Aq4Qus3u4r      :    1.00   :   0.75\n",
      "Look at this in Michigan! A day AFTER th :    0.00   :   0.00\n",
      "So true. Thanks Jody! https://t.co/YnOpH :    0.30   :   0.43\n",
      "https://t.co/lJa6syVoqN                  :    0.00   :   0.00\n",
      "We withdrew because we won! https://t.co :    0.00   :   0.00\n",
      "Nolte: Top Pollster Finds 47% Say ‘Likel :    0.25   :   0.75\n",
      "Lawyers now on @newsmax, @OANN &amp; may :    0.00   :   0.75\n",
      "THE COVID DRUGS NOW AVAILABLE TO MAKE PE :    0.36   :   0.52\n",
      "“Evidence of voter fraud continues to gr :   -0.10   :   0.63\n",
      "Almost ZERO ballots rejected in Georgia  :    0.07   :   0.76\n",
      "Thousands of uncounted votes discovered  :    0.48   :   0.72\n",
      "Important News Conference today by lawye :    0.44   :   0.83\n",
      "Voter Fraud in Detroit is rampant, and h :    0.62   :   0.50\n",
      "VACCINES ARE COMING FAST!!!              :    0.39   :   0.60\n",
      "Great job on @foxandfriends today Gianca :    1.00   :   0.75\n",
      "...And with these numbers, by far the hi :    0.12   :   1.00\n",
      "It was my great honor to help, a tremend :    0.61   :   0.88\n",
      "Looking good! https://t.co/4EOWyhWzJ3    :    0.88   :   0.60\n",
      "\"Dominion-izing the Vote\" https://t.co/Z :    0.00   :   0.00\n",
      "“Statistical sampling to prove widesprea :    0.00   :   0.00\n",
      "Look at this in Wisconsin! A day AFTER t :   -0.51   :   0.83\n",
      "Thank you @DarrellIssa, so nice! \n",
      "https: :    0.75   :   1.00\n",
      "https://t.co/WqwBtqRH1I                  :    0.00   :   0.00\n",
      "FLOYD COUNTY, GEORGIA! \n",
      "https://t.co/mIZ :    0.00   :   0.00\n",
      "The Great State of Michigan, with votes  :    0.48   :   0.55\n",
      "In Detroit, there are FAR MORE VOTES THA :    0.40   :   0.72\n",
      "“The numbers have not improved, it is st :    0.62   :   0.50\n",
      "THEY WOULD’NT LET REPUBLICAN POLL WATCHE :    0.00   :   0.00\n",
      "The Georgia recount is a joke and is bei :    0.10   :   0.40\n",
      "They didn’t even allow Republican Observ :   -1.00   :   1.00\n",
      "This was a rigged election. No Republica :    0.62   :   0.50\n",
      "Wrong! At first they voted against becau :   -0.21   :   0.57\n",
      "...AND I WON THE ELECTION. VOTER FRAUD A :    0.00   :   0.00\n",
      "Trump votes. https://t.co/JYEMPg1MJc     :    0.00   :   0.00\n",
      "Wow! Governor Kemp will hopefully see th :    0.34   :   0.66\n",
      "Well, it’s really quite simple. You just :    0.27   :   0.35\n",
      "More votes than people, and that is the  :   -0.04   :   0.45\n",
      "Flip Michigan back to TRUMP. Detroit, no :    0.02   :   0.50\n",
      "Wow! Michigan just refused to certify th :    0.67   :   1.00\n",
      "“Second Georgia County Finds Thousands M :    0.25   :   0.25\n",
      "https://t.co/ciHvx0h6e9                  :    0.00   :   0.00\n",
      "The only thing secure about our 2020 Ele :    0.25   :   0.62\n",
      "THANK YOU! https://t.co/DrtsiD71i4       :    0.00   :   0.00\n",
      "...votes from Trump to Biden, late votin :    0.32   :   0.60\n",
      "The recent statement by Chris Krebs on t :   -0.01   :   0.55\n",
      "“DEAD PEOPLE VOTED” https://t.co/y6WRvCB :   -0.20   :   0.40\n",
      "https://t.co/GnGXzUZeo9                  :    0.00   :   0.00\n",
      "https://t.co/Nf8mnRLhy5                  :    0.00   :   0.00\n",
      "THIS SAYS IT ALL! https://t.co/zZSspsJPe :    0.00   :   0.00\n",
      "I have reversed the ridiculous decision  :   -0.42   :   1.00\n",
      "https://t.co/J99jQjt2wY                  :    0.00   :   0.00\n",
      "Big victory moments ago in the State of  :    0.18   :   0.43\n",
      "The rate of rejected Mail-In Ballots is  :    0.00   :   0.00\n",
      "Georgia won’t let us look at the all imp :   -0.03   :   0.83\n",
      "European Countries are sadly getting clo :   -0.38   :   0.67\n",
      "STOCK MARKET GETTING VERY CLOSE TO 30,00 :    0.36   :   0.52\n",
      "They will PACK THE COURTS. We won’t let  :    0.00   :   0.00\n",
      "The Radical Left Democrats, working with :   -0.31   :   0.50\n",
      "Trump Campaign Rejects Media Reports of  :    0.00   :   0.53\n",
      "Who will be running for Governor of the  :    0.56   :   0.80\n",
      "Another Vaccine just announced. This tim :    0.80   :   0.77\n",
      "Try watching @OANN. Really GREAT!        :    1.00   :   0.75\n",
      "The Fake recount going on in Georgia mea :   -0.62   :   1.00\n",
      "I won the Election!                      :    0.00   :   0.00\n",
      "I strongly stand with Kelly &amp; David. :    0.74   :   0.63\n",
      "Dominion is running our Election. Rigged :    0.00   :   0.00\n",
      "Thank you Andrew! https://t.co/lnFIJb64Y :    0.00   :   0.00\n",
      "Most fraudulent Election in history! htt :    0.62   :   0.50\n",
      "This is crazy! https://t.co/Dwvb57mgMz   :   -0.75   :   0.90\n",
      "No way! https://t.co/Dwvb57mgMz          :    0.00   :   0.00\n",
      "The Washington Post forgot to read the c :   -0.29   :   0.38\n",
      "I WON THE ELECTION!                      :    0.00   :   0.00\n",
      "....owned Dominion Voting Systems, turne :   -0.01   :   0.59\n",
      "....perhaps like never before! From larg :    0.18   :   0.48\n",
      "Why does the Fake News Media continuousl :   -0.05   :   0.73\n",
      "A great launch! @NASA was a closed up di :    0.30   :   0.51\n",
      "Many of the court cases being filed all  :   -0.17   :   0.53\n",
      "Spirit like never before! https://t.co/2 :    0.00   :   0.00\n",
      "Amazing! https://t.co/RMOa4jKZwA         :    0.75   :   0.90\n",
      "We won’t let a RIGGED ELECTION steal our :    0.00   :   0.00\n",
      "WATCH: D.C. Cops Direct Trump-Supporters :    0.12   :   0.48\n",
      "Great job Emily! https://t.co/kQbKViF7Il :    1.00   :   0.75\n",
      "John Bolton was one of the dumbest peopl :   -0.07   :   0.37\n",
      "https://t.co/8N0vB3nJPi                  :    0.00   :   0.00\n",
      "https://t.co/fKDXKEmNr1                  :    0.00   :   0.00\n",
      "https://t.co/ZruNgRgFqF                  :    0.00   :   0.00\n",
      "Rudy will be interviewed by @MariaBartir :    0.00   :   0.00\n",
      "Progress! https://t.co/K0NrpChXuI        :    0.00   :   0.00\n",
      "He only won in the eyes of the FAKE NEWS :   -0.23   :   0.80\n",
      "RIGGED ELECTION. WE WILL WIN!            :    1.00   :   0.40\n",
      "Watch @RudyGiuliani interview on @MariaB :    1.00   :   0.75\n"
     ]
    }
   ],
   "source": [
    "trump_tweets_list = [tweet.full_text for tweet in trump_tweets]\n",
    "print('{:40}:{:10}:{:10}'.format('Review', 'Polarity', 'Subjectivity'))\n",
    "for tweet in trump_tweets_list:\n",
    "    sentiment = TextBlob(tweet)\n",
    "    print('{:40} :   {: 01.2f}   :   {:01.2f}'.format(tweet[:40]\\\n",
    "                                                     ,sentiment.polarity, sentiment.subjectivity))"
   ]
  },
  {
   "cell_type": "code",
   "execution_count": 71,
   "metadata": {},
   "outputs": [],
   "source": [
    "# Summerizing sentiment data"
   ]
  },
  {
   "cell_type": "code",
   "execution_count": 72,
   "metadata": {},
   "outputs": [
    {
     "name": "stdout",
     "output_type": "stream",
     "text": [
      "Final summarized counts :  [79, 28, 25]\n",
      "Pie Presentation \n",
      " ----------------------\n"
     ]
    },
    {
     "data": {
      "image/png": "[encoded data removed]",
      "text/plain": [
       "<Figure size 432x288 with 1 Axes>"
      ]
     },
     "metadata": {},
     "output_type": "display_data"
    }
   ],
   "source": [
    "labels = ['Negative', 'Neutral', 'postive']\n",
    "values = [0, 0, 0] #initializing count array\n",
    "for tweet in trump_tweets_list:\n",
    "    sentiment = TextBlob(tweet)\n",
    "    polarity = round((sentiment.polarity +1) *3) %3\n",
    "    values[polarity] = values[polarity] + 1\n",
    "print(\"Final summarized counts : \", values)\n",
    "colors = ['Green', 'Blue', 'Red']\n",
    "print(\"Pie Presentation \\n ----------------------\")\n",
    "plt.pie(values, labels=labels, colors=colors, \n",
    "       autopct='%1.1f%%', shadow=True, startangle=140)\n",
    "plt.axis('equal')\n",
    "plt.show()"
   ]
  },
  {
   "cell_type": "markdown",
   "metadata": {},
   "source": [
    "# Clustering\n",
    "    -unsupervised machine learning technique\n",
    "    -group similar items together based on features\n",
    "    -in text analysis the feature could be a single word\n",
    "    -documents with similar words group together\n",
    "    -clustering algorithms only use numeric data, so our text should converted to numeric representation\n",
    "    -we can use TF_IDF(Text frequence in document frequencey) technique to represent our text data into numeric\n",
    "    -group documents by similarity"
   ]
  },
  {
   "cell_type": "code",
   "execution_count": 73,
   "metadata": {},
   "outputs": [],
   "source": [
    "#what we do here is to get tweets from trump and peoples he follows then use clustering algorithm to understand\n",
    "#what kind of ideas revolve around on those group"
   ]
  },
  {
   "cell_type": "code",
   "execution_count": 94,
   "metadata": {},
   "outputs": [
    {
     "ename": "TweepError",
     "evalue": "Twitter error response: status code = 400",
     "output_type": "error",
     "traceback": [
      "\u001b[0;31m---------------------------------------------------------------------------\u001b[0m",
      "\u001b[0;31mTweepError\u001b[0m                                Traceback (most recent call last)",
      "\u001b[0;32m<ipython-input-94-17d605674577>\u001b[0m in \u001b[0;36m<module>\u001b[0;34m\u001b[0m\n\u001b[1;32m      2\u001b[0m \u001b[0mtrump_follows\u001b[0m \u001b[0;34m=\u001b[0m \u001b[0;34m[\u001b[0m\u001b[0;34m]\u001b[0m\u001b[0;34m\u001b[0m\u001b[0;34m\u001b[0m\u001b[0m\n\u001b[1;32m      3\u001b[0m \u001b[0mids\u001b[0m \u001b[0;34m=\u001b[0m \u001b[0mapi\u001b[0m\u001b[0;34m.\u001b[0m\u001b[0mfollowers_ids\u001b[0m\u001b[0;34m(\u001b[0m\u001b[0mscreen_name\u001b[0m\u001b[0;34m=\u001b[0m\u001b[0mtrump_name\u001b[0m\u001b[0;34m,\u001b[0m \u001b[0mwait_on_rate_limit\u001b[0m\u001b[0;34m=\u001b[0m\u001b[0;32mTrue\u001b[0m\u001b[0;34m)\u001b[0m\u001b[0;34m\u001b[0m\u001b[0;34m\u001b[0m\u001b[0m\n\u001b[0;32m----> 4\u001b[0;31m \u001b[0;32mfor\u001b[0m \u001b[0muser\u001b[0m \u001b[0;32min\u001b[0m \u001b[0mapi\u001b[0m\u001b[0;34m.\u001b[0m\u001b[0mlookup_users\u001b[0m\u001b[0;34m(\u001b[0m\u001b[0muser_ids\u001b[0m\u001b[0;34m=\u001b[0m\u001b[0mids\u001b[0m\u001b[0;34m)\u001b[0m\u001b[0;34m:\u001b[0m\u001b[0;34m\u001b[0m\u001b[0;34m\u001b[0m\u001b[0m\n\u001b[0m\u001b[1;32m      5\u001b[0m     \u001b[0mtrump_follows\u001b[0m\u001b[0;34m.\u001b[0m\u001b[0mappend\u001b[0m\u001b[0;34m(\u001b[0m\u001b[0muser\u001b[0m\u001b[0;34m.\u001b[0m\u001b[0mscreen_name\u001b[0m\u001b[0;34m)\u001b[0m\u001b[0;34m\u001b[0m\u001b[0;34m\u001b[0m\u001b[0m\n\u001b[1;32m      6\u001b[0m \u001b[0mlen\u001b[0m\u001b[0;34m(\u001b[0m\u001b[0mtrump_follows\u001b[0m\u001b[0;34m)\u001b[0m\u001b[0;34m\u001b[0m\u001b[0;34m\u001b[0m\u001b[0m\n",
      "\u001b[0;32m~/anaconda3/lib/python3.7/site-packages/tweepy/api.py\u001b[0m in \u001b[0;36mlookup_users\u001b[0;34m(self, user_ids, screen_names, *args, **kwargs)\u001b[0m\n\u001b[1;32m    391\u001b[0m             allowed_param=['user_id', 'screen_name', 'include_entities',\n\u001b[1;32m    392\u001b[0m                            'tweet_mode']\n\u001b[0;32m--> 393\u001b[0;31m         )(list_to_csv(user_ids), list_to_csv(screen_names), *args, **kwargs)\n\u001b[0m\u001b[1;32m    394\u001b[0m \u001b[0;34m\u001b[0m\u001b[0m\n\u001b[1;32m    395\u001b[0m     \u001b[0;32mdef\u001b[0m \u001b[0mme\u001b[0m\u001b[0;34m(\u001b[0m\u001b[0mself\u001b[0m\u001b[0;34m)\u001b[0m\u001b[0;34m:\u001b[0m\u001b[0;34m\u001b[0m\u001b[0;34m\u001b[0m\u001b[0m\n",
      "\u001b[0;32m~/anaconda3/lib/python3.7/site-packages/tweepy/binder.py\u001b[0m in \u001b[0;36m_call\u001b[0;34m(*args, **kwargs)\u001b[0m\n\u001b[1;32m    250\u001b[0m                 \u001b[0;32mreturn\u001b[0m \u001b[0mmethod\u001b[0m\u001b[0;34m\u001b[0m\u001b[0;34m\u001b[0m\u001b[0m\n\u001b[1;32m    251\u001b[0m             \u001b[0;32melse\u001b[0m\u001b[0;34m:\u001b[0m\u001b[0;34m\u001b[0m\u001b[0;34m\u001b[0m\u001b[0m\n\u001b[0;32m--> 252\u001b[0;31m                 \u001b[0;32mreturn\u001b[0m \u001b[0mmethod\u001b[0m\u001b[0;34m.\u001b[0m\u001b[0mexecute\u001b[0m\u001b[0;34m(\u001b[0m\u001b[0;34m)\u001b[0m\u001b[0;34m\u001b[0m\u001b[0;34m\u001b[0m\u001b[0m\n\u001b[0m\u001b[1;32m    253\u001b[0m         \u001b[0;32mfinally\u001b[0m\u001b[0;34m:\u001b[0m\u001b[0;34m\u001b[0m\u001b[0;34m\u001b[0m\u001b[0m\n\u001b[1;32m    254\u001b[0m             \u001b[0mmethod\u001b[0m\u001b[0;34m.\u001b[0m\u001b[0msession\u001b[0m\u001b[0;34m.\u001b[0m\u001b[0mclose\u001b[0m\u001b[0;34m(\u001b[0m\u001b[0;34m)\u001b[0m\u001b[0;34m\u001b[0m\u001b[0;34m\u001b[0m\u001b[0m\n",
      "\u001b[0;32m~/anaconda3/lib/python3.7/site-packages/tweepy/binder.py\u001b[0m in \u001b[0;36mexecute\u001b[0;34m(self)\u001b[0m\n\u001b[1;32m    232\u001b[0m                     \u001b[0;32mraise\u001b[0m \u001b[0mRateLimitError\u001b[0m\u001b[0;34m(\u001b[0m\u001b[0merror_msg\u001b[0m\u001b[0;34m,\u001b[0m \u001b[0mresp\u001b[0m\u001b[0;34m)\u001b[0m\u001b[0;34m\u001b[0m\u001b[0;34m\u001b[0m\u001b[0m\n\u001b[1;32m    233\u001b[0m                 \u001b[0;32melse\u001b[0m\u001b[0;34m:\u001b[0m\u001b[0;34m\u001b[0m\u001b[0;34m\u001b[0m\u001b[0m\n\u001b[0;32m--> 234\u001b[0;31m                     \u001b[0;32mraise\u001b[0m \u001b[0mTweepError\u001b[0m\u001b[0;34m(\u001b[0m\u001b[0merror_msg\u001b[0m\u001b[0;34m,\u001b[0m \u001b[0mresp\u001b[0m\u001b[0;34m,\u001b[0m \u001b[0mapi_code\u001b[0m\u001b[0;34m=\u001b[0m\u001b[0mapi_error_code\u001b[0m\u001b[0;34m)\u001b[0m\u001b[0;34m\u001b[0m\u001b[0;34m\u001b[0m\u001b[0m\n\u001b[0m\u001b[1;32m    235\u001b[0m \u001b[0;34m\u001b[0m\u001b[0m\n\u001b[1;32m    236\u001b[0m             \u001b[0;31m# Parse the response payload\u001b[0m\u001b[0;34m\u001b[0m\u001b[0;34m\u001b[0m\u001b[0;34m\u001b[0m\u001b[0m\n",
      "\u001b[0;31mTweepError\u001b[0m: Twitter error response: status code = 400"
     ]
    }
   ],
   "source": [
    "#for now lets get 20 people that trump follows\n",
    "trump_follows = []\n",
    "ids = api.followers_ids(screen_name=trump_name, wait_on_rate_limit=True)\n",
    "for user in api.lookup_users(user_ids=ids):\n",
    "    trump_follows.append(user.screen_name)\n",
    "len(trump_follows)"
   ]
  },
  {
   "cell_type": "code",
   "execution_count": 75,
   "metadata": {},
   "outputs": [],
   "source": [
    "#for each person lets get their 50 tweets it would be naive implementation\n",
    "all_tweets = []\n",
    "def get_tweets(name):\n",
    "    user = api.get_user(name)\n",
    "    name = user.screen_name\n",
    "    tweets = api.user_timeline(screen_name=name, count=3, include_rts=False,tweet_mode='extended')\n",
    "    return tweets\n",
    "a = get_tweets(trump_follows[0])\n",
    "for name in trump_follows:\n",
    "    try:\n",
    "        tweets = get_tweets(name)\n",
    "    except Exception as exp:\n",
    "        continue\n",
    "    tweets = tweets\n",
    "    all_tweets.extend(tweets)"
   ]
  },
  {
   "cell_type": "code",
   "execution_count": 76,
   "metadata": {},
   "outputs": [
    {
     "data": {
      "text/plain": [
       "[Status(_api=<tweepy.api.API object at 0x7f0051b7afd0>, _json={'created_at': 'Mon Nov 16 08:51:22 +0000 2020', 'id': 1328259353791655936, 'id_str': '1328259353791655936', 'full_text': 'מי אמר?\\n\\n\"סיפור הקיבוצים רב הוד וקשור בסיפור המדינה בהתיישבות, בביטחון, ביצירה, בעשייה גשמית ורוחנית כאחד. אנשי הקיבוצים נאחזו בקרקע, עבדו את האדמה עם הנץ החמה ונרתמו להגנתה עם שקיעת השמש. יש לנו חוב עצום למוסד הזה\" \\n\\nרמז: לבן שלו הוא שכח לספר את זה', 'truncated': False, 'display_text_range': [0, 249], 'entities': {'hashtags': [], 'symbols': [], 'user_mentions': [], 'urls': []}, 'source': '<a href=\"http://twitter.com/download/android\" rel=\"nofollow\">Twitter for Android</a>', 'in_reply_to_status_id': None, 'in_reply_to_status_id_str': None, 'in_reply_to_user_id': None, 'in_reply_to_user_id_str': None, 'in_reply_to_screen_name': None, 'user': {'id': 1151064639515582464, 'id_str': '1151064639515582464', 'name': 'אבשלום וילן', 'screen_name': 'avshalomvilan', 'location': '', 'description': 'מזכ״ל התאחדות חקלאי ישראל. בעבר חבר כנסת מזכיר הקיבוץ הארצי. מזכיר מפם וכן גם לוחם בסיירת מטכ״ל', 'url': None, 'entities': {'description': {'urls': []}}, 'protected': False, 'followers_count': 978, 'friends_count': 458, 'listed_count': 2, 'created_at': 'Tue Jul 16 09:42:50 +0000 2019', 'favourites_count': 239, 'utc_offset': None, 'time_zone': None, 'geo_enabled': True, 'verified': False, 'statuses_count': 120, 'lang': None, 'contributors_enabled': False, 'is_translator': False, 'is_translation_enabled': False, 'profile_background_color': 'F5F8FA', 'profile_background_image_url': None, 'profile_background_image_url_https': None, 'profile_background_tile': False, 'profile_image_url': 'http://pbs.twimg.com/profile_images/1151066323927142400/a9MsIiY3_normal.jpg', 'profile_image_url_https': 'https://pbs.twimg.com/profile_images/1151066323927142400/a9MsIiY3_normal.jpg', 'profile_link_color': '1DA1F2', 'profile_sidebar_border_color': 'C0DEED', 'profile_sidebar_fill_color': 'DDEEF6', 'profile_text_color': '333333', 'profile_use_background_image': True, 'has_extended_profile': False, 'default_profile': True, 'default_profile_image': False, 'following': False, 'follow_request_sent': False, 'notifications': False, 'translator_type': 'none'}, 'geo': None, 'coordinates': None, 'place': None, 'contributors': None, 'is_quote_status': False, 'retweet_count': 1, 'favorite_count': 9, 'favorited': False, 'retweeted': False, 'lang': 'iw'}, created_at=datetime.datetime(2020, 11, 16, 8, 51, 22), id=1328259353791655936, id_str='1328259353791655936', full_text='מי אמר?\\n\\n\"סיפור הקיבוצים רב הוד וקשור בסיפור המדינה בהתיישבות, בביטחון, ביצירה, בעשייה גשמית ורוחנית כאחד. אנשי הקיבוצים נאחזו בקרקע, עבדו את האדמה עם הנץ החמה ונרתמו להגנתה עם שקיעת השמש. יש לנו חוב עצום למוסד הזה\" \\n\\nרמז: לבן שלו הוא שכח לספר את זה', truncated=False, display_text_range=[0, 249], entities={'hashtags': [], 'symbols': [], 'user_mentions': [], 'urls': []}, source='Twitter for Android', source_url='http://twitter.com/download/android', in_reply_to_status_id=None, in_reply_to_status_id_str=None, in_reply_to_user_id=None, in_reply_to_user_id_str=None, in_reply_to_screen_name=None, author=User(_api=<tweepy.api.API object at 0x7f0051b7afd0>, _json={'id': 1151064639515582464, 'id_str': '1151064639515582464', 'name': 'אבשלום וילן', 'screen_name': 'avshalomvilan', 'location': '', 'description': 'מזכ״ל התאחדות חקלאי ישראל. בעבר חבר כנסת מזכיר הקיבוץ הארצי. מזכיר מפם וכן גם לוחם בסיירת מטכ״ל', 'url': None, 'entities': {'description': {'urls': []}}, 'protected': False, 'followers_count': 978, 'friends_count': 458, 'listed_count': 2, 'created_at': 'Tue Jul 16 09:42:50 +0000 2019', 'favourites_count': 239, 'utc_offset': None, 'time_zone': None, 'geo_enabled': True, 'verified': False, 'statuses_count': 120, 'lang': None, 'contributors_enabled': False, 'is_translator': False, 'is_translation_enabled': False, 'profile_background_color': 'F5F8FA', 'profile_background_image_url': None, 'profile_background_image_url_https': None, 'profile_background_tile': False, 'profile_image_url': 'http://pbs.twimg.com/profile_images/1151066323927142400/a9MsIiY3_normal.jpg', 'profile_image_url_https': 'https://pbs.twimg.com/profile_images/1151066323927142400/a9MsIiY3_normal.jpg', 'profile_link_color': '1DA1F2', 'profile_sidebar_border_color': 'C0DEED', 'profile_sidebar_fill_color': 'DDEEF6', 'profile_text_color': '333333', 'profile_use_background_image': True, 'has_extended_profile': False, 'default_profile': True, 'default_profile_image': False, 'following': False, 'follow_request_sent': False, 'notifications': False, 'translator_type': 'none'}, id=1151064639515582464, id_str='1151064639515582464', name='אבשלום וילן', screen_name='avshalomvilan', location='', description='מזכ״ל התאחדות חקלאי ישראל. בעבר חבר כנסת מזכיר הקיבוץ הארצי. מזכיר מפם וכן גם לוחם בסיירת מטכ״ל', url=None, entities={'description': {'urls': []}}, protected=False, followers_count=978, friends_count=458, listed_count=2, created_at=datetime.datetime(2019, 7, 16, 9, 42, 50), favourites_count=239, utc_offset=None, time_zone=None, geo_enabled=True, verified=False, statuses_count=120, lang=None, contributors_enabled=False, is_translator=False, is_translation_enabled=False, profile_background_color='F5F8FA', profile_background_image_url=None, profile_background_image_url_https=None, profile_background_tile=False, profile_image_url='http://pbs.twimg.com/profile_images/1151066323927142400/a9MsIiY3_normal.jpg', profile_image_url_https='https://pbs.twimg.com/profile_images/1151066323927142400/a9MsIiY3_normal.jpg', profile_link_color='1DA1F2', profile_sidebar_border_color='C0DEED', profile_sidebar_fill_color='DDEEF6', profile_text_color='333333', profile_use_background_image=True, has_extended_profile=False, default_profile=True, default_profile_image=False, following=False, follow_request_sent=False, notifications=False, translator_type='none'), user=User(_api=<tweepy.api.API object at 0x7f0051b7afd0>, _json={'id': 1151064639515582464, 'id_str': '1151064639515582464', 'name': 'אבשלום וילן', 'screen_name': 'avshalomvilan', 'location': '', 'description': 'מזכ״ל התאחדות חקלאי ישראל. בעבר חבר כנסת מזכיר הקיבוץ הארצי. מזכיר מפם וכן גם לוחם בסיירת מטכ״ל', 'url': None, 'entities': {'description': {'urls': []}}, 'protected': False, 'followers_count': 978, 'friends_count': 458, 'listed_count': 2, 'created_at': 'Tue Jul 16 09:42:50 +0000 2019', 'favourites_count': 239, 'utc_offset': None, 'time_zone': None, 'geo_enabled': True, 'verified': False, 'statuses_count': 120, 'lang': None, 'contributors_enabled': False, 'is_translator': False, 'is_translation_enabled': False, 'profile_background_color': 'F5F8FA', 'profile_background_image_url': None, 'profile_background_image_url_https': None, 'profile_background_tile': False, 'profile_image_url': 'http://pbs.twimg.com/profile_images/1151066323927142400/a9MsIiY3_normal.jpg', 'profile_image_url_https': 'https://pbs.twimg.com/profile_images/1151066323927142400/a9MsIiY3_normal.jpg', 'profile_link_color': '1DA1F2', 'profile_sidebar_border_color': 'C0DEED', 'profile_sidebar_fill_color': 'DDEEF6', 'profile_text_color': '333333', 'profile_use_background_image': True, 'has_extended_profile': False, 'default_profile': True, 'default_profile_image': False, 'following': False, 'follow_request_sent': False, 'notifications': False, 'translator_type': 'none'}, id=1151064639515582464, id_str='1151064639515582464', name='אבשלום וילן', screen_name='avshalomvilan', location='', description='מזכ״ל התאחדות חקלאי ישראל. בעבר חבר כנסת מזכיר הקיבוץ הארצי. מזכיר מפם וכן גם לוחם בסיירת מטכ״ל', url=None, entities={'description': {'urls': []}}, protected=False, followers_count=978, friends_count=458, listed_count=2, created_at=datetime.datetime(2019, 7, 16, 9, 42, 50), favourites_count=239, utc_offset=None, time_zone=None, geo_enabled=True, verified=False, statuses_count=120, lang=None, contributors_enabled=False, is_translator=False, is_translation_enabled=False, profile_background_color='F5F8FA', profile_background_image_url=None, profile_background_image_url_https=None, profile_background_tile=False, profile_image_url='http://pbs.twimg.com/profile_images/1151066323927142400/a9MsIiY3_normal.jpg', profile_image_url_https='https://pbs.twimg.com/profile_images/1151066323927142400/a9MsIiY3_normal.jpg', profile_link_color='1DA1F2', profile_sidebar_border_color='C0DEED', profile_sidebar_fill_color='DDEEF6', profile_text_color='333333', profile_use_background_image=True, has_extended_profile=False, default_profile=True, default_profile_image=False, following=False, follow_request_sent=False, notifications=False, translator_type='none'), geo=None, coordinates=None, place=None, contributors=None, is_quote_status=False, retweet_count=1, favorite_count=9, favorited=False, retweeted=False, lang='iw'),\n",
       " Status(_api=<tweepy.api.API object at 0x7f0051b7afd0>, _json={'created_at': 'Wed Nov 11 15:22:22 +0000 2020', 'id': 1326545814722801666, 'id_str': '1326545814722801666', 'full_text': 'הגענו לדובאי עם משלחת של ראשי המשק לקשירת היחסים המסחריים עם דובאי.\\nמקום מרתק, עירוב מטורף של מזרח ומערב. הזדמנות גדולה לחקלאות הישראלית לפתח יצוא רב של תוצרת חקלאית וטכנולוגיות חדשניות לשווקים חדשים באזור. https://t.co/d6HY8NDjKz', 'truncated': False, 'display_text_range': [0, 206], 'entities': {'hashtags': [], 'symbols': [], 'user_mentions': [], 'urls': [], 'media': [{'id': 1326545811996438535, 'id_str': '1326545811996438535', 'indices': [207, 230], 'media_url': 'http://pbs.twimg.com/media/EmjWYz5UcAc0ElI.jpg', 'media_url_https': 'https://pbs.twimg.com/media/EmjWYz5UcAc0ElI.jpg', 'url': 'https://t.co/d6HY8NDjKz', 'display_url': 'pic.twitter.com/d6HY8NDjKz', 'expanded_url': 'https://twitter.com/avshalomvilan/status/1326545814722801666/photo/1', 'type': 'photo', 'sizes': {'thumb': {'w': 150, 'h': 150, 'resize': 'crop'}, 'large': {'w': 1024, 'h': 768, 'resize': 'fit'}, 'small': {'w': 680, 'h': 510, 'resize': 'fit'}, 'medium': {'w': 1024, 'h': 768, 'resize': 'fit'}}}]}, 'extended_entities': {'media': [{'id': 1326545811996438535, 'id_str': '1326545811996438535', 'indices': [207, 230], 'media_url': 'http://pbs.twimg.com/media/EmjWYz5UcAc0ElI.jpg', 'media_url_https': 'https://pbs.twimg.com/media/EmjWYz5UcAc0ElI.jpg', 'url': 'https://t.co/d6HY8NDjKz', 'display_url': 'pic.twitter.com/d6HY8NDjKz', 'expanded_url': 'https://twitter.com/avshalomvilan/status/1326545814722801666/photo/1', 'type': 'photo', 'sizes': {'thumb': {'w': 150, 'h': 150, 'resize': 'crop'}, 'large': {'w': 1024, 'h': 768, 'resize': 'fit'}, 'small': {'w': 680, 'h': 510, 'resize': 'fit'}, 'medium': {'w': 1024, 'h': 768, 'resize': 'fit'}}}]}, 'source': '<a href=\"http://twitter.com/download/android\" rel=\"nofollow\">Twitter for Android</a>', 'in_reply_to_status_id': None, 'in_reply_to_status_id_str': None, 'in_reply_to_user_id': None, 'in_reply_to_user_id_str': None, 'in_reply_to_screen_name': None, 'user': {'id': 1151064639515582464, 'id_str': '1151064639515582464', 'name': 'אבשלום וילן', 'screen_name': 'avshalomvilan', 'location': '', 'description': 'מזכ״ל התאחדות חקלאי ישראל. בעבר חבר כנסת מזכיר הקיבוץ הארצי. מזכיר מפם וכן גם לוחם בסיירת מטכ״ל', 'url': None, 'entities': {'description': {'urls': []}}, 'protected': False, 'followers_count': 978, 'friends_count': 458, 'listed_count': 2, 'created_at': 'Tue Jul 16 09:42:50 +0000 2019', 'favourites_count': 239, 'utc_offset': None, 'time_zone': None, 'geo_enabled': True, 'verified': False, 'statuses_count': 120, 'lang': None, 'contributors_enabled': False, 'is_translator': False, 'is_translation_enabled': False, 'profile_background_color': 'F5F8FA', 'profile_background_image_url': None, 'profile_background_image_url_https': None, 'profile_background_tile': False, 'profile_image_url': 'http://pbs.twimg.com/profile_images/1151066323927142400/a9MsIiY3_normal.jpg', 'profile_image_url_https': 'https://pbs.twimg.com/profile_images/1151066323927142400/a9MsIiY3_normal.jpg', 'profile_link_color': '1DA1F2', 'profile_sidebar_border_color': 'C0DEED', 'profile_sidebar_fill_color': 'DDEEF6', 'profile_text_color': '333333', 'profile_use_background_image': True, 'has_extended_profile': False, 'default_profile': True, 'default_profile_image': False, 'following': False, 'follow_request_sent': False, 'notifications': False, 'translator_type': 'none'}, 'geo': None, 'coordinates': None, 'place': None, 'contributors': None, 'is_quote_status': False, 'retweet_count': 0, 'favorite_count': 14, 'favorited': False, 'retweeted': False, 'possibly_sensitive': False, 'lang': 'iw'}, created_at=datetime.datetime(2020, 11, 11, 15, 22, 22), id=1326545814722801666, id_str='1326545814722801666', full_text='הגענו לדובאי עם משלחת של ראשי המשק לקשירת היחסים המסחריים עם דובאי.\\nמקום מרתק, עירוב מטורף של מזרח ומערב. הזדמנות גדולה לחקלאות הישראלית לפתח יצוא רב של תוצרת חקלאית וטכנולוגיות חדשניות לשווקים חדשים באזור. https://t.co/d6HY8NDjKz', truncated=False, display_text_range=[0, 206], entities={'hashtags': [], 'symbols': [], 'user_mentions': [], 'urls': [], 'media': [{'id': 1326545811996438535, 'id_str': '1326545811996438535', 'indices': [207, 230], 'media_url': 'http://pbs.twimg.com/media/EmjWYz5UcAc0ElI.jpg', 'media_url_https': 'https://pbs.twimg.com/media/EmjWYz5UcAc0ElI.jpg', 'url': 'https://t.co/d6HY8NDjKz', 'display_url': 'pic.twitter.com/d6HY8NDjKz', 'expanded_url': 'https://twitter.com/avshalomvilan/status/1326545814722801666/photo/1', 'type': 'photo', 'sizes': {'thumb': {'w': 150, 'h': 150, 'resize': 'crop'}, 'large': {'w': 1024, 'h': 768, 'resize': 'fit'}, 'small': {'w': 680, 'h': 510, 'resize': 'fit'}, 'medium': {'w': 1024, 'h': 768, 'resize': 'fit'}}}]}, extended_entities={'media': [{'id': 1326545811996438535, 'id_str': '1326545811996438535', 'indices': [207, 230], 'media_url': 'http://pbs.twimg.com/media/EmjWYz5UcAc0ElI.jpg', 'media_url_https': 'https://pbs.twimg.com/media/EmjWYz5UcAc0ElI.jpg', 'url': 'https://t.co/d6HY8NDjKz', 'display_url': 'pic.twitter.com/d6HY8NDjKz', 'expanded_url': 'https://twitter.com/avshalomvilan/status/1326545814722801666/photo/1', 'type': 'photo', 'sizes': {'thumb': {'w': 150, 'h': 150, 'resize': 'crop'}, 'large': {'w': 1024, 'h': 768, 'resize': 'fit'}, 'small': {'w': 680, 'h': 510, 'resize': 'fit'}, 'medium': {'w': 1024, 'h': 768, 'resize': 'fit'}}}]}, source='Twitter for Android', source_url='http://twitter.com/download/android', in_reply_to_status_id=None, in_reply_to_status_id_str=None, in_reply_to_user_id=None, in_reply_to_user_id_str=None, in_reply_to_screen_name=None, author=User(_api=<tweepy.api.API object at 0x7f0051b7afd0>, _json={'id': 1151064639515582464, 'id_str': '1151064639515582464', 'name': 'אבשלום וילן', 'screen_name': 'avshalomvilan', 'location': '', 'description': 'מזכ״ל התאחדות חקלאי ישראל. בעבר חבר כנסת מזכיר הקיבוץ הארצי. מזכיר מפם וכן גם לוחם בסיירת מטכ״ל', 'url': None, 'entities': {'description': {'urls': []}}, 'protected': False, 'followers_count': 978, 'friends_count': 458, 'listed_count': 2, 'created_at': 'Tue Jul 16 09:42:50 +0000 2019', 'favourites_count': 239, 'utc_offset': None, 'time_zone': None, 'geo_enabled': True, 'verified': False, 'statuses_count': 120, 'lang': None, 'contributors_enabled': False, 'is_translator': False, 'is_translation_enabled': False, 'profile_background_color': 'F5F8FA', 'profile_background_image_url': None, 'profile_background_image_url_https': None, 'profile_background_tile': False, 'profile_image_url': 'http://pbs.twimg.com/profile_images/1151066323927142400/a9MsIiY3_normal.jpg', 'profile_image_url_https': 'https://pbs.twimg.com/profile_images/1151066323927142400/a9MsIiY3_normal.jpg', 'profile_link_color': '1DA1F2', 'profile_sidebar_border_color': 'C0DEED', 'profile_sidebar_fill_color': 'DDEEF6', 'profile_text_color': '333333', 'profile_use_background_image': True, 'has_extended_profile': False, 'default_profile': True, 'default_profile_image': False, 'following': False, 'follow_request_sent': False, 'notifications': False, 'translator_type': 'none'}, id=1151064639515582464, id_str='1151064639515582464', name='אבשלום וילן', screen_name='avshalomvilan', location='', description='מזכ״ל התאחדות חקלאי ישראל. בעבר חבר כנסת מזכיר הקיבוץ הארצי. מזכיר מפם וכן גם לוחם בסיירת מטכ״ל', url=None, entities={'description': {'urls': []}}, protected=False, followers_count=978, friends_count=458, listed_count=2, created_at=datetime.datetime(2019, 7, 16, 9, 42, 50), favourites_count=239, utc_offset=None, time_zone=None, geo_enabled=True, verified=False, statuses_count=120, lang=None, contributors_enabled=False, is_translator=False, is_translation_enabled=False, profile_background_color='F5F8FA', profile_background_image_url=None, profile_background_image_url_https=None, profile_background_tile=False, profile_image_url='http://pbs.twimg.com/profile_images/1151066323927142400/a9MsIiY3_normal.jpg', profile_image_url_https='https://pbs.twimg.com/profile_images/1151066323927142400/a9MsIiY3_normal.jpg', profile_link_color='1DA1F2', profile_sidebar_border_color='C0DEED', profile_sidebar_fill_color='DDEEF6', profile_text_color='333333', profile_use_background_image=True, has_extended_profile=False, default_profile=True, default_profile_image=False, following=False, follow_request_sent=False, notifications=False, translator_type='none'), user=User(_api=<tweepy.api.API object at 0x7f0051b7afd0>, _json={'id': 1151064639515582464, 'id_str': '1151064639515582464', 'name': 'אבשלום וילן', 'screen_name': 'avshalomvilan', 'location': '', 'description': 'מזכ״ל התאחדות חקלאי ישראל. בעבר חבר כנסת מזכיר הקיבוץ הארצי. מזכיר מפם וכן גם לוחם בסיירת מטכ״ל', 'url': None, 'entities': {'description': {'urls': []}}, 'protected': False, 'followers_count': 978, 'friends_count': 458, 'listed_count': 2, 'created_at': 'Tue Jul 16 09:42:50 +0000 2019', 'favourites_count': 239, 'utc_offset': None, 'time_zone': None, 'geo_enabled': True, 'verified': False, 'statuses_count': 120, 'lang': None, 'contributors_enabled': False, 'is_translator': False, 'is_translation_enabled': False, 'profile_background_color': 'F5F8FA', 'profile_background_image_url': None, 'profile_background_image_url_https': None, 'profile_background_tile': False, 'profile_image_url': 'http://pbs.twimg.com/profile_images/1151066323927142400/a9MsIiY3_normal.jpg', 'profile_image_url_https': 'https://pbs.twimg.com/profile_images/1151066323927142400/a9MsIiY3_normal.jpg', 'profile_link_color': '1DA1F2', 'profile_sidebar_border_color': 'C0DEED', 'profile_sidebar_fill_color': 'DDEEF6', 'profile_text_color': '333333', 'profile_use_background_image': True, 'has_extended_profile': False, 'default_profile': True, 'default_profile_image': False, 'following': False, 'follow_request_sent': False, 'notifications': False, 'translator_type': 'none'}, id=1151064639515582464, id_str='1151064639515582464', name='אבשלום וילן', screen_name='avshalomvilan', location='', description='מזכ״ל התאחדות חקלאי ישראל. בעבר חבר כנסת מזכיר הקיבוץ הארצי. מזכיר מפם וכן גם לוחם בסיירת מטכ״ל', url=None, entities={'description': {'urls': []}}, protected=False, followers_count=978, friends_count=458, listed_count=2, created_at=datetime.datetime(2019, 7, 16, 9, 42, 50), favourites_count=239, utc_offset=None, time_zone=None, geo_enabled=True, verified=False, statuses_count=120, lang=None, contributors_enabled=False, is_translator=False, is_translation_enabled=False, profile_background_color='F5F8FA', profile_background_image_url=None, profile_background_image_url_https=None, profile_background_tile=False, profile_image_url='http://pbs.twimg.com/profile_images/1151066323927142400/a9MsIiY3_normal.jpg', profile_image_url_https='https://pbs.twimg.com/profile_images/1151066323927142400/a9MsIiY3_normal.jpg', profile_link_color='1DA1F2', profile_sidebar_border_color='C0DEED', profile_sidebar_fill_color='DDEEF6', profile_text_color='333333', profile_use_background_image=True, has_extended_profile=False, default_profile=True, default_profile_image=False, following=False, follow_request_sent=False, notifications=False, translator_type='none'), geo=None, coordinates=None, place=None, contributors=None, is_quote_status=False, retweet_count=0, favorite_count=14, favorited=False, retweeted=False, possibly_sensitive=False, lang='iw'),\n",
       " Status(_api=<tweepy.api.API object at 0x7f0051b7afd0>, _json={'created_at': 'Sat Nov 07 20:21:22 +0000 2020', 'id': 1325171505446019073, 'id_str': '1325171505446019073', 'full_text': 'שר הבטחון בני גנץ - שר בטחון וראש ממשלה חליפי - בשם שלטון החוק ועם סיומה של מגפת הפייק והבוז למוסדות החוק  - טלפון אחד לביידן הוא טלפון של מנהיגות. הזדמנות. אל תפספס.', 'truncated': False, 'display_text_range': [0, 166], 'entities': {'hashtags': [], 'symbols': [], 'user_mentions': [], 'urls': []}, 'source': '<a href=\"http://twitter.com/download/android\" rel=\"nofollow\">Twitter for Android</a>', 'in_reply_to_status_id': None, 'in_reply_to_status_id_str': None, 'in_reply_to_user_id': None, 'in_reply_to_user_id_str': None, 'in_reply_to_screen_name': None, 'user': {'id': 1151064639515582464, 'id_str': '1151064639515582464', 'name': 'אבשלום וילן', 'screen_name': 'avshalomvilan', 'location': '', 'description': 'מזכ״ל התאחדות חקלאי ישראל. בעבר חבר כנסת מזכיר הקיבוץ הארצי. מזכיר מפם וכן גם לוחם בסיירת מטכ״ל', 'url': None, 'entities': {'description': {'urls': []}}, 'protected': False, 'followers_count': 978, 'friends_count': 458, 'listed_count': 2, 'created_at': 'Tue Jul 16 09:42:50 +0000 2019', 'favourites_count': 239, 'utc_offset': None, 'time_zone': None, 'geo_enabled': True, 'verified': False, 'statuses_count': 120, 'lang': None, 'contributors_enabled': False, 'is_translator': False, 'is_translation_enabled': False, 'profile_background_color': 'F5F8FA', 'profile_background_image_url': None, 'profile_background_image_url_https': None, 'profile_background_tile': False, 'profile_image_url': 'http://pbs.twimg.com/profile_images/1151066323927142400/a9MsIiY3_normal.jpg', 'profile_image_url_https': 'https://pbs.twimg.com/profile_images/1151066323927142400/a9MsIiY3_normal.jpg', 'profile_link_color': '1DA1F2', 'profile_sidebar_border_color': 'C0DEED', 'profile_sidebar_fill_color': 'DDEEF6', 'profile_text_color': '333333', 'profile_use_background_image': True, 'has_extended_profile': False, 'default_profile': True, 'default_profile_image': False, 'following': False, 'follow_request_sent': False, 'notifications': False, 'translator_type': 'none'}, 'geo': None, 'coordinates': None, 'place': None, 'contributors': None, 'is_quote_status': False, 'retweet_count': 0, 'favorite_count': 5, 'favorited': False, 'retweeted': False, 'lang': 'iw'}, created_at=datetime.datetime(2020, 11, 7, 20, 21, 22), id=1325171505446019073, id_str='1325171505446019073', full_text='שר הבטחון בני גנץ - שר בטחון וראש ממשלה חליפי - בשם שלטון החוק ועם סיומה של מגפת הפייק והבוז למוסדות החוק  - טלפון אחד לביידן הוא טלפון של מנהיגות. הזדמנות. אל תפספס.', truncated=False, display_text_range=[0, 166], entities={'hashtags': [], 'symbols': [], 'user_mentions': [], 'urls': []}, source='Twitter for Android', source_url='http://twitter.com/download/android', in_reply_to_status_id=None, in_reply_to_status_id_str=None, in_reply_to_user_id=None, in_reply_to_user_id_str=None, in_reply_to_screen_name=None, author=User(_api=<tweepy.api.API object at 0x7f0051b7afd0>, _json={'id': 1151064639515582464, 'id_str': '1151064639515582464', 'name': 'אבשלום וילן', 'screen_name': 'avshalomvilan', 'location': '', 'description': 'מזכ״ל התאחדות חקלאי ישראל. בעבר חבר כנסת מזכיר הקיבוץ הארצי. מזכיר מפם וכן גם לוחם בסיירת מטכ״ל', 'url': None, 'entities': {'description': {'urls': []}}, 'protected': False, 'followers_count': 978, 'friends_count': 458, 'listed_count': 2, 'created_at': 'Tue Jul 16 09:42:50 +0000 2019', 'favourites_count': 239, 'utc_offset': None, 'time_zone': None, 'geo_enabled': True, 'verified': False, 'statuses_count': 120, 'lang': None, 'contributors_enabled': False, 'is_translator': False, 'is_translation_enabled': False, 'profile_background_color': 'F5F8FA', 'profile_background_image_url': None, 'profile_background_image_url_https': None, 'profile_background_tile': False, 'profile_image_url': 'http://pbs.twimg.com/profile_images/1151066323927142400/a9MsIiY3_normal.jpg', 'profile_image_url_https': 'https://pbs.twimg.com/profile_images/1151066323927142400/a9MsIiY3_normal.jpg', 'profile_link_color': '1DA1F2', 'profile_sidebar_border_color': 'C0DEED', 'profile_sidebar_fill_color': 'DDEEF6', 'profile_text_color': '333333', 'profile_use_background_image': True, 'has_extended_profile': False, 'default_profile': True, 'default_profile_image': False, 'following': False, 'follow_request_sent': False, 'notifications': False, 'translator_type': 'none'}, id=1151064639515582464, id_str='1151064639515582464', name='אבשלום וילן', screen_name='avshalomvilan', location='', description='מזכ״ל התאחדות חקלאי ישראל. בעבר חבר כנסת מזכיר הקיבוץ הארצי. מזכיר מפם וכן גם לוחם בסיירת מטכ״ל', url=None, entities={'description': {'urls': []}}, protected=False, followers_count=978, friends_count=458, listed_count=2, created_at=datetime.datetime(2019, 7, 16, 9, 42, 50), favourites_count=239, utc_offset=None, time_zone=None, geo_enabled=True, verified=False, statuses_count=120, lang=None, contributors_enabled=False, is_translator=False, is_translation_enabled=False, profile_background_color='F5F8FA', profile_background_image_url=None, profile_background_image_url_https=None, profile_background_tile=False, profile_image_url='http://pbs.twimg.com/profile_images/1151066323927142400/a9MsIiY3_normal.jpg', profile_image_url_https='https://pbs.twimg.com/profile_images/1151066323927142400/a9MsIiY3_normal.jpg', profile_link_color='1DA1F2', profile_sidebar_border_color='C0DEED', profile_sidebar_fill_color='DDEEF6', profile_text_color='333333', profile_use_background_image=True, has_extended_profile=False, default_profile=True, default_profile_image=False, following=False, follow_request_sent=False, notifications=False, translator_type='none'), user=User(_api=<tweepy.api.API object at 0x7f0051b7afd0>, _json={'id': 1151064639515582464, 'id_str': '1151064639515582464', 'name': 'אבשלום וילן', 'screen_name': 'avshalomvilan', 'location': '', 'description': 'מזכ״ל התאחדות חקלאי ישראל. בעבר חבר כנסת מזכיר הקיבוץ הארצי. מזכיר מפם וכן גם לוחם בסיירת מטכ״ל', 'url': None, 'entities': {'description': {'urls': []}}, 'protected': False, 'followers_count': 978, 'friends_count': 458, 'listed_count': 2, 'created_at': 'Tue Jul 16 09:42:50 +0000 2019', 'favourites_count': 239, 'utc_offset': None, 'time_zone': None, 'geo_enabled': True, 'verified': False, 'statuses_count': 120, 'lang': None, 'contributors_enabled': False, 'is_translator': False, 'is_translation_enabled': False, 'profile_background_color': 'F5F8FA', 'profile_background_image_url': None, 'profile_background_image_url_https': None, 'profile_background_tile': False, 'profile_image_url': 'http://pbs.twimg.com/profile_images/1151066323927142400/a9MsIiY3_normal.jpg', 'profile_image_url_https': 'https://pbs.twimg.com/profile_images/1151066323927142400/a9MsIiY3_normal.jpg', 'profile_link_color': '1DA1F2', 'profile_sidebar_border_color': 'C0DEED', 'profile_sidebar_fill_color': 'DDEEF6', 'profile_text_color': '333333', 'profile_use_background_image': True, 'has_extended_profile': False, 'default_profile': True, 'default_profile_image': False, 'following': False, 'follow_request_sent': False, 'notifications': False, 'translator_type': 'none'}, id=1151064639515582464, id_str='1151064639515582464', name='אבשלום וילן', screen_name='avshalomvilan', location='', description='מזכ״ל התאחדות חקלאי ישראל. בעבר חבר כנסת מזכיר הקיבוץ הארצי. מזכיר מפם וכן גם לוחם בסיירת מטכ״ל', url=None, entities={'description': {'urls': []}}, protected=False, followers_count=978, friends_count=458, listed_count=2, created_at=datetime.datetime(2019, 7, 16, 9, 42, 50), favourites_count=239, utc_offset=None, time_zone=None, geo_enabled=True, verified=False, statuses_count=120, lang=None, contributors_enabled=False, is_translator=False, is_translation_enabled=False, profile_background_color='F5F8FA', profile_background_image_url=None, profile_background_image_url_https=None, profile_background_tile=False, profile_image_url='http://pbs.twimg.com/profile_images/1151066323927142400/a9MsIiY3_normal.jpg', profile_image_url_https='https://pbs.twimg.com/profile_images/1151066323927142400/a9MsIiY3_normal.jpg', profile_link_color='1DA1F2', profile_sidebar_border_color='C0DEED', profile_sidebar_fill_color='DDEEF6', profile_text_color='333333', profile_use_background_image=True, has_extended_profile=False, default_profile=True, default_profile_image=False, following=False, follow_request_sent=False, notifications=False, translator_type='none'), geo=None, coordinates=None, place=None, contributors=None, is_quote_status=False, retweet_count=0, favorite_count=5, favorited=False, retweeted=False, lang='iw'),\n",
       " Status(_api=<tweepy.api.API object at 0x7f0051b7afd0>, _json={'created_at': 'Mon Sep 10 19:46:38 +0000 2012', 'id': 245246928303054851, 'id_str': '245246928303054851', 'full_text': '@CMPunk long since we saw the champ cross his legs and sit in the center of the ring with the pipe bomb. may be tonight? with paul heyman?', 'truncated': False, 'display_text_range': [0, 138], 'entities': {'hashtags': [], 'symbols': [], 'user_mentions': [{'screen_name': 'CMPunk', 'name': 'player/coach', 'id': 177345928, 'id_str': '177345928', 'indices': [0, 7]}], 'urls': []}, 'source': '<a href=\"http://twitter.com\" rel=\"nofollow\">Twitter Web Client</a>', 'in_reply_to_status_id': None, 'in_reply_to_status_id_str': None, 'in_reply_to_user_id': 177345928, 'in_reply_to_user_id_str': '177345928', 'in_reply_to_screen_name': 'CMPunk', 'user': {'id': 64319331, 'id_str': '64319331', 'name': 'Sri', 'screen_name': 'soundsr', 'location': '', 'description': '', 'url': None, 'entities': {'description': {'urls': []}}, 'protected': False, 'followers_count': 14, 'friends_count': 38, 'listed_count': 0, 'created_at': 'Mon Aug 10 02:43:38 +0000 2009', 'favourites_count': 0, 'utc_offset': None, 'time_zone': None, 'geo_enabled': False, 'verified': False, 'statuses_count': 9, 'lang': None, 'contributors_enabled': False, 'is_translator': False, 'is_translation_enabled': False, 'profile_background_color': 'C0DEED', 'profile_background_image_url': 'http://abs.twimg.com/images/themes/theme1/bg.png', 'profile_background_image_url_https': 'https://abs.twimg.com/images/themes/theme1/bg.png', 'profile_background_tile': False, 'profile_image_url': 'http://pbs.twimg.com/profile_images/405793816/twitter_normal.JPG', 'profile_image_url_https': 'https://pbs.twimg.com/profile_images/405793816/twitter_normal.JPG', 'profile_link_color': '1DA1F2', 'profile_sidebar_border_color': 'C0DEED', 'profile_sidebar_fill_color': 'DDEEF6', 'profile_text_color': '333333', 'profile_use_background_image': True, 'has_extended_profile': False, 'default_profile': True, 'default_profile_image': False, 'following': False, 'follow_request_sent': False, 'notifications': False, 'translator_type': 'none'}, 'geo': None, 'coordinates': None, 'place': None, 'contributors': None, 'is_quote_status': False, 'retweet_count': 0, 'favorite_count': 0, 'favorited': False, 'retweeted': False, 'lang': 'en'}, created_at=datetime.datetime(2012, 9, 10, 19, 46, 38), id=245246928303054851, id_str='245246928303054851', full_text='@CMPunk long since we saw the champ cross his legs and sit in the center of the ring with the pipe bomb. may be tonight? with paul heyman?', truncated=False, display_text_range=[0, 138], entities={'hashtags': [], 'symbols': [], 'user_mentions': [{'screen_name': 'CMPunk', 'name': 'player/coach', 'id': 177345928, 'id_str': '177345928', 'indices': [0, 7]}], 'urls': []}, source='Twitter Web Client', source_url='http://twitter.com', in_reply_to_status_id=None, in_reply_to_status_id_str=None, in_reply_to_user_id=177345928, in_reply_to_user_id_str='177345928', in_reply_to_screen_name='CMPunk', author=User(_api=<tweepy.api.API object at 0x7f0051b7afd0>, _json={'id': 64319331, 'id_str': '64319331', 'name': 'Sri', 'screen_name': 'soundsr', 'location': '', 'description': '', 'url': None, 'entities': {'description': {'urls': []}}, 'protected': False, 'followers_count': 14, 'friends_count': 38, 'listed_count': 0, 'created_at': 'Mon Aug 10 02:43:38 +0000 2009', 'favourites_count': 0, 'utc_offset': None, 'time_zone': None, 'geo_enabled': False, 'verified': False, 'statuses_count': 9, 'lang': None, 'contributors_enabled': False, 'is_translator': False, 'is_translation_enabled': False, 'profile_background_color': 'C0DEED', 'profile_background_image_url': 'http://abs.twimg.com/images/themes/theme1/bg.png', 'profile_background_image_url_https': 'https://abs.twimg.com/images/themes/theme1/bg.png', 'profile_background_tile': False, 'profile_image_url': 'http://pbs.twimg.com/profile_images/405793816/twitter_normal.JPG', 'profile_image_url_https': 'https://pbs.twimg.com/profile_images/405793816/twitter_normal.JPG', 'profile_link_color': '1DA1F2', 'profile_sidebar_border_color': 'C0DEED', 'profile_sidebar_fill_color': 'DDEEF6', 'profile_text_color': '333333', 'profile_use_background_image': True, 'has_extended_profile': False, 'default_profile': True, 'default_profile_image': False, 'following': False, 'follow_request_sent': False, 'notifications': False, 'translator_type': 'none'}, id=64319331, id_str='64319331', name='Sri', screen_name='soundsr', location='', description='', url=None, entities={'description': {'urls': []}}, protected=False, followers_count=14, friends_count=38, listed_count=0, created_at=datetime.datetime(2009, 8, 10, 2, 43, 38), favourites_count=0, utc_offset=None, time_zone=None, geo_enabled=False, verified=False, statuses_count=9, lang=None, contributors_enabled=False, is_translator=False, is_translation_enabled=False, profile_background_color='C0DEED', profile_background_image_url='http://abs.twimg.com/images/themes/theme1/bg.png', profile_background_image_url_https='https://abs.twimg.com/images/themes/theme1/bg.png', profile_background_tile=False, profile_image_url='http://pbs.twimg.com/profile_images/405793816/twitter_normal.JPG', profile_image_url_https='https://pbs.twimg.com/profile_images/405793816/twitter_normal.JPG', profile_link_color='1DA1F2', profile_sidebar_border_color='C0DEED', profile_sidebar_fill_color='DDEEF6', profile_text_color='333333', profile_use_background_image=True, has_extended_profile=False, default_profile=True, default_profile_image=False, following=False, follow_request_sent=False, notifications=False, translator_type='none'), user=User(_api=<tweepy.api.API object at 0x7f0051b7afd0>, _json={'id': 64319331, 'id_str': '64319331', 'name': 'Sri', 'screen_name': 'soundsr', 'location': '', 'description': '', 'url': None, 'entities': {'description': {'urls': []}}, 'protected': False, 'followers_count': 14, 'friends_count': 38, 'listed_count': 0, 'created_at': 'Mon Aug 10 02:43:38 +0000 2009', 'favourites_count': 0, 'utc_offset': None, 'time_zone': None, 'geo_enabled': False, 'verified': False, 'statuses_count': 9, 'lang': None, 'contributors_enabled': False, 'is_translator': False, 'is_translation_enabled': False, 'profile_background_color': 'C0DEED', 'profile_background_image_url': 'http://abs.twimg.com/images/themes/theme1/bg.png', 'profile_background_image_url_https': 'https://abs.twimg.com/images/themes/theme1/bg.png', 'profile_background_tile': False, 'profile_image_url': 'http://pbs.twimg.com/profile_images/405793816/twitter_normal.JPG', 'profile_image_url_https': 'https://pbs.twimg.com/profile_images/405793816/twitter_normal.JPG', 'profile_link_color': '1DA1F2', 'profile_sidebar_border_color': 'C0DEED', 'profile_sidebar_fill_color': 'DDEEF6', 'profile_text_color': '333333', 'profile_use_background_image': True, 'has_extended_profile': False, 'default_profile': True, 'default_profile_image': False, 'following': False, 'follow_request_sent': False, 'notifications': False, 'translator_type': 'none'}, id=64319331, id_str='64319331', name='Sri', screen_name='soundsr', location='', description='', url=None, entities={'description': {'urls': []}}, protected=False, followers_count=14, friends_count=38, listed_count=0, created_at=datetime.datetime(2009, 8, 10, 2, 43, 38), favourites_count=0, utc_offset=None, time_zone=None, geo_enabled=False, verified=False, statuses_count=9, lang=None, contributors_enabled=False, is_translator=False, is_translation_enabled=False, profile_background_color='C0DEED', profile_background_image_url='http://abs.twimg.com/images/themes/theme1/bg.png', profile_background_image_url_https='https://abs.twimg.com/images/themes/theme1/bg.png', profile_background_tile=False, profile_image_url='http://pbs.twimg.com/profile_images/405793816/twitter_normal.JPG', profile_image_url_https='https://pbs.twimg.com/profile_images/405793816/twitter_normal.JPG', profile_link_color='1DA1F2', profile_sidebar_border_color='C0DEED', profile_sidebar_fill_color='DDEEF6', profile_text_color='333333', profile_use_background_image=True, has_extended_profile=False, default_profile=True, default_profile_image=False, following=False, follow_request_sent=False, notifications=False, translator_type='none'), geo=None, coordinates=None, place=None, contributors=None, is_quote_status=False, retweet_count=0, favorite_count=0, favorited=False, retweeted=False, lang='en'),\n",
       " Status(_api=<tweepy.api.API object at 0x7f0051b7afd0>, _json={'created_at': 'Sat Sep 19 05:26:42 +0000 2009', 'id': 4097099398, 'id_str': '4097099398', 'full_text': 'Fedora core 11 - KDE is fascinating!!!', 'truncated': False, 'display_text_range': [0, 38], 'entities': {'hashtags': [], 'symbols': [], 'user_mentions': [], 'urls': []}, 'source': '<a href=\"http://twitter.com\" rel=\"nofollow\">Twitter Web Client</a>', 'in_reply_to_status_id': None, 'in_reply_to_status_id_str': None, 'in_reply_to_user_id': None, 'in_reply_to_user_id_str': None, 'in_reply_to_screen_name': None, 'user': {'id': 64319331, 'id_str': '64319331', 'name': 'Sri', 'screen_name': 'soundsr', 'location': '', 'description': '', 'url': None, 'entities': {'description': {'urls': []}}, 'protected': False, 'followers_count': 14, 'friends_count': 38, 'listed_count': 0, 'created_at': 'Mon Aug 10 02:43:38 +0000 2009', 'favourites_count': 0, 'utc_offset': None, 'time_zone': None, 'geo_enabled': False, 'verified': False, 'statuses_count': 9, 'lang': None, 'contributors_enabled': False, 'is_translator': False, 'is_translation_enabled': False, 'profile_background_color': 'C0DEED', 'profile_background_image_url': 'http://abs.twimg.com/images/themes/theme1/bg.png', 'profile_background_image_url_https': 'https://abs.twimg.com/images/themes/theme1/bg.png', 'profile_background_tile': False, 'profile_image_url': 'http://pbs.twimg.com/profile_images/405793816/twitter_normal.JPG', 'profile_image_url_https': 'https://pbs.twimg.com/profile_images/405793816/twitter_normal.JPG', 'profile_link_color': '1DA1F2', 'profile_sidebar_border_color': 'C0DEED', 'profile_sidebar_fill_color': 'DDEEF6', 'profile_text_color': '333333', 'profile_use_background_image': True, 'has_extended_profile': False, 'default_profile': True, 'default_profile_image': False, 'following': False, 'follow_request_sent': False, 'notifications': False, 'translator_type': 'none'}, 'geo': None, 'coordinates': None, 'place': None, 'contributors': None, 'is_quote_status': False, 'retweet_count': 0, 'favorite_count': 2, 'favorited': False, 'retweeted': False, 'lang': 'pt'}, created_at=datetime.datetime(2009, 9, 19, 5, 26, 42), id=4097099398, id_str='4097099398', full_text='Fedora core 11 - KDE is fascinating!!!', truncated=False, display_text_range=[0, 38], entities={'hashtags': [], 'symbols': [], 'user_mentions': [], 'urls': []}, source='Twitter Web Client', source_url='http://twitter.com', in_reply_to_status_id=None, in_reply_to_status_id_str=None, in_reply_to_user_id=None, in_reply_to_user_id_str=None, in_reply_to_screen_name=None, author=User(_api=<tweepy.api.API object at 0x7f0051b7afd0>, _json={'id': 64319331, 'id_str': '64319331', 'name': 'Sri', 'screen_name': 'soundsr', 'location': '', 'description': '', 'url': None, 'entities': {'description': {'urls': []}}, 'protected': False, 'followers_count': 14, 'friends_count': 38, 'listed_count': 0, 'created_at': 'Mon Aug 10 02:43:38 +0000 2009', 'favourites_count': 0, 'utc_offset': None, 'time_zone': None, 'geo_enabled': False, 'verified': False, 'statuses_count': 9, 'lang': None, 'contributors_enabled': False, 'is_translator': False, 'is_translation_enabled': False, 'profile_background_color': 'C0DEED', 'profile_background_image_url': 'http://abs.twimg.com/images/themes/theme1/bg.png', 'profile_background_image_url_https': 'https://abs.twimg.com/images/themes/theme1/bg.png', 'profile_background_tile': False, 'profile_image_url': 'http://pbs.twimg.com/profile_images/405793816/twitter_normal.JPG', 'profile_image_url_https': 'https://pbs.twimg.com/profile_images/405793816/twitter_normal.JPG', 'profile_link_color': '1DA1F2', 'profile_sidebar_border_color': 'C0DEED', 'profile_sidebar_fill_color': 'DDEEF6', 'profile_text_color': '333333', 'profile_use_background_image': True, 'has_extended_profile': False, 'default_profile': True, 'default_profile_image': False, 'following': False, 'follow_request_sent': False, 'notifications': False, 'translator_type': 'none'}, id=64319331, id_str='64319331', name='Sri', screen_name='soundsr', location='', description='', url=None, entities={'description': {'urls': []}}, protected=False, followers_count=14, friends_count=38, listed_count=0, created_at=datetime.datetime(2009, 8, 10, 2, 43, 38), favourites_count=0, utc_offset=None, time_zone=None, geo_enabled=False, verified=False, statuses_count=9, lang=None, contributors_enabled=False, is_translator=False, is_translation_enabled=False, profile_background_color='C0DEED', profile_background_image_url='http://abs.twimg.com/images/themes/theme1/bg.png', profile_background_image_url_https='https://abs.twimg.com/images/themes/theme1/bg.png', profile_background_tile=False, profile_image_url='http://pbs.twimg.com/profile_images/405793816/twitter_normal.JPG', profile_image_url_https='https://pbs.twimg.com/profile_images/405793816/twitter_normal.JPG', profile_link_color='1DA1F2', profile_sidebar_border_color='C0DEED', profile_sidebar_fill_color='DDEEF6', profile_text_color='333333', profile_use_background_image=True, has_extended_profile=False, default_profile=True, default_profile_image=False, following=False, follow_request_sent=False, notifications=False, translator_type='none'), user=User(_api=<tweepy.api.API object at 0x7f0051b7afd0>, _json={'id': 64319331, 'id_str': '64319331', 'name': 'Sri', 'screen_name': 'soundsr', 'location': '', 'description': '', 'url': None, 'entities': {'description': {'urls': []}}, 'protected': False, 'followers_count': 14, 'friends_count': 38, 'listed_count': 0, 'created_at': 'Mon Aug 10 02:43:38 +0000 2009', 'favourites_count': 0, 'utc_offset': None, 'time_zone': None, 'geo_enabled': False, 'verified': False, 'statuses_count': 9, 'lang': None, 'contributors_enabled': False, 'is_translator': False, 'is_translation_enabled': False, 'profile_background_color': 'C0DEED', 'profile_background_image_url': 'http://abs.twimg.com/images/themes/theme1/bg.png', 'profile_background_image_url_https': 'https://abs.twimg.com/images/themes/theme1/bg.png', 'profile_background_tile': False, 'profile_image_url': 'http://pbs.twimg.com/profile_images/405793816/twitter_normal.JPG', 'profile_image_url_https': 'https://pbs.twimg.com/profile_images/405793816/twitter_normal.JPG', 'profile_link_color': '1DA1F2', 'profile_sidebar_border_color': 'C0DEED', 'profile_sidebar_fill_color': 'DDEEF6', 'profile_text_color': '333333', 'profile_use_background_image': True, 'has_extended_profile': False, 'default_profile': True, 'default_profile_image': False, 'following': False, 'follow_request_sent': False, 'notifications': False, 'translator_type': 'none'}, id=64319331, id_str='64319331', name='Sri', screen_name='soundsr', location='', description='', url=None, entities={'description': {'urls': []}}, protected=False, followers_count=14, friends_count=38, listed_count=0, created_at=datetime.datetime(2009, 8, 10, 2, 43, 38), favourites_count=0, utc_offset=None, time_zone=None, geo_enabled=False, verified=False, statuses_count=9, lang=None, contributors_enabled=False, is_translator=False, is_translation_enabled=False, profile_background_color='C0DEED', profile_background_image_url='http://abs.twimg.com/images/themes/theme1/bg.png', profile_background_image_url_https='https://abs.twimg.com/images/themes/theme1/bg.png', profile_background_tile=False, profile_image_url='http://pbs.twimg.com/profile_images/405793816/twitter_normal.JPG', profile_image_url_https='https://pbs.twimg.com/profile_images/405793816/twitter_normal.JPG', profile_link_color='1DA1F2', profile_sidebar_border_color='C0DEED', profile_sidebar_fill_color='DDEEF6', profile_text_color='333333', profile_use_background_image=True, has_extended_profile=False, default_profile=True, default_profile_image=False, following=False, follow_request_sent=False, notifications=False, translator_type='none'), geo=None, coordinates=None, place=None, contributors=None, is_quote_status=False, retweet_count=0, favorite_count=2, favorited=False, retweeted=False, lang='pt'),\n",
       " Status(_api=<tweepy.api.API object at 0x7f0051b7afd0>, _json={'created_at': 'Sat Sep 19 05:25:43 +0000 2009', 'id': 4097086087, 'id_str': '4097086087', 'full_text': 'fedora core 11 - KDE is fascinating!!!', 'truncated': False, 'display_text_range': [0, 38], 'entities': {'hashtags': [], 'symbols': [], 'user_mentions': [], 'urls': []}, 'source': '<a href=\"http://twitter.com\" rel=\"nofollow\">Twitter Web Client</a>', 'in_reply_to_status_id': None, 'in_reply_to_status_id_str': None, 'in_reply_to_user_id': None, 'in_reply_to_user_id_str': None, 'in_reply_to_screen_name': None, 'user': {'id': 64319331, 'id_str': '64319331', 'name': 'Sri', 'screen_name': 'soundsr', 'location': '', 'description': '', 'url': None, 'entities': {'description': {'urls': []}}, 'protected': False, 'followers_count': 14, 'friends_count': 38, 'listed_count': 0, 'created_at': 'Mon Aug 10 02:43:38 +0000 2009', 'favourites_count': 0, 'utc_offset': None, 'time_zone': None, 'geo_enabled': False, 'verified': False, 'statuses_count': 9, 'lang': None, 'contributors_enabled': False, 'is_translator': False, 'is_translation_enabled': False, 'profile_background_color': 'C0DEED', 'profile_background_image_url': 'http://abs.twimg.com/images/themes/theme1/bg.png', 'profile_background_image_url_https': 'https://abs.twimg.com/images/themes/theme1/bg.png', 'profile_background_tile': False, 'profile_image_url': 'http://pbs.twimg.com/profile_images/405793816/twitter_normal.JPG', 'profile_image_url_https': 'https://pbs.twimg.com/profile_images/405793816/twitter_normal.JPG', 'profile_link_color': '1DA1F2', 'profile_sidebar_border_color': 'C0DEED', 'profile_sidebar_fill_color': 'DDEEF6', 'profile_text_color': '333333', 'profile_use_background_image': True, 'has_extended_profile': False, 'default_profile': True, 'default_profile_image': False, 'following': False, 'follow_request_sent': False, 'notifications': False, 'translator_type': 'none'}, 'geo': None, 'coordinates': None, 'place': None, 'contributors': None, 'is_quote_status': False, 'retweet_count': 0, 'favorite_count': 0, 'favorited': False, 'retweeted': False, 'lang': 'pt'}, created_at=datetime.datetime(2009, 9, 19, 5, 25, 43), id=4097086087, id_str='4097086087', full_text='fedora core 11 - KDE is fascinating!!!', truncated=False, display_text_range=[0, 38], entities={'hashtags': [], 'symbols': [], 'user_mentions': [], 'urls': []}, source='Twitter Web Client', source_url='http://twitter.com', in_reply_to_status_id=None, in_reply_to_status_id_str=None, in_reply_to_user_id=None, in_reply_to_user_id_str=None, in_reply_to_screen_name=None, author=User(_api=<tweepy.api.API object at 0x7f0051b7afd0>, _json={'id': 64319331, 'id_str': '64319331', 'name': 'Sri', 'screen_name': 'soundsr', 'location': '', 'description': '', 'url': None, 'entities': {'description': {'urls': []}}, 'protected': False, 'followers_count': 14, 'friends_count': 38, 'listed_count': 0, 'created_at': 'Mon Aug 10 02:43:38 +0000 2009', 'favourites_count': 0, 'utc_offset': None, 'time_zone': None, 'geo_enabled': False, 'verified': False, 'statuses_count': 9, 'lang': None, 'contributors_enabled': False, 'is_translator': False, 'is_translation_enabled': False, 'profile_background_color': 'C0DEED', 'profile_background_image_url': 'http://abs.twimg.com/images/themes/theme1/bg.png', 'profile_background_image_url_https': 'https://abs.twimg.com/images/themes/theme1/bg.png', 'profile_background_tile': False, 'profile_image_url': 'http://pbs.twimg.com/profile_images/405793816/twitter_normal.JPG', 'profile_image_url_https': 'https://pbs.twimg.com/profile_images/405793816/twitter_normal.JPG', 'profile_link_color': '1DA1F2', 'profile_sidebar_border_color': 'C0DEED', 'profile_sidebar_fill_color': 'DDEEF6', 'profile_text_color': '333333', 'profile_use_background_image': True, 'has_extended_profile': False, 'default_profile': True, 'default_profile_image': False, 'following': False, 'follow_request_sent': False, 'notifications': False, 'translator_type': 'none'}, id=64319331, id_str='64319331', name='Sri', screen_name='soundsr', location='', description='', url=None, entities={'description': {'urls': []}}, protected=False, followers_count=14, friends_count=38, listed_count=0, created_at=datetime.datetime(2009, 8, 10, 2, 43, 38), favourites_count=0, utc_offset=None, time_zone=None, geo_enabled=False, verified=False, statuses_count=9, lang=None, contributors_enabled=False, is_translator=False, is_translation_enabled=False, profile_background_color='C0DEED', profile_background_image_url='http://abs.twimg.com/images/themes/theme1/bg.png', profile_background_image_url_https='https://abs.twimg.com/images/themes/theme1/bg.png', profile_background_tile=False, profile_image_url='http://pbs.twimg.com/profile_images/405793816/twitter_normal.JPG', profile_image_url_https='https://pbs.twimg.com/profile_images/405793816/twitter_normal.JPG', profile_link_color='1DA1F2', profile_sidebar_border_color='C0DEED', profile_sidebar_fill_color='DDEEF6', profile_text_color='333333', profile_use_background_image=True, has_extended_profile=False, default_profile=True, default_profile_image=False, following=False, follow_request_sent=False, notifications=False, translator_type='none'), user=User(_api=<tweepy.api.API object at 0x7f0051b7afd0>, _json={'id': 64319331, 'id_str': '64319331', 'name': 'Sri', 'screen_name': 'soundsr', 'location': '', 'description': '', 'url': None, 'entities': {'description': {'urls': []}}, 'protected': False, 'followers_count': 14, 'friends_count': 38, 'listed_count': 0, 'created_at': 'Mon Aug 10 02:43:38 +0000 2009', 'favourites_count': 0, 'utc_offset': None, 'time_zone': None, 'geo_enabled': False, 'verified': False, 'statuses_count': 9, 'lang': None, 'contributors_enabled': False, 'is_translator': False, 'is_translation_enabled': False, 'profile_background_color': 'C0DEED', 'profile_background_image_url': 'http://abs.twimg.com/images/themes/theme1/bg.png', 'profile_background_image_url_https': 'https://abs.twimg.com/images/themes/theme1/bg.png', 'profile_background_tile': False, 'profile_image_url': 'http://pbs.twimg.com/profile_images/405793816/twitter_normal.JPG', 'profile_image_url_https': 'https://pbs.twimg.com/profile_images/405793816/twitter_normal.JPG', 'profile_link_color': '1DA1F2', 'profile_sidebar_border_color': 'C0DEED', 'profile_sidebar_fill_color': 'DDEEF6', 'profile_text_color': '333333', 'profile_use_background_image': True, 'has_extended_profile': False, 'default_profile': True, 'default_profile_image': False, 'following': False, 'follow_request_sent': False, 'notifications': False, 'translator_type': 'none'}, id=64319331, id_str='64319331', name='Sri', screen_name='soundsr', location='', description='', url=None, entities={'description': {'urls': []}}, protected=False, followers_count=14, friends_count=38, listed_count=0, created_at=datetime.datetime(2009, 8, 10, 2, 43, 38), favourites_count=0, utc_offset=None, time_zone=None, geo_enabled=False, verified=False, statuses_count=9, lang=None, contributors_enabled=False, is_translator=False, is_translation_enabled=False, profile_background_color='C0DEED', profile_background_image_url='http://abs.twimg.com/images/themes/theme1/bg.png', profile_background_image_url_https='https://abs.twimg.com/images/themes/theme1/bg.png', profile_background_tile=False, profile_image_url='http://pbs.twimg.com/profile_images/405793816/twitter_normal.JPG', profile_image_url_https='https://pbs.twimg.com/profile_images/405793816/twitter_normal.JPG', profile_link_color='1DA1F2', profile_sidebar_border_color='C0DEED', profile_sidebar_fill_color='DDEEF6', profile_text_color='333333', profile_use_background_image=True, has_extended_profile=False, default_profile=True, default_profile_image=False, following=False, follow_request_sent=False, notifications=False, translator_type='none'), geo=None, coordinates=None, place=None, contributors=None, is_quote_status=False, retweet_count=0, favorite_count=0, favorited=False, retweeted=False, lang='pt'),\n",
       " Status(_api=<tweepy.api.API object at 0x7f0051b7afd0>, _json={'created_at': 'Wed Oct 28 17:08:46 +0000 2020', 'id': 1321499159854198788, 'id_str': '1321499159854198788', 'full_text': '🤞 https://t.co/NUzUnRr7pE', 'truncated': False, 'display_text_range': [0, 1], 'entities': {'hashtags': [], 'symbols': [], 'user_mentions': [], 'urls': [{'url': 'https://t.co/NUzUnRr7pE', 'expanded_url': 'https://twitter.com/free/status/1321466763024818182', 'display_url': 'twitter.com/free/status/13…', 'indices': [2, 25]}]}, 'source': '<a href=\"https://mobile.twitter.com\" rel=\"nofollow\">Twitter Web App</a>', 'in_reply_to_status_id': None, 'in_reply_to_status_id_str': None, 'in_reply_to_user_id': None, 'in_reply_to_user_id_str': None, 'in_reply_to_screen_name': None, 'user': {'id': 3122198871, 'id_str': '3122198871', 'name': 'Jean-Luc Chevrier', 'screen_name': 'chevrier_luc', 'location': '', 'description': '', 'url': None, 'entities': {'description': {'urls': []}}, 'protected': False, 'followers_count': 1, 'friends_count': 20, 'listed_count': 0, 'created_at': 'Fri Mar 27 20:59:35 +0000 2015', 'favourites_count': 0, 'utc_offset': None, 'time_zone': None, 'geo_enabled': False, 'verified': False, 'statuses_count': 3, 'lang': None, 'contributors_enabled': False, 'is_translator': False, 'is_translation_enabled': False, 'profile_background_color': 'C0DEED', 'profile_background_image_url': 'http://abs.twimg.com/images/themes/theme1/bg.png', 'profile_background_image_url_https': 'https://abs.twimg.com/images/themes/theme1/bg.png', 'profile_background_tile': False, 'profile_image_url': 'http://pbs.twimg.com/profile_images/581562440795705344/FkFmAxLQ_normal.jpg', 'profile_image_url_https': 'https://pbs.twimg.com/profile_images/581562440795705344/FkFmAxLQ_normal.jpg', 'profile_link_color': '1DA1F2', 'profile_sidebar_border_color': 'C0DEED', 'profile_sidebar_fill_color': 'DDEEF6', 'profile_text_color': '333333', 'profile_use_background_image': True, 'has_extended_profile': False, 'default_profile': True, 'default_profile_image': False, 'following': False, 'follow_request_sent': False, 'notifications': False, 'translator_type': 'none'}, 'geo': None, 'coordinates': None, 'place': None, 'contributors': None, 'is_quote_status': True, 'quoted_status_id': 1321466763024818182, 'quoted_status_id_str': '1321466763024818182', 'quoted_status_permalink': {'url': 'https://t.co/NUzUnRr7pE', 'expanded': 'https://twitter.com/free/status/1321466763024818182', 'display': 'twitter.com/free/status/13…'}, 'quoted_status': {'created_at': 'Wed Oct 28 15:00:02 +0000 2020', 'id': 1321466763024818182, 'id_str': '1321466763024818182', 'full_text': '[#Concours]🎁\\nPour vous remettre de vos frayeurs halloweenesques, on vous fait gagner ce superbe #SamsungGalaxyS20 !\\nPour cela, vous connaissez la 🎶!\\n👉RT &amp; Follow le compte @free et priez la sainte 🎃!\\nBonne chance à tous. 🍀🤞 \\nTirage au sort le 03/11.\\n#MerciFree https://t.co/jqYLnjZj8t', 'truncated': False, 'display_text_range': [0, 264], 'entities': {'hashtags': [{'text': 'Concours', 'indices': [1, 10]}, {'text': 'SamsungGalaxyS20', 'indices': [96, 113]}, {'text': 'MerciFree', 'indices': [254, 264]}], 'symbols': [], 'user_mentions': [{'screen_name': 'free', 'name': 'Free', 'id': 252263949, 'id_str': '252263949', 'indices': [176, 181]}], 'urls': [], 'media': [{'id': 1321127973295149056, 'id_str': '1321127973295149056', 'indices': [265, 288], 'media_url': 'http://pbs.twimg.com/media/ElWW5F8W0AA8kmI.jpg', 'media_url_https': 'https://pbs.twimg.com/media/ElWW5F8W0AA8kmI.jpg', 'url': 'https://t.co/jqYLnjZj8t', 'display_url': 'pic.twitter.com/jqYLnjZj8t', 'expanded_url': 'https://twitter.com/free/status/1321466763024818182/photo/1', 'type': 'photo', 'sizes': {'thumb': {'w': 150, 'h': 150, 'resize': 'crop'}, 'large': {'w': 1200, 'h': 630, 'resize': 'fit'}, 'medium': {'w': 1200, 'h': 630, 'resize': 'fit'}, 'small': {'w': 680, 'h': 357, 'resize': 'fit'}}}]}, 'extended_entities': {'media': [{'id': 1321127973295149056, 'id_str': '1321127973295149056', 'indices': [265, 288], 'media_url': 'http://pbs.twimg.com/media/ElWW5F8W0AA8kmI.jpg', 'media_url_https': 'https://pbs.twimg.com/media/ElWW5F8W0AA8kmI.jpg', 'url': 'https://t.co/jqYLnjZj8t', 'display_url': 'pic.twitter.com/jqYLnjZj8t', 'expanded_url': 'https://twitter.com/free/status/1321466763024818182/photo/1', 'type': 'photo', 'sizes': {'thumb': {'w': 150, 'h': 150, 'resize': 'crop'}, 'large': {'w': 1200, 'h': 630, 'resize': 'fit'}, 'medium': {'w': 1200, 'h': 630, 'resize': 'fit'}, 'small': {'w': 680, 'h': 357, 'resize': 'fit'}}}]}, 'source': '<a href=\"https://mobile.twitter.com\" rel=\"nofollow\">Twitter Web App</a>', 'in_reply_to_status_id': None, 'in_reply_to_status_id_str': None, 'in_reply_to_user_id': None, 'in_reply_to_user_id_str': None, 'in_reply_to_screen_name': None, 'user': {'id': 252263949, 'id_str': '252263949', 'name': 'Free', 'screen_name': 'free', 'location': 'Paris, France', 'description': \"Trublion des Télécoms en 🇫🇷 I Inventeur de la 1ère box triple-play au monde 🚀I Besoin d'assistance ? On est à votre service sur @Freebox & @freemobile 😉.\", 'url': 'https://t.co/7dCbDWrSaV', 'entities': {'url': {'urls': [{'url': 'https://t.co/7dCbDWrSaV', 'expanded_url': 'http://www.free.fr', 'display_url': 'free.fr', 'indices': [0, 23]}]}, 'description': {'urls': []}}, 'protected': False, 'followers_count': 144111, 'friends_count': 20, 'listed_count': 314, 'created_at': 'Mon Feb 14 20:59:20 +0000 2011', 'favourites_count': 981, 'utc_offset': None, 'time_zone': None, 'geo_enabled': False, 'verified': True, 'statuses_count': 1295, 'lang': None, 'contributors_enabled': False, 'is_translator': False, 'is_translation_enabled': False, 'profile_background_color': 'AFE185', 'profile_background_image_url': 'http://abs.twimg.com/images/themes/theme1/bg.png', 'profile_background_image_url_https': 'https://abs.twimg.com/images/themes/theme1/bg.png', 'profile_background_tile': False, 'profile_image_url': 'http://pbs.twimg.com/profile_images/1148152622689464320/HteOCi5n_normal.png', 'profile_image_url_https': 'https://pbs.twimg.com/profile_images/1148152622689464320/HteOCi5n_normal.png', 'profile_banner_url': 'https://pbs.twimg.com/profile_banners/252263949/1604419773', 'profile_link_color': 'ABB8C2', 'profile_sidebar_border_color': 'FFFFFF', 'profile_sidebar_fill_color': 'A3D977', 'profile_text_color': '333333', 'profile_use_background_image': False, 'has_extended_profile': True, 'default_profile': False, 'default_profile_image': False, 'following': False, 'follow_request_sent': False, 'notifications': False, 'translator_type': 'regular'}, 'geo': None, 'coordinates': None, 'place': None, 'contributors': None, 'is_quote_status': False, 'retweet_count': 6801, 'favorite_count': 3206, 'favorited': False, 'retweeted': False, 'possibly_sensitive': False, 'lang': 'fr'}, 'retweet_count': 0, 'favorite_count': 0, 'favorited': False, 'retweeted': False, 'possibly_sensitive': False, 'lang': 'und'}, created_at=datetime.datetime(2020, 10, 28, 17, 8, 46), id=1321499159854198788, id_str='1321499159854198788', full_text='🤞 https://t.co/NUzUnRr7pE', truncated=False, display_text_range=[0, 1], entities={'hashtags': [], 'symbols': [], 'user_mentions': [], 'urls': [{'url': 'https://t.co/NUzUnRr7pE', 'expanded_url': 'https://twitter.com/free/status/1321466763024818182', 'display_url': 'twitter.com/free/status/13…', 'indices': [2, 25]}]}, source='Twitter Web App', source_url='https://mobile.twitter.com', in_reply_to_status_id=None, in_reply_to_status_id_str=None, in_reply_to_user_id=None, in_reply_to_user_id_str=None, in_reply_to_screen_name=None, author=User(_api=<tweepy.api.API object at 0x7f0051b7afd0>, _json={'id': 3122198871, 'id_str': '3122198871', 'name': 'Jean-Luc Chevrier', 'screen_name': 'chevrier_luc', 'location': '', 'description': '', 'url': None, 'entities': {'description': {'urls': []}}, 'protected': False, 'followers_count': 1, 'friends_count': 20, 'listed_count': 0, 'created_at': 'Fri Mar 27 20:59:35 +0000 2015', 'favourites_count': 0, 'utc_offset': None, 'time_zone': None, 'geo_enabled': False, 'verified': False, 'statuses_count': 3, 'lang': None, 'contributors_enabled': False, 'is_translator': False, 'is_translation_enabled': False, 'profile_background_color': 'C0DEED', 'profile_background_image_url': 'http://abs.twimg.com/images/themes/theme1/bg.png', 'profile_background_image_url_https': 'https://abs.twimg.com/images/themes/theme1/bg.png', 'profile_background_tile': False, 'profile_image_url': 'http://pbs.twimg.com/profile_images/581562440795705344/FkFmAxLQ_normal.jpg', 'profile_image_url_https': 'https://pbs.twimg.com/profile_images/581562440795705344/FkFmAxLQ_normal.jpg', 'profile_link_color': '1DA1F2', 'profile_sidebar_border_color': 'C0DEED', 'profile_sidebar_fill_color': 'DDEEF6', 'profile_text_color': '333333', 'profile_use_background_image': True, 'has_extended_profile': False, 'default_profile': True, 'default_profile_image': False, 'following': False, 'follow_request_sent': False, 'notifications': False, 'translator_type': 'none'}, id=3122198871, id_str='3122198871', name='Jean-Luc Chevrier', screen_name='chevrier_luc', location='', description='', url=None, entities={'description': {'urls': []}}, protected=False, followers_count=1, friends_count=20, listed_count=0, created_at=datetime.datetime(2015, 3, 27, 20, 59, 35), favourites_count=0, utc_offset=None, time_zone=None, geo_enabled=False, verified=False, statuses_count=3, lang=None, contributors_enabled=False, is_translator=False, is_translation_enabled=False, profile_background_color='C0DEED', profile_background_image_url='http://abs.twimg.com/images/themes/theme1/bg.png', profile_background_image_url_https='https://abs.twimg.com/images/themes/theme1/bg.png', profile_background_tile=False, profile_image_url='http://pbs.twimg.com/profile_images/581562440795705344/FkFmAxLQ_normal.jpg', profile_image_url_https='https://pbs.twimg.com/profile_images/581562440795705344/FkFmAxLQ_normal.jpg', profile_link_color='1DA1F2', profile_sidebar_border_color='C0DEED', profile_sidebar_fill_color='DDEEF6', profile_text_color='333333', profile_use_background_image=True, has_extended_profile=False, default_profile=True, default_profile_image=False, following=False, follow_request_sent=False, notifications=False, translator_type='none'), user=User(_api=<tweepy.api.API object at 0x7f0051b7afd0>, _json={'id': 3122198871, 'id_str': '3122198871', 'name': 'Jean-Luc Chevrier', 'screen_name': 'chevrier_luc', 'location': '', 'description': '', 'url': None, 'entities': {'description': {'urls': []}}, 'protected': False, 'followers_count': 1, 'friends_count': 20, 'listed_count': 0, 'created_at': 'Fri Mar 27 20:59:35 +0000 2015', 'favourites_count': 0, 'utc_offset': None, 'time_zone': None, 'geo_enabled': False, 'verified': False, 'statuses_count': 3, 'lang': None, 'contributors_enabled': False, 'is_translator': False, 'is_translation_enabled': False, 'profile_background_color': 'C0DEED', 'profile_background_image_url': 'http://abs.twimg.com/images/themes/theme1/bg.png', 'profile_background_image_url_https': 'https://abs.twimg.com/images/themes/theme1/bg.png', 'profile_background_tile': False, 'profile_image_url': 'http://pbs.twimg.com/profile_images/581562440795705344/FkFmAxLQ_normal.jpg', 'profile_image_url_https': 'https://pbs.twimg.com/profile_images/581562440795705344/FkFmAxLQ_normal.jpg', 'profile_link_color': '1DA1F2', 'profile_sidebar_border_color': 'C0DEED', 'profile_sidebar_fill_color': 'DDEEF6', 'profile_text_color': '333333', 'profile_use_background_image': True, 'has_extended_profile': False, 'default_profile': True, 'default_profile_image': False, 'following': False, 'follow_request_sent': False, 'notifications': False, 'translator_type': 'none'}, id=3122198871, id_str='3122198871', name='Jean-Luc Chevrier', screen_name='chevrier_luc', location='', description='', url=None, entities={'description': {'urls': []}}, protected=False, followers_count=1, friends_count=20, listed_count=0, created_at=datetime.datetime(2015, 3, 27, 20, 59, 35), favourites_count=0, utc_offset=None, time_zone=None, geo_enabled=False, verified=False, statuses_count=3, lang=None, contributors_enabled=False, is_translator=False, is_translation_enabled=False, profile_background_color='C0DEED', profile_background_image_url='http://abs.twimg.com/images/themes/theme1/bg.png', profile_background_image_url_https='https://abs.twimg.com/images/themes/theme1/bg.png', profile_background_tile=False, profile_image_url='http://pbs.twimg.com/profile_images/581562440795705344/FkFmAxLQ_normal.jpg', profile_image_url_https='https://pbs.twimg.com/profile_images/581562440795705344/FkFmAxLQ_normal.jpg', profile_link_color='1DA1F2', profile_sidebar_border_color='C0DEED', profile_sidebar_fill_color='DDEEF6', profile_text_color='333333', profile_use_background_image=True, has_extended_profile=False, default_profile=True, default_profile_image=False, following=False, follow_request_sent=False, notifications=False, translator_type='none'), geo=None, coordinates=None, place=None, contributors=None, is_quote_status=True, quoted_status_id=1321466763024818182, quoted_status_id_str='1321466763024818182', quoted_status_permalink={'url': 'https://t.co/NUzUnRr7pE', 'expanded': 'https://twitter.com/free/status/1321466763024818182', 'display': 'twitter.com/free/status/13…'}, quoted_status=Status(_api=<tweepy.api.API object at 0x7f0051b7afd0>, _json={'created_at': 'Wed Oct 28 15:00:02 +0000 2020', 'id': 1321466763024818182, 'id_str': '1321466763024818182', 'full_text': '[#Concours]🎁\\nPour vous remettre de vos frayeurs halloweenesques, on vous fait gagner ce superbe #SamsungGalaxyS20 !\\nPour cela, vous connaissez la 🎶!\\n👉RT &amp; Follow le compte @free et priez la sainte 🎃!\\nBonne chance à tous. 🍀🤞 \\nTirage au sort le 03/11.\\n#MerciFree https://t.co/jqYLnjZj8t', 'truncated': False, 'display_text_range': [0, 264], 'entities': {'hashtags': [{'text': 'Concours', 'indices': [1, 10]}, {'text': 'SamsungGalaxyS20', 'indices': [96, 113]}, {'text': 'MerciFree', 'indices': [254, 264]}], 'symbols': [], 'user_mentions': [{'screen_name': 'free', 'name': 'Free', 'id': 252263949, 'id_str': '252263949', 'indices': [176, 181]}], 'urls': [], 'media': [{'id': 1321127973295149056, 'id_str': '1321127973295149056', 'indices': [265, 288], 'media_url': 'http://pbs.twimg.com/media/ElWW5F8W0AA8kmI.jpg', 'media_url_https': 'https://pbs.twimg.com/media/ElWW5F8W0AA8kmI.jpg', 'url': 'https://t.co/jqYLnjZj8t', 'display_url': 'pic.twitter.com/jqYLnjZj8t', 'expanded_url': 'https://twitter.com/free/status/1321466763024818182/photo/1', 'type': 'photo', 'sizes': {'thumb': {'w': 150, 'h': 150, 'resize': 'crop'}, 'large': {'w': 1200, 'h': 630, 'resize': 'fit'}, 'medium': {'w': 1200, 'h': 630, 'resize': 'fit'}, 'small': {'w': 680, 'h': 357, 'resize': 'fit'}}}]}, 'extended_entities': {'media': [{'id': 1321127973295149056, 'id_str': '1321127973295149056', 'indices': [265, 288], 'media_url': 'http://pbs.twimg.com/media/ElWW5F8W0AA8kmI.jpg', 'media_url_https': 'https://pbs.twimg.com/media/ElWW5F8W0AA8kmI.jpg', 'url': 'https://t.co/jqYLnjZj8t', 'display_url': 'pic.twitter.com/jqYLnjZj8t', 'expanded_url': 'https://twitter.com/free/status/1321466763024818182/photo/1', 'type': 'photo', 'sizes': {'thumb': {'w': 150, 'h': 150, 'resize': 'crop'}, 'large': {'w': 1200, 'h': 630, 'resize': 'fit'}, 'medium': {'w': 1200, 'h': 630, 'resize': 'fit'}, 'small': {'w': 680, 'h': 357, 'resize': 'fit'}}}]}, 'source': '<a href=\"https://mobile.twitter.com\" rel=\"nofollow\">Twitter Web App</a>', 'in_reply_to_status_id': None, 'in_reply_to_status_id_str': None, 'in_reply_to_user_id': None, 'in_reply_to_user_id_str': None, 'in_reply_to_screen_name': None, 'user': {'id': 252263949, 'id_str': '252263949', 'name': 'Free', 'screen_name': 'free', 'location': 'Paris, France', 'description': \"Trublion des Télécoms en 🇫🇷 I Inventeur de la 1ère box triple-play au monde 🚀I Besoin d'assistance ? On est à votre service sur @Freebox & @freemobile 😉.\", 'url': 'https://t.co/7dCbDWrSaV', 'entities': {'url': {'urls': [{'url': 'https://t.co/7dCbDWrSaV', 'expanded_url': 'http://www.free.fr', 'display_url': 'free.fr', 'indices': [0, 23]}]}, 'description': {'urls': []}}, 'protected': False, 'followers_count': 144111, 'friends_count': 20, 'listed_count': 314, 'created_at': 'Mon Feb 14 20:59:20 +0000 2011', 'favourites_count': 981, 'utc_offset': None, 'time_zone': None, 'geo_enabled': False, 'verified': True, 'statuses_count': 1295, 'lang': None, 'contributors_enabled': False, 'is_translator': False, 'is_translation_enabled': False, 'profile_background_color': 'AFE185', 'profile_background_image_url': 'http://abs.twimg.com/images/themes/theme1/bg.png', 'profile_background_image_url_https': 'https://abs.twimg.com/images/themes/theme1/bg.png', 'profile_background_tile': False, 'profile_image_url': 'http://pbs.twimg.com/profile_images/1148152622689464320/HteOCi5n_normal.png', 'profile_image_url_https': 'https://pbs.twimg.com/profile_images/1148152622689464320/HteOCi5n_normal.png', 'profile_banner_url': 'https://pbs.twimg.com/profile_banners/252263949/1604419773', 'profile_link_color': 'ABB8C2', 'profile_sidebar_border_color': 'FFFFFF', 'profile_sidebar_fill_color': 'A3D977', 'profile_text_color': '333333', 'profile_use_background_image': False, 'has_extended_profile': True, 'default_profile': False, 'default_profile_image': False, 'following': False, 'follow_request_sent': False, 'notifications': False, 'translator_type': 'regular'}, 'geo': None, 'coordinates': None, 'place': None, 'contributors': None, 'is_quote_status': False, 'retweet_count': 6801, 'favorite_count': 3206, 'favorited': False, 'retweeted': False, 'possibly_sensitive': False, 'lang': 'fr'}, created_at=datetime.datetime(2020, 10, 28, 15, 0, 2), id=1321466763024818182, id_str='1321466763024818182', full_text='[#Concours]🎁\\nPour vous remettre de vos frayeurs halloweenesques, on vous fait gagner ce superbe #SamsungGalaxyS20 !\\nPour cela, vous connaissez la 🎶!\\n👉RT &amp; Follow le compte @free et priez la sainte 🎃!\\nBonne chance à tous. 🍀🤞 \\nTirage au sort le 03/11.\\n#MerciFree https://t.co/jqYLnjZj8t', truncated=False, display_text_range=[0, 264], entities={'hashtags': [{'text': 'Concours', 'indices': [1, 10]}, {'text': 'SamsungGalaxyS20', 'indices': [96, 113]}, {'text': 'MerciFree', 'indices': [254, 264]}], 'symbols': [], 'user_mentions': [{'screen_name': 'free', 'name': 'Free', 'id': 252263949, 'id_str': '252263949', 'indices': [176, 181]}], 'urls': [], 'media': [{'id': 1321127973295149056, 'id_str': '1321127973295149056', 'indices': [265, 288], 'media_url': 'http://pbs.twimg.com/media/ElWW5F8W0AA8kmI.jpg', 'media_url_https': 'https://pbs.twimg.com/media/ElWW5F8W0AA8kmI.jpg', 'url': 'https://t.co/jqYLnjZj8t', 'display_url': 'pic.twitter.com/jqYLnjZj8t', 'expanded_url': 'https://twitter.com/free/status/1321466763024818182/photo/1', 'type': 'photo', 'sizes': {'thumb': {'w': 150, 'h': 150, 'resize': 'crop'}, 'large': {'w': 1200, 'h': 630, 'resize': 'fit'}, 'medium': {'w': 1200, 'h': 630, 'resize': 'fit'}, 'small': {'w': 680, 'h': 357, 'resize': 'fit'}}}]}, extended_entities={'media': [{'id': 1321127973295149056, 'id_str': '1321127973295149056', 'indices': [265, 288], 'media_url': 'http://pbs.twimg.com/media/ElWW5F8W0AA8kmI.jpg', 'media_url_https': 'https://pbs.twimg.com/media/ElWW5F8W0AA8kmI.jpg', 'url': 'https://t.co/jqYLnjZj8t', 'display_url': 'pic.twitter.com/jqYLnjZj8t', 'expanded_url': 'https://twitter.com/free/status/1321466763024818182/photo/1', 'type': 'photo', 'sizes': {'thumb': {'w': 150, 'h': 150, 'resize': 'crop'}, 'large': {'w': 1200, 'h': 630, 'resize': 'fit'}, 'medium': {'w': 1200, 'h': 630, 'resize': 'fit'}, 'small': {'w': 680, 'h': 357, 'resize': 'fit'}}}]}, source='Twitter Web App', source_url='https://mobile.twitter.com', in_reply_to_status_id=None, in_reply_to_status_id_str=None, in_reply_to_user_id=None, in_reply_to_user_id_str=None, in_reply_to_screen_name=None, author=User(_api=<tweepy.api.API object at 0x7f0051b7afd0>, _json={'id': 252263949, 'id_str': '252263949', 'name': 'Free', 'screen_name': 'free', 'location': 'Paris, France', 'description': \"Trublion des Télécoms en 🇫🇷 I Inventeur de la 1ère box triple-play au monde 🚀I Besoin d'assistance ? On est à votre service sur @Freebox & @freemobile 😉.\", 'url': 'https://t.co/7dCbDWrSaV', 'entities': {'url': {'urls': [{'url': 'https://t.co/7dCbDWrSaV', 'expanded_url': 'http://www.free.fr', 'display_url': 'free.fr', 'indices': [0, 23]}]}, 'description': {'urls': []}}, 'protected': False, 'followers_count': 144111, 'friends_count': 20, 'listed_count': 314, 'created_at': 'Mon Feb 14 20:59:20 +0000 2011', 'favourites_count': 981, 'utc_offset': None, 'time_zone': None, 'geo_enabled': False, 'verified': True, 'statuses_count': 1295, 'lang': None, 'contributors_enabled': False, 'is_translator': False, 'is_translation_enabled': False, 'profile_background_color': 'AFE185', 'profile_background_image_url': 'http://abs.twimg.com/images/themes/theme1/bg.png', 'profile_background_image_url_https': 'https://abs.twimg.com/images/themes/theme1/bg.png', 'profile_background_tile': False, 'profile_image_url': 'http://pbs.twimg.com/profile_images/1148152622689464320/HteOCi5n_normal.png', 'profile_image_url_https': 'https://pbs.twimg.com/profile_images/1148152622689464320/HteOCi5n_normal.png', 'profile_banner_url': 'https://pbs.twimg.com/profile_banners/252263949/1604419773', 'profile_link_color': 'ABB8C2', 'profile_sidebar_border_color': 'FFFFFF', 'profile_sidebar_fill_color': 'A3D977', 'profile_text_color': '333333', 'profile_use_background_image': False, 'has_extended_profile': True, 'default_profile': False, 'default_profile_image': False, 'following': False, 'follow_request_sent': False, 'notifications': False, 'translator_type': 'regular'}, id=252263949, id_str='252263949', name='Free', screen_name='free', location='Paris, France', description=\"Trublion des Télécoms en 🇫🇷 I Inventeur de la 1ère box triple-play au monde 🚀I Besoin d'assistance ? On est à votre service sur @Freebox & @freemobile 😉.\", url='https://t.co/7dCbDWrSaV', entities={'url': {'urls': [{'url': 'https://t.co/7dCbDWrSaV', 'expanded_url': 'http://www.free.fr', 'display_url': 'free.fr', 'indices': [0, 23]}]}, 'description': {'urls': []}}, protected=False, followers_count=144111, friends_count=20, listed_count=314, created_at=datetime.datetime(2011, 2, 14, 20, 59, 20), favourites_count=981, utc_offset=None, time_zone=None, geo_enabled=False, verified=True, statuses_count=1295, lang=None, contributors_enabled=False, is_translator=False, is_translation_enabled=False, profile_background_color='AFE185', profile_background_image_url='http://abs.twimg.com/images/themes/theme1/bg.png', profile_background_image_url_https='https://abs.twimg.com/images/themes/theme1/bg.png', profile_background_tile=False, profile_image_url='http://pbs.twimg.com/profile_images/1148152622689464320/HteOCi5n_normal.png', profile_image_url_https='https://pbs.twimg.com/profile_images/1148152622689464320/HteOCi5n_normal.png', profile_banner_url='https://pbs.twimg.com/profile_banners/252263949/1604419773', profile_link_color='ABB8C2', profile_sidebar_border_color='FFFFFF', profile_sidebar_fill_color='A3D977', profile_text_color='333333', profile_use_background_image=False, has_extended_profile=True, default_profile=False, default_profile_image=False, following=False, follow_request_sent=False, notifications=False, translator_type='regular'), user=User(_api=<tweepy.api.API object at 0x7f0051b7afd0>, _json={'id': 252263949, 'id_str': '252263949', 'name': 'Free', 'screen_name': 'free', 'location': 'Paris, France', 'description': \"Trublion des Télécoms en 🇫🇷 I Inventeur de la 1ère box triple-play au monde 🚀I Besoin d'assistance ? On est à votre service sur @Freebox & @freemobile 😉.\", 'url': 'https://t.co/7dCbDWrSaV', 'entities': {'url': {'urls': [{'url': 'https://t.co/7dCbDWrSaV', 'expanded_url': 'http://www.free.fr', 'display_url': 'free.fr', 'indices': [0, 23]}]}, 'description': {'urls': []}}, 'protected': False, 'followers_count': 144111, 'friends_count': 20, 'listed_count': 314, 'created_at': 'Mon Feb 14 20:59:20 +0000 2011', 'favourites_count': 981, 'utc_offset': None, 'time_zone': None, 'geo_enabled': False, 'verified': True, 'statuses_count': 1295, 'lang': None, 'contributors_enabled': False, 'is_translator': False, 'is_translation_enabled': False, 'profile_background_color': 'AFE185', 'profile_background_image_url': 'http://abs.twimg.com/images/themes/theme1/bg.png', 'profile_background_image_url_https': 'https://abs.twimg.com/images/themes/theme1/bg.png', 'profile_background_tile': False, 'profile_image_url': 'http://pbs.twimg.com/profile_images/1148152622689464320/HteOCi5n_normal.png', 'profile_image_url_https': 'https://pbs.twimg.com/profile_images/1148152622689464320/HteOCi5n_normal.png', 'profile_banner_url': 'https://pbs.twimg.com/profile_banners/252263949/1604419773', 'profile_link_color': 'ABB8C2', 'profile_sidebar_border_color': 'FFFFFF', 'profile_sidebar_fill_color': 'A3D977', 'profile_text_color': '333333', 'profile_use_background_image': False, 'has_extended_profile': True, 'default_profile': False, 'default_profile_image': False, 'following': False, 'follow_request_sent': False, 'notifications': False, 'translator_type': 'regular'}, id=252263949, id_str='252263949', name='Free', screen_name='free', location='Paris, France', description=\"Trublion des Télécoms en 🇫🇷 I Inventeur de la 1ère box triple-play au monde 🚀I Besoin d'assistance ? On est à votre service sur @Freebox & @freemobile 😉.\", url='https://t.co/7dCbDWrSaV', entities={'url': {'urls': [{'url': 'https://t.co/7dCbDWrSaV', 'expanded_url': 'http://www.free.fr', 'display_url': 'free.fr', 'indices': [0, 23]}]}, 'description': {'urls': []}}, protected=False, followers_count=144111, friends_count=20, listed_count=314, created_at=datetime.datetime(2011, 2, 14, 20, 59, 20), favourites_count=981, utc_offset=None, time_zone=None, geo_enabled=False, verified=True, statuses_count=1295, lang=None, contributors_enabled=False, is_translator=False, is_translation_enabled=False, profile_background_color='AFE185', profile_background_image_url='http://abs.twimg.com/images/themes/theme1/bg.png', profile_background_image_url_https='https://abs.twimg.com/images/themes/theme1/bg.png', profile_background_tile=False, profile_image_url='http://pbs.twimg.com/profile_images/1148152622689464320/HteOCi5n_normal.png', profile_image_url_https='https://pbs.twimg.com/profile_images/1148152622689464320/HteOCi5n_normal.png', profile_banner_url='https://pbs.twimg.com/profile_banners/252263949/1604419773', profile_link_color='ABB8C2', profile_sidebar_border_color='FFFFFF', profile_sidebar_fill_color='A3D977', profile_text_color='333333', profile_use_background_image=False, has_extended_profile=True, default_profile=False, default_profile_image=False, following=False, follow_request_sent=False, notifications=False, translator_type='regular'), geo=None, coordinates=None, place=None, contributors=None, is_quote_status=False, retweet_count=6801, favorite_count=3206, favorited=False, retweeted=False, possibly_sensitive=False, lang='fr'), retweet_count=0, favorite_count=0, favorited=False, retweeted=False, possibly_sensitive=False, lang='und'),\n",
       " Status(_api=<tweepy.api.API object at 0x7f0051b7afd0>, _json={'created_at': 'Thu Mar 21 18:20:12 +0000 2019', 'id': 1108795458871275521, 'id_str': '1108795458871275521', 'full_text': \"@Sosh_fr bonjour, j'ai la boite sosh pour internet et je suis intéressé par la promo sur le mobile.  il y a t'il une durée d'engagement durant l'année de promo  à 9€99?\", 'truncated': False, 'display_text_range': [0, 168], 'entities': {'hashtags': [], 'symbols': [], 'user_mentions': [{'screen_name': 'Sosh_fr', 'name': 'Sosh_fr', 'id': 338262255, 'id_str': '338262255', 'indices': [0, 8]}], 'urls': []}, 'source': '<a href=\"http://twitter.com\" rel=\"nofollow\">Twitter Web Client</a>', 'in_reply_to_status_id': None, 'in_reply_to_status_id_str': None, 'in_reply_to_user_id': 338262255, 'in_reply_to_user_id_str': '338262255', 'in_reply_to_screen_name': 'Sosh_fr', 'user': {'id': 3122198871, 'id_str': '3122198871', 'name': 'Jean-Luc Chevrier', 'screen_name': 'chevrier_luc', 'location': '', 'description': '', 'url': None, 'entities': {'description': {'urls': []}}, 'protected': False, 'followers_count': 1, 'friends_count': 20, 'listed_count': 0, 'created_at': 'Fri Mar 27 20:59:35 +0000 2015', 'favourites_count': 0, 'utc_offset': None, 'time_zone': None, 'geo_enabled': False, 'verified': False, 'statuses_count': 3, 'lang': None, 'contributors_enabled': False, 'is_translator': False, 'is_translation_enabled': False, 'profile_background_color': 'C0DEED', 'profile_background_image_url': 'http://abs.twimg.com/images/themes/theme1/bg.png', 'profile_background_image_url_https': 'https://abs.twimg.com/images/themes/theme1/bg.png', 'profile_background_tile': False, 'profile_image_url': 'http://pbs.twimg.com/profile_images/581562440795705344/FkFmAxLQ_normal.jpg', 'profile_image_url_https': 'https://pbs.twimg.com/profile_images/581562440795705344/FkFmAxLQ_normal.jpg', 'profile_link_color': '1DA1F2', 'profile_sidebar_border_color': 'C0DEED', 'profile_sidebar_fill_color': 'DDEEF6', 'profile_text_color': '333333', 'profile_use_background_image': True, 'has_extended_profile': False, 'default_profile': True, 'default_profile_image': False, 'following': False, 'follow_request_sent': False, 'notifications': False, 'translator_type': 'none'}, 'geo': None, 'coordinates': None, 'place': None, 'contributors': None, 'is_quote_status': False, 'retweet_count': 0, 'favorite_count': 0, 'favorited': False, 'retweeted': False, 'lang': 'fr'}, created_at=datetime.datetime(2019, 3, 21, 18, 20, 12), id=1108795458871275521, id_str='1108795458871275521', full_text=\"@Sosh_fr bonjour, j'ai la boite sosh pour internet et je suis intéressé par la promo sur le mobile.  il y a t'il une durée d'engagement durant l'année de promo  à 9€99?\", truncated=False, display_text_range=[0, 168], entities={'hashtags': [], 'symbols': [], 'user_mentions': [{'screen_name': 'Sosh_fr', 'name': 'Sosh_fr', 'id': 338262255, 'id_str': '338262255', 'indices': [0, 8]}], 'urls': []}, source='Twitter Web Client', source_url='http://twitter.com', in_reply_to_status_id=None, in_reply_to_status_id_str=None, in_reply_to_user_id=338262255, in_reply_to_user_id_str='338262255', in_reply_to_screen_name='Sosh_fr', author=User(_api=<tweepy.api.API object at 0x7f0051b7afd0>, _json={'id': 3122198871, 'id_str': '3122198871', 'name': 'Jean-Luc Chevrier', 'screen_name': 'chevrier_luc', 'location': '', 'description': '', 'url': None, 'entities': {'description': {'urls': []}}, 'protected': False, 'followers_count': 1, 'friends_count': 20, 'listed_count': 0, 'created_at': 'Fri Mar 27 20:59:35 +0000 2015', 'favourites_count': 0, 'utc_offset': None, 'time_zone': None, 'geo_enabled': False, 'verified': False, 'statuses_count': 3, 'lang': None, 'contributors_enabled': False, 'is_translator': False, 'is_translation_enabled': False, 'profile_background_color': 'C0DEED', 'profile_background_image_url': 'http://abs.twimg.com/images/themes/theme1/bg.png', 'profile_background_image_url_https': 'https://abs.twimg.com/images/themes/theme1/bg.png', 'profile_background_tile': False, 'profile_image_url': 'http://pbs.twimg.com/profile_images/581562440795705344/FkFmAxLQ_normal.jpg', 'profile_image_url_https': 'https://pbs.twimg.com/profile_images/581562440795705344/FkFmAxLQ_normal.jpg', 'profile_link_color': '1DA1F2', 'profile_sidebar_border_color': 'C0DEED', 'profile_sidebar_fill_color': 'DDEEF6', 'profile_text_color': '333333', 'profile_use_background_image': True, 'has_extended_profile': False, 'default_profile': True, 'default_profile_image': False, 'following': False, 'follow_request_sent': False, 'notifications': False, 'translator_type': 'none'}, id=3122198871, id_str='3122198871', name='Jean-Luc Chevrier', screen_name='chevrier_luc', location='', description='', url=None, entities={'description': {'urls': []}}, protected=False, followers_count=1, friends_count=20, listed_count=0, created_at=datetime.datetime(2015, 3, 27, 20, 59, 35), favourites_count=0, utc_offset=None, time_zone=None, geo_enabled=False, verified=False, statuses_count=3, lang=None, contributors_enabled=False, is_translator=False, is_translation_enabled=False, profile_background_color='C0DEED', profile_background_image_url='http://abs.twimg.com/images/themes/theme1/bg.png', profile_background_image_url_https='https://abs.twimg.com/images/themes/theme1/bg.png', profile_background_tile=False, profile_image_url='http://pbs.twimg.com/profile_images/581562440795705344/FkFmAxLQ_normal.jpg', profile_image_url_https='https://pbs.twimg.com/profile_images/581562440795705344/FkFmAxLQ_normal.jpg', profile_link_color='1DA1F2', profile_sidebar_border_color='C0DEED', profile_sidebar_fill_color='DDEEF6', profile_text_color='333333', profile_use_background_image=True, has_extended_profile=False, default_profile=True, default_profile_image=False, following=False, follow_request_sent=False, notifications=False, translator_type='none'), user=User(_api=<tweepy.api.API object at 0x7f0051b7afd0>, _json={'id': 3122198871, 'id_str': '3122198871', 'name': 'Jean-Luc Chevrier', 'screen_name': 'chevrier_luc', 'location': '', 'description': '', 'url': None, 'entities': {'description': {'urls': []}}, 'protected': False, 'followers_count': 1, 'friends_count': 20, 'listed_count': 0, 'created_at': 'Fri Mar 27 20:59:35 +0000 2015', 'favourites_count': 0, 'utc_offset': None, 'time_zone': None, 'geo_enabled': False, 'verified': False, 'statuses_count': 3, 'lang': None, 'contributors_enabled': False, 'is_translator': False, 'is_translation_enabled': False, 'profile_background_color': 'C0DEED', 'profile_background_image_url': 'http://abs.twimg.com/images/themes/theme1/bg.png', 'profile_background_image_url_https': 'https://abs.twimg.com/images/themes/theme1/bg.png', 'profile_background_tile': False, 'profile_image_url': 'http://pbs.twimg.com/profile_images/581562440795705344/FkFmAxLQ_normal.jpg', 'profile_image_url_https': 'https://pbs.twimg.com/profile_images/581562440795705344/FkFmAxLQ_normal.jpg', 'profile_link_color': '1DA1F2', 'profile_sidebar_border_color': 'C0DEED', 'profile_sidebar_fill_color': 'DDEEF6', 'profile_text_color': '333333', 'profile_use_background_image': True, 'has_extended_profile': False, 'default_profile': True, 'default_profile_image': False, 'following': False, 'follow_request_sent': False, 'notifications': False, 'translator_type': 'none'}, id=3122198871, id_str='3122198871', name='Jean-Luc Chevrier', screen_name='chevrier_luc', location='', description='', url=None, entities={'description': {'urls': []}}, protected=False, followers_count=1, friends_count=20, listed_count=0, created_at=datetime.datetime(2015, 3, 27, 20, 59, 35), favourites_count=0, utc_offset=None, time_zone=None, geo_enabled=False, verified=False, statuses_count=3, lang=None, contributors_enabled=False, is_translator=False, is_translation_enabled=False, profile_background_color='C0DEED', profile_background_image_url='http://abs.twimg.com/images/themes/theme1/bg.png', profile_background_image_url_https='https://abs.twimg.com/images/themes/theme1/bg.png', profile_background_tile=False, profile_image_url='http://pbs.twimg.com/profile_images/581562440795705344/FkFmAxLQ_normal.jpg', profile_image_url_https='https://pbs.twimg.com/profile_images/581562440795705344/FkFmAxLQ_normal.jpg', profile_link_color='1DA1F2', profile_sidebar_border_color='C0DEED', profile_sidebar_fill_color='DDEEF6', profile_text_color='333333', profile_use_background_image=True, has_extended_profile=False, default_profile=True, default_profile_image=False, following=False, follow_request_sent=False, notifications=False, translator_type='none'), geo=None, coordinates=None, place=None, contributors=None, is_quote_status=False, retweet_count=0, favorite_count=0, favorited=False, retweeted=False, lang='fr'),\n",
       " Status(_api=<tweepy.api.API object at 0x7f0051b7afd0>, _json={'created_at': 'Sun Nov 22 07:11:19 +0000 2020', 'id': 1330408503807258624, 'id_str': '1330408503807258624', 'full_text': '@amelanovela No cuela tu intento de dividir que pena', 'truncated': False, 'display_text_range': [13, 52], 'entities': {'hashtags': [], 'symbols': [], 'user_mentions': [{'screen_name': 'amelanovela', 'name': 'VÍCTOR AMELA', 'id': 4870500915, 'id_str': '4870500915', 'indices': [0, 12]}], 'urls': []}, 'source': '<a href=\"http://twitter.com/download/android\" rel=\"nofollow\">Twitter for Android</a>', 'in_reply_to_status_id': 1327669162102169607, 'in_reply_to_status_id_str': '1327669162102169607', 'in_reply_to_user_id': 4870500915, 'in_reply_to_user_id_str': '4870500915', 'in_reply_to_screen_name': 'amelanovela', 'user': {'id': 300340896, 'id_str': '300340896', 'name': 'luigi', 'screen_name': 'luigissssss', 'location': '', 'description': '', 'url': None, 'entities': {'description': {'urls': []}}, 'protected': False, 'followers_count': 29, 'friends_count': 405, 'listed_count': 0, 'created_at': 'Tue May 17 16:10:46 +0000 2011', 'favourites_count': 19, 'utc_offset': None, 'time_zone': None, 'geo_enabled': False, 'verified': False, 'statuses_count': 199, 'lang': None, 'contributors_enabled': False, 'is_translator': False, 'is_translation_enabled': False, 'profile_background_color': 'C0DEED', 'profile_background_image_url': 'http://abs.twimg.com/images/themes/theme1/bg.png', 'profile_background_image_url_https': 'https://abs.twimg.com/images/themes/theme1/bg.png', 'profile_background_tile': False, 'profile_image_url': 'http://pbs.twimg.com/profile_images/1050122652554338304/3Lio762z_normal.jpg', 'profile_image_url_https': 'https://pbs.twimg.com/profile_images/1050122652554338304/3Lio762z_normal.jpg', 'profile_link_color': '1DA1F2', 'profile_sidebar_border_color': 'C0DEED', 'profile_sidebar_fill_color': 'DDEEF6', 'profile_text_color': '333333', 'profile_use_background_image': True, 'has_extended_profile': False, 'default_profile': True, 'default_profile_image': False, 'following': False, 'follow_request_sent': False, 'notifications': False, 'translator_type': 'none'}, 'geo': None, 'coordinates': None, 'place': None, 'contributors': None, 'is_quote_status': False, 'retweet_count': 0, 'favorite_count': 0, 'favorited': False, 'retweeted': False, 'lang': 'es'}, created_at=datetime.datetime(2020, 11, 22, 7, 11, 19), id=1330408503807258624, id_str='1330408503807258624', full_text='@amelanovela No cuela tu intento de dividir que pena', truncated=False, display_text_range=[13, 52], entities={'hashtags': [], 'symbols': [], 'user_mentions': [{'screen_name': 'amelanovela', 'name': 'VÍCTOR AMELA', 'id': 4870500915, 'id_str': '4870500915', 'indices': [0, 12]}], 'urls': []}, source='Twitter for Android', source_url='http://twitter.com/download/android', in_reply_to_status_id=1327669162102169607, in_reply_to_status_id_str='1327669162102169607', in_reply_to_user_id=4870500915, in_reply_to_user_id_str='4870500915', in_reply_to_screen_name='amelanovela', author=User(_api=<tweepy.api.API object at 0x7f0051b7afd0>, _json={'id': 300340896, 'id_str': '300340896', 'name': 'luigi', 'screen_name': 'luigissssss', 'location': '', 'description': '', 'url': None, 'entities': {'description': {'urls': []}}, 'protected': False, 'followers_count': 29, 'friends_count': 405, 'listed_count': 0, 'created_at': 'Tue May 17 16:10:46 +0000 2011', 'favourites_count': 19, 'utc_offset': None, 'time_zone': None, 'geo_enabled': False, 'verified': False, 'statuses_count': 199, 'lang': None, 'contributors_enabled': False, 'is_translator': False, 'is_translation_enabled': False, 'profile_background_color': 'C0DEED', 'profile_background_image_url': 'http://abs.twimg.com/images/themes/theme1/bg.png', 'profile_background_image_url_https': 'https://abs.twimg.com/images/themes/theme1/bg.png', 'profile_background_tile': False, 'profile_image_url': 'http://pbs.twimg.com/profile_images/1050122652554338304/3Lio762z_normal.jpg', 'profile_image_url_https': 'https://pbs.twimg.com/profile_images/1050122652554338304/3Lio762z_normal.jpg', 'profile_link_color': '1DA1F2', 'profile_sidebar_border_color': 'C0DEED', 'profile_sidebar_fill_color': 'DDEEF6', 'profile_text_color': '333333', 'profile_use_background_image': True, 'has_extended_profile': False, 'default_profile': True, 'default_profile_image': False, 'following': False, 'follow_request_sent': False, 'notifications': False, 'translator_type': 'none'}, id=300340896, id_str='300340896', name='luigi', screen_name='luigissssss', location='', description='', url=None, entities={'description': {'urls': []}}, protected=False, followers_count=29, friends_count=405, listed_count=0, created_at=datetime.datetime(2011, 5, 17, 16, 10, 46), favourites_count=19, utc_offset=None, time_zone=None, geo_enabled=False, verified=False, statuses_count=199, lang=None, contributors_enabled=False, is_translator=False, is_translation_enabled=False, profile_background_color='C0DEED', profile_background_image_url='http://abs.twimg.com/images/themes/theme1/bg.png', profile_background_image_url_https='https://abs.twimg.com/images/themes/theme1/bg.png', profile_background_tile=False, profile_image_url='http://pbs.twimg.com/profile_images/1050122652554338304/3Lio762z_normal.jpg', profile_image_url_https='https://pbs.twimg.com/profile_images/1050122652554338304/3Lio762z_normal.jpg', profile_link_color='1DA1F2', profile_sidebar_border_color='C0DEED', profile_sidebar_fill_color='DDEEF6', profile_text_color='333333', profile_use_background_image=True, has_extended_profile=False, default_profile=True, default_profile_image=False, following=False, follow_request_sent=False, notifications=False, translator_type='none'), user=User(_api=<tweepy.api.API object at 0x7f0051b7afd0>, _json={'id': 300340896, 'id_str': '300340896', 'name': 'luigi', 'screen_name': 'luigissssss', 'location': '', 'description': '', 'url': None, 'entities': {'description': {'urls': []}}, 'protected': False, 'followers_count': 29, 'friends_count': 405, 'listed_count': 0, 'created_at': 'Tue May 17 16:10:46 +0000 2011', 'favourites_count': 19, 'utc_offset': None, 'time_zone': None, 'geo_enabled': False, 'verified': False, 'statuses_count': 199, 'lang': None, 'contributors_enabled': False, 'is_translator': False, 'is_translation_enabled': False, 'profile_background_color': 'C0DEED', 'profile_background_image_url': 'http://abs.twimg.com/images/themes/theme1/bg.png', 'profile_background_image_url_https': 'https://abs.twimg.com/images/themes/theme1/bg.png', 'profile_background_tile': False, 'profile_image_url': 'http://pbs.twimg.com/profile_images/1050122652554338304/3Lio762z_normal.jpg', 'profile_image_url_https': 'https://pbs.twimg.com/profile_images/1050122652554338304/3Lio762z_normal.jpg', 'profile_link_color': '1DA1F2', 'profile_sidebar_border_color': 'C0DEED', 'profile_sidebar_fill_color': 'DDEEF6', 'profile_text_color': '333333', 'profile_use_background_image': True, 'has_extended_profile': False, 'default_profile': True, 'default_profile_image': False, 'following': False, 'follow_request_sent': False, 'notifications': False, 'translator_type': 'none'}, id=300340896, id_str='300340896', name='luigi', screen_name='luigissssss', location='', description='', url=None, entities={'description': {'urls': []}}, protected=False, followers_count=29, friends_count=405, listed_count=0, created_at=datetime.datetime(2011, 5, 17, 16, 10, 46), favourites_count=19, utc_offset=None, time_zone=None, geo_enabled=False, verified=False, statuses_count=199, lang=None, contributors_enabled=False, is_translator=False, is_translation_enabled=False, profile_background_color='C0DEED', profile_background_image_url='http://abs.twimg.com/images/themes/theme1/bg.png', profile_background_image_url_https='https://abs.twimg.com/images/themes/theme1/bg.png', profile_background_tile=False, profile_image_url='http://pbs.twimg.com/profile_images/1050122652554338304/3Lio762z_normal.jpg', profile_image_url_https='https://pbs.twimg.com/profile_images/1050122652554338304/3Lio762z_normal.jpg', profile_link_color='1DA1F2', profile_sidebar_border_color='C0DEED', profile_sidebar_fill_color='DDEEF6', profile_text_color='333333', profile_use_background_image=True, has_extended_profile=False, default_profile=True, default_profile_image=False, following=False, follow_request_sent=False, notifications=False, translator_type='none'), geo=None, coordinates=None, place=None, contributors=None, is_quote_status=False, retweet_count=0, favorite_count=0, favorited=False, retweeted=False, lang='es'),\n",
       " Status(_api=<tweepy.api.API object at 0x7f0051b7afd0>, _json={'created_at': 'Sun Aug 30 17:07:30 +0000 2020', 'id': 1300117957998239745, 'id_str': '1300117957998239745', 'full_text': '@Aj_Sabadell son abelles asiatiques, penso que son perilloses, si m.envieu un privat us dono el meu contacte https://t.co/mBwKSt8JbQ', 'truncated': False, 'display_text_range': [0, 108], 'entities': {'hashtags': [], 'symbols': [], 'user_mentions': [{'screen_name': 'Aj_Sabadell', 'name': 'Ajuntament Sabadell', 'id': 186396482, 'id_str': '186396482', 'indices': [0, 12]}], 'urls': [], 'media': [{'id': 1300117948309405696, 'id_str': '1300117948309405696', 'indices': [109, 132], 'media_url': 'http://pbs.twimg.com/media/EgryYrsXgAAY859.jpg', 'media_url_https': 'https://pbs.twimg.com/media/EgryYrsXgAAY859.jpg', 'url': 'https://t.co/mBwKSt8JbQ', 'display_url': 'pic.twitter.com/mBwKSt8JbQ', 'expanded_url': 'https://twitter.com/luigissssss/status/1300117957998239745/photo/1', 'type': 'photo', 'sizes': {'thumb': {'w': 150, 'h': 150, 'resize': 'crop'}, 'medium': {'w': 900, 'h': 1200, 'resize': 'fit'}, 'large': {'w': 1536, 'h': 2048, 'resize': 'fit'}, 'small': {'w': 510, 'h': 680, 'resize': 'fit'}}}]}, 'extended_entities': {'media': [{'id': 1300117948309405696, 'id_str': '1300117948309405696', 'indices': [109, 132], 'media_url': 'http://pbs.twimg.com/media/EgryYrsXgAAY859.jpg', 'media_url_https': 'https://pbs.twimg.com/media/EgryYrsXgAAY859.jpg', 'url': 'https://t.co/mBwKSt8JbQ', 'display_url': 'pic.twitter.com/mBwKSt8JbQ', 'expanded_url': 'https://twitter.com/luigissssss/status/1300117957998239745/photo/1', 'type': 'photo', 'sizes': {'thumb': {'w': 150, 'h': 150, 'resize': 'crop'}, 'medium': {'w': 900, 'h': 1200, 'resize': 'fit'}, 'large': {'w': 1536, 'h': 2048, 'resize': 'fit'}, 'small': {'w': 510, 'h': 680, 'resize': 'fit'}}}, {'id': 1300117953866805248, 'id_str': '1300117953866805248', 'indices': [109, 132], 'media_url': 'http://pbs.twimg.com/media/EgryZAZWsAAyKba.jpg', 'media_url_https': 'https://pbs.twimg.com/media/EgryZAZWsAAyKba.jpg', 'url': 'https://t.co/mBwKSt8JbQ', 'display_url': 'pic.twitter.com/mBwKSt8JbQ', 'expanded_url': 'https://twitter.com/luigissssss/status/1300117957998239745/photo/1', 'type': 'photo', 'sizes': {'thumb': {'w': 150, 'h': 150, 'resize': 'crop'}, 'small': {'w': 510, 'h': 680, 'resize': 'fit'}, 'large': {'w': 1536, 'h': 2048, 'resize': 'fit'}, 'medium': {'w': 900, 'h': 1200, 'resize': 'fit'}}}]}, 'source': '<a href=\"http://twitter.com/download/android\" rel=\"nofollow\">Twitter for Android</a>', 'in_reply_to_status_id': None, 'in_reply_to_status_id_str': None, 'in_reply_to_user_id': 186396482, 'in_reply_to_user_id_str': '186396482', 'in_reply_to_screen_name': 'Aj_Sabadell', 'user': {'id': 300340896, 'id_str': '300340896', 'name': 'luigi', 'screen_name': 'luigissssss', 'location': '', 'description': '', 'url': None, 'entities': {'description': {'urls': []}}, 'protected': False, 'followers_count': 29, 'friends_count': 405, 'listed_count': 0, 'created_at': 'Tue May 17 16:10:46 +0000 2011', 'favourites_count': 19, 'utc_offset': None, 'time_zone': None, 'geo_enabled': False, 'verified': False, 'statuses_count': 199, 'lang': None, 'contributors_enabled': False, 'is_translator': False, 'is_translation_enabled': False, 'profile_background_color': 'C0DEED', 'profile_background_image_url': 'http://abs.twimg.com/images/themes/theme1/bg.png', 'profile_background_image_url_https': 'https://abs.twimg.com/images/themes/theme1/bg.png', 'profile_background_tile': False, 'profile_image_url': 'http://pbs.twimg.com/profile_images/1050122652554338304/3Lio762z_normal.jpg', 'profile_image_url_https': 'https://pbs.twimg.com/profile_images/1050122652554338304/3Lio762z_normal.jpg', 'profile_link_color': '1DA1F2', 'profile_sidebar_border_color': 'C0DEED', 'profile_sidebar_fill_color': 'DDEEF6', 'profile_text_color': '333333', 'profile_use_background_image': True, 'has_extended_profile': False, 'default_profile': True, 'default_profile_image': False, 'following': False, 'follow_request_sent': False, 'notifications': False, 'translator_type': 'none'}, 'geo': None, 'coordinates': None, 'place': None, 'contributors': None, 'is_quote_status': False, 'retweet_count': 0, 'favorite_count': 0, 'favorited': False, 'retweeted': False, 'possibly_sensitive': False, 'lang': 'fr'}, created_at=datetime.datetime(2020, 8, 30, 17, 7, 30), id=1300117957998239745, id_str='1300117957998239745', full_text='@Aj_Sabadell son abelles asiatiques, penso que son perilloses, si m.envieu un privat us dono el meu contacte https://t.co/mBwKSt8JbQ', truncated=False, display_text_range=[0, 108], entities={'hashtags': [], 'symbols': [], 'user_mentions': [{'screen_name': 'Aj_Sabadell', 'name': 'Ajuntament Sabadell', 'id': 186396482, 'id_str': '186396482', 'indices': [0, 12]}], 'urls': [], 'media': [{'id': 1300117948309405696, 'id_str': '1300117948309405696', 'indices': [109, 132], 'media_url': 'http://pbs.twimg.com/media/EgryYrsXgAAY859.jpg', 'media_url_https': 'https://pbs.twimg.com/media/EgryYrsXgAAY859.jpg', 'url': 'https://t.co/mBwKSt8JbQ', 'display_url': 'pic.twitter.com/mBwKSt8JbQ', 'expanded_url': 'https://twitter.com/luigissssss/status/1300117957998239745/photo/1', 'type': 'photo', 'sizes': {'thumb': {'w': 150, 'h': 150, 'resize': 'crop'}, 'medium': {'w': 900, 'h': 1200, 'resize': 'fit'}, 'large': {'w': 1536, 'h': 2048, 'resize': 'fit'}, 'small': {'w': 510, 'h': 680, 'resize': 'fit'}}}]}, extended_entities={'media': [{'id': 1300117948309405696, 'id_str': '1300117948309405696', 'indices': [109, 132], 'media_url': 'http://pbs.twimg.com/media/EgryYrsXgAAY859.jpg', 'media_url_https': 'https://pbs.twimg.com/media/EgryYrsXgAAY859.jpg', 'url': 'https://t.co/mBwKSt8JbQ', 'display_url': 'pic.twitter.com/mBwKSt8JbQ', 'expanded_url': 'https://twitter.com/luigissssss/status/1300117957998239745/photo/1', 'type': 'photo', 'sizes': {'thumb': {'w': 150, 'h': 150, 'resize': 'crop'}, 'medium': {'w': 900, 'h': 1200, 'resize': 'fit'}, 'large': {'w': 1536, 'h': 2048, 'resize': 'fit'}, 'small': {'w': 510, 'h': 680, 'resize': 'fit'}}}, {'id': 1300117953866805248, 'id_str': '1300117953866805248', 'indices': [109, 132], 'media_url': 'http://pbs.twimg.com/media/EgryZAZWsAAyKba.jpg', 'media_url_https': 'https://pbs.twimg.com/media/EgryZAZWsAAyKba.jpg', 'url': 'https://t.co/mBwKSt8JbQ', 'display_url': 'pic.twitter.com/mBwKSt8JbQ', 'expanded_url': 'https://twitter.com/luigissssss/status/1300117957998239745/photo/1', 'type': 'photo', 'sizes': {'thumb': {'w': 150, 'h': 150, 'resize': 'crop'}, 'small': {'w': 510, 'h': 680, 'resize': 'fit'}, 'large': {'w': 1536, 'h': 2048, 'resize': 'fit'}, 'medium': {'w': 900, 'h': 1200, 'resize': 'fit'}}}]}, source='Twitter for Android', source_url='http://twitter.com/download/android', in_reply_to_status_id=None, in_reply_to_status_id_str=None, in_reply_to_user_id=186396482, in_reply_to_user_id_str='186396482', in_reply_to_screen_name='Aj_Sabadell', author=User(_api=<tweepy.api.API object at 0x7f0051b7afd0>, _json={'id': 300340896, 'id_str': '300340896', 'name': 'luigi', 'screen_name': 'luigissssss', 'location': '', 'description': '', 'url': None, 'entities': {'description': {'urls': []}}, 'protected': False, 'followers_count': 29, 'friends_count': 405, 'listed_count': 0, 'created_at': 'Tue May 17 16:10:46 +0000 2011', 'favourites_count': 19, 'utc_offset': None, 'time_zone': None, 'geo_enabled': False, 'verified': False, 'statuses_count': 199, 'lang': None, 'contributors_enabled': False, 'is_translator': False, 'is_translation_enabled': False, 'profile_background_color': 'C0DEED', 'profile_background_image_url': 'http://abs.twimg.com/images/themes/theme1/bg.png', 'profile_background_image_url_https': 'https://abs.twimg.com/images/themes/theme1/bg.png', 'profile_background_tile': False, 'profile_image_url': 'http://pbs.twimg.com/profile_images/1050122652554338304/3Lio762z_normal.jpg', 'profile_image_url_https': 'https://pbs.twimg.com/profile_images/1050122652554338304/3Lio762z_normal.jpg', 'profile_link_color': '1DA1F2', 'profile_sidebar_border_color': 'C0DEED', 'profile_sidebar_fill_color': 'DDEEF6', 'profile_text_color': '333333', 'profile_use_background_image': True, 'has_extended_profile': False, 'default_profile': True, 'default_profile_image': False, 'following': False, 'follow_request_sent': False, 'notifications': False, 'translator_type': 'none'}, id=300340896, id_str='300340896', name='luigi', screen_name='luigissssss', location='', description='', url=None, entities={'description': {'urls': []}}, protected=False, followers_count=29, friends_count=405, listed_count=0, created_at=datetime.datetime(2011, 5, 17, 16, 10, 46), favourites_count=19, utc_offset=None, time_zone=None, geo_enabled=False, verified=False, statuses_count=199, lang=None, contributors_enabled=False, is_translator=False, is_translation_enabled=False, profile_background_color='C0DEED', profile_background_image_url='http://abs.twimg.com/images/themes/theme1/bg.png', profile_background_image_url_https='https://abs.twimg.com/images/themes/theme1/bg.png', profile_background_tile=False, profile_image_url='http://pbs.twimg.com/profile_images/1050122652554338304/3Lio762z_normal.jpg', profile_image_url_https='https://pbs.twimg.com/profile_images/1050122652554338304/3Lio762z_normal.jpg', profile_link_color='1DA1F2', profile_sidebar_border_color='C0DEED', profile_sidebar_fill_color='DDEEF6', profile_text_color='333333', profile_use_background_image=True, has_extended_profile=False, default_profile=True, default_profile_image=False, following=False, follow_request_sent=False, notifications=False, translator_type='none'), user=User(_api=<tweepy.api.API object at 0x7f0051b7afd0>, _json={'id': 300340896, 'id_str': '300340896', 'name': 'luigi', 'screen_name': 'luigissssss', 'location': '', 'description': '', 'url': None, 'entities': {'description': {'urls': []}}, 'protected': False, 'followers_count': 29, 'friends_count': 405, 'listed_count': 0, 'created_at': 'Tue May 17 16:10:46 +0000 2011', 'favourites_count': 19, 'utc_offset': None, 'time_zone': None, 'geo_enabled': False, 'verified': False, 'statuses_count': 199, 'lang': None, 'contributors_enabled': False, 'is_translator': False, 'is_translation_enabled': False, 'profile_background_color': 'C0DEED', 'profile_background_image_url': 'http://abs.twimg.com/images/themes/theme1/bg.png', 'profile_background_image_url_https': 'https://abs.twimg.com/images/themes/theme1/bg.png', 'profile_background_tile': False, 'profile_image_url': 'http://pbs.twimg.com/profile_images/1050122652554338304/3Lio762z_normal.jpg', 'profile_image_url_https': 'https://pbs.twimg.com/profile_images/1050122652554338304/3Lio762z_normal.jpg', 'profile_link_color': '1DA1F2', 'profile_sidebar_border_color': 'C0DEED', 'profile_sidebar_fill_color': 'DDEEF6', 'profile_text_color': '333333', 'profile_use_background_image': True, 'has_extended_profile': False, 'default_profile': True, 'default_profile_image': False, 'following': False, 'follow_request_sent': False, 'notifications': False, 'translator_type': 'none'}, id=300340896, id_str='300340896', name='luigi', screen_name='luigissssss', location='', description='', url=None, entities={'description': {'urls': []}}, protected=False, followers_count=29, friends_count=405, listed_count=0, created_at=datetime.datetime(2011, 5, 17, 16, 10, 46), favourites_count=19, utc_offset=None, time_zone=None, geo_enabled=False, verified=False, statuses_count=199, lang=None, contributors_enabled=False, is_translator=False, is_translation_enabled=False, profile_background_color='C0DEED', profile_background_image_url='http://abs.twimg.com/images/themes/theme1/bg.png', profile_background_image_url_https='https://abs.twimg.com/images/themes/theme1/bg.png', profile_background_tile=False, profile_image_url='http://pbs.twimg.com/profile_images/1050122652554338304/3Lio762z_normal.jpg', profile_image_url_https='https://pbs.twimg.com/profile_images/1050122652554338304/3Lio762z_normal.jpg', profile_link_color='1DA1F2', profile_sidebar_border_color='C0DEED', profile_sidebar_fill_color='DDEEF6', profile_text_color='333333', profile_use_background_image=True, has_extended_profile=False, default_profile=True, default_profile_image=False, following=False, follow_request_sent=False, notifications=False, translator_type='none'), geo=None, coordinates=None, place=None, contributors=None, is_quote_status=False, retweet_count=0, favorite_count=0, favorited=False, retweeted=False, possibly_sensitive=False, lang='fr'),\n",
       " Status(_api=<tweepy.api.API object at 0x7f0051b7afd0>, _json={'created_at': 'Wed Jul 22 11:28:09 +0000 2020', 'id': 1285899429636198401, 'id_str': '1285899429636198401', 'full_text': '@Albert_Rivera ponte a currar coño!!!', 'truncated': False, 'display_text_range': [15, 37], 'entities': {'hashtags': [], 'symbols': [], 'user_mentions': [{'screen_name': 'Albert_Rivera', 'name': 'Albert Rivera', 'id': 108994652, 'id_str': '108994652', 'indices': [0, 14]}], 'urls': []}, 'source': '<a href=\"http://twitter.com/download/android\" rel=\"nofollow\">Twitter for Android</a>', 'in_reply_to_status_id': 1285852826250485760, 'in_reply_to_status_id_str': '1285852826250485760', 'in_reply_to_user_id': 108994652, 'in_reply_to_user_id_str': '108994652', 'in_reply_to_screen_name': 'Albert_Rivera', 'user': {'id': 300340896, 'id_str': '300340896', 'name': 'luigi', 'screen_name': 'luigissssss', 'location': '', 'description': '', 'url': None, 'entities': {'description': {'urls': []}}, 'protected': False, 'followers_count': 29, 'friends_count': 405, 'listed_count': 0, 'created_at': 'Tue May 17 16:10:46 +0000 2011', 'favourites_count': 19, 'utc_offset': None, 'time_zone': None, 'geo_enabled': False, 'verified': False, 'statuses_count': 199, 'lang': None, 'contributors_enabled': False, 'is_translator': False, 'is_translation_enabled': False, 'profile_background_color': 'C0DEED', 'profile_background_image_url': 'http://abs.twimg.com/images/themes/theme1/bg.png', 'profile_background_image_url_https': 'https://abs.twimg.com/images/themes/theme1/bg.png', 'profile_background_tile': False, 'profile_image_url': 'http://pbs.twimg.com/profile_images/1050122652554338304/3Lio762z_normal.jpg', 'profile_image_url_https': 'https://pbs.twimg.com/profile_images/1050122652554338304/3Lio762z_normal.jpg', 'profile_link_color': '1DA1F2', 'profile_sidebar_border_color': 'C0DEED', 'profile_sidebar_fill_color': 'DDEEF6', 'profile_text_color': '333333', 'profile_use_background_image': True, 'has_extended_profile': False, 'default_profile': True, 'default_profile_image': False, 'following': False, 'follow_request_sent': False, 'notifications': False, 'translator_type': 'none'}, 'geo': None, 'coordinates': None, 'place': None, 'contributors': None, 'is_quote_status': False, 'retweet_count': 0, 'favorite_count': 0, 'favorited': False, 'retweeted': False, 'lang': 'es'}, created_at=datetime.datetime(2020, 7, 22, 11, 28, 9), id=1285899429636198401, id_str='1285899429636198401', full_text='@Albert_Rivera ponte a currar coño!!!', truncated=False, display_text_range=[15, 37], entities={'hashtags': [], 'symbols': [], 'user_mentions': [{'screen_name': 'Albert_Rivera', 'name': 'Albert Rivera', 'id': 108994652, 'id_str': '108994652', 'indices': [0, 14]}], 'urls': []}, source='Twitter for Android', source_url='http://twitter.com/download/android', in_reply_to_status_id=1285852826250485760, in_reply_to_status_id_str='1285852826250485760', in_reply_to_user_id=108994652, in_reply_to_user_id_str='108994652', in_reply_to_screen_name='Albert_Rivera', author=User(_api=<tweepy.api.API object at 0x7f0051b7afd0>, _json={'id': 300340896, 'id_str': '300340896', 'name': 'luigi', 'screen_name': 'luigissssss', 'location': '', 'description': '', 'url': None, 'entities': {'description': {'urls': []}}, 'protected': False, 'followers_count': 29, 'friends_count': 405, 'listed_count': 0, 'created_at': 'Tue May 17 16:10:46 +0000 2011', 'favourites_count': 19, 'utc_offset': None, 'time_zone': None, 'geo_enabled': False, 'verified': False, 'statuses_count': 199, 'lang': None, 'contributors_enabled': False, 'is_translator': False, 'is_translation_enabled': False, 'profile_background_color': 'C0DEED', 'profile_background_image_url': 'http://abs.twimg.com/images/themes/theme1/bg.png', 'profile_background_image_url_https': 'https://abs.twimg.com/images/themes/theme1/bg.png', 'profile_background_tile': False, 'profile_image_url': 'http://pbs.twimg.com/profile_images/1050122652554338304/3Lio762z_normal.jpg', 'profile_image_url_https': 'https://pbs.twimg.com/profile_images/1050122652554338304/3Lio762z_normal.jpg', 'profile_link_color': '1DA1F2', 'profile_sidebar_border_color': 'C0DEED', 'profile_sidebar_fill_color': 'DDEEF6', 'profile_text_color': '333333', 'profile_use_background_image': True, 'has_extended_profile': False, 'default_profile': True, 'default_profile_image': False, 'following': False, 'follow_request_sent': False, 'notifications': False, 'translator_type': 'none'}, id=300340896, id_str='300340896', name='luigi', screen_name='luigissssss', location='', description='', url=None, entities={'description': {'urls': []}}, protected=False, followers_count=29, friends_count=405, listed_count=0, created_at=datetime.datetime(2011, 5, 17, 16, 10, 46), favourites_count=19, utc_offset=None, time_zone=None, geo_enabled=False, verified=False, statuses_count=199, lang=None, contributors_enabled=False, is_translator=False, is_translation_enabled=False, profile_background_color='C0DEED', profile_background_image_url='http://abs.twimg.com/images/themes/theme1/bg.png', profile_background_image_url_https='https://abs.twimg.com/images/themes/theme1/bg.png', profile_background_tile=False, profile_image_url='http://pbs.twimg.com/profile_images/1050122652554338304/3Lio762z_normal.jpg', profile_image_url_https='https://pbs.twimg.com/profile_images/1050122652554338304/3Lio762z_normal.jpg', profile_link_color='1DA1F2', profile_sidebar_border_color='C0DEED', profile_sidebar_fill_color='DDEEF6', profile_text_color='333333', profile_use_background_image=True, has_extended_profile=False, default_profile=True, default_profile_image=False, following=False, follow_request_sent=False, notifications=False, translator_type='none'), user=User(_api=<tweepy.api.API object at 0x7f0051b7afd0>, _json={'id': 300340896, 'id_str': '300340896', 'name': 'luigi', 'screen_name': 'luigissssss', 'location': '', 'description': '', 'url': None, 'entities': {'description': {'urls': []}}, 'protected': False, 'followers_count': 29, 'friends_count': 405, 'listed_count': 0, 'created_at': 'Tue May 17 16:10:46 +0000 2011', 'favourites_count': 19, 'utc_offset': None, 'time_zone': None, 'geo_enabled': False, 'verified': False, 'statuses_count': 199, 'lang': None, 'contributors_enabled': False, 'is_translator': False, 'is_translation_enabled': False, 'profile_background_color': 'C0DEED', 'profile_background_image_url': 'http://abs.twimg.com/images/themes/theme1/bg.png', 'profile_background_image_url_https': 'https://abs.twimg.com/images/themes/theme1/bg.png', 'profile_background_tile': False, 'profile_image_url': 'http://pbs.twimg.com/profile_images/1050122652554338304/3Lio762z_normal.jpg', 'profile_image_url_https': 'https://pbs.twimg.com/profile_images/1050122652554338304/3Lio762z_normal.jpg', 'profile_link_color': '1DA1F2', 'profile_sidebar_border_color': 'C0DEED', 'profile_sidebar_fill_color': 'DDEEF6', 'profile_text_color': '333333', 'profile_use_background_image': True, 'has_extended_profile': False, 'default_profile': True, 'default_profile_image': False, 'following': False, 'follow_request_sent': False, 'notifications': False, 'translator_type': 'none'}, id=300340896, id_str='300340896', name='luigi', screen_name='luigissssss', location='', description='', url=None, entities={'description': {'urls': []}}, protected=False, followers_count=29, friends_count=405, listed_count=0, created_at=datetime.datetime(2011, 5, 17, 16, 10, 46), favourites_count=19, utc_offset=None, time_zone=None, geo_enabled=False, verified=False, statuses_count=199, lang=None, contributors_enabled=False, is_translator=False, is_translation_enabled=False, profile_background_color='C0DEED', profile_background_image_url='http://abs.twimg.com/images/themes/theme1/bg.png', profile_background_image_url_https='https://abs.twimg.com/images/themes/theme1/bg.png', profile_background_tile=False, profile_image_url='http://pbs.twimg.com/profile_images/1050122652554338304/3Lio762z_normal.jpg', profile_image_url_https='https://pbs.twimg.com/profile_images/1050122652554338304/3Lio762z_normal.jpg', profile_link_color='1DA1F2', profile_sidebar_border_color='C0DEED', profile_sidebar_fill_color='DDEEF6', profile_text_color='333333', profile_use_background_image=True, has_extended_profile=False, default_profile=True, default_profile_image=False, following=False, follow_request_sent=False, notifications=False, translator_type='none'), geo=None, coordinates=None, place=None, contributors=None, is_quote_status=False, retweet_count=0, favorite_count=0, favorited=False, retweeted=False, lang='es'),\n",
       " Status(_api=<tweepy.api.API object at 0x7f0051b7afd0>, _json={'created_at': 'Sat Nov 21 10:16:28 +0000 2020', 'id': 1330092708669640711, 'id_str': '1330092708669640711', 'full_text': '@Keir_Starmer If words were money, we’d be all millionaires at least', 'truncated': False, 'display_text_range': [14, 68], 'entities': {'hashtags': [], 'symbols': [], 'user_mentions': [{'screen_name': 'Keir_Starmer', 'name': 'Keir Starmer', 'id': 2425571623, 'id_str': '2425571623', 'indices': [0, 13]}], 'urls': []}, 'source': '<a href=\"http://twitter.com/#!/download/ipad\" rel=\"nofollow\">Twitter for iPad</a>', 'in_reply_to_status_id': 1329760060625612804, 'in_reply_to_status_id_str': '1329760060625612804', 'in_reply_to_user_id': 2425571623, 'in_reply_to_user_id_str': '2425571623', 'in_reply_to_screen_name': 'Keir_Starmer', 'user': {'id': 282760817, 'id_str': '282760817', 'name': 'Common Man On The Street', 'screen_name': 'shaparmar', 'location': 'Earth', 'description': '', 'url': None, 'entities': {'description': {'urls': []}}, 'protected': False, 'followers_count': 28, 'friends_count': 288, 'listed_count': 0, 'created_at': 'Fri Apr 15 21:33:44 +0000 2011', 'favourites_count': 6589, 'utc_offset': None, 'time_zone': None, 'geo_enabled': False, 'verified': False, 'statuses_count': 3119, 'lang': None, 'contributors_enabled': False, 'is_translator': False, 'is_translation_enabled': False, 'profile_background_color': 'C0DEED', 'profile_background_image_url': 'http://abs.twimg.com/images/themes/theme1/bg.png', 'profile_background_image_url_https': 'https://abs.twimg.com/images/themes/theme1/bg.png', 'profile_background_tile': False, 'profile_image_url': 'http://pbs.twimg.com/profile_images/1330091396808716290/BGdr_0MP_normal.jpg', 'profile_image_url_https': 'https://pbs.twimg.com/profile_images/1330091396808716290/BGdr_0MP_normal.jpg', 'profile_link_color': '1DA1F2', 'profile_sidebar_border_color': 'C0DEED', 'profile_sidebar_fill_color': 'DDEEF6', 'profile_text_color': '333333', 'profile_use_background_image': True, 'has_extended_profile': False, 'default_profile': True, 'default_profile_image': False, 'following': False, 'follow_request_sent': False, 'notifications': False, 'translator_type': 'none'}, 'geo': None, 'coordinates': None, 'place': None, 'contributors': None, 'is_quote_status': False, 'retweet_count': 0, 'favorite_count': 0, 'favorited': False, 'retweeted': False, 'lang': 'en'}, created_at=datetime.datetime(2020, 11, 21, 10, 16, 28), id=1330092708669640711, id_str='1330092708669640711', full_text='@Keir_Starmer If words were money, we’d be all millionaires at least', truncated=False, display_text_range=[14, 68], entities={'hashtags': [], 'symbols': [], 'user_mentions': [{'screen_name': 'Keir_Starmer', 'name': 'Keir Starmer', 'id': 2425571623, 'id_str': '2425571623', 'indices': [0, 13]}], 'urls': []}, source='Twitter for iPad', source_url='http://twitter.com/#!/download/ipad', in_reply_to_status_id=1329760060625612804, in_reply_to_status_id_str='1329760060625612804', in_reply_to_user_id=2425571623, in_reply_to_user_id_str='2425571623', in_reply_to_screen_name='Keir_Starmer', author=User(_api=<tweepy.api.API object at 0x7f0051b7afd0>, _json={'id': 282760817, 'id_str': '282760817', 'name': 'Common Man On The Street', 'screen_name': 'shaparmar', 'location': 'Earth', 'description': '', 'url': None, 'entities': {'description': {'urls': []}}, 'protected': False, 'followers_count': 28, 'friends_count': 288, 'listed_count': 0, 'created_at': 'Fri Apr 15 21:33:44 +0000 2011', 'favourites_count': 6589, 'utc_offset': None, 'time_zone': None, 'geo_enabled': False, 'verified': False, 'statuses_count': 3119, 'lang': None, 'contributors_enabled': False, 'is_translator': False, 'is_translation_enabled': False, 'profile_background_color': 'C0DEED', 'profile_background_image_url': 'http://abs.twimg.com/images/themes/theme1/bg.png', 'profile_background_image_url_https': 'https://abs.twimg.com/images/themes/theme1/bg.png', 'profile_background_tile': False, 'profile_image_url': 'http://pbs.twimg.com/profile_images/1330091396808716290/BGdr_0MP_normal.jpg', 'profile_image_url_https': 'https://pbs.twimg.com/profile_images/1330091396808716290/BGdr_0MP_normal.jpg', 'profile_link_color': '1DA1F2', 'profile_sidebar_border_color': 'C0DEED', 'profile_sidebar_fill_color': 'DDEEF6', 'profile_text_color': '333333', 'profile_use_background_image': True, 'has_extended_profile': False, 'default_profile': True, 'default_profile_image': False, 'following': False, 'follow_request_sent': False, 'notifications': False, 'translator_type': 'none'}, id=282760817, id_str='282760817', name='Common Man On The Street', screen_name='shaparmar', location='Earth', description='', url=None, entities={'description': {'urls': []}}, protected=False, followers_count=28, friends_count=288, listed_count=0, created_at=datetime.datetime(2011, 4, 15, 21, 33, 44), favourites_count=6589, utc_offset=None, time_zone=None, geo_enabled=False, verified=False, statuses_count=3119, lang=None, contributors_enabled=False, is_translator=False, is_translation_enabled=False, profile_background_color='C0DEED', profile_background_image_url='http://abs.twimg.com/images/themes/theme1/bg.png', profile_background_image_url_https='https://abs.twimg.com/images/themes/theme1/bg.png', profile_background_tile=False, profile_image_url='http://pbs.twimg.com/profile_images/1330091396808716290/BGdr_0MP_normal.jpg', profile_image_url_https='https://pbs.twimg.com/profile_images/1330091396808716290/BGdr_0MP_normal.jpg', profile_link_color='1DA1F2', profile_sidebar_border_color='C0DEED', profile_sidebar_fill_color='DDEEF6', profile_text_color='333333', profile_use_background_image=True, has_extended_profile=False, default_profile=True, default_profile_image=False, following=False, follow_request_sent=False, notifications=False, translator_type='none'), user=User(_api=<tweepy.api.API object at 0x7f0051b7afd0>, _json={'id': 282760817, 'id_str': '282760817', 'name': 'Common Man On The Street', 'screen_name': 'shaparmar', 'location': 'Earth', 'description': '', 'url': None, 'entities': {'description': {'urls': []}}, 'protected': False, 'followers_count': 28, 'friends_count': 288, 'listed_count': 0, 'created_at': 'Fri Apr 15 21:33:44 +0000 2011', 'favourites_count': 6589, 'utc_offset': None, 'time_zone': None, 'geo_enabled': False, 'verified': False, 'statuses_count': 3119, 'lang': None, 'contributors_enabled': False, 'is_translator': False, 'is_translation_enabled': False, 'profile_background_color': 'C0DEED', 'profile_background_image_url': 'http://abs.twimg.com/images/themes/theme1/bg.png', 'profile_background_image_url_https': 'https://abs.twimg.com/images/themes/theme1/bg.png', 'profile_background_tile': False, 'profile_image_url': 'http://pbs.twimg.com/profile_images/1330091396808716290/BGdr_0MP_normal.jpg', 'profile_image_url_https': 'https://pbs.twimg.com/profile_images/1330091396808716290/BGdr_0MP_normal.jpg', 'profile_link_color': '1DA1F2', 'profile_sidebar_border_color': 'C0DEED', 'profile_sidebar_fill_color': 'DDEEF6', 'profile_text_color': '333333', 'profile_use_background_image': True, 'has_extended_profile': False, 'default_profile': True, 'default_profile_image': False, 'following': False, 'follow_request_sent': False, 'notifications': False, 'translator_type': 'none'}, id=282760817, id_str='282760817', name='Common Man On The Street', screen_name='shaparmar', location='Earth', description='', url=None, entities={'description': {'urls': []}}, protected=False, followers_count=28, friends_count=288, listed_count=0, created_at=datetime.datetime(2011, 4, 15, 21, 33, 44), favourites_count=6589, utc_offset=None, time_zone=None, geo_enabled=False, verified=False, statuses_count=3119, lang=None, contributors_enabled=False, is_translator=False, is_translation_enabled=False, profile_background_color='C0DEED', profile_background_image_url='http://abs.twimg.com/images/themes/theme1/bg.png', profile_background_image_url_https='https://abs.twimg.com/images/themes/theme1/bg.png', profile_background_tile=False, profile_image_url='http://pbs.twimg.com/profile_images/1330091396808716290/BGdr_0MP_normal.jpg', profile_image_url_https='https://pbs.twimg.com/profile_images/1330091396808716290/BGdr_0MP_normal.jpg', profile_link_color='1DA1F2', profile_sidebar_border_color='C0DEED', profile_sidebar_fill_color='DDEEF6', profile_text_color='333333', profile_use_background_image=True, has_extended_profile=False, default_profile=True, default_profile_image=False, following=False, follow_request_sent=False, notifications=False, translator_type='none'), geo=None, coordinates=None, place=None, contributors=None, is_quote_status=False, retweet_count=0, favorite_count=0, favorited=False, retweeted=False, lang='en'),\n",
       " Status(_api=<tweepy.api.API object at 0x7f0051b7afd0>, _json={'created_at': 'Thu Nov 19 20:42:56 +0000 2020', 'id': 1329525590182010890, 'id_str': '1329525590182010890', 'full_text': '@RishabhPant17 Lag raha hai vazan kaboo aa raha hai, lage raho', 'truncated': False, 'display_text_range': [15, 62], 'entities': {'hashtags': [], 'symbols': [], 'user_mentions': [{'screen_name': 'RishabhPant17', 'name': 'Rishabh Pant', 'id': 730375072876105728, 'id_str': '730375072876105728', 'indices': [0, 14]}], 'urls': []}, 'source': '<a href=\"http://twitter.com/#!/download/ipad\" rel=\"nofollow\">Twitter for iPad</a>', 'in_reply_to_status_id': 1329352884371087360, 'in_reply_to_status_id_str': '1329352884371087360', 'in_reply_to_user_id': 730375072876105728, 'in_reply_to_user_id_str': '730375072876105728', 'in_reply_to_screen_name': 'RishabhPant17', 'user': {'id': 282760817, 'id_str': '282760817', 'name': 'Common Man On The Street', 'screen_name': 'shaparmar', 'location': 'Earth', 'description': '', 'url': None, 'entities': {'description': {'urls': []}}, 'protected': False, 'followers_count': 28, 'friends_count': 288, 'listed_count': 0, 'created_at': 'Fri Apr 15 21:33:44 +0000 2011', 'favourites_count': 6589, 'utc_offset': None, 'time_zone': None, 'geo_enabled': False, 'verified': False, 'statuses_count': 3119, 'lang': None, 'contributors_enabled': False, 'is_translator': False, 'is_translation_enabled': False, 'profile_background_color': 'C0DEED', 'profile_background_image_url': 'http://abs.twimg.com/images/themes/theme1/bg.png', 'profile_background_image_url_https': 'https://abs.twimg.com/images/themes/theme1/bg.png', 'profile_background_tile': False, 'profile_image_url': 'http://pbs.twimg.com/profile_images/1330091396808716290/BGdr_0MP_normal.jpg', 'profile_image_url_https': 'https://pbs.twimg.com/profile_images/1330091396808716290/BGdr_0MP_normal.jpg', 'profile_link_color': '1DA1F2', 'profile_sidebar_border_color': 'C0DEED', 'profile_sidebar_fill_color': 'DDEEF6', 'profile_text_color': '333333', 'profile_use_background_image': True, 'has_extended_profile': False, 'default_profile': True, 'default_profile_image': False, 'following': False, 'follow_request_sent': False, 'notifications': False, 'translator_type': 'none'}, 'geo': None, 'coordinates': None, 'place': None, 'contributors': None, 'is_quote_status': False, 'retweet_count': 0, 'favorite_count': 0, 'favorited': False, 'retweeted': False, 'lang': 'hi'}, created_at=datetime.datetime(2020, 11, 19, 20, 42, 56), id=1329525590182010890, id_str='1329525590182010890', full_text='@RishabhPant17 Lag raha hai vazan kaboo aa raha hai, lage raho', truncated=False, display_text_range=[15, 62], entities={'hashtags': [], 'symbols': [], 'user_mentions': [{'screen_name': 'RishabhPant17', 'name': 'Rishabh Pant', 'id': 730375072876105728, 'id_str': '730375072876105728', 'indices': [0, 14]}], 'urls': []}, source='Twitter for iPad', source_url='http://twitter.com/#!/download/ipad', in_reply_to_status_id=1329352884371087360, in_reply_to_status_id_str='1329352884371087360', in_reply_to_user_id=730375072876105728, in_reply_to_user_id_str='730375072876105728', in_reply_to_screen_name='RishabhPant17', author=User(_api=<tweepy.api.API object at 0x7f0051b7afd0>, _json={'id': 282760817, 'id_str': '282760817', 'name': 'Common Man On The Street', 'screen_name': 'shaparmar', 'location': 'Earth', 'description': '', 'url': None, 'entities': {'description': {'urls': []}}, 'protected': False, 'followers_count': 28, 'friends_count': 288, 'listed_count': 0, 'created_at': 'Fri Apr 15 21:33:44 +0000 2011', 'favourites_count': 6589, 'utc_offset': None, 'time_zone': None, 'geo_enabled': False, 'verified': False, 'statuses_count': 3119, 'lang': None, 'contributors_enabled': False, 'is_translator': False, 'is_translation_enabled': False, 'profile_background_color': 'C0DEED', 'profile_background_image_url': 'http://abs.twimg.com/images/themes/theme1/bg.png', 'profile_background_image_url_https': 'https://abs.twimg.com/images/themes/theme1/bg.png', 'profile_background_tile': False, 'profile_image_url': 'http://pbs.twimg.com/profile_images/1330091396808716290/BGdr_0MP_normal.jpg', 'profile_image_url_https': 'https://pbs.twimg.com/profile_images/1330091396808716290/BGdr_0MP_normal.jpg', 'profile_link_color': '1DA1F2', 'profile_sidebar_border_color': 'C0DEED', 'profile_sidebar_fill_color': 'DDEEF6', 'profile_text_color': '333333', 'profile_use_background_image': True, 'has_extended_profile': False, 'default_profile': True, 'default_profile_image': False, 'following': False, 'follow_request_sent': False, 'notifications': False, 'translator_type': 'none'}, id=282760817, id_str='282760817', name='Common Man On The Street', screen_name='shaparmar', location='Earth', description='', url=None, entities={'description': {'urls': []}}, protected=False, followers_count=28, friends_count=288, listed_count=0, created_at=datetime.datetime(2011, 4, 15, 21, 33, 44), favourites_count=6589, utc_offset=None, time_zone=None, geo_enabled=False, verified=False, statuses_count=3119, lang=None, contributors_enabled=False, is_translator=False, is_translation_enabled=False, profile_background_color='C0DEED', profile_background_image_url='http://abs.twimg.com/images/themes/theme1/bg.png', profile_background_image_url_https='https://abs.twimg.com/images/themes/theme1/bg.png', profile_background_tile=False, profile_image_url='http://pbs.twimg.com/profile_images/1330091396808716290/BGdr_0MP_normal.jpg', profile_image_url_https='https://pbs.twimg.com/profile_images/1330091396808716290/BGdr_0MP_normal.jpg', profile_link_color='1DA1F2', profile_sidebar_border_color='C0DEED', profile_sidebar_fill_color='DDEEF6', profile_text_color='333333', profile_use_background_image=True, has_extended_profile=False, default_profile=True, default_profile_image=False, following=False, follow_request_sent=False, notifications=False, translator_type='none'), user=User(_api=<tweepy.api.API object at 0x7f0051b7afd0>, _json={'id': 282760817, 'id_str': '282760817', 'name': 'Common Man On The Street', 'screen_name': 'shaparmar', 'location': 'Earth', 'description': '', 'url': None, 'entities': {'description': {'urls': []}}, 'protected': False, 'followers_count': 28, 'friends_count': 288, 'listed_count': 0, 'created_at': 'Fri Apr 15 21:33:44 +0000 2011', 'favourites_count': 6589, 'utc_offset': None, 'time_zone': None, 'geo_enabled': False, 'verified': False, 'statuses_count': 3119, 'lang': None, 'contributors_enabled': False, 'is_translator': False, 'is_translation_enabled': False, 'profile_background_color': 'C0DEED', 'profile_background_image_url': 'http://abs.twimg.com/images/themes/theme1/bg.png', 'profile_background_image_url_https': 'https://abs.twimg.com/images/themes/theme1/bg.png', 'profile_background_tile': False, 'profile_image_url': 'http://pbs.twimg.com/profile_images/1330091396808716290/BGdr_0MP_normal.jpg', 'profile_image_url_https': 'https://pbs.twimg.com/profile_images/1330091396808716290/BGdr_0MP_normal.jpg', 'profile_link_color': '1DA1F2', 'profile_sidebar_border_color': 'C0DEED', 'profile_sidebar_fill_color': 'DDEEF6', 'profile_text_color': '333333', 'profile_use_background_image': True, 'has_extended_profile': False, 'default_profile': True, 'default_profile_image': False, 'following': False, 'follow_request_sent': False, 'notifications': False, 'translator_type': 'none'}, id=282760817, id_str='282760817', name='Common Man On The Street', screen_name='shaparmar', location='Earth', description='', url=None, entities={'description': {'urls': []}}, protected=False, followers_count=28, friends_count=288, listed_count=0, created_at=datetime.datetime(2011, 4, 15, 21, 33, 44), favourites_count=6589, utc_offset=None, time_zone=None, geo_enabled=False, verified=False, statuses_count=3119, lang=None, contributors_enabled=False, is_translator=False, is_translation_enabled=False, profile_background_color='C0DEED', profile_background_image_url='http://abs.twimg.com/images/themes/theme1/bg.png', profile_background_image_url_https='https://abs.twimg.com/images/themes/theme1/bg.png', profile_background_tile=False, profile_image_url='http://pbs.twimg.com/profile_images/1330091396808716290/BGdr_0MP_normal.jpg', profile_image_url_https='https://pbs.twimg.com/profile_images/1330091396808716290/BGdr_0MP_normal.jpg', profile_link_color='1DA1F2', profile_sidebar_border_color='C0DEED', profile_sidebar_fill_color='DDEEF6', profile_text_color='333333', profile_use_background_image=True, has_extended_profile=False, default_profile=True, default_profile_image=False, following=False, follow_request_sent=False, notifications=False, translator_type='none'), geo=None, coordinates=None, place=None, contributors=None, is_quote_status=False, retweet_count=0, favorite_count=0, favorited=False, retweeted=False, lang='hi'),\n",
       " Status(_api=<tweepy.api.API object at 0x7f0051b7afd0>, _json={'created_at': 'Mon Nov 16 19:54:23 +0000 2020', 'id': 1328426208070131717, 'id_str': '1328426208070131717', 'full_text': '@ashokgehlot51 This is silly, Please learn to accept criticism. He’s raising matters because he cares, closing your eyes will not resolve systemic problems. A seasoned campaigner like yourself should appreciate that. All the best,', 'truncated': False, 'display_text_range': [15, 230], 'entities': {'hashtags': [], 'symbols': [], 'user_mentions': [{'screen_name': 'ashokgehlot51', 'name': 'Ashok Gehlot', 'id': 385926583, 'id_str': '385926583', 'indices': [0, 14]}], 'urls': []}, 'source': '<a href=\"http://twitter.com/#!/download/ipad\" rel=\"nofollow\">Twitter for iPad</a>', 'in_reply_to_status_id': 1328333595019075585, 'in_reply_to_status_id_str': '1328333595019075585', 'in_reply_to_user_id': 385926583, 'in_reply_to_user_id_str': '385926583', 'in_reply_to_screen_name': 'ashokgehlot51', 'user': {'id': 282760817, 'id_str': '282760817', 'name': 'Common Man On The Street', 'screen_name': 'shaparmar', 'location': 'Earth', 'description': '', 'url': None, 'entities': {'description': {'urls': []}}, 'protected': False, 'followers_count': 28, 'friends_count': 288, 'listed_count': 0, 'created_at': 'Fri Apr 15 21:33:44 +0000 2011', 'favourites_count': 6589, 'utc_offset': None, 'time_zone': None, 'geo_enabled': False, 'verified': False, 'statuses_count': 3119, 'lang': None, 'contributors_enabled': False, 'is_translator': False, 'is_translation_enabled': False, 'profile_background_color': 'C0DEED', 'profile_background_image_url': 'http://abs.twimg.com/images/themes/theme1/bg.png', 'profile_background_image_url_https': 'https://abs.twimg.com/images/themes/theme1/bg.png', 'profile_background_tile': False, 'profile_image_url': 'http://pbs.twimg.com/profile_images/1330091396808716290/BGdr_0MP_normal.jpg', 'profile_image_url_https': 'https://pbs.twimg.com/profile_images/1330091396808716290/BGdr_0MP_normal.jpg', 'profile_link_color': '1DA1F2', 'profile_sidebar_border_color': 'C0DEED', 'profile_sidebar_fill_color': 'DDEEF6', 'profile_text_color': '333333', 'profile_use_background_image': True, 'has_extended_profile': False, 'default_profile': True, 'default_profile_image': False, 'following': False, 'follow_request_sent': False, 'notifications': False, 'translator_type': 'none'}, 'geo': None, 'coordinates': None, 'place': None, 'contributors': None, 'is_quote_status': False, 'retweet_count': 0, 'favorite_count': 2, 'favorited': False, 'retweeted': False, 'lang': 'en'}, created_at=datetime.datetime(2020, 11, 16, 19, 54, 23), id=1328426208070131717, id_str='1328426208070131717', full_text='@ashokgehlot51 This is silly, Please learn to accept criticism. He’s raising matters because he cares, closing your eyes will not resolve systemic problems. A seasoned campaigner like yourself should appreciate that. All the best,', truncated=False, display_text_range=[15, 230], entities={'hashtags': [], 'symbols': [], 'user_mentions': [{'screen_name': 'ashokgehlot51', 'name': 'Ashok Gehlot', 'id': 385926583, 'id_str': '385926583', 'indices': [0, 14]}], 'urls': []}, source='Twitter for iPad', source_url='http://twitter.com/#!/download/ipad', in_reply_to_status_id=1328333595019075585, in_reply_to_status_id_str='1328333595019075585', in_reply_to_user_id=385926583, in_reply_to_user_id_str='385926583', in_reply_to_screen_name='ashokgehlot51', author=User(_api=<tweepy.api.API object at 0x7f0051b7afd0>, _json={'id': 282760817, 'id_str': '282760817', 'name': 'Common Man On The Street', 'screen_name': 'shaparmar', 'location': 'Earth', 'description': '', 'url': None, 'entities': {'description': {'urls': []}}, 'protected': False, 'followers_count': 28, 'friends_count': 288, 'listed_count': 0, 'created_at': 'Fri Apr 15 21:33:44 +0000 2011', 'favourites_count': 6589, 'utc_offset': None, 'time_zone': None, 'geo_enabled': False, 'verified': False, 'statuses_count': 3119, 'lang': None, 'contributors_enabled': False, 'is_translator': False, 'is_translation_enabled': False, 'profile_background_color': 'C0DEED', 'profile_background_image_url': 'http://abs.twimg.com/images/themes/theme1/bg.png', 'profile_background_image_url_https': 'https://abs.twimg.com/images/themes/theme1/bg.png', 'profile_background_tile': False, 'profile_image_url': 'http://pbs.twimg.com/profile_images/1330091396808716290/BGdr_0MP_normal.jpg', 'profile_image_url_https': 'https://pbs.twimg.com/profile_images/1330091396808716290/BGdr_0MP_normal.jpg', 'profile_link_color': '1DA1F2', 'profile_sidebar_border_color': 'C0DEED', 'profile_sidebar_fill_color': 'DDEEF6', 'profile_text_color': '333333', 'profile_use_background_image': True, 'has_extended_profile': False, 'default_profile': True, 'default_profile_image': False, 'following': False, 'follow_request_sent': False, 'notifications': False, 'translator_type': 'none'}, id=282760817, id_str='282760817', name='Common Man On The Street', screen_name='shaparmar', location='Earth', description='', url=None, entities={'description': {'urls': []}}, protected=False, followers_count=28, friends_count=288, listed_count=0, created_at=datetime.datetime(2011, 4, 15, 21, 33, 44), favourites_count=6589, utc_offset=None, time_zone=None, geo_enabled=False, verified=False, statuses_count=3119, lang=None, contributors_enabled=False, is_translator=False, is_translation_enabled=False, profile_background_color='C0DEED', profile_background_image_url='http://abs.twimg.com/images/themes/theme1/bg.png', profile_background_image_url_https='https://abs.twimg.com/images/themes/theme1/bg.png', profile_background_tile=False, profile_image_url='http://pbs.twimg.com/profile_images/1330091396808716290/BGdr_0MP_normal.jpg', profile_image_url_https='https://pbs.twimg.com/profile_images/1330091396808716290/BGdr_0MP_normal.jpg', profile_link_color='1DA1F2', profile_sidebar_border_color='C0DEED', profile_sidebar_fill_color='DDEEF6', profile_text_color='333333', profile_use_background_image=True, has_extended_profile=False, default_profile=True, default_profile_image=False, following=False, follow_request_sent=False, notifications=False, translator_type='none'), user=User(_api=<tweepy.api.API object at 0x7f0051b7afd0>, _json={'id': 282760817, 'id_str': '282760817', 'name': 'Common Man On The Street', 'screen_name': 'shaparmar', 'location': 'Earth', 'description': '', 'url': None, 'entities': {'description': {'urls': []}}, 'protected': False, 'followers_count': 28, 'friends_count': 288, 'listed_count': 0, 'created_at': 'Fri Apr 15 21:33:44 +0000 2011', 'favourites_count': 6589, 'utc_offset': None, 'time_zone': None, 'geo_enabled': False, 'verified': False, 'statuses_count': 3119, 'lang': None, 'contributors_enabled': False, 'is_translator': False, 'is_translation_enabled': False, 'profile_background_color': 'C0DEED', 'profile_background_image_url': 'http://abs.twimg.com/images/themes/theme1/bg.png', 'profile_background_image_url_https': 'https://abs.twimg.com/images/themes/theme1/bg.png', 'profile_background_tile': False, 'profile_image_url': 'http://pbs.twimg.com/profile_images/1330091396808716290/BGdr_0MP_normal.jpg', 'profile_image_url_https': 'https://pbs.twimg.com/profile_images/1330091396808716290/BGdr_0MP_normal.jpg', 'profile_link_color': '1DA1F2', 'profile_sidebar_border_color': 'C0DEED', 'profile_sidebar_fill_color': 'DDEEF6', 'profile_text_color': '333333', 'profile_use_background_image': True, 'has_extended_profile': False, 'default_profile': True, 'default_profile_image': False, 'following': False, 'follow_request_sent': False, 'notifications': False, 'translator_type': 'none'}, id=282760817, id_str='282760817', name='Common Man On The Street', screen_name='shaparmar', location='Earth', description='', url=None, entities={'description': {'urls': []}}, protected=False, followers_count=28, friends_count=288, listed_count=0, created_at=datetime.datetime(2011, 4, 15, 21, 33, 44), favourites_count=6589, utc_offset=None, time_zone=None, geo_enabled=False, verified=False, statuses_count=3119, lang=None, contributors_enabled=False, is_translator=False, is_translation_enabled=False, profile_background_color='C0DEED', profile_background_image_url='http://abs.twimg.com/images/themes/theme1/bg.png', profile_background_image_url_https='https://abs.twimg.com/images/themes/theme1/bg.png', profile_background_tile=False, profile_image_url='http://pbs.twimg.com/profile_images/1330091396808716290/BGdr_0MP_normal.jpg', profile_image_url_https='https://pbs.twimg.com/profile_images/1330091396808716290/BGdr_0MP_normal.jpg', profile_link_color='1DA1F2', profile_sidebar_border_color='C0DEED', profile_sidebar_fill_color='DDEEF6', profile_text_color='333333', profile_use_background_image=True, has_extended_profile=False, default_profile=True, default_profile_image=False, following=False, follow_request_sent=False, notifications=False, translator_type='none'), geo=None, coordinates=None, place=None, contributors=None, is_quote_status=False, retweet_count=0, favorite_count=2, favorited=False, retweeted=False, lang='en'),\n",
       " Status(_api=<tweepy.api.API object at 0x7f0051b7afd0>, _json={'created_at': 'Sun Nov 22 07:21:50 +0000 2020', 'id': 1330411147359629312, 'id_str': '1330411147359629312', 'full_text': 'The Browns have arrived.. https://t.co/5N6IRSXPK4', 'truncated': False, 'display_text_range': [0, 25], 'entities': {'hashtags': [], 'symbols': [], 'user_mentions': [], 'urls': [], 'media': [{'id': 1330411145262403585, 'id_str': '1330411145262403585', 'indices': [26, 49], 'media_url': 'http://pbs.twimg.com/media/EnaR40aWEAENghE.jpg', 'media_url_https': 'https://pbs.twimg.com/media/EnaR40aWEAENghE.jpg', 'url': 'https://t.co/5N6IRSXPK4', 'display_url': 'pic.twitter.com/5N6IRSXPK4', 'expanded_url': 'https://twitter.com/The_Browns_/status/1330411147359629312/photo/1', 'type': 'photo', 'sizes': {'thumb': {'w': 150, 'h': 150, 'resize': 'crop'}, 'large': {'w': 296, 'h': 296, 'resize': 'fit'}, 'small': {'w': 296, 'h': 296, 'resize': 'fit'}, 'medium': {'w': 296, 'h': 296, 'resize': 'fit'}}}]}, 'extended_entities': {'media': [{'id': 1330411145262403585, 'id_str': '1330411145262403585', 'indices': [26, 49], 'media_url': 'http://pbs.twimg.com/media/EnaR40aWEAENghE.jpg', 'media_url_https': 'https://pbs.twimg.com/media/EnaR40aWEAENghE.jpg', 'url': 'https://t.co/5N6IRSXPK4', 'display_url': 'pic.twitter.com/5N6IRSXPK4', 'expanded_url': 'https://twitter.com/The_Browns_/status/1330411147359629312/photo/1', 'type': 'photo', 'sizes': {'thumb': {'w': 150, 'h': 150, 'resize': 'crop'}, 'large': {'w': 296, 'h': 296, 'resize': 'fit'}, 'small': {'w': 296, 'h': 296, 'resize': 'fit'}, 'medium': {'w': 296, 'h': 296, 'resize': 'fit'}}}]}, 'source': '<a href=\"http://twitter.com/download/android\" rel=\"nofollow\">Twitter for Android</a>', 'in_reply_to_status_id': None, 'in_reply_to_status_id_str': None, 'in_reply_to_user_id': None, 'in_reply_to_user_id_str': None, 'in_reply_to_screen_name': None, 'user': {'id': 1330408564842770432, 'id_str': '1330408564842770432', 'name': 'The Browns', 'screen_name': 'The_Browns_', 'location': 'Crookwell, New South Wales', 'description': 'Standing up for the battler..', 'url': 'https://t.co/diuYgAwlMh', 'entities': {'url': {'urls': [{'url': 'https://t.co/diuYgAwlMh', 'expanded_url': 'http://www.thebrownsparty.com', 'display_url': 'thebrownsparty.com', 'indices': [0, 23]}]}, 'description': {'urls': []}}, 'protected': False, 'followers_count': 0, 'friends_count': 4, 'listed_count': 0, 'created_at': 'Sun Nov 22 07:11:45 +0000 2020', 'favourites_count': 1, 'utc_offset': None, 'time_zone': None, 'geo_enabled': False, 'verified': False, 'statuses_count': 1, 'lang': None, 'contributors_enabled': False, 'is_translator': False, 'is_translation_enabled': False, 'profile_background_color': 'F5F8FA', 'profile_background_image_url': None, 'profile_background_image_url_https': None, 'profile_background_tile': False, 'profile_image_url': 'http://pbs.twimg.com/profile_images/1330410040671481858/8gO_9z7a_normal.jpg', 'profile_image_url_https': 'https://pbs.twimg.com/profile_images/1330410040671481858/8gO_9z7a_normal.jpg', 'profile_banner_url': 'https://pbs.twimg.com/profile_banners/1330408564842770432/1606029481', 'profile_link_color': '1DA1F2', 'profile_sidebar_border_color': 'C0DEED', 'profile_sidebar_fill_color': 'DDEEF6', 'profile_text_color': '333333', 'profile_use_background_image': True, 'has_extended_profile': True, 'default_profile': True, 'default_profile_image': False, 'following': False, 'follow_request_sent': False, 'notifications': False, 'translator_type': 'none'}, 'geo': None, 'coordinates': None, 'place': None, 'contributors': None, 'is_quote_status': False, 'retweet_count': 0, 'favorite_count': 1, 'favorited': False, 'retweeted': False, 'possibly_sensitive': False, 'lang': 'en'}, created_at=datetime.datetime(2020, 11, 22, 7, 21, 50), id=1330411147359629312, id_str='1330411147359629312', full_text='The Browns have arrived.. https://t.co/5N6IRSXPK4', truncated=False, display_text_range=[0, 25], entities={'hashtags': [], 'symbols': [], 'user_mentions': [], 'urls': [], 'media': [{'id': 1330411145262403585, 'id_str': '1330411145262403585', 'indices': [26, 49], 'media_url': 'http://pbs.twimg.com/media/EnaR40aWEAENghE.jpg', 'media_url_https': 'https://pbs.twimg.com/media/EnaR40aWEAENghE.jpg', 'url': 'https://t.co/5N6IRSXPK4', 'display_url': 'pic.twitter.com/5N6IRSXPK4', 'expanded_url': 'https://twitter.com/The_Browns_/status/1330411147359629312/photo/1', 'type': 'photo', 'sizes': {'thumb': {'w': 150, 'h': 150, 'resize': 'crop'}, 'large': {'w': 296, 'h': 296, 'resize': 'fit'}, 'small': {'w': 296, 'h': 296, 'resize': 'fit'}, 'medium': {'w': 296, 'h': 296, 'resize': 'fit'}}}]}, extended_entities={'media': [{'id': 1330411145262403585, 'id_str': '1330411145262403585', 'indices': [26, 49], 'media_url': 'http://pbs.twimg.com/media/EnaR40aWEAENghE.jpg', 'media_url_https': 'https://pbs.twimg.com/media/EnaR40aWEAENghE.jpg', 'url': 'https://t.co/5N6IRSXPK4', 'display_url': 'pic.twitter.com/5N6IRSXPK4', 'expanded_url': 'https://twitter.com/The_Browns_/status/1330411147359629312/photo/1', 'type': 'photo', 'sizes': {'thumb': {'w': 150, 'h': 150, 'resize': 'crop'}, 'large': {'w': 296, 'h': 296, 'resize': 'fit'}, 'small': {'w': 296, 'h': 296, 'resize': 'fit'}, 'medium': {'w': 296, 'h': 296, 'resize': 'fit'}}}]}, source='Twitter for Android', source_url='http://twitter.com/download/android', in_reply_to_status_id=None, in_reply_to_status_id_str=None, in_reply_to_user_id=None, in_reply_to_user_id_str=None, in_reply_to_screen_name=None, author=User(_api=<tweepy.api.API object at 0x7f0051b7afd0>, _json={'id': 1330408564842770432, 'id_str': '1330408564842770432', 'name': 'The Browns', 'screen_name': 'The_Browns_', 'location': 'Crookwell, New South Wales', 'description': 'Standing up for the battler..', 'url': 'https://t.co/diuYgAwlMh', 'entities': {'url': {'urls': [{'url': 'https://t.co/diuYgAwlMh', 'expanded_url': 'http://www.thebrownsparty.com', 'display_url': 'thebrownsparty.com', 'indices': [0, 23]}]}, 'description': {'urls': []}}, 'protected': False, 'followers_count': 0, 'friends_count': 4, 'listed_count': 0, 'created_at': 'Sun Nov 22 07:11:45 +0000 2020', 'favourites_count': 1, 'utc_offset': None, 'time_zone': None, 'geo_enabled': False, 'verified': False, 'statuses_count': 1, 'lang': None, 'contributors_enabled': False, 'is_translator': False, 'is_translation_enabled': False, 'profile_background_color': 'F5F8FA', 'profile_background_image_url': None, 'profile_background_image_url_https': None, 'profile_background_tile': False, 'profile_image_url': 'http://pbs.twimg.com/profile_images/1330410040671481858/8gO_9z7a_normal.jpg', 'profile_image_url_https': 'https://pbs.twimg.com/profile_images/1330410040671481858/8gO_9z7a_normal.jpg', 'profile_banner_url': 'https://pbs.twimg.com/profile_banners/1330408564842770432/1606029481', 'profile_link_color': '1DA1F2', 'profile_sidebar_border_color': 'C0DEED', 'profile_sidebar_fill_color': 'DDEEF6', 'profile_text_color': '333333', 'profile_use_background_image': True, 'has_extended_profile': True, 'default_profile': True, 'default_profile_image': False, 'following': False, 'follow_request_sent': False, 'notifications': False, 'translator_type': 'none'}, id=1330408564842770432, id_str='1330408564842770432', name='The Browns', screen_name='The_Browns_', location='Crookwell, New South Wales', description='Standing up for the battler..', url='https://t.co/diuYgAwlMh', entities={'url': {'urls': [{'url': 'https://t.co/diuYgAwlMh', 'expanded_url': 'http://www.thebrownsparty.com', 'display_url': 'thebrownsparty.com', 'indices': [0, 23]}]}, 'description': {'urls': []}}, protected=False, followers_count=0, friends_count=4, listed_count=0, created_at=datetime.datetime(2020, 11, 22, 7, 11, 45), favourites_count=1, utc_offset=None, time_zone=None, geo_enabled=False, verified=False, statuses_count=1, lang=None, contributors_enabled=False, is_translator=False, is_translation_enabled=False, profile_background_color='F5F8FA', profile_background_image_url=None, profile_background_image_url_https=None, profile_background_tile=False, profile_image_url='http://pbs.twimg.com/profile_images/1330410040671481858/8gO_9z7a_normal.jpg', profile_image_url_https='https://pbs.twimg.com/profile_images/1330410040671481858/8gO_9z7a_normal.jpg', profile_banner_url='https://pbs.twimg.com/profile_banners/1330408564842770432/1606029481', profile_link_color='1DA1F2', profile_sidebar_border_color='C0DEED', profile_sidebar_fill_color='DDEEF6', profile_text_color='333333', profile_use_background_image=True, has_extended_profile=True, default_profile=True, default_profile_image=False, following=False, follow_request_sent=False, notifications=False, translator_type='none'), user=User(_api=<tweepy.api.API object at 0x7f0051b7afd0>, _json={'id': 1330408564842770432, 'id_str': '1330408564842770432', 'name': 'The Browns', 'screen_name': 'The_Browns_', 'location': 'Crookwell, New South Wales', 'description': 'Standing up for the battler..', 'url': 'https://t.co/diuYgAwlMh', 'entities': {'url': {'urls': [{'url': 'https://t.co/diuYgAwlMh', 'expanded_url': 'http://www.thebrownsparty.com', 'display_url': 'thebrownsparty.com', 'indices': [0, 23]}]}, 'description': {'urls': []}}, 'protected': False, 'followers_count': 0, 'friends_count': 4, 'listed_count': 0, 'created_at': 'Sun Nov 22 07:11:45 +0000 2020', 'favourites_count': 1, 'utc_offset': None, 'time_zone': None, 'geo_enabled': False, 'verified': False, 'statuses_count': 1, 'lang': None, 'contributors_enabled': False, 'is_translator': False, 'is_translation_enabled': False, 'profile_background_color': 'F5F8FA', 'profile_background_image_url': None, 'profile_background_image_url_https': None, 'profile_background_tile': False, 'profile_image_url': 'http://pbs.twimg.com/profile_images/1330410040671481858/8gO_9z7a_normal.jpg', 'profile_image_url_https': 'https://pbs.twimg.com/profile_images/1330410040671481858/8gO_9z7a_normal.jpg', 'profile_banner_url': 'https://pbs.twimg.com/profile_banners/1330408564842770432/1606029481', 'profile_link_color': '1DA1F2', 'profile_sidebar_border_color': 'C0DEED', 'profile_sidebar_fill_color': 'DDEEF6', 'profile_text_color': '333333', 'profile_use_background_image': True, 'has_extended_profile': True, 'default_profile': True, 'default_profile_image': False, 'following': False, 'follow_request_sent': False, 'notifications': False, 'translator_type': 'none'}, id=1330408564842770432, id_str='1330408564842770432', name='The Browns', screen_name='The_Browns_', location='Crookwell, New South Wales', description='Standing up for the battler..', url='https://t.co/diuYgAwlMh', entities={'url': {'urls': [{'url': 'https://t.co/diuYgAwlMh', 'expanded_url': 'http://www.thebrownsparty.com', 'display_url': 'thebrownsparty.com', 'indices': [0, 23]}]}, 'description': {'urls': []}}, protected=False, followers_count=0, friends_count=4, listed_count=0, created_at=datetime.datetime(2020, 11, 22, 7, 11, 45), favourites_count=1, utc_offset=None, time_zone=None, geo_enabled=False, verified=False, statuses_count=1, lang=None, contributors_enabled=False, is_translator=False, is_translation_enabled=False, profile_background_color='F5F8FA', profile_background_image_url=None, profile_background_image_url_https=None, profile_background_tile=False, profile_image_url='http://pbs.twimg.com/profile_images/1330410040671481858/8gO_9z7a_normal.jpg', profile_image_url_https='https://pbs.twimg.com/profile_images/1330410040671481858/8gO_9z7a_normal.jpg', profile_banner_url='https://pbs.twimg.com/profile_banners/1330408564842770432/1606029481', profile_link_color='1DA1F2', profile_sidebar_border_color='C0DEED', profile_sidebar_fill_color='DDEEF6', profile_text_color='333333', profile_use_background_image=True, has_extended_profile=True, default_profile=True, default_profile_image=False, following=False, follow_request_sent=False, notifications=False, translator_type='none'), geo=None, coordinates=None, place=None, contributors=None, is_quote_status=False, retweet_count=0, favorite_count=1, favorited=False, retweeted=False, possibly_sensitive=False, lang='en'),\n",
       " Status(_api=<tweepy.api.API object at 0x7f0051b7afd0>, _json={'created_at': 'Fri Jul 17 10:42:39 +0000 2020', 'id': 1284076041787469824, 'id_str': '1284076041787469824', 'full_text': 'https://t.co/ffRH9nPeG1', 'truncated': False, 'display_text_range': [0, 0], 'entities': {'hashtags': [], 'symbols': [], 'user_mentions': [], 'urls': [], 'media': [{'id': 1284076036297093120, 'id_str': '1284076036297093120', 'indices': [0, 23], 'media_url': 'http://pbs.twimg.com/media/EdH0WggUcAAOzWW.jpg', 'media_url_https': 'https://pbs.twimg.com/media/EdH0WggUcAAOzWW.jpg', 'url': 'https://t.co/ffRH9nPeG1', 'display_url': 'pic.twitter.com/ffRH9nPeG1', 'expanded_url': 'https://twitter.com/qtsu_/status/1284076041787469824/photo/1', 'type': 'photo', 'sizes': {'thumb': {'w': 150, 'h': 150, 'resize': 'crop'}, 'medium': {'w': 918, 'h': 1200, 'resize': 'fit'}, 'large': {'w': 1080, 'h': 1411, 'resize': 'fit'}, 'small': {'w': 520, 'h': 680, 'resize': 'fit'}}}]}, 'extended_entities': {'media': [{'id': 1284076036297093120, 'id_str': '1284076036297093120', 'indices': [0, 23], 'media_url': 'http://pbs.twimg.com/media/EdH0WggUcAAOzWW.jpg', 'media_url_https': 'https://pbs.twimg.com/media/EdH0WggUcAAOzWW.jpg', 'url': 'https://t.co/ffRH9nPeG1', 'display_url': 'pic.twitter.com/ffRH9nPeG1', 'expanded_url': 'https://twitter.com/qtsu_/status/1284076041787469824/photo/1', 'type': 'photo', 'sizes': {'thumb': {'w': 150, 'h': 150, 'resize': 'crop'}, 'medium': {'w': 918, 'h': 1200, 'resize': 'fit'}, 'large': {'w': 1080, 'h': 1411, 'resize': 'fit'}, 'small': {'w': 520, 'h': 680, 'resize': 'fit'}}}]}, 'source': '<a href=\"http://twitter.com/download/iphone\" rel=\"nofollow\">Twitter for iPhone</a>', 'in_reply_to_status_id': None, 'in_reply_to_status_id_str': None, 'in_reply_to_user_id': None, 'in_reply_to_user_id_str': None, 'in_reply_to_screen_name': None, 'user': {'id': 2731796083, 'id_str': '2731796083', 'name': 'Atsu', 'screen_name': 'qtsu_', 'location': 'ここ', 'description': '郷荘→堺東→...', 'url': None, 'entities': {'description': {'urls': []}}, 'protected': False, 'followers_count': 283, 'friends_count': 278, 'listed_count': 0, 'created_at': 'Thu Aug 14 13:56:20 +0000 2014', 'favourites_count': 1646, 'utc_offset': None, 'time_zone': None, 'geo_enabled': False, 'verified': False, 'statuses_count': 401, 'lang': None, 'contributors_enabled': False, 'is_translator': False, 'is_translation_enabled': False, 'profile_background_color': 'C0DEED', 'profile_background_image_url': 'http://abs.twimg.com/images/themes/theme1/bg.png', 'profile_background_image_url_https': 'https://abs.twimg.com/images/themes/theme1/bg.png', 'profile_background_tile': False, 'profile_image_url': 'http://pbs.twimg.com/profile_images/1137937929517408257/vNrENlUm_normal.jpg', 'profile_image_url_https': 'https://pbs.twimg.com/profile_images/1137937929517408257/vNrENlUm_normal.jpg', 'profile_banner_url': 'https://pbs.twimg.com/profile_banners/2731796083/1560140520', 'profile_link_color': '1DA1F2', 'profile_sidebar_border_color': 'C0DEED', 'profile_sidebar_fill_color': 'DDEEF6', 'profile_text_color': '333333', 'profile_use_background_image': True, 'has_extended_profile': True, 'default_profile': True, 'default_profile_image': False, 'following': False, 'follow_request_sent': False, 'notifications': False, 'translator_type': 'none'}, 'geo': None, 'coordinates': None, 'place': None, 'contributors': None, 'is_quote_status': False, 'retweet_count': 0, 'favorite_count': 0, 'favorited': False, 'retweeted': False, 'possibly_sensitive': False, 'lang': 'und'}, created_at=datetime.datetime(2020, 7, 17, 10, 42, 39), id=1284076041787469824, id_str='1284076041787469824', full_text='https://t.co/ffRH9nPeG1', truncated=False, display_text_range=[0, 0], entities={'hashtags': [], 'symbols': [], 'user_mentions': [], 'urls': [], 'media': [{'id': 1284076036297093120, 'id_str': '1284076036297093120', 'indices': [0, 23], 'media_url': 'http://pbs.twimg.com/media/EdH0WggUcAAOzWW.jpg', 'media_url_https': 'https://pbs.twimg.com/media/EdH0WggUcAAOzWW.jpg', 'url': 'https://t.co/ffRH9nPeG1', 'display_url': 'pic.twitter.com/ffRH9nPeG1', 'expanded_url': 'https://twitter.com/qtsu_/status/1284076041787469824/photo/1', 'type': 'photo', 'sizes': {'thumb': {'w': 150, 'h': 150, 'resize': 'crop'}, 'medium': {'w': 918, 'h': 1200, 'resize': 'fit'}, 'large': {'w': 1080, 'h': 1411, 'resize': 'fit'}, 'small': {'w': 520, 'h': 680, 'resize': 'fit'}}}]}, extended_entities={'media': [{'id': 1284076036297093120, 'id_str': '1284076036297093120', 'indices': [0, 23], 'media_url': 'http://pbs.twimg.com/media/EdH0WggUcAAOzWW.jpg', 'media_url_https': 'https://pbs.twimg.com/media/EdH0WggUcAAOzWW.jpg', 'url': 'https://t.co/ffRH9nPeG1', 'display_url': 'pic.twitter.com/ffRH9nPeG1', 'expanded_url': 'https://twitter.com/qtsu_/status/1284076041787469824/photo/1', 'type': 'photo', 'sizes': {'thumb': {'w': 150, 'h': 150, 'resize': 'crop'}, 'medium': {'w': 918, 'h': 1200, 'resize': 'fit'}, 'large': {'w': 1080, 'h': 1411, 'resize': 'fit'}, 'small': {'w': 520, 'h': 680, 'resize': 'fit'}}}]}, source='Twitter for iPhone', source_url='http://twitter.com/download/iphone', in_reply_to_status_id=None, in_reply_to_status_id_str=None, in_reply_to_user_id=None, in_reply_to_user_id_str=None, in_reply_to_screen_name=None, author=User(_api=<tweepy.api.API object at 0x7f0051b7afd0>, _json={'id': 2731796083, 'id_str': '2731796083', 'name': 'Atsu', 'screen_name': 'qtsu_', 'location': 'ここ', 'description': '郷荘→堺東→...', 'url': None, 'entities': {'description': {'urls': []}}, 'protected': False, 'followers_count': 283, 'friends_count': 278, 'listed_count': 0, 'created_at': 'Thu Aug 14 13:56:20 +0000 2014', 'favourites_count': 1646, 'utc_offset': None, 'time_zone': None, 'geo_enabled': False, 'verified': False, 'statuses_count': 401, 'lang': None, 'contributors_enabled': False, 'is_translator': False, 'is_translation_enabled': False, 'profile_background_color': 'C0DEED', 'profile_background_image_url': 'http://abs.twimg.com/images/themes/theme1/bg.png', 'profile_background_image_url_https': 'https://abs.twimg.com/images/themes/theme1/bg.png', 'profile_background_tile': False, 'profile_image_url': 'http://pbs.twimg.com/profile_images/1137937929517408257/vNrENlUm_normal.jpg', 'profile_image_url_https': 'https://pbs.twimg.com/profile_images/1137937929517408257/vNrENlUm_normal.jpg', 'profile_banner_url': 'https://pbs.twimg.com/profile_banners/2731796083/1560140520', 'profile_link_color': '1DA1F2', 'profile_sidebar_border_color': 'C0DEED', 'profile_sidebar_fill_color': 'DDEEF6', 'profile_text_color': '333333', 'profile_use_background_image': True, 'has_extended_profile': True, 'default_profile': True, 'default_profile_image': False, 'following': False, 'follow_request_sent': False, 'notifications': False, 'translator_type': 'none'}, id=2731796083, id_str='2731796083', name='Atsu', screen_name='qtsu_', location='ここ', description='郷荘→堺東→...', url=None, entities={'description': {'urls': []}}, protected=False, followers_count=283, friends_count=278, listed_count=0, created_at=datetime.datetime(2014, 8, 14, 13, 56, 20), favourites_count=1646, utc_offset=None, time_zone=None, geo_enabled=False, verified=False, statuses_count=401, lang=None, contributors_enabled=False, is_translator=False, is_translation_enabled=False, profile_background_color='C0DEED', profile_background_image_url='http://abs.twimg.com/images/themes/theme1/bg.png', profile_background_image_url_https='https://abs.twimg.com/images/themes/theme1/bg.png', profile_background_tile=False, profile_image_url='http://pbs.twimg.com/profile_images/1137937929517408257/vNrENlUm_normal.jpg', profile_image_url_https='https://pbs.twimg.com/profile_images/1137937929517408257/vNrENlUm_normal.jpg', profile_banner_url='https://pbs.twimg.com/profile_banners/2731796083/1560140520', profile_link_color='1DA1F2', profile_sidebar_border_color='C0DEED', profile_sidebar_fill_color='DDEEF6', profile_text_color='333333', profile_use_background_image=True, has_extended_profile=True, default_profile=True, default_profile_image=False, following=False, follow_request_sent=False, notifications=False, translator_type='none'), user=User(_api=<tweepy.api.API object at 0x7f0051b7afd0>, _json={'id': 2731796083, 'id_str': '2731796083', 'name': 'Atsu', 'screen_name': 'qtsu_', 'location': 'ここ', 'description': '郷荘→堺東→...', 'url': None, 'entities': {'description': {'urls': []}}, 'protected': False, 'followers_count': 283, 'friends_count': 278, 'listed_count': 0, 'created_at': 'Thu Aug 14 13:56:20 +0000 2014', 'favourites_count': 1646, 'utc_offset': None, 'time_zone': None, 'geo_enabled': False, 'verified': False, 'statuses_count': 401, 'lang': None, 'contributors_enabled': False, 'is_translator': False, 'is_translation_enabled': False, 'profile_background_color': 'C0DEED', 'profile_background_image_url': 'http://abs.twimg.com/images/themes/theme1/bg.png', 'profile_background_image_url_https': 'https://abs.twimg.com/images/themes/theme1/bg.png', 'profile_background_tile': False, 'profile_image_url': 'http://pbs.twimg.com/profile_images/1137937929517408257/vNrENlUm_normal.jpg', 'profile_image_url_https': 'https://pbs.twimg.com/profile_images/1137937929517408257/vNrENlUm_normal.jpg', 'profile_banner_url': 'https://pbs.twimg.com/profile_banners/2731796083/1560140520', 'profile_link_color': '1DA1F2', 'profile_sidebar_border_color': 'C0DEED', 'profile_sidebar_fill_color': 'DDEEF6', 'profile_text_color': '333333', 'profile_use_background_image': True, 'has_extended_profile': True, 'default_profile': True, 'default_profile_image': False, 'following': False, 'follow_request_sent': False, 'notifications': False, 'translator_type': 'none'}, id=2731796083, id_str='2731796083', name='Atsu', screen_name='qtsu_', location='ここ', description='郷荘→堺東→...', url=None, entities={'description': {'urls': []}}, protected=False, followers_count=283, friends_count=278, listed_count=0, created_at=datetime.datetime(2014, 8, 14, 13, 56, 20), favourites_count=1646, utc_offset=None, time_zone=None, geo_enabled=False, verified=False, statuses_count=401, lang=None, contributors_enabled=False, is_translator=False, is_translation_enabled=False, profile_background_color='C0DEED', profile_background_image_url='http://abs.twimg.com/images/themes/theme1/bg.png', profile_background_image_url_https='https://abs.twimg.com/images/themes/theme1/bg.png', profile_background_tile=False, profile_image_url='http://pbs.twimg.com/profile_images/1137937929517408257/vNrENlUm_normal.jpg', profile_image_url_https='https://pbs.twimg.com/profile_images/1137937929517408257/vNrENlUm_normal.jpg', profile_banner_url='https://pbs.twimg.com/profile_banners/2731796083/1560140520', profile_link_color='1DA1F2', profile_sidebar_border_color='C0DEED', profile_sidebar_fill_color='DDEEF6', profile_text_color='333333', profile_use_background_image=True, has_extended_profile=True, default_profile=True, default_profile_image=False, following=False, follow_request_sent=False, notifications=False, translator_type='none'), geo=None, coordinates=None, place=None, contributors=None, is_quote_status=False, retweet_count=0, favorite_count=0, favorited=False, retweeted=False, possibly_sensitive=False, lang='und'),\n",
       " Status(_api=<tweepy.api.API object at 0x7f0051b7afd0>, _json={'created_at': 'Mon Aug 12 05:29:44 +0000 2019', 'id': 1160785418201137153, 'id_str': '1160785418201137153', 'full_text': 'Snow Machine: Register for pre-sale access &amp; WIN the ski trip of a lifetime!: https://t.co/U2WOrJRp2e', 'truncated': False, 'display_text_range': [0, 105], 'entities': {'hashtags': [], 'symbols': [], 'user_mentions': [], 'urls': [{'url': 'https://t.co/U2WOrJRp2e', 'expanded_url': 'https://arep.co/VQdPn', 'display_url': 'arep.co/VQdPn', 'indices': [82, 105]}]}, 'source': '<a href=\"https://mobile.twitter.com\" rel=\"nofollow\">Twitter Web App</a>', 'in_reply_to_status_id': None, 'in_reply_to_status_id_str': None, 'in_reply_to_user_id': None, 'in_reply_to_user_id_str': None, 'in_reply_to_screen_name': None, 'user': {'id': 1053782318, 'id_str': '1053782318', 'name': 'Toby Frielink', 'screen_name': 'Tobyfrielink', 'location': '', 'description': '', 'url': None, 'entities': {'description': {'urls': []}}, 'protected': False, 'followers_count': 12, 'friends_count': 63, 'listed_count': 0, 'created_at': 'Wed Jan 02 00:02:37 +0000 2013', 'favourites_count': 47, 'utc_offset': None, 'time_zone': None, 'geo_enabled': False, 'verified': False, 'statuses_count': 9, 'lang': None, 'contributors_enabled': False, 'is_translator': False, 'is_translation_enabled': False, 'profile_background_color': '131516', 'profile_background_image_url': 'http://abs.twimg.com/images/themes/theme14/bg.gif', 'profile_background_image_url_https': 'https://abs.twimg.com/images/themes/theme14/bg.gif', 'profile_background_tile': True, 'profile_image_url': 'http://pbs.twimg.com/profile_images/1016533374435934208/8Mx93c2H_normal.jpg', 'profile_image_url_https': 'https://pbs.twimg.com/profile_images/1016533374435934208/8Mx93c2H_normal.jpg', 'profile_banner_url': 'https://pbs.twimg.com/profile_banners/1053782318/1447755774', 'profile_link_color': '009999', 'profile_sidebar_border_color': 'EEEEEE', 'profile_sidebar_fill_color': 'EFEFEF', 'profile_text_color': '333333', 'profile_use_background_image': True, 'has_extended_profile': False, 'default_profile': False, 'default_profile_image': False, 'following': False, 'follow_request_sent': False, 'notifications': False, 'translator_type': 'none'}, 'geo': None, 'coordinates': None, 'place': None, 'contributors': None, 'is_quote_status': False, 'retweet_count': 0, 'favorite_count': 0, 'favorited': False, 'retweeted': False, 'possibly_sensitive': False, 'lang': 'en'}, created_at=datetime.datetime(2019, 8, 12, 5, 29, 44), id=1160785418201137153, id_str='1160785418201137153', full_text='Snow Machine: Register for pre-sale access &amp; WIN the ski trip of a lifetime!: https://t.co/U2WOrJRp2e', truncated=False, display_text_range=[0, 105], entities={'hashtags': [], 'symbols': [], 'user_mentions': [], 'urls': [{'url': 'https://t.co/U2WOrJRp2e', 'expanded_url': 'https://arep.co/VQdPn', 'display_url': 'arep.co/VQdPn', 'indices': [82, 105]}]}, source='Twitter Web App', source_url='https://mobile.twitter.com', in_reply_to_status_id=None, in_reply_to_status_id_str=None, in_reply_to_user_id=None, in_reply_to_user_id_str=None, in_reply_to_screen_name=None, author=User(_api=<tweepy.api.API object at 0x7f0051b7afd0>, _json={'id': 1053782318, 'id_str': '1053782318', 'name': 'Toby Frielink', 'screen_name': 'Tobyfrielink', 'location': '', 'description': '', 'url': None, 'entities': {'description': {'urls': []}}, 'protected': False, 'followers_count': 12, 'friends_count': 63, 'listed_count': 0, 'created_at': 'Wed Jan 02 00:02:37 +0000 2013', 'favourites_count': 47, 'utc_offset': None, 'time_zone': None, 'geo_enabled': False, 'verified': False, 'statuses_count': 9, 'lang': None, 'contributors_enabled': False, 'is_translator': False, 'is_translation_enabled': False, 'profile_background_color': '131516', 'profile_background_image_url': 'http://abs.twimg.com/images/themes/theme14/bg.gif', 'profile_background_image_url_https': 'https://abs.twimg.com/images/themes/theme14/bg.gif', 'profile_background_tile': True, 'profile_image_url': 'http://pbs.twimg.com/profile_images/1016533374435934208/8Mx93c2H_normal.jpg', 'profile_image_url_https': 'https://pbs.twimg.com/profile_images/1016533374435934208/8Mx93c2H_normal.jpg', 'profile_banner_url': 'https://pbs.twimg.com/profile_banners/1053782318/1447755774', 'profile_link_color': '009999', 'profile_sidebar_border_color': 'EEEEEE', 'profile_sidebar_fill_color': 'EFEFEF', 'profile_text_color': '333333', 'profile_use_background_image': True, 'has_extended_profile': False, 'default_profile': False, 'default_profile_image': False, 'following': False, 'follow_request_sent': False, 'notifications': False, 'translator_type': 'none'}, id=1053782318, id_str='1053782318', name='Toby Frielink', screen_name='Tobyfrielink', location='', description='', url=None, entities={'description': {'urls': []}}, protected=False, followers_count=12, friends_count=63, listed_count=0, created_at=datetime.datetime(2013, 1, 2, 0, 2, 37), favourites_count=47, utc_offset=None, time_zone=None, geo_enabled=False, verified=False, statuses_count=9, lang=None, contributors_enabled=False, is_translator=False, is_translation_enabled=False, profile_background_color='131516', profile_background_image_url='http://abs.twimg.com/images/themes/theme14/bg.gif', profile_background_image_url_https='https://abs.twimg.com/images/themes/theme14/bg.gif', profile_background_tile=True, profile_image_url='http://pbs.twimg.com/profile_images/1016533374435934208/8Mx93c2H_normal.jpg', profile_image_url_https='https://pbs.twimg.com/profile_images/1016533374435934208/8Mx93c2H_normal.jpg', profile_banner_url='https://pbs.twimg.com/profile_banners/1053782318/1447755774', profile_link_color='009999', profile_sidebar_border_color='EEEEEE', profile_sidebar_fill_color='EFEFEF', profile_text_color='333333', profile_use_background_image=True, has_extended_profile=False, default_profile=False, default_profile_image=False, following=False, follow_request_sent=False, notifications=False, translator_type='none'), user=User(_api=<tweepy.api.API object at 0x7f0051b7afd0>, _json={'id': 1053782318, 'id_str': '1053782318', 'name': 'Toby Frielink', 'screen_name': 'Tobyfrielink', 'location': '', 'description': '', 'url': None, 'entities': {'description': {'urls': []}}, 'protected': False, 'followers_count': 12, 'friends_count': 63, 'listed_count': 0, 'created_at': 'Wed Jan 02 00:02:37 +0000 2013', 'favourites_count': 47, 'utc_offset': None, 'time_zone': None, 'geo_enabled': False, 'verified': False, 'statuses_count': 9, 'lang': None, 'contributors_enabled': False, 'is_translator': False, 'is_translation_enabled': False, 'profile_background_color': '131516', 'profile_background_image_url': 'http://abs.twimg.com/images/themes/theme14/bg.gif', 'profile_background_image_url_https': 'https://abs.twimg.com/images/themes/theme14/bg.gif', 'profile_background_tile': True, 'profile_image_url': 'http://pbs.twimg.com/profile_images/1016533374435934208/8Mx93c2H_normal.jpg', 'profile_image_url_https': 'https://pbs.twimg.com/profile_images/1016533374435934208/8Mx93c2H_normal.jpg', 'profile_banner_url': 'https://pbs.twimg.com/profile_banners/1053782318/1447755774', 'profile_link_color': '009999', 'profile_sidebar_border_color': 'EEEEEE', 'profile_sidebar_fill_color': 'EFEFEF', 'profile_text_color': '333333', 'profile_use_background_image': True, 'has_extended_profile': False, 'default_profile': False, 'default_profile_image': False, 'following': False, 'follow_request_sent': False, 'notifications': False, 'translator_type': 'none'}, id=1053782318, id_str='1053782318', name='Toby Frielink', screen_name='Tobyfrielink', location='', description='', url=None, entities={'description': {'urls': []}}, protected=False, followers_count=12, friends_count=63, listed_count=0, created_at=datetime.datetime(2013, 1, 2, 0, 2, 37), favourites_count=47, utc_offset=None, time_zone=None, geo_enabled=False, verified=False, statuses_count=9, lang=None, contributors_enabled=False, is_translator=False, is_translation_enabled=False, profile_background_color='131516', profile_background_image_url='http://abs.twimg.com/images/themes/theme14/bg.gif', profile_background_image_url_https='https://abs.twimg.com/images/themes/theme14/bg.gif', profile_background_tile=True, profile_image_url='http://pbs.twimg.com/profile_images/1016533374435934208/8Mx93c2H_normal.jpg', profile_image_url_https='https://pbs.twimg.com/profile_images/1016533374435934208/8Mx93c2H_normal.jpg', profile_banner_url='https://pbs.twimg.com/profile_banners/1053782318/1447755774', profile_link_color='009999', profile_sidebar_border_color='EEEEEE', profile_sidebar_fill_color='EFEFEF', profile_text_color='333333', profile_use_background_image=True, has_extended_profile=False, default_profile=False, default_profile_image=False, following=False, follow_request_sent=False, notifications=False, translator_type='none'), geo=None, coordinates=None, place=None, contributors=None, is_quote_status=False, retweet_count=0, favorite_count=0, favorited=False, retweeted=False, possibly_sensitive=False, lang='en'),\n",
       " Status(_api=<tweepy.api.API object at 0x7f0051b7afd0>, _json={'created_at': 'Sun Nov 15 11:22:44 +0000 2020', 'id': 1327935060742270978, 'id_str': '1327935060742270978', 'full_text': '@sweeetbabym You all on point 😍😏', 'truncated': False, 'display_text_range': [13, 32], 'entities': {'hashtags': [], 'symbols': [], 'user_mentions': [{'screen_name': 'sweeetbabym', 'name': 'TINY RICK', 'id': 1272939624, 'id_str': '1272939624', 'indices': [0, 12]}], 'urls': []}, 'source': '<a href=\"http://twitter.com/download/iphone\" rel=\"nofollow\">Twitter for iPhone</a>', 'in_reply_to_status_id': 1327759566575165453, 'in_reply_to_status_id_str': '1327759566575165453', 'in_reply_to_user_id': 1272939624, 'in_reply_to_user_id_str': '1272939624', 'in_reply_to_screen_name': 'sweeetbabym', 'user': {'id': 351425326, 'id_str': '351425326', 'name': 'Malck', 'screen_name': 'KingmakivMalck', 'location': 'Inglewood ', 'description': 'Est.96  Cold like December 🙊🙉🙈 October’s Upcoming Star', 'url': None, 'entities': {'description': {'urls': []}}, 'protected': False, 'followers_count': 296, 'friends_count': 457, 'listed_count': 0, 'created_at': 'Tue Aug 09 07:00:18 +0000 2011', 'favourites_count': 588, 'utc_offset': None, 'time_zone': None, 'geo_enabled': True, 'verified': False, 'statuses_count': 7621, 'lang': None, 'contributors_enabled': False, 'is_translator': False, 'is_translation_enabled': False, 'profile_background_color': 'ACDED6', 'profile_background_image_url': 'http://abs.twimg.com/images/themes/theme11/bg.gif', 'profile_background_image_url_https': 'https://abs.twimg.com/images/themes/theme11/bg.gif', 'profile_background_tile': True, 'profile_image_url': 'http://pbs.twimg.com/profile_images/1311986589480886274/rktvY_to_normal.jpg', 'profile_image_url_https': 'https://pbs.twimg.com/profile_images/1311986589480886274/rktvY_to_normal.jpg', 'profile_banner_url': 'https://pbs.twimg.com/profile_banners/351425326/1601636953', 'profile_link_color': '038543', 'profile_sidebar_border_color': '000000', 'profile_sidebar_fill_color': 'E5507E', 'profile_text_color': '362720', 'profile_use_background_image': True, 'has_extended_profile': False, 'default_profile': False, 'default_profile_image': False, 'following': False, 'follow_request_sent': False, 'notifications': False, 'translator_type': 'none'}, 'geo': None, 'coordinates': None, 'place': None, 'contributors': None, 'is_quote_status': False, 'retweet_count': 0, 'favorite_count': 0, 'favorited': False, 'retweeted': False, 'lang': 'en'}, created_at=datetime.datetime(2020, 11, 15, 11, 22, 44), id=1327935060742270978, id_str='1327935060742270978', full_text='@sweeetbabym You all on point 😍😏', truncated=False, display_text_range=[13, 32], entities={'hashtags': [], 'symbols': [], 'user_mentions': [{'screen_name': 'sweeetbabym', 'name': 'TINY RICK', 'id': 1272939624, 'id_str': '1272939624', 'indices': [0, 12]}], 'urls': []}, source='Twitter for iPhone', source_url='http://twitter.com/download/iphone', in_reply_to_status_id=1327759566575165453, in_reply_to_status_id_str='1327759566575165453', in_reply_to_user_id=1272939624, in_reply_to_user_id_str='1272939624', in_reply_to_screen_name='sweeetbabym', author=User(_api=<tweepy.api.API object at 0x7f0051b7afd0>, _json={'id': 351425326, 'id_str': '351425326', 'name': 'Malck', 'screen_name': 'KingmakivMalck', 'location': 'Inglewood ', 'description': 'Est.96  Cold like December 🙊🙉🙈 October’s Upcoming Star', 'url': None, 'entities': {'description': {'urls': []}}, 'protected': False, 'followers_count': 296, 'friends_count': 457, 'listed_count': 0, 'created_at': 'Tue Aug 09 07:00:18 +0000 2011', 'favourites_count': 588, 'utc_offset': None, 'time_zone': None, 'geo_enabled': True, 'verified': False, 'statuses_count': 7621, 'lang': None, 'contributors_enabled': False, 'is_translator': False, 'is_translation_enabled': False, 'profile_background_color': 'ACDED6', 'profile_background_image_url': 'http://abs.twimg.com/images/themes/theme11/bg.gif', 'profile_background_image_url_https': 'https://abs.twimg.com/images/themes/theme11/bg.gif', 'profile_background_tile': True, 'profile_image_url': 'http://pbs.twimg.com/profile_images/1311986589480886274/rktvY_to_normal.jpg', 'profile_image_url_https': 'https://pbs.twimg.com/profile_images/1311986589480886274/rktvY_to_normal.jpg', 'profile_banner_url': 'https://pbs.twimg.com/profile_banners/351425326/1601636953', 'profile_link_color': '038543', 'profile_sidebar_border_color': '000000', 'profile_sidebar_fill_color': 'E5507E', 'profile_text_color': '362720', 'profile_use_background_image': True, 'has_extended_profile': False, 'default_profile': False, 'default_profile_image': False, 'following': False, 'follow_request_sent': False, 'notifications': False, 'translator_type': 'none'}, id=351425326, id_str='351425326', name='Malck', screen_name='KingmakivMalck', location='Inglewood ', description='Est.96  Cold like December 🙊🙉🙈 October’s Upcoming Star', url=None, entities={'description': {'urls': []}}, protected=False, followers_count=296, friends_count=457, listed_count=0, created_at=datetime.datetime(2011, 8, 9, 7, 0, 18), favourites_count=588, utc_offset=None, time_zone=None, geo_enabled=True, verified=False, statuses_count=7621, lang=None, contributors_enabled=False, is_translator=False, is_translation_enabled=False, profile_background_color='ACDED6', profile_background_image_url='http://abs.twimg.com/images/themes/theme11/bg.gif', profile_background_image_url_https='https://abs.twimg.com/images/themes/theme11/bg.gif', profile_background_tile=True, profile_image_url='http://pbs.twimg.com/profile_images/1311986589480886274/rktvY_to_normal.jpg', profile_image_url_https='https://pbs.twimg.com/profile_images/1311986589480886274/rktvY_to_normal.jpg', profile_banner_url='https://pbs.twimg.com/profile_banners/351425326/1601636953', profile_link_color='038543', profile_sidebar_border_color='000000', profile_sidebar_fill_color='E5507E', profile_text_color='362720', profile_use_background_image=True, has_extended_profile=False, default_profile=False, default_profile_image=False, following=False, follow_request_sent=False, notifications=False, translator_type='none'), user=User(_api=<tweepy.api.API object at 0x7f0051b7afd0>, _json={'id': 351425326, 'id_str': '351425326', 'name': 'Malck', 'screen_name': 'KingmakivMalck', 'location': 'Inglewood ', 'description': 'Est.96  Cold like December 🙊🙉🙈 October’s Upcoming Star', 'url': None, 'entities': {'description': {'urls': []}}, 'protected': False, 'followers_count': 296, 'friends_count': 457, 'listed_count': 0, 'created_at': 'Tue Aug 09 07:00:18 +0000 2011', 'favourites_count': 588, 'utc_offset': None, 'time_zone': None, 'geo_enabled': True, 'verified': False, 'statuses_count': 7621, 'lang': None, 'contributors_enabled': False, 'is_translator': False, 'is_translation_enabled': False, 'profile_background_color': 'ACDED6', 'profile_background_image_url': 'http://abs.twimg.com/images/themes/theme11/bg.gif', 'profile_background_image_url_https': 'https://abs.twimg.com/images/themes/theme11/bg.gif', 'profile_background_tile': True, 'profile_image_url': 'http://pbs.twimg.com/profile_images/1311986589480886274/rktvY_to_normal.jpg', 'profile_image_url_https': 'https://pbs.twimg.com/profile_images/1311986589480886274/rktvY_to_normal.jpg', 'profile_banner_url': 'https://pbs.twimg.com/profile_banners/351425326/1601636953', 'profile_link_color': '038543', 'profile_sidebar_border_color': '000000', 'profile_sidebar_fill_color': 'E5507E', 'profile_text_color': '362720', 'profile_use_background_image': True, 'has_extended_profile': False, 'default_profile': False, 'default_profile_image': False, 'following': False, 'follow_request_sent': False, 'notifications': False, 'translator_type': 'none'}, id=351425326, id_str='351425326', name='Malck', screen_name='KingmakivMalck', location='Inglewood ', description='Est.96  Cold like December 🙊🙉🙈 October’s Upcoming Star', url=None, entities={'description': {'urls': []}}, protected=False, followers_count=296, friends_count=457, listed_count=0, created_at=datetime.datetime(2011, 8, 9, 7, 0, 18), favourites_count=588, utc_offset=None, time_zone=None, geo_enabled=True, verified=False, statuses_count=7621, lang=None, contributors_enabled=False, is_translator=False, is_translation_enabled=False, profile_background_color='ACDED6', profile_background_image_url='http://abs.twimg.com/images/themes/theme11/bg.gif', profile_background_image_url_https='https://abs.twimg.com/images/themes/theme11/bg.gif', profile_background_tile=True, profile_image_url='http://pbs.twimg.com/profile_images/1311986589480886274/rktvY_to_normal.jpg', profile_image_url_https='https://pbs.twimg.com/profile_images/1311986589480886274/rktvY_to_normal.jpg', profile_banner_url='https://pbs.twimg.com/profile_banners/351425326/1601636953', profile_link_color='038543', profile_sidebar_border_color='000000', profile_sidebar_fill_color='E5507E', profile_text_color='362720', profile_use_background_image=True, has_extended_profile=False, default_profile=False, default_profile_image=False, following=False, follow_request_sent=False, notifications=False, translator_type='none'), geo=None, coordinates=None, place=None, contributors=None, is_quote_status=False, retweet_count=0, favorite_count=0, favorited=False, retweeted=False, lang='en'),\n",
       " Status(_api=<tweepy.api.API object at 0x7f0051b7afd0>, _json={'created_at': 'Mon Nov 09 05:13:19 +0000 2020', 'id': 1325667765013737472, 'id_str': '1325667765013737472', 'full_text': '😂😂😂😂😂😂 https://t.co/EDuH6qPk4w', 'truncated': False, 'display_text_range': [0, 6], 'entities': {'hashtags': [], 'symbols': [], 'user_mentions': [], 'urls': [{'url': 'https://t.co/EDuH6qPk4w', 'expanded_url': 'https://twitter.com/AzChike/status/1325586758055170048', 'display_url': 'twitter.com/AzChike/status…', 'indices': [7, 30]}]}, 'source': '<a href=\"http://twitter.com/download/iphone\" rel=\"nofollow\">Twitter for iPhone</a>', 'in_reply_to_status_id': None, 'in_reply_to_status_id_str': None, 'in_reply_to_user_id': None, 'in_reply_to_user_id_str': None, 'in_reply_to_screen_name': None, 'user': {'id': 351425326, 'id_str': '351425326', 'name': 'Malck', 'screen_name': 'KingmakivMalck', 'location': 'Inglewood ', 'description': 'Est.96  Cold like December 🙊🙉🙈 October’s Upcoming Star', 'url': None, 'entities': {'description': {'urls': []}}, 'protected': False, 'followers_count': 296, 'friends_count': 457, 'listed_count': 0, 'created_at': 'Tue Aug 09 07:00:18 +0000 2011', 'favourites_count': 588, 'utc_offset': None, 'time_zone': None, 'geo_enabled': True, 'verified': False, 'statuses_count': 7621, 'lang': None, 'contributors_enabled': False, 'is_translator': False, 'is_translation_enabled': False, 'profile_background_color': 'ACDED6', 'profile_background_image_url': 'http://abs.twimg.com/images/themes/theme11/bg.gif', 'profile_background_image_url_https': 'https://abs.twimg.com/images/themes/theme11/bg.gif', 'profile_background_tile': True, 'profile_image_url': 'http://pbs.twimg.com/profile_images/1311986589480886274/rktvY_to_normal.jpg', 'profile_image_url_https': 'https://pbs.twimg.com/profile_images/1311986589480886274/rktvY_to_normal.jpg', 'profile_banner_url': 'https://pbs.twimg.com/profile_banners/351425326/1601636953', 'profile_link_color': '038543', 'profile_sidebar_border_color': '000000', 'profile_sidebar_fill_color': 'E5507E', 'profile_text_color': '362720', 'profile_use_background_image': True, 'has_extended_profile': False, 'default_profile': False, 'default_profile_image': False, 'following': False, 'follow_request_sent': False, 'notifications': False, 'translator_type': 'none'}, 'geo': None, 'coordinates': None, 'place': None, 'contributors': None, 'is_quote_status': True, 'quoted_status_id': 1325586758055170048, 'quoted_status_id_str': '1325586758055170048', 'quoted_status_permalink': {'url': 'https://t.co/EDuH6qPk4w', 'expanded': 'https://twitter.com/AzChike/status/1325586758055170048', 'display': 'twitter.com/AzChike/status…'}, 'quoted_status': {'created_at': 'Sun Nov 08 23:51:25 +0000 2020', 'id': 1325586758055170048, 'id_str': '1325586758055170048', 'full_text': 'Being from LA, this video jokes asf. https://t.co/gUZ42DeI4C', 'truncated': False, 'display_text_range': [0, 36], 'entities': {'hashtags': [], 'symbols': [], 'user_mentions': [], 'urls': [], 'media': [{'id': 1325586690199736321, 'id_str': '1325586690199736321', 'indices': [37, 60], 'media_url': 'http://pbs.twimg.com/ext_tw_video_thumb/1325586690199736321/pu/img/_JAjTNYe8WTwoOpj.jpg', 'media_url_https': 'https://pbs.twimg.com/ext_tw_video_thumb/1325586690199736321/pu/img/_JAjTNYe8WTwoOpj.jpg', 'url': 'https://t.co/gUZ42DeI4C', 'display_url': 'pic.twitter.com/gUZ42DeI4C', 'expanded_url': 'https://twitter.com/AzChike/status/1325586758055170048/video/1', 'type': 'photo', 'sizes': {'medium': {'w': 640, 'h': 640, 'resize': 'fit'}, 'thumb': {'w': 150, 'h': 150, 'resize': 'crop'}, 'large': {'w': 640, 'h': 640, 'resize': 'fit'}, 'small': {'w': 640, 'h': 640, 'resize': 'fit'}}}]}, 'extended_entities': {'media': [{'id': 1325586690199736321, 'id_str': '1325586690199736321', 'indices': [37, 60], 'media_url': 'http://pbs.twimg.com/ext_tw_video_thumb/1325586690199736321/pu/img/_JAjTNYe8WTwoOpj.jpg', 'media_url_https': 'https://pbs.twimg.com/ext_tw_video_thumb/1325586690199736321/pu/img/_JAjTNYe8WTwoOpj.jpg', 'url': 'https://t.co/gUZ42DeI4C', 'display_url': 'pic.twitter.com/gUZ42DeI4C', 'expanded_url': 'https://twitter.com/AzChike/status/1325586758055170048/video/1', 'type': 'video', 'sizes': {'medium': {'w': 640, 'h': 640, 'resize': 'fit'}, 'thumb': {'w': 150, 'h': 150, 'resize': 'crop'}, 'large': {'w': 640, 'h': 640, 'resize': 'fit'}, 'small': {'w': 640, 'h': 640, 'resize': 'fit'}}, 'video_info': {'aspect_ratio': [1, 1], 'duration_millis': 53800, 'variants': [{'content_type': 'application/x-mpegURL', 'url': 'https://video.twimg.com/ext_tw_video/1325586690199736321/pu/pl/8QPIV-bRsacYwdDj.m3u8?tag=10'}, {'bitrate': 432000, 'content_type': 'video/mp4', 'url': 'https://video.twimg.com/ext_tw_video/1325586690199736321/pu/vid/320x320/nWrcTYSeTp3Tt-kt.mp4?tag=10'}, {'bitrate': 1280000, 'content_type': 'video/mp4', 'url': 'https://video.twimg.com/ext_tw_video/1325586690199736321/pu/vid/640x640/pE8KSJQyUwDHK1YU.mp4?tag=10'}, {'bitrate': 832000, 'content_type': 'video/mp4', 'url': 'https://video.twimg.com/ext_tw_video/1325586690199736321/pu/vid/480x480/rNRw5sko8M-G4GDp.mp4?tag=10'}]}, 'additional_media_info': {'monetizable': False}}]}, 'source': '<a href=\"http://twitter.com/download/iphone\" rel=\"nofollow\">Twitter for iPhone</a>', 'in_reply_to_status_id': None, 'in_reply_to_status_id_str': None, 'in_reply_to_user_id': None, 'in_reply_to_user_id_str': None, 'in_reply_to_screen_name': None, 'user': {'id': 95967147, 'id_str': '95967147', 'name': 'CULT MEMBER. ⚔️', 'screen_name': 'AzChike', 'location': 'LA', 'description': 'rbarongroup@gmail.com', 'url': 'https://t.co/8DstxUo2Ak', 'entities': {'url': {'urls': [{'url': 'https://t.co/8DstxUo2Ak', 'expanded_url': 'https://music.apple.com/us/album/gee-oh-dee-ep/1528633773', 'display_url': 'music.apple.com/us/album/gee-o…', 'indices': [0, 23]}]}, 'description': {'urls': []}}, 'protected': False, 'followers_count': 21925, 'friends_count': 1344, 'listed_count': 40, 'created_at': 'Thu Dec 10 19:33:29 +0000 2009', 'favourites_count': 42051, 'utc_offset': None, 'time_zone': None, 'geo_enabled': True, 'verified': True, 'statuses_count': 85561, 'lang': None, 'contributors_enabled': False, 'is_translator': False, 'is_translation_enabled': False, 'profile_background_color': '1A1B1F', 'profile_background_image_url': 'http://abs.twimg.com/images/themes/theme15/bg.png', 'profile_background_image_url_https': 'https://abs.twimg.com/images/themes/theme15/bg.png', 'profile_background_tile': True, 'profile_image_url': 'http://pbs.twimg.com/profile_images/1323167849708359680/IlFStxv8_normal.jpg', 'profile_image_url_https': 'https://pbs.twimg.com/profile_images/1323167849708359680/IlFStxv8_normal.jpg', 'profile_banner_url': 'https://pbs.twimg.com/profile_banners/95967147/1567424932', 'profile_link_color': '9266CC', 'profile_sidebar_border_color': 'FFFFFF', 'profile_sidebar_fill_color': '000000', 'profile_text_color': '666666', 'profile_use_background_image': True, 'has_extended_profile': True, 'default_profile': False, 'default_profile_image': False, 'following': False, 'follow_request_sent': False, 'notifications': False, 'translator_type': 'regular'}, 'geo': None, 'coordinates': None, 'place': None, 'contributors': None, 'is_quote_status': False, 'retweet_count': 442, 'favorite_count': 1669, 'favorited': False, 'retweeted': False, 'possibly_sensitive': False, 'lang': 'en'}, 'retweet_count': 0, 'favorite_count': 0, 'favorited': False, 'retweeted': False, 'possibly_sensitive': False, 'lang': 'und'}, created_at=datetime.datetime(2020, 11, 9, 5, 13, 19), id=1325667765013737472, id_str='1325667765013737472', full_text='😂😂😂😂😂😂 https://t.co/EDuH6qPk4w', truncated=False, display_text_range=[0, 6], entities={'hashtags': [], 'symbols': [], 'user_mentions': [], 'urls': [{'url': 'https://t.co/EDuH6qPk4w', 'expanded_url': 'https://twitter.com/AzChike/status/1325586758055170048', 'display_url': 'twitter.com/AzChike/status…', 'indices': [7, 30]}]}, source='Twitter for iPhone', source_url='http://twitter.com/download/iphone', in_reply_to_status_id=None, in_reply_to_status_id_str=None, in_reply_to_user_id=None, in_reply_to_user_id_str=None, in_reply_to_screen_name=None, author=User(_api=<tweepy.api.API object at 0x7f0051b7afd0>, _json={'id': 351425326, 'id_str': '351425326', 'name': 'Malck', 'screen_name': 'KingmakivMalck', 'location': 'Inglewood ', 'description': 'Est.96  Cold like December 🙊🙉🙈 October’s Upcoming Star', 'url': None, 'entities': {'description': {'urls': []}}, 'protected': False, 'followers_count': 296, 'friends_count': 457, 'listed_count': 0, 'created_at': 'Tue Aug 09 07:00:18 +0000 2011', 'favourites_count': 588, 'utc_offset': None, 'time_zone': None, 'geo_enabled': True, 'verified': False, 'statuses_count': 7621, 'lang': None, 'contributors_enabled': False, 'is_translator': False, 'is_translation_enabled': False, 'profile_background_color': 'ACDED6', 'profile_background_image_url': 'http://abs.twimg.com/images/themes/theme11/bg.gif', 'profile_background_image_url_https': 'https://abs.twimg.com/images/themes/theme11/bg.gif', 'profile_background_tile': True, 'profile_image_url': 'http://pbs.twimg.com/profile_images/1311986589480886274/rktvY_to_normal.jpg', 'profile_image_url_https': 'https://pbs.twimg.com/profile_images/1311986589480886274/rktvY_to_normal.jpg', 'profile_banner_url': 'https://pbs.twimg.com/profile_banners/351425326/1601636953', 'profile_link_color': '038543', 'profile_sidebar_border_color': '000000', 'profile_sidebar_fill_color': 'E5507E', 'profile_text_color': '362720', 'profile_use_background_image': True, 'has_extended_profile': False, 'default_profile': False, 'default_profile_image': False, 'following': False, 'follow_request_sent': False, 'notifications': False, 'translator_type': 'none'}, id=351425326, id_str='351425326', name='Malck', screen_name='KingmakivMalck', location='Inglewood ', description='Est.96  Cold like December 🙊🙉🙈 October’s Upcoming Star', url=None, entities={'description': {'urls': []}}, protected=False, followers_count=296, friends_count=457, listed_count=0, created_at=datetime.datetime(2011, 8, 9, 7, 0, 18), favourites_count=588, utc_offset=None, time_zone=None, geo_enabled=True, verified=False, statuses_count=7621, lang=None, contributors_enabled=False, is_translator=False, is_translation_enabled=False, profile_background_color='ACDED6', profile_background_image_url='http://abs.twimg.com/images/themes/theme11/bg.gif', profile_background_image_url_https='https://abs.twimg.com/images/themes/theme11/bg.gif', profile_background_tile=True, profile_image_url='http://pbs.twimg.com/profile_images/1311986589480886274/rktvY_to_normal.jpg', profile_image_url_https='https://pbs.twimg.com/profile_images/1311986589480886274/rktvY_to_normal.jpg', profile_banner_url='https://pbs.twimg.com/profile_banners/351425326/1601636953', profile_link_color='038543', profile_sidebar_border_color='000000', profile_sidebar_fill_color='E5507E', profile_text_color='362720', profile_use_background_image=True, has_extended_profile=False, default_profile=False, default_profile_image=False, following=False, follow_request_sent=False, notifications=False, translator_type='none'), user=User(_api=<tweepy.api.API object at 0x7f0051b7afd0>, _json={'id': 351425326, 'id_str': '351425326', 'name': 'Malck', 'screen_name': 'KingmakivMalck', 'location': 'Inglewood ', 'description': 'Est.96  Cold like December 🙊🙉🙈 October’s Upcoming Star', 'url': None, 'entities': {'description': {'urls': []}}, 'protected': False, 'followers_count': 296, 'friends_count': 457, 'listed_count': 0, 'created_at': 'Tue Aug 09 07:00:18 +0000 2011', 'favourites_count': 588, 'utc_offset': None, 'time_zone': None, 'geo_enabled': True, 'verified': False, 'statuses_count': 7621, 'lang': None, 'contributors_enabled': False, 'is_translator': False, 'is_translation_enabled': False, 'profile_background_color': 'ACDED6', 'profile_background_image_url': 'http://abs.twimg.com/images/themes/theme11/bg.gif', 'profile_background_image_url_https': 'https://abs.twimg.com/images/themes/theme11/bg.gif', 'profile_background_tile': True, 'profile_image_url': 'http://pbs.twimg.com/profile_images/1311986589480886274/rktvY_to_normal.jpg', 'profile_image_url_https': 'https://pbs.twimg.com/profile_images/1311986589480886274/rktvY_to_normal.jpg', 'profile_banner_url': 'https://pbs.twimg.com/profile_banners/351425326/1601636953', 'profile_link_color': '038543', 'profile_sidebar_border_color': '000000', 'profile_sidebar_fill_color': 'E5507E', 'profile_text_color': '362720', 'profile_use_background_image': True, 'has_extended_profile': False, 'default_profile': False, 'default_profile_image': False, 'following': False, 'follow_request_sent': False, 'notifications': False, 'translator_type': 'none'}, id=351425326, id_str='351425326', name='Malck', screen_name='KingmakivMalck', location='Inglewood ', description='Est.96  Cold like December 🙊🙉🙈 October’s Upcoming Star', url=None, entities={'description': {'urls': []}}, protected=False, followers_count=296, friends_count=457, listed_count=0, created_at=datetime.datetime(2011, 8, 9, 7, 0, 18), favourites_count=588, utc_offset=None, time_zone=None, geo_enabled=True, verified=False, statuses_count=7621, lang=None, contributors_enabled=False, is_translator=False, is_translation_enabled=False, profile_background_color='ACDED6', profile_background_image_url='http://abs.twimg.com/images/themes/theme11/bg.gif', profile_background_image_url_https='https://abs.twimg.com/images/themes/theme11/bg.gif', profile_background_tile=True, profile_image_url='http://pbs.twimg.com/profile_images/1311986589480886274/rktvY_to_normal.jpg', profile_image_url_https='https://pbs.twimg.com/profile_images/1311986589480886274/rktvY_to_normal.jpg', profile_banner_url='https://pbs.twimg.com/profile_banners/351425326/1601636953', profile_link_color='038543', profile_sidebar_border_color='000000', profile_sidebar_fill_color='E5507E', profile_text_color='362720', profile_use_background_image=True, has_extended_profile=False, default_profile=False, default_profile_image=False, following=False, follow_request_sent=False, notifications=False, translator_type='none'), geo=None, coordinates=None, place=None, contributors=None, is_quote_status=True, quoted_status_id=1325586758055170048, quoted_status_id_str='1325586758055170048', quoted_status_permalink={'url': 'https://t.co/EDuH6qPk4w', 'expanded': 'https://twitter.com/AzChike/status/1325586758055170048', 'display': 'twitter.com/AzChike/status…'}, quoted_status=Status(_api=<tweepy.api.API object at 0x7f0051b7afd0>, _json={'created_at': 'Sun Nov 08 23:51:25 +0000 2020', 'id': 1325586758055170048, 'id_str': '1325586758055170048', 'full_text': 'Being from LA, this video jokes asf. https://t.co/gUZ42DeI4C', 'truncated': False, 'display_text_range': [0, 36], 'entities': {'hashtags': [], 'symbols': [], 'user_mentions': [], 'urls': [], 'media': [{'id': 1325586690199736321, 'id_str': '1325586690199736321', 'indices': [37, 60], 'media_url': 'http://pbs.twimg.com/ext_tw_video_thumb/1325586690199736321/pu/img/_JAjTNYe8WTwoOpj.jpg', 'media_url_https': 'https://pbs.twimg.com/ext_tw_video_thumb/1325586690199736321/pu/img/_JAjTNYe8WTwoOpj.jpg', 'url': 'https://t.co/gUZ42DeI4C', 'display_url': 'pic.twitter.com/gUZ42DeI4C', 'expanded_url': 'https://twitter.com/AzChike/status/1325586758055170048/video/1', 'type': 'photo', 'sizes': {'medium': {'w': 640, 'h': 640, 'resize': 'fit'}, 'thumb': {'w': 150, 'h': 150, 'resize': 'crop'}, 'large': {'w': 640, 'h': 640, 'resize': 'fit'}, 'small': {'w': 640, 'h': 640, 'resize': 'fit'}}}]}, 'extended_entities': {'media': [{'id': 1325586690199736321, 'id_str': '1325586690199736321', 'indices': [37, 60], 'media_url': 'http://pbs.twimg.com/ext_tw_video_thumb/1325586690199736321/pu/img/_JAjTNYe8WTwoOpj.jpg', 'media_url_https': 'https://pbs.twimg.com/ext_tw_video_thumb/1325586690199736321/pu/img/_JAjTNYe8WTwoOpj.jpg', 'url': 'https://t.co/gUZ42DeI4C', 'display_url': 'pic.twitter.com/gUZ42DeI4C', 'expanded_url': 'https://twitter.com/AzChike/status/1325586758055170048/video/1', 'type': 'video', 'sizes': {'medium': {'w': 640, 'h': 640, 'resize': 'fit'}, 'thumb': {'w': 150, 'h': 150, 'resize': 'crop'}, 'large': {'w': 640, 'h': 640, 'resize': 'fit'}, 'small': {'w': 640, 'h': 640, 'resize': 'fit'}}, 'video_info': {'aspect_ratio': [1, 1], 'duration_millis': 53800, 'variants': [{'content_type': 'application/x-mpegURL', 'url': 'https://video.twimg.com/ext_tw_video/1325586690199736321/pu/pl/8QPIV-bRsacYwdDj.m3u8?tag=10'}, {'bitrate': 432000, 'content_type': 'video/mp4', 'url': 'https://video.twimg.com/ext_tw_video/1325586690199736321/pu/vid/320x320/nWrcTYSeTp3Tt-kt.mp4?tag=10'}, {'bitrate': 1280000, 'content_type': 'video/mp4', 'url': 'https://video.twimg.com/ext_tw_video/1325586690199736321/pu/vid/640x640/pE8KSJQyUwDHK1YU.mp4?tag=10'}, {'bitrate': 832000, 'content_type': 'video/mp4', 'url': 'https://video.twimg.com/ext_tw_video/1325586690199736321/pu/vid/480x480/rNRw5sko8M-G4GDp.mp4?tag=10'}]}, 'additional_media_info': {'monetizable': False}}]}, 'source': '<a href=\"http://twitter.com/download/iphone\" rel=\"nofollow\">Twitter for iPhone</a>', 'in_reply_to_status_id': None, 'in_reply_to_status_id_str': None, 'in_reply_to_user_id': None, 'in_reply_to_user_id_str': None, 'in_reply_to_screen_name': None, 'user': {'id': 95967147, 'id_str': '95967147', 'name': 'CULT MEMBER. ⚔️', 'screen_name': 'AzChike', 'location': 'LA', 'description': 'rbarongroup@gmail.com', 'url': 'https://t.co/8DstxUo2Ak', 'entities': {'url': {'urls': [{'url': 'https://t.co/8DstxUo2Ak', 'expanded_url': 'https://music.apple.com/us/album/gee-oh-dee-ep/1528633773', 'display_url': 'music.apple.com/us/album/gee-o…', 'indices': [0, 23]}]}, 'description': {'urls': []}}, 'protected': False, 'followers_count': 21925, 'friends_count': 1344, 'listed_count': 40, 'created_at': 'Thu Dec 10 19:33:29 +0000 2009', 'favourites_count': 42051, 'utc_offset': None, 'time_zone': None, 'geo_enabled': True, 'verified': True, 'statuses_count': 85561, 'lang': None, 'contributors_enabled': False, 'is_translator': False, 'is_translation_enabled': False, 'profile_background_color': '1A1B1F', 'profile_background_image_url': 'http://abs.twimg.com/images/themes/theme15/bg.png', 'profile_background_image_url_https': 'https://abs.twimg.com/images/themes/theme15/bg.png', 'profile_background_tile': True, 'profile_image_url': 'http://pbs.twimg.com/profile_images/1323167849708359680/IlFStxv8_normal.jpg', 'profile_image_url_https': 'https://pbs.twimg.com/profile_images/1323167849708359680/IlFStxv8_normal.jpg', 'profile_banner_url': 'https://pbs.twimg.com/profile_banners/95967147/1567424932', 'profile_link_color': '9266CC', 'profile_sidebar_border_color': 'FFFFFF', 'profile_sidebar_fill_color': '000000', 'profile_text_color': '666666', 'profile_use_background_image': True, 'has_extended_profile': True, 'default_profile': False, 'default_profile_image': False, 'following': False, 'follow_request_sent': False, 'notifications': False, 'translator_type': 'regular'}, 'geo': None, 'coordinates': None, 'place': None, 'contributors': None, 'is_quote_status': False, 'retweet_count': 442, 'favorite_count': 1669, 'favorited': False, 'retweeted': False, 'possibly_sensitive': False, 'lang': 'en'}, created_at=datetime.datetime(2020, 11, 8, 23, 51, 25), id=1325586758055170048, id_str='1325586758055170048', full_text='Being from LA, this video jokes asf. https://t.co/gUZ42DeI4C', truncated=False, display_text_range=[0, 36], entities={'hashtags': [], 'symbols': [], 'user_mentions': [], 'urls': [], 'media': [{'id': 1325586690199736321, 'id_str': '1325586690199736321', 'indices': [37, 60], 'media_url': 'http://pbs.twimg.com/ext_tw_video_thumb/1325586690199736321/pu/img/_JAjTNYe8WTwoOpj.jpg', 'media_url_https': 'https://pbs.twimg.com/ext_tw_video_thumb/1325586690199736321/pu/img/_JAjTNYe8WTwoOpj.jpg', 'url': 'https://t.co/gUZ42DeI4C', 'display_url': 'pic.twitter.com/gUZ42DeI4C', 'expanded_url': 'https://twitter.com/AzChike/status/1325586758055170048/video/1', 'type': 'photo', 'sizes': {'medium': {'w': 640, 'h': 640, 'resize': 'fit'}, 'thumb': {'w': 150, 'h': 150, 'resize': 'crop'}, 'large': {'w': 640, 'h': 640, 'resize': 'fit'}, 'small': {'w': 640, 'h': 640, 'resize': 'fit'}}}]}, extended_entities={'media': [{'id': 1325586690199736321, 'id_str': '1325586690199736321', 'indices': [37, 60], 'media_url': 'http://pbs.twimg.com/ext_tw_video_thumb/1325586690199736321/pu/img/_JAjTNYe8WTwoOpj.jpg', 'media_url_https': 'https://pbs.twimg.com/ext_tw_video_thumb/1325586690199736321/pu/img/_JAjTNYe8WTwoOpj.jpg', 'url': 'https://t.co/gUZ42DeI4C', 'display_url': 'pic.twitter.com/gUZ42DeI4C', 'expanded_url': 'https://twitter.com/AzChike/status/1325586758055170048/video/1', 'type': 'video', 'sizes': {'medium': {'w': 640, 'h': 640, 'resize': 'fit'}, 'thumb': {'w': 150, 'h': 150, 'resize': 'crop'}, 'large': {'w': 640, 'h': 640, 'resize': 'fit'}, 'small': {'w': 640, 'h': 640, 'resize': 'fit'}}, 'video_info': {'aspect_ratio': [1, 1], 'duration_millis': 53800, 'variants': [{'content_type': 'application/x-mpegURL', 'url': 'https://video.twimg.com/ext_tw_video/1325586690199736321/pu/pl/8QPIV-bRsacYwdDj.m3u8?tag=10'}, {'bitrate': 432000, 'content_type': 'video/mp4', 'url': 'https://video.twimg.com/ext_tw_video/1325586690199736321/pu/vid/320x320/nWrcTYSeTp3Tt-kt.mp4?tag=10'}, {'bitrate': 1280000, 'content_type': 'video/mp4', 'url': 'https://video.twimg.com/ext_tw_video/1325586690199736321/pu/vid/640x640/pE8KSJQyUwDHK1YU.mp4?tag=10'}, {'bitrate': 832000, 'content_type': 'video/mp4', 'url': 'https://video.twimg.com/ext_tw_video/1325586690199736321/pu/vid/480x480/rNRw5sko8M-G4GDp.mp4?tag=10'}]}, 'additional_media_info': {'monetizable': False}}]}, source='Twitter for iPhone', source_url='http://twitter.com/download/iphone', in_reply_to_status_id=None, in_reply_to_status_id_str=None, in_reply_to_user_id=None, in_reply_to_user_id_str=None, in_reply_to_screen_name=None, author=User(_api=<tweepy.api.API object at 0x7f0051b7afd0>, _json={'id': 95967147, 'id_str': '95967147', 'name': 'CULT MEMBER. ⚔️', 'screen_name': 'AzChike', 'location': 'LA', 'description': 'rbarongroup@gmail.com', 'url': 'https://t.co/8DstxUo2Ak', 'entities': {'url': {'urls': [{'url': 'https://t.co/8DstxUo2Ak', 'expanded_url': 'https://music.apple.com/us/album/gee-oh-dee-ep/1528633773', 'display_url': 'music.apple.com/us/album/gee-o…', 'indices': [0, 23]}]}, 'description': {'urls': []}}, 'protected': False, 'followers_count': 21925, 'friends_count': 1344, 'listed_count': 40, 'created_at': 'Thu Dec 10 19:33:29 +0000 2009', 'favourites_count': 42051, 'utc_offset': None, 'time_zone': None, 'geo_enabled': True, 'verified': True, 'statuses_count': 85561, 'lang': None, 'contributors_enabled': False, 'is_translator': False, 'is_translation_enabled': False, 'profile_background_color': '1A1B1F', 'profile_background_image_url': 'http://abs.twimg.com/images/themes/theme15/bg.png', 'profile_background_image_url_https': 'https://abs.twimg.com/images/themes/theme15/bg.png', 'profile_background_tile': True, 'profile_image_url': 'http://pbs.twimg.com/profile_images/1323167849708359680/IlFStxv8_normal.jpg', 'profile_image_url_https': 'https://pbs.twimg.com/profile_images/1323167849708359680/IlFStxv8_normal.jpg', 'profile_banner_url': 'https://pbs.twimg.com/profile_banners/95967147/1567424932', 'profile_link_color': '9266CC', 'profile_sidebar_border_color': 'FFFFFF', 'profile_sidebar_fill_color': '000000', 'profile_text_color': '666666', 'profile_use_background_image': True, 'has_extended_profile': True, 'default_profile': False, 'default_profile_image': False, 'following': False, 'follow_request_sent': False, 'notifications': False, 'translator_type': 'regular'}, id=95967147, id_str='95967147', name='CULT MEMBER. ⚔️', screen_name='AzChike', location='LA', description='rbarongroup@gmail.com', url='https://t.co/8DstxUo2Ak', entities={'url': {'urls': [{'url': 'https://t.co/8DstxUo2Ak', 'expanded_url': 'https://music.apple.com/us/album/gee-oh-dee-ep/1528633773', 'display_url': 'music.apple.com/us/album/gee-o…', 'indices': [0, 23]}]}, 'description': {'urls': []}}, protected=False, followers_count=21925, friends_count=1344, listed_count=40, created_at=datetime.datetime(2009, 12, 10, 19, 33, 29), favourites_count=42051, utc_offset=None, time_zone=None, geo_enabled=True, verified=True, statuses_count=85561, lang=None, contributors_enabled=False, is_translator=False, is_translation_enabled=False, profile_background_color='1A1B1F', profile_background_image_url='http://abs.twimg.com/images/themes/theme15/bg.png', profile_background_image_url_https='https://abs.twimg.com/images/themes/theme15/bg.png', profile_background_tile=True, profile_image_url='http://pbs.twimg.com/profile_images/1323167849708359680/IlFStxv8_normal.jpg', profile_image_url_https='https://pbs.twimg.com/profile_images/1323167849708359680/IlFStxv8_normal.jpg', profile_banner_url='https://pbs.twimg.com/profile_banners/95967147/1567424932', profile_link_color='9266CC', profile_sidebar_border_color='FFFFFF', profile_sidebar_fill_color='000000', profile_text_color='666666', profile_use_background_image=True, has_extended_profile=True, default_profile=False, default_profile_image=False, following=False, follow_request_sent=False, notifications=False, translator_type='regular'), user=User(_api=<tweepy.api.API object at 0x7f0051b7afd0>, _json={'id': 95967147, 'id_str': '95967147', 'name': 'CULT MEMBER. ⚔️', 'screen_name': 'AzChike', 'location': 'LA', 'description': 'rbarongroup@gmail.com', 'url': 'https://t.co/8DstxUo2Ak', 'entities': {'url': {'urls': [{'url': 'https://t.co/8DstxUo2Ak', 'expanded_url': 'https://music.apple.com/us/album/gee-oh-dee-ep/1528633773', 'display_url': 'music.apple.com/us/album/gee-o…', 'indices': [0, 23]}]}, 'description': {'urls': []}}, 'protected': False, 'followers_count': 21925, 'friends_count': 1344, 'listed_count': 40, 'created_at': 'Thu Dec 10 19:33:29 +0000 2009', 'favourites_count': 42051, 'utc_offset': None, 'time_zone': None, 'geo_enabled': True, 'verified': True, 'statuses_count': 85561, 'lang': None, 'contributors_enabled': False, 'is_translator': False, 'is_translation_enabled': False, 'profile_background_color': '1A1B1F', 'profile_background_image_url': 'http://abs.twimg.com/images/themes/theme15/bg.png', 'profile_background_image_url_https': 'https://abs.twimg.com/images/themes/theme15/bg.png', 'profile_background_tile': True, 'profile_image_url': 'http://pbs.twimg.com/profile_images/1323167849708359680/IlFStxv8_normal.jpg', 'profile_image_url_https': 'https://pbs.twimg.com/profile_images/1323167849708359680/IlFStxv8_normal.jpg', 'profile_banner_url': 'https://pbs.twimg.com/profile_banners/95967147/1567424932', 'profile_link_color': '9266CC', 'profile_sidebar_border_color': 'FFFFFF', 'profile_sidebar_fill_color': '000000', 'profile_text_color': '666666', 'profile_use_background_image': True, 'has_extended_profile': True, 'default_profile': False, 'default_profile_image': False, 'following': False, 'follow_request_sent': False, 'notifications': False, 'translator_type': 'regular'}, id=95967147, id_str='95967147', name='CULT MEMBER. ⚔️', screen_name='AzChike', location='LA', description='rbarongroup@gmail.com', url='https://t.co/8DstxUo2Ak', entities={'url': {'urls': [{'url': 'https://t.co/8DstxUo2Ak', 'expanded_url': 'https://music.apple.com/us/album/gee-oh-dee-ep/1528633773', 'display_url': 'music.apple.com/us/album/gee-o…', 'indices': [0, 23]}]}, 'description': {'urls': []}}, protected=False, followers_count=21925, friends_count=1344, listed_count=40, created_at=datetime.datetime(2009, 12, 10, 19, 33, 29), favourites_count=42051, utc_offset=None, time_zone=None, geo_enabled=True, verified=True, statuses_count=85561, lang=None, contributors_enabled=False, is_translator=False, is_translation_enabled=False, profile_background_color='1A1B1F', profile_background_image_url='http://abs.twimg.com/images/themes/theme15/bg.png', profile_background_image_url_https='https://abs.twimg.com/images/themes/theme15/bg.png', profile_background_tile=True, profile_image_url='http://pbs.twimg.com/profile_images/1323167849708359680/IlFStxv8_normal.jpg', profile_image_url_https='https://pbs.twimg.com/profile_images/1323167849708359680/IlFStxv8_normal.jpg', profile_banner_url='https://pbs.twimg.com/profile_banners/95967147/1567424932', profile_link_color='9266CC', profile_sidebar_border_color='FFFFFF', profile_sidebar_fill_color='000000', profile_text_color='666666', profile_use_background_image=True, has_extended_profile=True, default_profile=False, default_profile_image=False, following=False, follow_request_sent=False, notifications=False, translator_type='regular'), geo=None, coordinates=None, place=None, contributors=None, is_quote_status=False, retweet_count=442, favorite_count=1669, favorited=False, retweeted=False, possibly_sensitive=False, lang='en'), retweet_count=0, favorite_count=0, favorited=False, retweeted=False, possibly_sensitive=False, lang='und'),\n",
       " Status(_api=<tweepy.api.API object at 0x7f0051b7afd0>, _json={'created_at': 'Mon Nov 09 05:12:42 +0000 2020', 'id': 1325667608432013312, 'id_str': '1325667608432013312', 'full_text': '@fineasssvirgo Narcos Fresh Prince chapels show and scary anything', 'truncated': False, 'display_text_range': [15, 66], 'entities': {'hashtags': [], 'symbols': [], 'user_mentions': [{'screen_name': 'fineasssvirgo', 'name': '4EVERSASSY', 'id': 704862978730930176, 'id_str': '704862978730930176', 'indices': [0, 14]}], 'urls': []}, 'source': '<a href=\"http://twitter.com/download/iphone\" rel=\"nofollow\">Twitter for iPhone</a>', 'in_reply_to_status_id': 1325534316265271296, 'in_reply_to_status_id_str': '1325534316265271296', 'in_reply_to_user_id': 704862978730930176, 'in_reply_to_user_id_str': '704862978730930176', 'in_reply_to_screen_name': 'fineasssvirgo', 'user': {'id': 351425326, 'id_str': '351425326', 'name': 'Malck', 'screen_name': 'KingmakivMalck', 'location': 'Inglewood ', 'description': 'Est.96  Cold like December 🙊🙉🙈 October’s Upcoming Star', 'url': None, 'entities': {'description': {'urls': []}}, 'protected': False, 'followers_count': 296, 'friends_count': 457, 'listed_count': 0, 'created_at': 'Tue Aug 09 07:00:18 +0000 2011', 'favourites_count': 588, 'utc_offset': None, 'time_zone': None, 'geo_enabled': True, 'verified': False, 'statuses_count': 7621, 'lang': None, 'contributors_enabled': False, 'is_translator': False, 'is_translation_enabled': False, 'profile_background_color': 'ACDED6', 'profile_background_image_url': 'http://abs.twimg.com/images/themes/theme11/bg.gif', 'profile_background_image_url_https': 'https://abs.twimg.com/images/themes/theme11/bg.gif', 'profile_background_tile': True, 'profile_image_url': 'http://pbs.twimg.com/profile_images/1311986589480886274/rktvY_to_normal.jpg', 'profile_image_url_https': 'https://pbs.twimg.com/profile_images/1311986589480886274/rktvY_to_normal.jpg', 'profile_banner_url': 'https://pbs.twimg.com/profile_banners/351425326/1601636953', 'profile_link_color': '038543', 'profile_sidebar_border_color': '000000', 'profile_sidebar_fill_color': 'E5507E', 'profile_text_color': '362720', 'profile_use_background_image': True, 'has_extended_profile': False, 'default_profile': False, 'default_profile_image': False, 'following': False, 'follow_request_sent': False, 'notifications': False, 'translator_type': 'none'}, 'geo': None, 'coordinates': None, 'place': None, 'contributors': None, 'is_quote_status': False, 'retweet_count': 0, 'favorite_count': 0, 'favorited': False, 'retweeted': False, 'lang': 'en'}, created_at=datetime.datetime(2020, 11, 9, 5, 12, 42), id=1325667608432013312, id_str='1325667608432013312', full_text='@fineasssvirgo Narcos Fresh Prince chapels show and scary anything', truncated=False, display_text_range=[15, 66], entities={'hashtags': [], 'symbols': [], 'user_mentions': [{'screen_name': 'fineasssvirgo', 'name': '4EVERSASSY', 'id': 704862978730930176, 'id_str': '704862978730930176', 'indices': [0, 14]}], 'urls': []}, source='Twitter for iPhone', source_url='http://twitter.com/download/iphone', in_reply_to_status_id=1325534316265271296, in_reply_to_status_id_str='1325534316265271296', in_reply_to_user_id=704862978730930176, in_reply_to_user_id_str='704862978730930176', in_reply_to_screen_name='fineasssvirgo', author=User(_api=<tweepy.api.API object at 0x7f0051b7afd0>, _json={'id': 351425326, 'id_str': '351425326', 'name': 'Malck', 'screen_name': 'KingmakivMalck', 'location': 'Inglewood ', 'description': 'Est.96  Cold like December 🙊🙉🙈 October’s Upcoming Star', 'url': None, 'entities': {'description': {'urls': []}}, 'protected': False, 'followers_count': 296, 'friends_count': 457, 'listed_count': 0, 'created_at': 'Tue Aug 09 07:00:18 +0000 2011', 'favourites_count': 588, 'utc_offset': None, 'time_zone': None, 'geo_enabled': True, 'verified': False, 'statuses_count': 7621, 'lang': None, 'contributors_enabled': False, 'is_translator': False, 'is_translation_enabled': False, 'profile_background_color': 'ACDED6', 'profile_background_image_url': 'http://abs.twimg.com/images/themes/theme11/bg.gif', 'profile_background_image_url_https': 'https://abs.twimg.com/images/themes/theme11/bg.gif', 'profile_background_tile': True, 'profile_image_url': 'http://pbs.twimg.com/profile_images/1311986589480886274/rktvY_to_normal.jpg', 'profile_image_url_https': 'https://pbs.twimg.com/profile_images/1311986589480886274/rktvY_to_normal.jpg', 'profile_banner_url': 'https://pbs.twimg.com/profile_banners/351425326/1601636953', 'profile_link_color': '038543', 'profile_sidebar_border_color': '000000', 'profile_sidebar_fill_color': 'E5507E', 'profile_text_color': '362720', 'profile_use_background_image': True, 'has_extended_profile': False, 'default_profile': False, 'default_profile_image': False, 'following': False, 'follow_request_sent': False, 'notifications': False, 'translator_type': 'none'}, id=351425326, id_str='351425326', name='Malck', screen_name='KingmakivMalck', location='Inglewood ', description='Est.96  Cold like December 🙊🙉🙈 October’s Upcoming Star', url=None, entities={'description': {'urls': []}}, protected=False, followers_count=296, friends_count=457, listed_count=0, created_at=datetime.datetime(2011, 8, 9, 7, 0, 18), favourites_count=588, utc_offset=None, time_zone=None, geo_enabled=True, verified=False, statuses_count=7621, lang=None, contributors_enabled=False, is_translator=False, is_translation_enabled=False, profile_background_color='ACDED6', profile_background_image_url='http://abs.twimg.com/images/themes/theme11/bg.gif', profile_background_image_url_https='https://abs.twimg.com/images/themes/theme11/bg.gif', profile_background_tile=True, profile_image_url='http://pbs.twimg.com/profile_images/1311986589480886274/rktvY_to_normal.jpg', profile_image_url_https='https://pbs.twimg.com/profile_images/1311986589480886274/rktvY_to_normal.jpg', profile_banner_url='https://pbs.twimg.com/profile_banners/351425326/1601636953', profile_link_color='038543', profile_sidebar_border_color='000000', profile_sidebar_fill_color='E5507E', profile_text_color='362720', profile_use_background_image=True, has_extended_profile=False, default_profile=False, default_profile_image=False, following=False, follow_request_sent=False, notifications=False, translator_type='none'), user=User(_api=<tweepy.api.API object at 0x7f0051b7afd0>, _json={'id': 351425326, 'id_str': '351425326', 'name': 'Malck', 'screen_name': 'KingmakivMalck', 'location': 'Inglewood ', 'description': 'Est.96  Cold like December 🙊🙉🙈 October’s Upcoming Star', 'url': None, 'entities': {'description': {'urls': []}}, 'protected': False, 'followers_count': 296, 'friends_count': 457, 'listed_count': 0, 'created_at': 'Tue Aug 09 07:00:18 +0000 2011', 'favourites_count': 588, 'utc_offset': None, 'time_zone': None, 'geo_enabled': True, 'verified': False, 'statuses_count': 7621, 'lang': None, 'contributors_enabled': False, 'is_translator': False, 'is_translation_enabled': False, 'profile_background_color': 'ACDED6', 'profile_background_image_url': 'http://abs.twimg.com/images/themes/theme11/bg.gif', 'profile_background_image_url_https': 'https://abs.twimg.com/images/themes/theme11/bg.gif', 'profile_background_tile': True, 'profile_image_url': 'http://pbs.twimg.com/profile_images/1311986589480886274/rktvY_to_normal.jpg', 'profile_image_url_https': 'https://pbs.twimg.com/profile_images/1311986589480886274/rktvY_to_normal.jpg', 'profile_banner_url': 'https://pbs.twimg.com/profile_banners/351425326/1601636953', 'profile_link_color': '038543', 'profile_sidebar_border_color': '000000', 'profile_sidebar_fill_color': 'E5507E', 'profile_text_color': '362720', 'profile_use_background_image': True, 'has_extended_profile': False, 'default_profile': False, 'default_profile_image': False, 'following': False, 'follow_request_sent': False, 'notifications': False, 'translator_type': 'none'}, id=351425326, id_str='351425326', name='Malck', screen_name='KingmakivMalck', location='Inglewood ', description='Est.96  Cold like December 🙊🙉🙈 October’s Upcoming Star', url=None, entities={'description': {'urls': []}}, protected=False, followers_count=296, friends_count=457, listed_count=0, created_at=datetime.datetime(2011, 8, 9, 7, 0, 18), favourites_count=588, utc_offset=None, time_zone=None, geo_enabled=True, verified=False, statuses_count=7621, lang=None, contributors_enabled=False, is_translator=False, is_translation_enabled=False, profile_background_color='ACDED6', profile_background_image_url='http://abs.twimg.com/images/themes/theme11/bg.gif', profile_background_image_url_https='https://abs.twimg.com/images/themes/theme11/bg.gif', profile_background_tile=True, profile_image_url='http://pbs.twimg.com/profile_images/1311986589480886274/rktvY_to_normal.jpg', profile_image_url_https='https://pbs.twimg.com/profile_images/1311986589480886274/rktvY_to_normal.jpg', profile_banner_url='https://pbs.twimg.com/profile_banners/351425326/1601636953', profile_link_color='038543', profile_sidebar_border_color='000000', profile_sidebar_fill_color='E5507E', profile_text_color='362720', profile_use_background_image=True, has_extended_profile=False, default_profile=False, default_profile_image=False, following=False, follow_request_sent=False, notifications=False, translator_type='none'), geo=None, coordinates=None, place=None, contributors=None, is_quote_status=False, retweet_count=0, favorite_count=0, favorited=False, retweeted=False, lang='en')]"
      ]
     },
     "execution_count": 76,
     "metadata": {},
     "output_type": "execute_result"
    }
   ],
   "source": [
    "all_tweets"
   ]
  },
  {
   "cell_type": "code",
   "execution_count": 77,
   "metadata": {},
   "outputs": [],
   "source": [
    "#lets create sample tweet categories\n",
    "categories = ['poltics', 'movies', 'education', 'entertainment']"
   ]
  },
  {
   "cell_type": "code",
   "execution_count": 78,
   "metadata": {},
   "outputs": [],
   "source": [
    "from sklearn.feature_extraction.text import TfidfVectorizer\n",
    "from sklearn.feature_extraction.text import CountVectorizer\n",
    "from sklearn.feature_extraction.text import TfidfTransformer\n"
   ]
  },
  {
   "cell_type": "code",
   "execution_count": 79,
   "metadata": {},
   "outputs": [
    {
     "data": {
      "text/plain": [
       "66"
      ]
     },
     "execution_count": 79,
     "metadata": {},
     "output_type": "execute_result"
    }
   ],
   "source": [
    "all_tweets_text = [tweet.full_text for tweet in all_tweets]\n",
    "count_vect = CountVectorizer()\n",
    "X_train = count_vect.fit_transform(all_tweets_text)\n",
    "count_vect.vocabulary_.get(u'https')\n"
   ]
  },
  {
   "cell_type": "code",
   "execution_count": 80,
   "metadata": {},
   "outputs": [],
   "source": [
    "#lets use kmeans clustering"
   ]
  },
  {
   "cell_type": "code",
   "execution_count": 81,
   "metadata": {},
   "outputs": [
    {
     "data": {
      "text/plain": [
       "(20, 259)"
      ]
     },
     "execution_count": 81,
     "metadata": {},
     "output_type": "execute_result"
    }
   ],
   "source": [
    "tf_transformer = TfidfTransformer(use_idf=False).fit(X_train)\n",
    "X_train_tf = tf_transformer.transform(X_train)\n",
    "X_train_tf.shape"
   ]
  },
  {
   "cell_type": "code",
   "execution_count": 82,
   "metadata": {},
   "outputs": [
    {
     "data": {
      "text/plain": [
       "['11',\n",
       " '5n6irsxpk4',\n",
       " '99',\n",
       " 'aa',\n",
       " 'abelles',\n",
       " 'accept',\n",
       " 'access',\n",
       " 'ai',\n",
       " 'aj_sabadell',\n",
       " 'albert_rivera',\n",
       " 'amelanovela',\n",
       " 'amp',\n",
       " 'année',\n",
       " 'appreciate',\n",
       " 'arrived',\n",
       " 'ashokgehlot51',\n",
       " 'asiatiques',\n",
       " 'best',\n",
       " 'boite',\n",
       " 'bomb',\n",
       " 'bonjour',\n",
       " 'browns',\n",
       " 'campaigner',\n",
       " 'cares',\n",
       " 'center',\n",
       " 'champ',\n",
       " 'chapels',\n",
       " 'closing',\n",
       " 'cmpunk',\n",
       " 'contacte',\n",
       " 'core',\n",
       " 'coño',\n",
       " 'criticism',\n",
       " 'cross',\n",
       " 'cuela',\n",
       " 'currar',\n",
       " 'd6hy8ndjkz',\n",
       " 'dividir',\n",
       " 'dono',\n",
       " 'durant',\n",
       " 'durée',\n",
       " 'eduh6qpk4w',\n",
       " 'el',\n",
       " 'engagement',\n",
       " 'envieu',\n",
       " 'et',\n",
       " 'eyes',\n",
       " 'fascinating',\n",
       " 'fedora',\n",
       " 'ffrh9npeg1',\n",
       " 'fineasssvirgo',\n",
       " 'fresh',\n",
       " 'hai',\n",
       " 'heyman',\n",
       " 'https',\n",
       " 'il',\n",
       " 'intento',\n",
       " 'internet',\n",
       " 'intéressé',\n",
       " 'je',\n",
       " 'kaboo',\n",
       " 'kde',\n",
       " 'keir_starmer',\n",
       " 'la',\n",
       " 'lag',\n",
       " 'lage',\n",
       " 'le',\n",
       " 'learn',\n",
       " 'legs',\n",
       " 'lifetime',\n",
       " 'like',\n",
       " 'long',\n",
       " 'machine',\n",
       " 'matters',\n",
       " 'mbwkst8jbq',\n",
       " 'meu',\n",
       " 'millionaires',\n",
       " 'mobile',\n",
       " 'money',\n",
       " 'narcos',\n",
       " 'nuzunrr7pe',\n",
       " 'par',\n",
       " 'paul',\n",
       " 'pena',\n",
       " 'penso',\n",
       " 'perilloses',\n",
       " 'pipe',\n",
       " 'point',\n",
       " 'ponte',\n",
       " 'pour',\n",
       " 'pre',\n",
       " 'prince',\n",
       " 'privat',\n",
       " 'problems',\n",
       " 'promo',\n",
       " 'que',\n",
       " 'raha',\n",
       " 'raho',\n",
       " 'raising',\n",
       " 'register',\n",
       " 'resolve',\n",
       " 'ring',\n",
       " 'rishabhpant17',\n",
       " 'sale',\n",
       " 'saw',\n",
       " 'scary',\n",
       " 'seasoned',\n",
       " 'si',\n",
       " 'silly',\n",
       " 'sit',\n",
       " 'ski',\n",
       " 'snow',\n",
       " 'son',\n",
       " 'sosh',\n",
       " 'sosh_fr',\n",
       " 'suis',\n",
       " 'sur',\n",
       " 'sweeetbabym',\n",
       " 'systemic',\n",
       " 'tonight',\n",
       " 'trip',\n",
       " 'tu',\n",
       " 'u2worjrp2e',\n",
       " 'une',\n",
       " 'vazan',\n",
       " 'win',\n",
       " 'words',\n",
       " 'אחד',\n",
       " 'אל',\n",
       " 'אמר',\n",
       " 'אנשי',\n",
       " 'את',\n",
       " 'באזור',\n",
       " 'בביטחון',\n",
       " 'בהתיישבות',\n",
       " 'בטחון',\n",
       " 'ביצירה',\n",
       " 'בני',\n",
       " 'בסיפור',\n",
       " 'בעשייה',\n",
       " 'בקרקע',\n",
       " 'בשם',\n",
       " 'גדולה',\n",
       " 'גנץ',\n",
       " 'גשמית',\n",
       " 'דובאי',\n",
       " 'האדמה',\n",
       " 'הבטחון',\n",
       " 'הגענו',\n",
       " 'הוא',\n",
       " 'הוד',\n",
       " 'הזדמנות',\n",
       " 'הזה',\n",
       " 'החוק',\n",
       " 'החמה',\n",
       " 'היחסים',\n",
       " 'הישראלית',\n",
       " 'המדינה',\n",
       " 'המסחריים',\n",
       " 'המשק',\n",
       " 'הנץ',\n",
       " 'הפייק',\n",
       " 'הקיבוצים',\n",
       " 'השמש',\n",
       " 'והבוז',\n",
       " 'וטכנולוגיות',\n",
       " 'ומערב',\n",
       " 'ונרתמו',\n",
       " 'ועם',\n",
       " 'וקשור',\n",
       " 'וראש',\n",
       " 'ורוחנית',\n",
       " 'זה',\n",
       " 'חדשים',\n",
       " 'חדשניות',\n",
       " 'חוב',\n",
       " 'חליפי',\n",
       " 'חקלאית',\n",
       " 'טלפון',\n",
       " 'יצוא',\n",
       " 'יש',\n",
       " 'כאחד',\n",
       " 'לביידן',\n",
       " 'לבן',\n",
       " 'לדובאי',\n",
       " 'להגנתה',\n",
       " 'לחקלאות',\n",
       " 'למוסד',\n",
       " 'למוסדות',\n",
       " 'לנו',\n",
       " 'לספר',\n",
       " 'לפתח',\n",
       " 'לקשירת',\n",
       " 'לשווקים',\n",
       " 'מגפת',\n",
       " 'מזרח',\n",
       " 'מטורף',\n",
       " 'מי',\n",
       " 'ממשלה',\n",
       " 'מנהיגות',\n",
       " 'מקום',\n",
       " 'מרתק',\n",
       " 'משלחת',\n",
       " 'נאחזו',\n",
       " 'סיומה',\n",
       " 'סיפור',\n",
       " 'עבדו',\n",
       " 'עירוב',\n",
       " 'עם',\n",
       " 'עצום',\n",
       " 'ראשי',\n",
       " 'רב',\n",
       " 'רמז',\n",
       " 'שכח',\n",
       " 'של',\n",
       " 'שלו',\n",
       " 'שלטון',\n",
       " 'שקיעת',\n",
       " 'שר',\n",
       " 'תוצרת',\n",
       " 'תפספס']"
      ]
     },
     "execution_count": 82,
     "metadata": {},
     "output_type": "execute_result"
    }
   ],
   "source": [
    "vectorizer = TfidfVectorizer(stop_words='english')\n",
    "hash_matrix = vectorizer.fit_transform(all_tweets_text)\n",
    "categories = vectorizer.get_feature_names()\n",
    "categories"
   ]
  },
  {
   "cell_type": "code",
   "execution_count": 83,
   "metadata": {},
   "outputs": [],
   "source": [
    "from sklearn.cluster import KMeans\n",
    "Kmeans = KMeans(n_clusters=4).fit(hash_matrix)"
   ]
  },
  {
   "cell_type": "code",
   "execution_count": 84,
   "metadata": {},
   "outputs": [
    {
     "name": "stdout",
     "output_type": "stream",
     "text": [
      "\n",
      " Group :  0 \n",
      "--------------\n",
      "\n",
      " Group :  1 \n",
      "--------------\n",
      "11\n",
      "5n6irsxpk4\n",
      "99\n",
      "aa\n",
      "\n",
      " Group :  2 \n",
      "--------------\n",
      "\n",
      " Group :  3 \n",
      "--------------\n"
     ]
    }
   ],
   "source": [
    "clusters = Kmeans.labels_\n",
    "for group in set(clusters):\n",
    "    print('\\n Group : ', group, '\\n--------------')\n",
    "    for i in range(4):\n",
    "        if(clusters[i] == group):\n",
    "            print(categories[i])"
   ]
  },
  {
   "cell_type": "markdown",
   "metadata": {},
   "source": [
    "# #Fixme we need to preprocess the data to clean it first "
   ]
  },
  {
   "cell_type": "code",
   "execution_count": 85,
   "metadata": {},
   "outputs": [
    {
     "name": "stdout",
     "output_type": "stream",
     "text": [
      "Sum of squared distances :  [18.664805359964003, 16.73867262218223, 15.4150222717788, 14.261115550633871, 13.232871392052001, 12.141697533422473, 11.18774348842655, 10.278447928213053, 9.164491779303255, 8.161785136395963, 7.164491779303255, 6.1644917793032565, 5.138990890515178, 4.161785136395963]\n"
     ]
    },
    {
     "data": {
      "image/png": "[encoded data removed]",
      "text/plain": [
       "<Figure size 432x288 with 1 Axes>"
      ]
     },
     "metadata": {
      "needs_background": "light"
     },
     "output_type": "display_data"
    }
   ],
   "source": [
    "#finding optimal clusters\n",
    "sosd = [] #sum of squared distances\n",
    "K = range(1, 15)\n",
    "for k in K:\n",
    "    km = KMeans(n_clusters=k).fit(hash_matrix)\n",
    "    sosd.append(km.inertia_)\n",
    "print(\"Sum of squared distances : \", sosd)\n",
    "plt.plot(K, sosd, 'bx-')\n",
    "plt.xlabel('Cluser count')\n",
    "plt.ylabel('sum_of_squared_distances')\n",
    "plt.title('Elbow method for optimal cluster size')\n",
    "plt.show()"
   ]
  },
  {
   "cell_type": "markdown",
   "metadata": {},
   "source": []
  }
 ],
 "metadata": {
  "kernelspec": {
   "display_name": "Python 3",
   "language": "python",
   "name": "python3"
  },
  "language_info": {
   "codemirror_mode": {
    "name": "ipython",
    "version": 3
   },
   "file_extension": ".py",
   "mimetype": "text/x-python",
   "name": "python",
   "nbconvert_exporter": "python",
   "pygments_lexer": "ipython3",
   "version": "3.7.6"
  }
 },
 "nbformat": 4,
 "nbformat_minor": 4
}
