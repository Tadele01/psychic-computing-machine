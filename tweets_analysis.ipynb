{
 "cells": [
  {
   "cell_type": "code",
   "execution_count": 1,
   "metadata": {},
   "outputs": [],
   "source": [
    "import tweepy"
   ]
  },
  {
   "cell_type": "code",
   "execution_count": 2,
   "metadata": {},
   "outputs": [],
   "source": [
    "import config"
   ]
  },
  {
   "cell_type": "code",
   "execution_count": 3,
   "metadata": {},
   "outputs": [
    {
     "name": "stdout",
     "output_type": "stream",
     "text": [
      "\"Happy\" Friday! We just broke another record in Michigan for the highest daily total of #COVID19 cases. Over 9700 c… https://t.co/u3fJjdz1Iz\n",
      "RT @LMucchielli: Le scandale du #Remdesivir éclate. Il éclabousse l'OMS, le ministère de la Santé, l'ANSM et le Conseil scientifique #COVID…\n",
      "RT @BuildBackBlue: WARNING: America's airports are about to become #COVID19 super spreaders. Think twice before flying.\n",
      "RT @Tu_IMSS_TAM: El #IMSSTamaulipas reconoce a la Lic. Abril Alicia Turrubiates Peña, Enfermera General, por obtener la  #CondecoraciónMigu…\n",
      "The Latest: 1 Death, 95 New #COVID19 Cases Reported Today; Caldwell, Green Spar Over Surveillance Testing; Rail Pub… https://t.co/2le2L9A45x\n",
      "RT @gorgepulse: Washington state's #COVID19 risk level has increased to \"critical\" according to https://t.co/fDONP3Wm7l. Oregon is the only…\n",
      "RT @ActualAlexZ: NEW: Sen. @KipBateman tells me he's self-isolating after chief of staff and chief of staff's wife tested positive for #COV…\n",
      "RT @SagesseIslamic: 🕋 La Ka'ba avant et après sa fermeture face à l'épidémie de #COVID19. https://t.co/s9bktFqXVY\n",
      "RT @GabrielScally: A surreal morning with \n",
      "@TodaywithClaire on RTÉ. A priest who won't obey restrictions or his bishop as God will protect…\n",
      "RT @rosehoban: @AHCJ @tayknopf @propublica @nytimes @nature @USATODAY @WIRED @KHNews @SecMandyCohen @NCHealthNews @CDCgov @AP Q: re: about…\n",
      "Watch my fleets #Fleets #tinadabi #FleetsFeedback #givethanks #TransRightsAreHumanRights #instagramdown… https://t.co/e0ssOR2RJ1\n",
      "RT @DrEricDing: 80,000+ hospitalized for #COVID19, and 2000+ deaths in one day — and we haven’t even seen the wave front of deaths from thi…\n",
      "Rachel @maddow issued a stark warning to those considering traveling or gathering for #Thanksgiving and the holiday… https://t.co/3cr51WdMl6\n",
      "RT @Fraslin: Mon hématologue me disait hier, qu'à l'hôpital privé du Confluent, une des plus grosses cliniques de France, deux cancérologue…\n",
      "RT @GiovanniToti: In #Liguria abbiamo fatto un accordo con i medici di famiglia che, per curare al meglio i pazienti che affrontano la mala…\n",
      "Results of the ISACS-STEMI #COVID19 registry describe the impact of the COVID-19 #pandemic on the treatment and out… https://t.co/TovArozCop\n",
      "Can ONE person look at these CDC survival rates and tell me that #COVID19 is a death sentence?\n",
      "#TheFive https://t.co/Iojr4IunvL\n",
      "RT @LiamPayne: To celebrate #WorldChildrensDay I wanted to share another story from Yemen and how #covid19 has effected young people around…\n",
      "Reporters Scream Questions At #Pence After He Declines To Take Queries - Deadline #COVID19 #Election2020results  https://t.co/6HTgrLq2cI\n",
      "RT @CorpoNEsparta: El Estado Mayor de Salud se reunió está tarde con el ministro Carlos Alvarado para hacer un balance de la evolución del…\n",
      "RT @CDCgov: New @CDCMMWR finds that after Kansas put in place a mask mandate in July 2020 rates of #COVID19 decreased in counties with a ma…\n",
      "RT @CDCgov: .@CHCConnecticut’s drive-through #fluvaccine clinics began as a way to make vaccines accessible to those afraid of getting #COV…\n",
      "RT @ChouhanShivraj: प्रदेश के पांच जिलों भोपाल, इंदौर, ग्वालियर, रतलाम, विदिशा में पिछले सप्ताह में तेजी से #COVID19 के पॉजिटिव केस बढ़े…\n",
      "@gregwrightYP What's the point of international law if this government will break it?\n",
      "What's the use of anti corrup… https://t.co/2HfeiPw40t\n",
      "RT @LiamPayne: To celebrate #WorldChildrensDay I wanted to share another story from Yemen and how #covid19 has effected young people around…\n",
      "RT @Cascadia: Epidedologists have the best data but they often fail to differentiate between populations in their messaging. \n",
      "\n",
      "Ex) Seattle…\n",
      "RT @CristyP2000: Sr. \"presidente\" @lopezobrador_ si le molestó tanto un artículo del periódico @elpaismexico, relacionado con el #COVID19 e…\n",
      "RT @tleehumphrey: The worst question of the day award goes to @davidakin of @globalnews news who encourages Trudeau to make the Federal #CO…\n",
      "RT @DrKatrin_Rabiei: Another super spreader event in 🇸🇪; 30/32 people infected during a concert &amp; the two not infected already suffered thr…\n",
      "@Lefrenchbouled1 @MiKo__33 @f_philippot Avec une mortalité de 0,6%, sans aucune mesure de précaution, la #COVID19 f… https://t.co/2kg1aPQUw5\n",
      "RT @CristyP2000: Sr. \"presidente\" @lopezobrador_ si le molestó tanto un artículo del periódico @elpaismexico, relacionado con el #COVID19 e…\n",
      "RT @tortutica: El presidente de la UNAFUT sale dando declaraciones con cara de tragedia  pidiendo que haya aficionados en los partidos de l…\n",
      "RT @HHSGov: Stay safe this #Thanksgiving holiday:\n",
      "\n",
      "1. Wear a mask\n",
      "2. Rethink traveling\n",
      "3. Keep gatherings small\n",
      "4. Celebrate virtually if y…\n",
      "RT @BDSmovement: “In July, the Israeli Supreme Court ruled that Palestinian prisoners have no right to social distancing.”\n",
      "\n",
      "130+ Palestinia…\n",
      "@chelsealrichard @UofSC How is this going to help in 6 days when they get together with their families.... may have… https://t.co/anXt6evZwZ\n",
      "Click the link below if you missed last night’s show with Mayor @rasjbaraka discussing all the latest around… https://t.co/buS7pk8LJ5\n",
      "RT @M_Parlangeli: https://t.co/A8c1fiq3qH\n",
      "\n",
      "L'articolo di questa settimana su https://t.co/y1FhlMr2Sf \n",
      "#Finance #China #COVID19 https://t.co…\n",
      "Joining  @ryandoyleshow and @JayOnTheRushTO on The Rush on @Newstalk1010 at 6:30 PM to talk about the news from the… https://t.co/SyXOlNfBob\n",
      "RT @gbosslet: Today in Indiana, for the first time in the #COVID19 pandemic, there are more COVID patients in #Hoosier #ICUs than non-COVID…\n",
      "RT @WCVB: There are now more than 35,500 estimated active cases of #COVID19 across #Massachusetts. https://t.co/qEoe1NiZLD https://t.co/7wl…\n",
      "We’re really about to experience all 4 seasons from our house huh\n",
      "\n",
      "#coronavirus #Quarantine #COVID19 #Covid #Covid_19\n",
      "RT @gbosslet: Today in Indiana, for the first time in the #COVID19 pandemic, there are more COVID patients in #Hoosier #ICUs than non-COVID…\n",
      "RT @CoffeeShopRabbi: I’m helping to fight #COVID19 – 12654 people are estimated to have COVID symptoms in Alameda County today. Please help…\n",
      "RT @DrDenaGrayson: 🚨BREAKING: Andrew Giuliani—who is known *NOT to wear a mask* and attended his father Rudy Giuliani’s unhinged press conf…\n",
      "RT @adn40: Ya comenzaron a operar los macro kioscos para detección de #COVID19 en la #CDMX, el resultado de las pruebas se entregan en 30 m…\n",
      "RT @Mediavenir: 🇮🇳🇬🇧 Malchance : un Britannique venant en aide à des #artisans indiens a été contaminé par la #COVID19, en plus d'avoir eu…\n",
      "RT @DrEricDing: BREAKING—wow—WHO just recommended **against** the use of @GileadSciences’s drug remdesivir in hospitalized #COVID19 patient…\n",
      "RT @ChouhanShivraj: जब तक #COVID19 के केसेज कम नहीं होते, यह कर्फ़्यू जारी रहेगा। इस कर्फ़्यू के दौरान मालवाहक ट्रक की आवाजाही जारी रहेगी।…\n",
      ".NEW: @GovHolcomb and @FLJanetHolcomb have both tested negative for #COVID19. The Gov’s Press Secretary says they’r… https://t.co/0ytRI8rrgx\n",
      "RT @themohwgovjm: #COVID19 Update: the @theserhajm team will be out on Saturday, November 21 conducting #COVID19 community surveillance in…\n",
      "Just an absolute cock head.. and his little blonde too! #COVID19 #trumplost #TrumpIsALaughingStock… https://t.co/AZX91mek0H\n",
      "I’m helping to fight #COVID19 – 12654 people are estimated to have COVID symptoms in Alameda County today. Please h… https://t.co/SiMgsvo3bl\n",
      "RT @DavidLat: On the subject of #COVID19 patients and lung transplants, they just performed a double lung transplant at @NorthwesternMed in…\n",
      "RT @WesternU: #WesternU #COVID19 testing centre will be open tomorrow (Saturday, November 21) from 9 a.m. until Noon, and also Monday, Nove…\n",
      "RT @EckerleIsabella: Public health response to a #pandemic: If there is a bigger focus on counting spare ICU beds than on effective strateg…\n",
      ".@GlobalBTA ... Exciting Progress Being Made on #COVID19 Testing by Airlines https://t.co/yU3bYTccuN #airlines #airtravel #covidtesting\n",
      "RT @themohwgovjm: #COVID19 Update: the @theserhajm team will be out on Saturday, November 21 conducting #COVID19 community surveillance in…\n",
      "#PolisTerörü #ambulans #PolisDevleti #covid19 #AkpHalkSağlığıSorunudur \n",
      "#DevletTerörü #SarayDarbesi https://t.co/jjFYkR08jE\n",
      "RT @casahermandadtv: ▶️ Editorial de @JARodriguez_TV: Esperanza para la #SemanaSanta del 2022 ante la llegada de la vacuna contra la #Covid…\n",
      "Thị trưởng @davidfholt đang khẩn thiết kêu gọi cư dân Thành Phố Oklahoma tạm dừng những hoạt động có nguy cơ cao tr… https://t.co/hPHoHCMEeh\n",
      "RT @MartineWonner: Plus de 50000 signatures déjà!😊\n",
      "@Laissonslespre1\n",
      "@aimsib\n",
      "@sedatif \n",
      "@AssoCovid\n",
      "@Reaction19fr\n",
      "@quatremer\n",
      "@raoult_didier \n",
      "@…\n",
      "RT @monicagarzag: Así se aglomeran usuarios del metro en la estación Pantitlán de la Línea A, la misma noche en que se superaron en México…\n",
      "RT @LiamPayne: To celebrate #WorldChildrensDay I wanted to share another story from Yemen and how #covid19 has effected young people around…\n",
      "RT @samzeff: New #Kansas county makes into the NYT top ten. Rawlins County is in far NW Kansas. #ksleg #COVID19 https://t.co/QOaZ2aI8tm\n",
      "RT @UPR_Asselineau: ⚠️ L'ÉNORME SCANDALE DU REMDESIVIR\n",
      "L’UE a acheté à #Gilead pour 1Md€ de doses de #Remdesivir, que l’#OMS vient d'interd…\n",
      "@realDonaldTrump took the week off.\n",
      "\n",
      "#COVID19 didn't. https://t.co/xgUZqgupz8\n",
      "This year, do the #HolidaysAtHome. Indoor gatherings with other households present a significant risk of spreading… https://t.co/ln3xAsXyfN\n",
      "RT @nancysantanello: Infected with #COVID19 and #Delusion...couldn’t happen to “finer” people @RudyGiuliani @JennaEllisEsq @SidneyPowell1 h…\n",
      "RT @monicagarzag: Así se aglomeran usuarios del metro en la estación Pantitlán de la Línea A, la misma noche en que se superaron en México…\n",
      "RT @TheSizzleReport: 🔥🔥#GeorgiaRunoffs is our opportunity to:\n",
      "\n",
      "💥Fire Mitch as Majority Leader\n",
      "\n",
      "💥Protect Obamacare\n",
      "\n",
      "💥Provide stimulus relief…\n",
      "Reading Royals coach Kirk MacDonald sorts through the fallout of a lost season and what comes next SEE MORE HERE ==… https://t.co/TGRTrGmMbs\n",
      "RT @BasiaStachowsk1: Dokładne statystyki zgonów na #COVID19 będziemy znać dopiero za 13 miesięcy- powiedział wiceminister zdrowia Maciej Mi…\n",
      "RT @myfinewords: And everything we will be seeing our liberal states and local governments beg for and implement in the wake of #COVID19 wi…\n",
      "El #excelente manejo de la #pandemia te podría dar la #medida, por ejemplo. Tenemos el más bajo índice de mortalida… https://t.co/nSkB2nO2BV\n",
      "RT @IFS_Agency: A peaceful and cooperative transition of power has still yet to come from the #WhiteHouse. \n",
      "\n",
      "\"@vivek_murthy, co-chair of Bi…\n",
      "Gogol ou #Google (D.i.eux = Conscience Collective Universelle)  -   #IA -   #Covid #Covid19 #Covid20 #Covid22… https://t.co/8P8zSN2wfc\n",
      "RT @MarionMarechal: Lisez la dernière note d'actualité du CAP de l'@ISSEP_Lyon qui explique en quoi la crise sanitaire est avant tout une c…\n",
      "RT @portaldocerrado: Formosa registra mais 6 casos de Covid e número de total de infectados chega a 344\n",
      "\n",
      "#formosadoriopreto #bahia #covid19…\n",
      "RT @DrEricDing: BREAKING—White House aide Andrew Giuliani, the son of Rudy Giuliani, has tested positive for #COVID19. \n",
      "\n",
      "I’ve stopped preci…\n",
      "@Pennywi17719657 @Blic_online Mimohod  &gt; sa celivanjem  u doba  #COVID19  moze  ???!!!\n",
      "RT @KSharmaMD: An absolute honor and privilege to hear Dr. Anthony Fauci present @JohnsHopkinsDOM Grand Rounds this morning.  @OslerResiden…\n",
      "Hamilton and Halton report 93 new COVID cases https://t.co/Pb77mLZtau via @bayobserver #Hamont #BurlOn #COVID19… https://t.co/QJPaU09P0g\n",
      "#COVID19italia la nostra chiacchierata notturna con Martina Benedetti.\n",
      "#personalesanitario #COVID19 #Covid_19… https://t.co/mrDQG37y49\n",
      "RT @DienstNavom: Wenn du in einem großen Zimmer stehst, in dem 4 Covid-Patienten auf dem Bauch liegen, die Ventilatoren in Gleichklang pump…\n",
      "RT @ConflitsFrance: 🇫🇷 FLASH | 75% des #Français pensent que les #jeunes paieront le #prix fort de la #crise sanitaire. \n",
      "\n",
      "(BFMTV) #COVID19\n",
      "RT @XavierAbadMdG: Els nostres sistemes immunes poden fer front al #SARSCoV2 en la majoria dels casos; els nostres lideratges polítics actu…\n",
      "RT @DrEricDing: BREAKING—White House aide Andrew Giuliani, the son of Rudy Giuliani, has tested positive for #COVID19. \n",
      "\n",
      "I’ve stopped preci…\n",
      "RT @CarolineFiat54: 1/2 C'est avec surprise et émotion que j'ai appris ma nomination pour le prix de la femme d'influence politique 2020. M…\n",
      "RT @LiamPayne: To celebrate #WorldChildrensDay I wanted to share another story from Yemen and how #covid19 has effected young people around…\n",
      "RT @fynanza: https://t.co/051D4jNGkL\n",
      "\n",
      "L'articolo di questa settimana su https://t.co/vmpB4yyqlr\n",
      "#Politica #economics #COVID19 https://t.co/…\n",
      "RT @DrEricDing: BREAKING—White House aide Andrew Giuliani, the son of Rudy Giuliani, has tested positive for #COVID19. \n",
      "\n",
      "I’ve stopped preci…\n",
      "RT @StatCan_eng: #DYK? In 2019, 372,038 kids were born in Canada! This #NationalChildDay, we are proud to announce a partnership with @chil…\n",
      "This is really @NicoleRosner8's brain child with amazing collaborators @AlineDandara5, @guichitarivera, &amp; Lis Blanc… https://t.co/avUMBcuf8C\n",
      "RT @Paty_OrtizC: Romper las cadenas de transmisión de #COVID19 es tarea de todas y todos, por ello en la @ALaMagdalenaC nos sumamos a la #L…\n",
      "RT @jack_turban: New study in @JAMANetworkOpen: many elderly patients infected with #COVID19 present with delirium and no typical somatic s…\n",
      "RT @EstebanOrtizMD: Dejen de estar pidiendo PCR’s negativos para regresar a trabajar ! La @CDCgov decía 10 días y esta revisión dice 9 ! \n",
      "S…\n",
      "RT @SofiaMirandaCs: Lo venimos defendiendo desde que comenzó la pandemia, el deporte es parte de la solución 💪\n",
      "\n",
      "Una reciente investigación…\n",
      "RT @MichaelRosenYes: Please please please sign this. \n",
      "\n",
      "Hold a public inquiry into the Government's handling of the Covid-19 pandemic \n",
      "#Covi…\n",
      "RT @US_FDA: We have scheduled a meeting of our Vaccines and Related Biological Products Advisory Committee (VRBPAC) on Dec. 10th to discuss…\n",
      "RT @Mehmet_Ali_ONEL: Dünya Sağlık Örgütü #WHO #Covid19 tedavisinde kullanılmasını önerdiği #Remdesevir adlı ilacın kullanımını askıya almış…\n"
     ]
    }
   ],
   "source": [
    "auth = tweepy.OAuthHandler(config.consumer_key, config.consumer_secret)\n",
    "auth.set_access_token(config.access_token, config.access_token_secret)\n",
    "api = tweepy.API(auth)\n",
    "tweets = api.search(\"#covid19\", count=100)\n",
    "for tweet in tweets:\n",
    "    print(tweet.text)"
   ]
  },
  {
   "cell_type": "code",
   "execution_count": 4,
   "metadata": {},
   "outputs": [
    {
     "name": "stdout",
     "output_type": "stream",
     "text": [
      "https://twitter.com/phat37649964\n",
      "https://twitter.com/COSMICSSHANIA\n",
      "https://twitter.com/YiselMuoz2\n",
      "https://twitter.com/Marely77418388\n",
      "https://twitter.com/daxter_v\n",
      "https://twitter.com/sairacnco\n",
      "https://twitter.com/edonesinani\n",
      "https://twitter.com/damysphere\n",
      "https://twitter.com/BrisaMelanie12\n",
      "https://twitter.com/m_francisca2\n"
     ]
    }
   ],
   "source": [
    "ids = api.followers_ids(screen_name=\"TheWeeknd\", count=10)\n",
    "for user in api.lookup_users(user_ids=ids):\n",
    "    print(\"https://twitter.com/{}\".format(user.screen_name))\n"
   ]
  },
  {
   "cell_type": "code",
   "execution_count": 8,
   "metadata": {},
   "outputs": [],
   "source": [
    "#Reminder to get current user mention(for us we can use brand's name in this)\n",
    "tweets_mentions = api.mentions_timeline(count=10)\n",
    "for tweet in tweets_mentions:\n",
    "    print(tweet.text)"
   ]
  },
  {
   "cell_type": "code",
   "execution_count": 9,
   "metadata": {},
   "outputs": [],
   "source": [
    "#Oh God no one mentions me hahahhaah"
   ]
  },
  {
   "cell_type": "code",
   "execution_count": null,
   "metadata": {},
   "outputs": [],
   "source": [
    "#Not fully implemented \n",
    "from twilio.rest import Client\n",
    "def send_message(tweet, phone_number):\n",
    "    account_sid = config.account_sid\n",
    "    auth_token = config.twilio_auth_token\n",
    "    client = Client(account_sid, auth_token)\n",
    "    message = Client.messages \\\n",
    "        .create(\n",
    "            body = tweet,\n",
    "            from_= config.from_phone_number,\n",
    "            to =  phone_number\n",
    "        )\n",
    "    return \"Message sent with id {}\".format(message.sid)\n",
    "tweets = api.search(\"ravens\", count=10)\n",
    "tweet = tweets[0]\n",
    "sid = send_message(tweet.text, \"some phone number here\")\n",
    "print(sid)"
   ]
  },
  {
   "cell_type": "code",
   "execution_count": 6,
   "metadata": {},
   "outputs": [],
   "source": [
    "#lets analyze \n"
   ]
  },
  {
   "cell_type": "code",
   "execution_count": 8,
   "metadata": {},
   "outputs": [
    {
     "data": {
      "text/plain": [
       "tweepy.models.ResultSet"
      ]
     },
     "execution_count": 8,
     "metadata": {},
     "output_type": "execute_result"
    }
   ],
   "source": [
    "my_timeline = api.home_timeline(count=10)\n",
    "type(my_timeline)"
   ]
  },
  {
   "cell_type": "code",
   "execution_count": 9,
   "metadata": {},
   "outputs": [
    {
     "name": "stdout",
     "output_type": "stream",
     "text": [
      "Help on ResultSet in module tweepy.models object:\n",
      "\n",
      "class ResultSet(builtins.list)\n",
      " |  ResultSet(max_id=None, since_id=None)\n",
      " |  \n",
      " |  A list like object that holds results from a Twitter API query.\n",
      " |  \n",
      " |  Method resolution order:\n",
      " |      ResultSet\n",
      " |      builtins.list\n",
      " |      builtins.object\n",
      " |  \n",
      " |  Methods defined here:\n",
      " |  \n",
      " |  __init__(self, max_id=None, since_id=None)\n",
      " |      Initialize self.  See help(type(self)) for accurate signature.\n",
      " |  \n",
      " |  ids(self)\n",
      " |  \n",
      " |  ----------------------------------------------------------------------\n",
      " |  Data descriptors defined here:\n",
      " |  \n",
      " |  __dict__\n",
      " |      dictionary for instance variables (if defined)\n",
      " |  \n",
      " |  __weakref__\n",
      " |      list of weak references to the object (if defined)\n",
      " |  \n",
      " |  max_id\n",
      " |  \n",
      " |  since_id\n",
      " |  \n",
      " |  ----------------------------------------------------------------------\n",
      " |  Methods inherited from builtins.list:\n",
      " |  \n",
      " |  __add__(self, value, /)\n",
      " |      Return self+value.\n",
      " |  \n",
      " |  __contains__(self, key, /)\n",
      " |      Return key in self.\n",
      " |  \n",
      " |  __delitem__(self, key, /)\n",
      " |      Delete self[key].\n",
      " |  \n",
      " |  __eq__(self, value, /)\n",
      " |      Return self==value.\n",
      " |  \n",
      " |  __ge__(self, value, /)\n",
      " |      Return self>=value.\n",
      " |  \n",
      " |  __getattribute__(self, name, /)\n",
      " |      Return getattr(self, name).\n",
      " |  \n",
      " |  __getitem__(...)\n",
      " |      x.__getitem__(y) <==> x[y]\n",
      " |  \n",
      " |  __gt__(self, value, /)\n",
      " |      Return self>value.\n",
      " |  \n",
      " |  __iadd__(self, value, /)\n",
      " |      Implement self+=value.\n",
      " |  \n",
      " |  __imul__(self, value, /)\n",
      " |      Implement self*=value.\n",
      " |  \n",
      " |  __iter__(self, /)\n",
      " |      Implement iter(self).\n",
      " |  \n",
      " |  __le__(self, value, /)\n",
      " |      Return self<=value.\n",
      " |  \n",
      " |  __len__(self, /)\n",
      " |      Return len(self).\n",
      " |  \n",
      " |  __lt__(self, value, /)\n",
      " |      Return self<value.\n",
      " |  \n",
      " |  __mul__(self, value, /)\n",
      " |      Return self*value.\n",
      " |  \n",
      " |  __ne__(self, value, /)\n",
      " |      Return self!=value.\n",
      " |  \n",
      " |  __repr__(self, /)\n",
      " |      Return repr(self).\n",
      " |  \n",
      " |  __reversed__(self, /)\n",
      " |      Return a reverse iterator over the list.\n",
      " |  \n",
      " |  __rmul__(self, value, /)\n",
      " |      Return value*self.\n",
      " |  \n",
      " |  __setitem__(self, key, value, /)\n",
      " |      Set self[key] to value.\n",
      " |  \n",
      " |  __sizeof__(self, /)\n",
      " |      Return the size of the list in memory, in bytes.\n",
      " |  \n",
      " |  append(self, object, /)\n",
      " |      Append object to the end of the list.\n",
      " |  \n",
      " |  clear(self, /)\n",
      " |      Remove all items from list.\n",
      " |  \n",
      " |  copy(self, /)\n",
      " |      Return a shallow copy of the list.\n",
      " |  \n",
      " |  count(self, value, /)\n",
      " |      Return number of occurrences of value.\n",
      " |  \n",
      " |  extend(self, iterable, /)\n",
      " |      Extend list by appending elements from the iterable.\n",
      " |  \n",
      " |  index(self, value, start=0, stop=9223372036854775807, /)\n",
      " |      Return first index of value.\n",
      " |      \n",
      " |      Raises ValueError if the value is not present.\n",
      " |  \n",
      " |  insert(self, index, object, /)\n",
      " |      Insert object before index.\n",
      " |  \n",
      " |  pop(self, index=-1, /)\n",
      " |      Remove and return item at index (default last).\n",
      " |      \n",
      " |      Raises IndexError if list is empty or index is out of range.\n",
      " |  \n",
      " |  remove(self, value, /)\n",
      " |      Remove first occurrence of value.\n",
      " |      \n",
      " |      Raises ValueError if the value is not present.\n",
      " |  \n",
      " |  reverse(self, /)\n",
      " |      Reverse *IN PLACE*.\n",
      " |  \n",
      " |  sort(self, /, *, key=None, reverse=False)\n",
      " |      Stable sort *IN PLACE*.\n",
      " |  \n",
      " |  ----------------------------------------------------------------------\n",
      " |  Static methods inherited from builtins.list:\n",
      " |  \n",
      " |  __new__(*args, **kwargs) from builtins.type\n",
      " |      Create and return a new object.  See help(type) for accurate signature.\n",
      " |  \n",
      " |  ----------------------------------------------------------------------\n",
      " |  Data and other attributes inherited from builtins.list:\n",
      " |  \n",
      " |  __hash__ = None\n",
      "\n"
     ]
    }
   ],
   "source": [
    "help(my_timeline)"
   ]
  },
  {
   "cell_type": "code",
   "execution_count": 12,
   "metadata": {},
   "outputs": [
    {
     "data": {
      "text/plain": [
       "['__add__',\n",
       " '__class__',\n",
       " '__contains__',\n",
       " '__delattr__',\n",
       " '__delitem__',\n",
       " '__dict__',\n",
       " '__dir__',\n",
       " '__doc__',\n",
       " '__eq__',\n",
       " '__format__',\n",
       " '__ge__',\n",
       " '__getattribute__',\n",
       " '__getitem__',\n",
       " '__gt__',\n",
       " '__hash__',\n",
       " '__iadd__',\n",
       " '__imul__',\n",
       " '__init__',\n",
       " '__init_subclass__',\n",
       " '__iter__',\n",
       " '__le__',\n",
       " '__len__',\n",
       " '__lt__',\n",
       " '__module__',\n",
       " '__mul__',\n",
       " '__ne__',\n",
       " '__new__',\n",
       " '__reduce__',\n",
       " '__reduce_ex__',\n",
       " '__repr__',\n",
       " '__reversed__',\n",
       " '__rmul__',\n",
       " '__setattr__',\n",
       " '__setitem__',\n",
       " '__sizeof__',\n",
       " '__str__',\n",
       " '__subclasshook__',\n",
       " '__weakref__',\n",
       " '_max_id',\n",
       " '_since_id',\n",
       " 'append',\n",
       " 'clear',\n",
       " 'copy',\n",
       " 'count',\n",
       " 'extend',\n",
       " 'ids',\n",
       " 'index',\n",
       " 'insert',\n",
       " 'max_id',\n",
       " 'pop',\n",
       " 'remove',\n",
       " 'reverse',\n",
       " 'since_id',\n",
       " 'sort']"
      ]
     },
     "execution_count": 12,
     "metadata": {},
     "output_type": "execute_result"
    }
   ],
   "source": [
    "dir(my_timeline)"
   ]
  },
  {
   "cell_type": "code",
   "execution_count": 13,
   "metadata": {},
   "outputs": [
    {
     "data": {
      "text/plain": [
       "{'_max_id': None, '_since_id': None}"
      ]
     },
     "execution_count": 13,
     "metadata": {},
     "output_type": "execute_result"
    }
   ],
   "source": [
    "my_timeline.__dict__"
   ]
  },
  {
   "cell_type": "code",
   "execution_count": 16,
   "metadata": {},
   "outputs": [
    {
     "data": {
      "text/plain": [
       "tweepy.models.ResultSet"
      ]
     },
     "execution_count": 16,
     "metadata": {},
     "output_type": "execute_result"
    }
   ],
   "source": [
    "type(my_timeline)"
   ]
  },
  {
   "cell_type": "code",
   "execution_count": 22,
   "metadata": {},
   "outputs": [],
   "source": [
    "one = my_timeline[0]"
   ]
  },
  {
   "cell_type": "code",
   "execution_count": 33,
   "metadata": {},
   "outputs": [],
   "source": [
    "attributes = one._json.items()\n",
    "attr_type = [type(x) for x in attributes]"
   ]
  },
  {
   "cell_type": "code",
   "execution_count": 35,
   "metadata": {},
   "outputs": [],
   "source": [
    "#now lets use each attribute one by one"
   ]
  },
  {
   "cell_type": "code",
   "execution_count": 36,
   "metadata": {},
   "outputs": [
    {
     "data": {
      "text/plain": [
       "datetime.datetime(2020, 11, 20, 22, 31, 56)"
      ]
     },
     "execution_count": 36,
     "metadata": {},
     "output_type": "execute_result"
    }
   ],
   "source": [
    "one.created_at # return a date time object"
   ]
  },
  {
   "cell_type": "code",
   "execution_count": 37,
   "metadata": {},
   "outputs": [
    {
     "data": {
      "text/plain": [
       "1329915407210225664"
      ]
     },
     "execution_count": 37,
     "metadata": {},
     "output_type": "execute_result"
    }
   ],
   "source": [
    "one.id # return id of the tweet we don't need it that much"
   ]
  },
  {
   "cell_type": "code",
   "execution_count": 38,
   "metadata": {},
   "outputs": [
    {
     "data": {
      "text/plain": [
       "'1329915407210225664'"
      ]
     },
     "execution_count": 38,
     "metadata": {},
     "output_type": "execute_result"
    }
   ],
   "source": [
    "one.id_str # string version of id "
   ]
  },
  {
   "cell_type": "code",
   "execution_count": 39,
   "metadata": {},
   "outputs": [
    {
     "data": {
      "text/plain": [
       "'@michaelmontano\\'s advice for our students: \"stay curious and ask questions\" #Codechella 🎡'"
      ]
     },
     "execution_count": 39,
     "metadata": {},
     "output_type": "execute_result"
    }
   ],
   "source": [
    "one.text # return the actual tweet which is very useful"
   ]
  },
  {
   "cell_type": "code",
   "execution_count": 40,
   "metadata": {},
   "outputs": [
    {
     "data": {
      "text/plain": [
       "False"
      ]
     },
     "execution_count": 40,
     "metadata": {},
     "output_type": "execute_result"
    }
   ],
   "source": [
    "one.truncated # return whether the tweet is truncated version or not"
   ]
  },
  {
   "cell_type": "code",
   "execution_count": 41,
   "metadata": {},
   "outputs": [
    {
     "data": {
      "text/plain": [
       "dict_keys(['hashtags', 'symbols', 'user_mentions', 'urls'])"
      ]
     },
     "execution_count": 41,
     "metadata": {},
     "output_type": "execute_result"
    }
   ],
   "source": [
    "one.entities.keys()"
   ]
  },
  {
   "cell_type": "code",
   "execution_count": 44,
   "metadata": {},
   "outputs": [
    {
     "data": {
      "text/plain": [
       "[{'text': 'Codechella', 'indices': [76, 87]}]"
      ]
     },
     "execution_count": 44,
     "metadata": {},
     "output_type": "execute_result"
    }
   ],
   "source": [
    "one.entities['hashtags']"
   ]
  },
  {
   "cell_type": "code",
   "execution_count": 47,
   "metadata": {},
   "outputs": [
    {
     "data": {
      "text/plain": [
       "'Codechella'"
      ]
     },
     "execution_count": 47,
     "metadata": {},
     "output_type": "execute_result"
    }
   ],
   "source": [
    "one.entities['hashtags'][0]['text']"
   ]
  },
  {
   "cell_type": "code",
   "execution_count": 48,
   "metadata": {},
   "outputs": [
    {
     "name": "stdout",
     "output_type": "stream",
     "text": [
      "Codechella\n"
     ]
    }
   ],
   "source": [
    "#here is better way to get hashtags \n",
    "for elt in one.entities['hashtags']:\n",
    "    print(elt['text'])"
   ]
  },
  {
   "cell_type": "code",
   "execution_count": 50,
   "metadata": {},
   "outputs": [
    {
     "data": {
      "text/plain": [
       "[]"
      ]
     },
     "execution_count": 50,
     "metadata": {},
     "output_type": "execute_result"
    }
   ],
   "source": [
    "one.entities['symbols'] # IDK what the hell this returns "
   ]
  },
  {
   "cell_type": "code",
   "execution_count": 51,
   "metadata": {},
   "outputs": [
    {
     "data": {
      "text/plain": [
       "[{'screen_name': 'michaelmontano',\n",
       "  'name': 'Michael Montano',\n",
       "  'id': 1228181,\n",
       "  'id_str': '1228181',\n",
       "  'indices': [0, 15]}]"
      ]
     },
     "execution_count": 51,
     "metadata": {},
     "output_type": "execute_result"
    }
   ],
   "source": [
    "one.entities['user_mentions'] # list of mentioned users "
   ]
  },
  {
   "cell_type": "code",
   "execution_count": 54,
   "metadata": {},
   "outputs": [
    {
     "name": "stdout",
     "output_type": "stream",
     "text": [
      "michaelmontano\n",
      "Michael Montano\n",
      "1228181\n",
      "1228181\n"
     ]
    }
   ],
   "source": [
    "for elt in one.entities['user_mentions']:\n",
    "    print(elt['screen_name'])\n",
    "    print(elt['name'])\n",
    "    print(elt['id'])\n",
    "    print(elt['id_str'])\n",
    "\n",
    "#we need the id of mentioned user to know about the user more using id search"
   ]
  },
  {
   "cell_type": "code",
   "execution_count": null,
   "metadata": {},
   "outputs": [],
   "source": []
  },
  {
   "cell_type": "code",
   "execution_count": 56,
   "metadata": {},
   "outputs": [
    {
     "data": {
      "text/plain": [
       "[]"
      ]
     },
     "execution_count": 56,
     "metadata": {},
     "output_type": "execute_result"
    }
   ],
   "source": [
    "one.entities['urls'] #returns list of urls in tweets"
   ]
  },
  {
   "cell_type": "code",
   "execution_count": 59,
   "metadata": {},
   "outputs": [
    {
     "data": {
      "text/plain": [
       "'Twitter Web App'"
      ]
     },
     "execution_count": 59,
     "metadata": {},
     "output_type": "execute_result"
    }
   ],
   "source": [
    "one.source #this might be very useful since it returns user's platform"
   ]
  },
  {
   "cell_type": "code",
   "execution_count": 60,
   "metadata": {},
   "outputs": [
    {
     "data": {
      "text/plain": [
       "1329911362852556801"
      ]
     },
     "execution_count": 60,
     "metadata": {},
     "output_type": "execute_result"
    }
   ],
   "source": [
    "one.in_reply_to_status_id"
   ]
  },
  {
   "cell_type": "code",
   "execution_count": 61,
   "metadata": {},
   "outputs": [
    {
     "data": {
      "text/plain": [
       "'1329911362852556801'"
      ]
     },
     "execution_count": 61,
     "metadata": {},
     "output_type": "execute_result"
    }
   ],
   "source": [
    "one.in_reply_to_status_id_str"
   ]
  },
  {
   "cell_type": "code",
   "execution_count": 62,
   "metadata": {},
   "outputs": [
    {
     "data": {
      "text/plain": [
       "172442947"
      ]
     },
     "execution_count": 62,
     "metadata": {},
     "output_type": "execute_result"
    }
   ],
   "source": [
    "one.in_reply_to_user_id"
   ]
  },
  {
   "cell_type": "code",
   "execution_count": 63,
   "metadata": {},
   "outputs": [
    {
     "data": {
      "text/plain": [
       "'172442947'"
      ]
     },
     "execution_count": 63,
     "metadata": {},
     "output_type": "execute_result"
    }
   ],
   "source": [
    "one.in_reply_to_user_id_str"
   ]
  },
  {
   "cell_type": "code",
   "execution_count": 64,
   "metadata": {},
   "outputs": [
    {
     "data": {
      "text/plain": [
       "'TwitterU'"
      ]
     },
     "execution_count": 64,
     "metadata": {},
     "output_type": "execute_result"
    }
   ],
   "source": [
    "one.in_reply_to_screen_name"
   ]
  },
  {
   "cell_type": "code",
   "execution_count": 65,
   "metadata": {},
   "outputs": [
    {
     "data": {
      "text/plain": [
       "User(_api=<tweepy.api.API object at 0x7fe3f0220fd0>, _json={'id': 172442947, 'id_str': '172442947', 'name': 'TwitterU is @ #Codechella 🎡', 'screen_name': 'TwitterU', 'location': 'San Francisco', 'description': \"We're your one stop shop for anything University related. That means campus outreach, student advice/tips, & of course, our University Recruiting efforts!\", 'url': 'https://t.co/connect', 'entities': {'url': {'urls': [{'url': 'https://t.co/connect', 'expanded_url': 'https://connectwithtwitteru.splashthat.com/', 'display_url': 'connectwithtwitteru.splashthat.com', 'indices': [0, 20]}]}, 'description': {'urls': []}}, 'protected': False, 'followers_count': 181704, 'friends_count': 235, 'listed_count': 933, 'created_at': 'Thu Jul 29 18:41:46 +0000 2010', 'favourites_count': 10133, 'utc_offset': None, 'time_zone': None, 'geo_enabled': True, 'verified': True, 'statuses_count': 11287, 'lang': None, 'contributors_enabled': False, 'is_translator': False, 'is_translation_enabled': False, 'profile_background_color': 'C0DEED', 'profile_background_image_url': 'http://abs.twimg.com/images/themes/theme1/bg.png', 'profile_background_image_url_https': 'https://abs.twimg.com/images/themes/theme1/bg.png', 'profile_background_tile': True, 'profile_image_url': 'http://pbs.twimg.com/profile_images/875164670860054528/jKV3fmJ-_normal.jpg', 'profile_image_url_https': 'https://pbs.twimg.com/profile_images/875164670860054528/jKV3fmJ-_normal.jpg', 'profile_banner_url': 'https://pbs.twimg.com/profile_banners/172442947/1605799085', 'profile_link_color': '0084B4', 'profile_sidebar_border_color': 'C0DEED', 'profile_sidebar_fill_color': 'DDEEF6', 'profile_text_color': '333333', 'profile_use_background_image': True, 'has_extended_profile': True, 'default_profile': False, 'default_profile_image': False, 'following': True, 'follow_request_sent': False, 'notifications': False, 'translator_type': 'none'}, id=172442947, id_str='172442947', name='TwitterU is @ #Codechella 🎡', screen_name='TwitterU', location='San Francisco', description=\"We're your one stop shop for anything University related. That means campus outreach, student advice/tips, & of course, our University Recruiting efforts!\", url='https://t.co/connect', entities={'url': {'urls': [{'url': 'https://t.co/connect', 'expanded_url': 'https://connectwithtwitteru.splashthat.com/', 'display_url': 'connectwithtwitteru.splashthat.com', 'indices': [0, 20]}]}, 'description': {'urls': []}}, protected=False, followers_count=181704, friends_count=235, listed_count=933, created_at=datetime.datetime(2010, 7, 29, 18, 41, 46), favourites_count=10133, utc_offset=None, time_zone=None, geo_enabled=True, verified=True, statuses_count=11287, lang=None, contributors_enabled=False, is_translator=False, is_translation_enabled=False, profile_background_color='C0DEED', profile_background_image_url='http://abs.twimg.com/images/themes/theme1/bg.png', profile_background_image_url_https='https://abs.twimg.com/images/themes/theme1/bg.png', profile_background_tile=True, profile_image_url='http://pbs.twimg.com/profile_images/875164670860054528/jKV3fmJ-_normal.jpg', profile_image_url_https='https://pbs.twimg.com/profile_images/875164670860054528/jKV3fmJ-_normal.jpg', profile_banner_url='https://pbs.twimg.com/profile_banners/172442947/1605799085', profile_link_color='0084B4', profile_sidebar_border_color='C0DEED', profile_sidebar_fill_color='DDEEF6', profile_text_color='333333', profile_use_background_image=True, has_extended_profile=True, default_profile=False, default_profile_image=False, following=True, follow_request_sent=False, notifications=False, translator_type='none')"
      ]
     },
     "execution_count": 65,
     "metadata": {},
     "output_type": "execute_result"
    }
   ],
   "source": [
    "one.user "
   ]
  },
  {
   "cell_type": "code",
   "execution_count": 57,
   "metadata": {
    "scrolled": false
   },
   "outputs": [
    {
     "data": {
      "text/plain": [
       "dict_keys(['created_at', 'id', 'id_str', 'text', 'truncated', 'entities', 'source', 'in_reply_to_status_id', 'in_reply_to_status_id_str', 'in_reply_to_user_id', 'in_reply_to_user_id_str', 'in_reply_to_screen_name', 'user', 'geo', 'coordinates', 'place', 'contributors', 'is_quote_status', 'retweet_count', 'favorite_count', 'favorited', 'retweeted', 'lang'])"
      ]
     },
     "execution_count": 57,
     "metadata": {},
     "output_type": "execute_result"
    }
   ],
   "source": [
    "one._json.keys()\n"
   ]
  },
  {
   "cell_type": "code",
   "execution_count": 68,
   "metadata": {},
   "outputs": [
    {
     "data": {
      "text/plain": [
       "NoneType"
      ]
     },
     "execution_count": 68,
     "metadata": {},
     "output_type": "execute_result"
    }
   ],
   "source": [
    "one.geo #return geographic location if available else return None"
   ]
  },
  {
   "cell_type": "code",
   "execution_count": 70,
   "metadata": {},
   "outputs": [
    {
     "data": {
      "text/plain": [
       "NoneType"
      ]
     },
     "execution_count": 70,
     "metadata": {},
     "output_type": "execute_result"
    }
   ],
   "source": [
    "one.coordinates   #return latitude longtiude coordinate if available else return None"
   ]
  },
  {
   "cell_type": "code",
   "execution_count": 72,
   "metadata": {},
   "outputs": [],
   "source": [
    "one.place # return place if available else return None"
   ]
  },
  {
   "cell_type": "code",
   "execution_count": 73,
   "metadata": {},
   "outputs": [],
   "source": [
    "one.contributors"
   ]
  },
  {
   "cell_type": "code",
   "execution_count": 74,
   "metadata": {},
   "outputs": [
    {
     "data": {
      "text/plain": [
       "False"
      ]
     },
     "execution_count": 74,
     "metadata": {},
     "output_type": "execute_result"
    }
   ],
   "source": [
    "one.is_quote_status"
   ]
  },
  {
   "cell_type": "code",
   "execution_count": 75,
   "metadata": {},
   "outputs": [
    {
     "data": {
      "text/plain": [
       "1"
      ]
     },
     "execution_count": 75,
     "metadata": {},
     "output_type": "execute_result"
    }
   ],
   "source": [
    "one.retweet_count"
   ]
  },
  {
   "cell_type": "code",
   "execution_count": 76,
   "metadata": {},
   "outputs": [
    {
     "data": {
      "text/plain": [
       "3"
      ]
     },
     "execution_count": 76,
     "metadata": {},
     "output_type": "execute_result"
    }
   ],
   "source": [
    "one.favorite_count"
   ]
  },
  {
   "cell_type": "code",
   "execution_count": 77,
   "metadata": {},
   "outputs": [
    {
     "data": {
      "text/plain": [
       "False"
      ]
     },
     "execution_count": 77,
     "metadata": {},
     "output_type": "execute_result"
    }
   ],
   "source": [
    "one.favorited"
   ]
  },
  {
   "cell_type": "code",
   "execution_count": 78,
   "metadata": {},
   "outputs": [
    {
     "data": {
      "text/plain": [
       "False"
      ]
     },
     "execution_count": 78,
     "metadata": {},
     "output_type": "execute_result"
    }
   ],
   "source": [
    "one.retweeted"
   ]
  },
  {
   "cell_type": "code",
   "execution_count": 79,
   "metadata": {},
   "outputs": [
    {
     "data": {
      "text/plain": [
       "'en'"
      ]
     },
     "execution_count": 79,
     "metadata": {},
     "output_type": "execute_result"
    }
   ],
   "source": [
    "one.lang"
   ]
  },
  {
   "cell_type": "markdown",
   "metadata": {},
   "source": [
    "##"
   ]
  }
 ],
 "metadata": {
  "kernelspec": {
   "display_name": "Python 3",
   "language": "python",
   "name": "python3"
  },
  "language_info": {
   "codemirror_mode": {
    "name": "ipython",
    "version": 3
   },
   "file_extension": ".py",
   "mimetype": "text/x-python",
   "name": "python",
   "nbconvert_exporter": "python",
   "pygments_lexer": "ipython3",
   "version": "3.7.6"
  }
 },
 "nbformat": 4,
 "nbformat_minor": 4
}
